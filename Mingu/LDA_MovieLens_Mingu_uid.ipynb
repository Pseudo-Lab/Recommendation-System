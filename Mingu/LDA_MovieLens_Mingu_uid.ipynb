{
 "cells": [
  {
   "cell_type": "markdown",
   "id": "f10da462-8f14-4014-8915-30d093bea9c7",
   "metadata": {},
   "source": [
    "# 가짜연구소 4기 - 추천시스템 톺아보기\n",
    "## Item2Vec / LDA(Latent Dirichlet Allocation)\n",
    "- 데이터 출처: https://www.kaggle.com/code/jneupane12/analysis-of-movielens-dataset-beginner-sanalysis/data"
   ]
  },
  {
   "cell_type": "markdown",
   "id": "716839c5-4d66-4b14-b59e-dce9cc7778a0",
   "metadata": {},
   "source": [
    "## 패키지"
   ]
  },
  {
   "cell_type": "code",
   "execution_count": 1,
   "id": "b07c5efb-6cbf-483c-89e8-d7595c66065d",
   "metadata": {},
   "outputs": [],
   "source": [
    "%matplotlib inline\n",
    "\n",
    "import pandas as pd\n",
    "import numpy  as np\n",
    "import matplotlib.pyplot as plt\n",
    "import seaborn as sns\n",
    "\n",
    "from sklearn.feature_extraction import DictVectorizer\n",
    "from sklearn.feature_extraction.text import CountVectorizer, TfidfVectorizer\n",
    "\n",
    "from gensim import corpora\n",
    "from gensim.models import Word2Vec\n",
    "from gensim.models.ldamodel import LdaModel\n",
    "\n",
    "from gensim.models.callbacks import CoherenceMetric \n",
    "from gensim.models.callbacks import PerplexityMetric\n",
    "from gensim.models.coherencemodel import CoherenceModel \n",
    "\n",
    "from datetime import datetime"
   ]
  },
  {
   "cell_type": "code",
   "execution_count": 2,
   "id": "609a4912-f78b-42e2-a57b-1057a2c11831",
   "metadata": {},
   "outputs": [
    {
     "data": {
      "text/html": [
       "<div>\n",
       "<style scoped>\n",
       "    .dataframe tbody tr th:only-of-type {\n",
       "        vertical-align: middle;\n",
       "    }\n",
       "\n",
       "    .dataframe tbody tr th {\n",
       "        vertical-align: top;\n",
       "    }\n",
       "\n",
       "    .dataframe thead th {\n",
       "        text-align: right;\n",
       "    }\n",
       "</style>\n",
       "<table border=\"1\" class=\"dataframe\">\n",
       "  <thead>\n",
       "    <tr style=\"text-align: right;\">\n",
       "      <th></th>\n",
       "      <th>userId</th>\n",
       "      <th>movieId</th>\n",
       "      <th>rating</th>\n",
       "      <th>timestamp</th>\n",
       "    </tr>\n",
       "  </thead>\n",
       "  <tbody>\n",
       "    <tr>\n",
       "      <th>0</th>\n",
       "      <td>1</td>\n",
       "      <td>1</td>\n",
       "      <td>4.0</td>\n",
       "      <td>2000-07-30 18:45:03</td>\n",
       "    </tr>\n",
       "    <tr>\n",
       "      <th>1</th>\n",
       "      <td>1</td>\n",
       "      <td>3</td>\n",
       "      <td>4.0</td>\n",
       "      <td>2000-07-30 18:20:47</td>\n",
       "    </tr>\n",
       "    <tr>\n",
       "      <th>2</th>\n",
       "      <td>1</td>\n",
       "      <td>6</td>\n",
       "      <td>4.0</td>\n",
       "      <td>2000-07-30 18:37:04</td>\n",
       "    </tr>\n",
       "    <tr>\n",
       "      <th>3</th>\n",
       "      <td>1</td>\n",
       "      <td>47</td>\n",
       "      <td>5.0</td>\n",
       "      <td>2000-07-30 19:03:35</td>\n",
       "    </tr>\n",
       "    <tr>\n",
       "      <th>4</th>\n",
       "      <td>1</td>\n",
       "      <td>50</td>\n",
       "      <td>5.0</td>\n",
       "      <td>2000-07-30 18:48:51</td>\n",
       "    </tr>\n",
       "    <tr>\n",
       "      <th>...</th>\n",
       "      <td>...</td>\n",
       "      <td>...</td>\n",
       "      <td>...</td>\n",
       "      <td>...</td>\n",
       "    </tr>\n",
       "    <tr>\n",
       "      <th>100831</th>\n",
       "      <td>610</td>\n",
       "      <td>166534</td>\n",
       "      <td>4.0</td>\n",
       "      <td>2017-05-03 21:53:22</td>\n",
       "    </tr>\n",
       "    <tr>\n",
       "      <th>100832</th>\n",
       "      <td>610</td>\n",
       "      <td>168248</td>\n",
       "      <td>5.0</td>\n",
       "      <td>2017-05-03 22:21:31</td>\n",
       "    </tr>\n",
       "    <tr>\n",
       "      <th>100833</th>\n",
       "      <td>610</td>\n",
       "      <td>168250</td>\n",
       "      <td>5.0</td>\n",
       "      <td>2017-05-08 19:50:47</td>\n",
       "    </tr>\n",
       "    <tr>\n",
       "      <th>100834</th>\n",
       "      <td>610</td>\n",
       "      <td>168252</td>\n",
       "      <td>5.0</td>\n",
       "      <td>2017-05-03 21:19:12</td>\n",
       "    </tr>\n",
       "    <tr>\n",
       "      <th>100835</th>\n",
       "      <td>610</td>\n",
       "      <td>170875</td>\n",
       "      <td>3.0</td>\n",
       "      <td>2017-05-03 21:20:15</td>\n",
       "    </tr>\n",
       "  </tbody>\n",
       "</table>\n",
       "<p>100836 rows × 4 columns</p>\n",
       "</div>"
      ],
      "text/plain": [
       "        userId  movieId  rating           timestamp\n",
       "0            1        1     4.0 2000-07-30 18:45:03\n",
       "1            1        3     4.0 2000-07-30 18:20:47\n",
       "2            1        6     4.0 2000-07-30 18:37:04\n",
       "3            1       47     5.0 2000-07-30 19:03:35\n",
       "4            1       50     5.0 2000-07-30 18:48:51\n",
       "...        ...      ...     ...                 ...\n",
       "100831     610   166534     4.0 2017-05-03 21:53:22\n",
       "100832     610   168248     5.0 2017-05-03 22:21:31\n",
       "100833     610   168250     5.0 2017-05-08 19:50:47\n",
       "100834     610   168252     5.0 2017-05-03 21:19:12\n",
       "100835     610   170875     3.0 2017-05-03 21:20:15\n",
       "\n",
       "[100836 rows x 4 columns]"
      ]
     },
     "execution_count": 2,
     "metadata": {},
     "output_type": "execute_result"
    }
   ],
   "source": [
    "path = \"../data/MovieLens/ratings.csv\"\n",
    "df = pd.read_csv(path)\n",
    "df['timestamp'] = pd.to_datetime(df['timestamp'], unit='s')\n",
    "df"
   ]
  },
  {
   "cell_type": "code",
   "execution_count": 3,
   "id": "48e464eb-bfb2-47b7-9152-67c730a2c28e",
   "metadata": {},
   "outputs": [],
   "source": [
    "df['ym'] = df['timestamp'].apply(lambda x : datetime.strftime(x, '%Y-%m'))\n",
    "df['year'] = df['timestamp'].apply(lambda x : datetime.strftime(x, '%Y'))"
   ]
  },
  {
   "cell_type": "code",
   "execution_count": 4,
   "id": "7111d144-682a-46fe-bf80-2eaca259ae1e",
   "metadata": {},
   "outputs": [
    {
     "name": "stderr",
     "output_type": "stream",
     "text": [
      "/usr/local/lib/python3.9/site-packages/seaborn/_decorators.py:36: FutureWarning: Pass the following variables as keyword args: x, y. From version 0.12, the only valid positional argument will be `data`, and passing other arguments without an explicit keyword will result in an error or misinterpretation.\n",
      "  warnings.warn(\n"
     ]
    },
    {
     "data": {
      "text/plain": [
       "<AxesSubplot:xlabel='year'>"
      ]
     },
     "execution_count": 4,
     "metadata": {},
     "output_type": "execute_result"
    },
    {
     "data": {
      "image/png": "[encoded data removed]",
      "text/plain": [
       "<Figure size 1080x576 with 1 Axes>"
      ]
     },
     "metadata": {
      "needs_background": "light"
     },
     "output_type": "display_data"
    }
   ],
   "source": [
    "ygroup = df.groupby(['year']).timestamp.count()\n",
    "plt.figure(figsize=(15,8))\n",
    "sns.barplot(ygroup.index, ygroup.values)"
   ]
  },
  {
   "cell_type": "code",
   "execution_count": 5,
   "id": "57551c68-657a-4be4-ba2a-b311ae1a5c4a",
   "metadata": {},
   "outputs": [
    {
     "name": "stderr",
     "output_type": "stream",
     "text": [
      "/var/folders/nb/n8_ktznx1fzdn8kyqtfgy1w40000gn/T/ipykernel_60587/8760459.py:3: FutureWarning: In a future version of pandas all arguments of DataFrame.drop except for the argument 'labels' will be keyword-only\n",
      "  X = df.drop('userId', 1)\n"
     ]
    }
   ],
   "source": [
    "from sklearn.model_selection import GroupShuffleSplit, StratifiedShuffleSplit\n",
    "\n",
    "X = df.drop('userId', 1)\n",
    "y = df['userId']\n",
    "\n",
    "#각 연도별 80%는 train, 20%는 test set으로 사용\n",
    "gs = StratifiedShuffleSplit(n_splits=2, test_size=.2, random_state=42)\n",
    "train_idx, test_idx = next(gs.split(X, y, groups=X.year))"
   ]
  },
  {
   "cell_type": "code",
   "execution_count": 6,
   "id": "215232ee-d269-45f6-a51d-63e678dc1cb1",
   "metadata": {},
   "outputs": [
    {
     "data": {
      "text/plain": [
       "20168"
      ]
     },
     "execution_count": 6,
     "metadata": {},
     "output_type": "execute_result"
    }
   ],
   "source": [
    "len(test_idx)"
   ]
  },
  {
   "cell_type": "code",
   "execution_count": 7,
   "id": "7a24ed8d-b460-4e04-ba80-7e9b38cc125b",
   "metadata": {},
   "outputs": [],
   "source": [
    "df['movieId'] = df['movieId'].astype(str)"
   ]
  },
  {
   "cell_type": "code",
   "execution_count": 8,
   "id": "79551979-3ff0-4184-b7cb-0950f1ab7097",
   "metadata": {},
   "outputs": [
    {
     "name": "stdout",
     "output_type": "stream",
     "text": [
      "train data : 80668\n",
      "test data : 20168\n"
     ]
    }
   ],
   "source": [
    "df_train = df.iloc[train_idx]\n",
    "df_test = df.iloc[test_idx]\n",
    "\n",
    "print(\"train data : {}\".format(len(df_train)))\n",
    "print(\"test data : {}\".format(len(df_test)))"
   ]
  },
  {
   "cell_type": "code",
   "execution_count": 9,
   "id": "77abce60-1570-4de5-97bf-a3dd30a11508",
   "metadata": {},
   "outputs": [
    {
     "name": "stderr",
     "output_type": "stream",
     "text": [
      "/usr/local/lib/python3.9/site-packages/seaborn/_decorators.py:36: FutureWarning: Pass the following variables as keyword args: x, y. From version 0.12, the only valid positional argument will be `data`, and passing other arguments without an explicit keyword will result in an error or misinterpretation.\n",
      "  warnings.warn(\n"
     ]
    },
    {
     "data": {
      "text/plain": [
       "<AxesSubplot:xlabel='year'>"
      ]
     },
     "execution_count": 9,
     "metadata": {},
     "output_type": "execute_result"
    },
    {
     "data": {
      "image/png": "[encoded data removed]",
      "text/plain": [
       "<Figure size 1080x576 with 1 Axes>"
      ]
     },
     "metadata": {
      "needs_background": "light"
     },
     "output_type": "display_data"
    }
   ],
   "source": [
    "#df_train의 연도별 분포 y값이 df의 80% 수준임을 확인\n",
    "ygroup_train = df_train.groupby(['year']).timestamp.count()\n",
    "plt.figure(figsize=(15,8))\n",
    "sns.barplot(ygroup_train.index, ygroup_train.values)"
   ]
  },
  {
   "cell_type": "code",
   "execution_count": 10,
   "id": "b5b7558e-602c-4ce7-a5d8-27b21ec32232",
   "metadata": {},
   "outputs": [
    {
     "data": {
      "text/html": [
       "<div>\n",
       "<style scoped>\n",
       "    .dataframe tbody tr th:only-of-type {\n",
       "        vertical-align: middle;\n",
       "    }\n",
       "\n",
       "    .dataframe tbody tr th {\n",
       "        vertical-align: top;\n",
       "    }\n",
       "\n",
       "    .dataframe thead th {\n",
       "        text-align: right;\n",
       "    }\n",
       "</style>\n",
       "<table border=\"1\" class=\"dataframe\">\n",
       "  <thead>\n",
       "    <tr style=\"text-align: right;\">\n",
       "      <th></th>\n",
       "      <th>userId</th>\n",
       "      <th>movieId</th>\n",
       "      <th>rating</th>\n",
       "      <th>timestamp</th>\n",
       "      <th>ym</th>\n",
       "      <th>year</th>\n",
       "    </tr>\n",
       "  </thead>\n",
       "  <tbody>\n",
       "    <tr>\n",
       "      <th>75883</th>\n",
       "      <td>477</td>\n",
       "      <td>8529</td>\n",
       "      <td>4.0</td>\n",
       "      <td>2008-01-21 18:47:47</td>\n",
       "      <td>2008-01</td>\n",
       "      <td>2008</td>\n",
       "    </tr>\n",
       "    <tr>\n",
       "      <th>59962</th>\n",
       "      <td>387</td>\n",
       "      <td>6270</td>\n",
       "      <td>3.5</td>\n",
       "      <td>2004-09-11 04:13:46</td>\n",
       "      <td>2004-09</td>\n",
       "      <td>2004</td>\n",
       "    </tr>\n",
       "    <tr>\n",
       "      <th>61213</th>\n",
       "      <td>401</td>\n",
       "      <td>3114</td>\n",
       "      <td>3.0</td>\n",
       "      <td>2017-11-12 01:09:51</td>\n",
       "      <td>2017-11</td>\n",
       "      <td>2017</td>\n",
       "    </tr>\n",
       "    <tr>\n",
       "      <th>95304</th>\n",
       "      <td>600</td>\n",
       "      <td>1270</td>\n",
       "      <td>4.5</td>\n",
       "      <td>2009-03-22 08:49:03</td>\n",
       "      <td>2009-03</td>\n",
       "      <td>2009</td>\n",
       "    </tr>\n",
       "    <tr>\n",
       "      <th>3735</th>\n",
       "      <td>22</td>\n",
       "      <td>33794</td>\n",
       "      <td>2.5</td>\n",
       "      <td>2010-03-16 08:03:43</td>\n",
       "      <td>2010-03</td>\n",
       "      <td>2010</td>\n",
       "    </tr>\n",
       "  </tbody>\n",
       "</table>\n",
       "</div>"
      ],
      "text/plain": [
       "       userId movieId  rating           timestamp       ym  year\n",
       "75883     477    8529     4.0 2008-01-21 18:47:47  2008-01  2008\n",
       "59962     387    6270     3.5 2004-09-11 04:13:46  2004-09  2004\n",
       "61213     401    3114     3.0 2017-11-12 01:09:51  2017-11  2017\n",
       "95304     600    1270     4.5 2009-03-22 08:49:03  2009-03  2009\n",
       "3735       22   33794     2.5 2010-03-16 08:03:43  2010-03  2010"
      ]
     },
     "execution_count": 10,
     "metadata": {},
     "output_type": "execute_result"
    }
   ],
   "source": [
    "df_train.head()"
   ]
  },
  {
   "cell_type": "code",
   "execution_count": 11,
   "id": "eaffe01c-ca54-4f14-a3cc-3f0ff484e190",
   "metadata": {},
   "outputs": [],
   "source": [
    "train_groupby = df_train.groupby(['userId'])\n",
    "uid_train = [] #user id의 리스트\n",
    "doc_train = [] #user가 본 movieId를 각각 document로 정의\n",
    "\n",
    "for uid, mdf in train_groupby :\n",
    "    docs = mdf.sort_values(['rating', 'movieId'], ascending=[False, True]).movieId.tolist() #doc 내 movieId 배치 순서\n",
    "    uid_train.append(uid)\n",
    "    doc_train.append(docs)"
   ]
  },
  {
   "cell_type": "markdown",
   "id": "41a9718e-2330-46c9-b5e9-79e6160977ea",
   "metadata": {},
   "source": [
    "### Topic Modeling - LDA"
   ]
  },
  {
   "cell_type": "code",
   "execution_count": 13,
   "id": "c98b9914-1855-48f5-b6ad-738f35fb1acf",
   "metadata": {},
   "outputs": [],
   "source": [
    "dictionary = corpora.Dictionary(doc_train)\n",
    "corpus = [dictionary.doc2bow(doc) for doc in doc_train] "
   ]
  },
  {
   "cell_type": "code",
   "execution_count": 14,
   "id": "39943897-a063-4f6c-bf9f-a44dbf4663f0",
   "metadata": {},
   "outputs": [],
   "source": [
    "#최적의 Topic 갯수를 찾기 위해 점진적으로 k를 늘린 후, coherence 값이 가장 높게 나오는 k를 선택\n",
    "#Topic Coherence 관련 설명 : https://bab2min.tistory.com/587\n",
    "\n",
    "def compute_coherence_values(dictionary, corpus, texts, limit, start=2, step=3): \n",
    "    \"\"\" Compute c_v coherence for various number of topics\n",
    "    Parameters: \n",
    "    ---------- \n",
    "    \n",
    "    dictionary : Gensim dictionary \n",
    "    corpus : Gensim corpus \n",
    "    exts : List of input texts \n",
    "    limit : Max num of topics \n",
    "    \n",
    "    Returns: \n",
    "    ------- \n",
    "    model_list : List of LDA topic models \n",
    "    coherence_values : Coherence values corresponding to the LDA model with respective number of topics \"\"\" \n",
    "    coherence_values = [] \n",
    "    model_list = [] \n",
    "    \n",
    "    for num_topics in range(start, limit, step): \n",
    "        model = LdaModel(corpus=corpus, id2word=dictionary, num_topics=num_topics) \n",
    "        model_list.append(model) \n",
    "        coherencemodel = CoherenceModel(model=model, texts=texts, dictionary=dictionary, coherence='c_v') \n",
    "        coherence_values.append(coherencemodel.get_coherence()) \n",
    "        \n",
    "    return model_list, coherence_values \n",
    "\n",
    "def find_optimal_number_of_topics(dictionary, corpus, processed_data): \n",
    "    limit = 40\n",
    "    start = 2\n",
    "    step = 6\n",
    "    model_list, coherence_values = compute_coherence_values(dictionary=dictionary, corpus=corpus, texts=processed_data, start=start, limit=limit, step=step) \n",
    "    \n",
    "    \n",
    "    x = range(start, limit, step) \n",
    "    plt.plot(x, coherence_values) \n",
    "    plt.xlabel(\"Num Topics\") \n",
    "    plt.ylabel(\"Coherence score\") \n",
    "    plt.legend((\"coherence_values\"), loc='best') \n",
    "    \n",
    "    plt.show()"
   ]
  },
  {
   "cell_type": "code",
   "execution_count": 15,
   "id": "5b8dd62e-e33a-409a-a78d-de33b713f1c0",
   "metadata": {},
   "outputs": [
    {
     "data": {
      "image/png": "[encoded data removed]",
      "text/plain": [
       "<Figure size 432x288 with 1 Axes>"
      ]
     },
     "metadata": {
      "needs_background": "light"
     },
     "output_type": "display_data"
    }
   ],
   "source": [
    "# 최적의 토픽 수 찾기 \n",
    "find_optimal_number_of_topics(dictionary, corpus, doc_train)"
   ]
  },
  {
   "cell_type": "code",
   "execution_count": 16,
   "id": "a34cdafb-b6c0-411c-9331-b62c6952c0c4",
   "metadata": {},
   "outputs": [
    {
     "name": "stdout",
     "output_type": "stream",
     "text": [
      "(0, '0.002*\"2858\" + 0.002*\"1968\" + 0.002*\"260\" + 0.002*\"1265\" + 0.002*\"1210\"')\n",
      "(1, '0.006*\"780\" + 0.005*\"1\" + 0.005*\"1073\" + 0.004*\"648\" + 0.004*\"141\"')\n",
      "(2, '0.007*\"2571\" + 0.006*\"318\" + 0.006*\"79132\" + 0.006*\"4993\" + 0.005*\"7153\"')\n",
      "(3, '0.003*\"5952\" + 0.003*\"2571\" + 0.002*\"4993\" + 0.002*\"356\" + 0.002*\"7153\"')\n",
      "(4, '0.001*\"260\" + 0.001*\"1387\" + 0.001*\"1196\" + 0.001*\"4226\" + 0.001*\"858\"')\n",
      "(5, '0.003*\"2959\" + 0.003*\"4973\" + 0.003*\"296\" + 0.003*\"2571\" + 0.003*\"58559\"')\n",
      "(6, '0.007*\"110\" + 0.007*\"356\" + 0.007*\"480\" + 0.007*\"296\" + 0.007*\"380\"')\n",
      "(7, '0.003*\"593\" + 0.003*\"924\" + 0.002*\"1196\" + 0.002*\"356\" + 0.002*\"1198\"')\n"
     ]
    }
   ],
   "source": [
    "# Topic num = 8\n",
    "perplexity_logger = PerplexityMetric(corpus=corpus, logger='shell') \n",
    "coherence_logger = CoherenceMetric(corpus=corpus, coherence=\"u_mass\", logger='shell') \n",
    "\n",
    "#lda 모델 학습\n",
    "lda_model = LdaModel(corpus, id2word=dictionary, num_topics=8, passes=5, callbacks=[coherence_logger, perplexity_logger]) \n",
    "\n",
    "#토픽 대표(상위)단어 5개 포함\n",
    "topics = lda_model.print_topics(num_words=5)\n",
    "\n",
    "for topic in topics :\n",
    "    print(topic)"
   ]
  },
  {
   "cell_type": "code",
   "execution_count": 17,
   "id": "d70cb7c7-e9fc-4ebc-a941-3193e3620da6",
   "metadata": {},
   "outputs": [
    {
     "name": "stdout",
     "output_type": "stream",
     "text": [
      "\n",
      "Coherence Score (c_v):  0.6042948544097573\n"
     ]
    }
   ],
   "source": [
    "# Compute Coherence Score using cv \n",
    "coherence_model_lda = CoherenceModel(model=lda_model, texts=doc_train, dictionary=dictionary, coherence='c_v') \n",
    "coherence_lda = coherence_model_lda.get_coherence() \n",
    "print('\\nCoherence Score (c_v): ', coherence_lda)"
   ]
  },
  {
   "cell_type": "code",
   "execution_count": 18,
   "id": "75f8cfe4-3a37-4f14-ae7b-4affaf598cc0",
   "metadata": {},
   "outputs": [
    {
     "name": "stderr",
     "output_type": "stream",
     "text": [
      "/usr/local/lib/python3.9/site-packages/pyLDAvis/_prepare.py:246: FutureWarning: In a future version of pandas all arguments of DataFrame.drop except for the argument 'labels' will be keyword-only\n",
      "  default_term_info = default_term_info.sort_values(\n",
      "/usr/local/lib/python3.9/site-packages/past/builtins/misc.py:45: DeprecationWarning: the imp module is deprecated in favour of importlib; see the module's documentation for alternative uses\n",
      "  from imp import reload\n",
      "/usr/local/lib/python3.9/site-packages/past/builtins/misc.py:45: DeprecationWarning: the imp module is deprecated in favour of importlib; see the module's documentation for alternative uses\n",
      "  from imp import reload\n",
      "/usr/local/lib/python3.9/site-packages/past/builtins/misc.py:45: DeprecationWarning: the imp module is deprecated in favour of importlib; see the module's documentation for alternative uses\n",
      "  from imp import reload\n",
      "/usr/local/lib/python3.9/site-packages/past/builtins/misc.py:45: DeprecationWarning: the imp module is deprecated in favour of importlib; see the module's documentation for alternative uses\n",
      "  from imp import reload\n"
     ]
    }
   ],
   "source": [
    "import pyLDAvis\n",
    "import pyLDAvis.gensim_models as gensimvis\n",
    "\n",
    "lda_visualization = gensimvis.prepare(lda_model, corpus, dictionary, sort_topics=False) \n",
    "#pyLDAvis.display(lda_visualization)\n",
    "pyLDAvis.save_html(lda_visualization, \"uid_tm_lda_vis.html\")"
   ]
  },
  {
   "cell_type": "code",
   "execution_count": 19,
   "id": "dc91cad1-c3a9-4054-a9d8-2030e026f6bf",
   "metadata": {},
   "outputs": [],
   "source": [
    "# movieId -> movie Title\n",
    "mid_title_dict = {}\n",
    "df_movies = pd.read_csv(\"../data/MovieLens/movies.csv\")\n",
    "\n",
    "for row in df_movies.itertuples(index = False) :\n",
    "    mid_title_dict[row.movieId] = row.title"
   ]
  },
  {
   "cell_type": "code",
   "execution_count": 20,
   "id": "2c739a22-4440-4e00-9097-eec370b94b1f",
   "metadata": {},
   "outputs": [],
   "source": [
    "# User가 어떤 Topic에 묶이는지 hard clustering\n",
    "# User가 실제 본 영화의 갯수와 Topic Modeling 결과를 활용하여 Topic Score 계산\n",
    "from math import log10\n",
    "\n",
    "train_index = [x[0] for x in train_groupby]\n",
    "uid_lda_dict = {}\n",
    "uid_topic_train = {}\n",
    "\n",
    "for uid, doc in zip(train_index, doc_train) :\n",
    "    res_lda = lda_model.get_document_topics(dictionary.doc2bow(doc))\n",
    "    uid_lda_dict[uid] = res_lda\n",
    "    lda_top = sorted(res_lda, key = lambda x : -x[1])[0]\n",
    "    topic_h = lda_top[0]\n",
    "    topic_score = log10(1 + (lda_top[1] * len(doc)))\n",
    "    uid_topic_train[uid] = (topic_h, topic_score)\n",
    "    "
   ]
  },
  {
   "cell_type": "code",
   "execution_count": 21,
   "id": "aa54a30c-d963-49a0-a6e9-65a8f0179cb0",
   "metadata": {},
   "outputs": [
    {
     "data": {
      "text/plain": [
       "[(0, 0.48181662), (6, 0.51416624)]"
      ]
     },
     "execution_count": 21,
     "metadata": {},
     "output_type": "execute_result"
    }
   ],
   "source": [
    "# UserId : 1 의 Topic 연관도\n",
    "uid_lda_dict[1]"
   ]
  },
  {
   "cell_type": "code",
   "execution_count": 22,
   "id": "2756b00a-4ed1-4c5c-a128-3c61e2e27314",
   "metadata": {},
   "outputs": [
    {
     "data": {
      "text/plain": [
       "(6, 1.9851340909243698)"
      ]
     },
     "execution_count": 22,
     "metadata": {},
     "output_type": "execute_result"
    }
   ],
   "source": [
    "# UserId : 1 의 Topic score\n",
    "uid_topic_train[1]"
   ]
  },
  {
   "cell_type": "code",
   "execution_count": 23,
   "id": "26e99db6-6765-44f0-8c80-c3caa41bbf0c",
   "metadata": {},
   "outputs": [
    {
     "name": "stdout",
     "output_type": "stream",
     "text": [
      "Topic 0\n",
      "American Beauty (1999)\n",
      "Breakfast Club, The (1985)\n",
      "Star Wars: Episode IV - A New Hope (1977)\n",
      "Groundhog Day (1993)\n",
      "Star Wars: Episode VI - Return of the Jedi (1983)\n",
      "Monty Python and the Holy Grail (1975)\n",
      "Back to the Future (1985)\n",
      "Rear Window (1954)\n",
      "Matrix, The (1999)\n",
      "Star Wars: Episode V - The Empire Strikes Back (1980)\n",
      "\n",
      "Topic 1\n",
      "Independence Day (a.k.a. ID4) (1996)\n",
      "Toy Story (1995)\n",
      "Willy Wonka & the Chocolate Factory (1971)\n",
      "Mission: Impossible (1996)\n",
      "Birdcage, The (1996)\n",
      "Twister (1996)\n",
      "Rock, The (1996)\n",
      "Star Trek: First Contact (1996)\n",
      "Broken Arrow (1996)\n",
      "Executive Decision (1996)\n",
      "\n",
      "Topic 2\n",
      "Matrix, The (1999)\n",
      "Shawshank Redemption, The (1994)\n",
      "Inception (2010)\n",
      "Lord of the Rings: The Fellowship of the Ring, The (2001)\n",
      "Lord of the Rings: The Return of the King, The (2003)\n",
      "Dark Knight, The (2008)\n",
      "Forrest Gump (1994)\n",
      "Lord of the Rings: The Two Towers, The (2002)\n",
      "Fight Club (1999)\n",
      "Silence of the Lambs, The (1991)\n",
      "\n",
      "Topic 3\n",
      "Lord of the Rings: The Two Towers, The (2002)\n",
      "Matrix, The (1999)\n",
      "Lord of the Rings: The Fellowship of the Ring, The (2001)\n",
      "Forrest Gump (1994)\n",
      "Lord of the Rings: The Return of the King, The (2003)\n",
      "Shrek (2001)\n",
      "Kill Bill: Vol. 1 (2003)\n",
      "Shawshank Redemption, The (1994)\n",
      "Pirates of the Caribbean: The Curse of the Black Pearl (2003)\n",
      "Incredibles, The (2004)\n",
      "\n",
      "Topic 4\n",
      "Star Wars: Episode IV - A New Hope (1977)\n",
      "Jaws (1975)\n",
      "Star Wars: Episode V - The Empire Strikes Back (1980)\n",
      "Memento (2000)\n",
      "Godfather, The (1972)\n",
      "Meet the Parents (2000)\n",
      "South Park: Bigger, Longer and Uncut (1999)\n",
      "Full Metal Jacket (1987)\n",
      "Chicago (2002)\n",
      "Terminator 2: Judgment Day (1991)\n",
      "\n",
      "Topic 5\n",
      "Fight Club (1999)\n",
      "Amelie (Fabuleux destin d'Amélie Poulain, Le) (2001)\n",
      "Pulp Fiction (1994)\n",
      "Matrix, The (1999)\n",
      "Dark Knight, The (2008)\n",
      "Shawshank Redemption, The (1994)\n",
      "Inception (2010)\n",
      "Usual Suspects, The (1995)\n",
      "Forrest Gump (1994)\n",
      "Memento (2000)\n",
      "\n",
      "Topic 6\n",
      "Braveheart (1995)\n",
      "Forrest Gump (1994)\n",
      "Jurassic Park (1993)\n",
      "Pulp Fiction (1994)\n",
      "True Lies (1994)\n",
      "Batman (1989)\n",
      "Apollo 13 (1995)\n",
      "Shawshank Redemption, The (1994)\n",
      "Dances with Wolves (1990)\n",
      "Fugitive, The (1993)\n",
      "\n",
      "Topic 7\n",
      "Silence of the Lambs, The (1991)\n",
      "2001: A Space Odyssey (1968)\n",
      "Star Wars: Episode V - The Empire Strikes Back (1980)\n",
      "Forrest Gump (1994)\n",
      "Raiders of the Lost Ark (Indiana Jones and the Raiders of the Lost Ark) (1981)\n",
      "American Beauty (1999)\n",
      "Matrix, The (1999)\n",
      "Godfather, The (1972)\n",
      "Amadeus (1984)\n",
      "North by Northwest (1959)\n",
      "\n"
     ]
    }
   ],
   "source": [
    "#각 Topic별 대표 단어(여기선 movieId) 추출\n",
    "for i in range(8) :\n",
    "    print(\"Topic {}\".format(i))\n",
    "    tops = lda_model.show_topic(topicid= i)\n",
    "    for movie in tops :\n",
    "        print(mid_title_dict[int(movie[0])])\n",
    "    print()"
   ]
  },
  {
   "cell_type": "markdown",
   "id": "8a08ffc7-f7f1-4953-a869-d867b6e3f5fa",
   "metadata": {},
   "source": [
    "## Item2Vec\n",
    "\n",
    "Word2Vec 라이브러리를 사용해 Item2Vec 생성\n",
    "\n",
    "doc의 word 배치가 크게 의미를 띄고 있지 않기에, window를 최대한 크게 설정하여 학습"
   ]
  },
  {
   "cell_type": "code",
   "execution_count": 24,
   "id": "7110839c-2e0b-4127-ab53-1a07baec9c25",
   "metadata": {},
   "outputs": [],
   "source": [
    "#Word2Vec 모델 생성\n",
    "model = Word2Vec(doc_train, vector_size=100, window=99999, epochs=40, min_count=0, workers=4)"
   ]
  },
  {
   "cell_type": "code",
   "execution_count": 25,
   "id": "6df3d98f-c49b-4b29-8cb3-1fb310319556",
   "metadata": {},
   "outputs": [
    {
     "data": {
      "text/plain": [
       "array([ 1.1363497 ,  2.929     , -1.0292051 , -1.3476765 , -1.1999801 ,\n",
       "       -4.5462093 ,  0.18390222,  2.1894987 ,  0.60943085,  0.63959765,\n",
       "        2.9243605 , -1.3710035 ,  3.0886152 , -0.8641165 ,  0.13359879,\n",
       "        0.1688361 , -0.40774098, -1.0465521 ,  0.26938874, -0.9638515 ,\n",
       "       -2.9778504 , -2.5053222 ,  3.109922  ,  2.6912863 , -3.6370814 ,\n",
       "        1.5533545 , -3.6910336 , -0.9809331 , -2.4141192 , -2.6192136 ,\n",
       "       -1.2339271 , -0.6950246 ,  5.3174186 ,  0.38590685, -2.2341635 ,\n",
       "        0.77606714, -3.9602435 , -0.542797  , -2.2814004 , -0.17659707,\n",
       "        1.6443926 ,  0.74414563, -1.4904486 ,  2.1955116 , -0.8115062 ,\n",
       "       -3.9437296 , -2.0479407 ,  0.62226474, -1.2852107 , -0.61415285,\n",
       "       -0.73169017, -4.2490544 ,  7.084808  ,  2.9498172 ,  2.8447006 ,\n",
       "       -0.50566673,  1.2441591 ,  0.853295  ,  0.08964381, -3.975165  ,\n",
       "       -0.8401894 , -3.242394  ,  2.45256   ,  3.1306858 , -2.6424878 ,\n",
       "        2.2404618 , -1.3954593 , -3.6125584 , -5.5389004 , -2.1242414 ,\n",
       "       -2.403434  ,  1.8182914 ,  2.0696464 , -0.7500015 , -1.5328131 ,\n",
       "       -1.6178808 , -0.5566567 , -2.4167829 , -2.0068495 , -4.7217298 ,\n",
       "       -1.9812609 ,  0.26409334, -1.2464577 ,  5.0939083 ,  1.3317168 ,\n",
       "       -1.9328563 , -3.3944135 ,  0.04208686, -0.1981843 ,  4.6674094 ,\n",
       "        5.66485   ,  0.3800374 , -3.426551  ,  3.0258133 ,  0.4527323 ,\n",
       "        4.8841095 ,  3.309383  , -0.03590763,  0.52841556, -1.7604573 ],\n",
       "      dtype=float32)"
      ]
     },
     "execution_count": 25,
     "metadata": {},
     "output_type": "execute_result"
    }
   ],
   "source": [
    "model.wv['1'] #100 차원의 벡터로 임베딩"
   ]
  },
  {
   "cell_type": "code",
   "execution_count": 89,
   "id": "d0c91772-6702-46f3-a74f-7e9f194cc3ca",
   "metadata": {},
   "outputs": [
    {
     "data": {
      "text/plain": [
       "[('1197', 0.7552919387817383),\n",
       " ('1198', 0.742245078086853),\n",
       " ('105468', 0.7276507019996643),\n",
       " ('1031', 0.7264411449432373),\n",
       " ('3674', 0.7128931283950806),\n",
       " ('2742', 0.7118198275566101),\n",
       " ('4445', 0.7057178616523743),\n",
       " ('5560', 0.7044817209243774),\n",
       " ('188301', 0.7043879628181458),\n",
       " ('1269', 0.7020049095153809)]"
      ]
     },
     "execution_count": 89,
     "metadata": {},
     "output_type": "execute_result"
    }
   ],
   "source": [
    "model.wv.most_similar(['1']) # movieID : 1 (Toy Story) 와 유사도가 가장 높은 영화 top 10"
   ]
  },
  {
   "cell_type": "code",
   "execution_count": 90,
   "id": "a52b7465-ddb2-4bcc-9af1-929874ad2c0c",
   "metadata": {},
   "outputs": [
    {
     "data": {
      "text/plain": [
       "'Toy Story (1995)'"
      ]
     },
     "execution_count": 90,
     "metadata": {},
     "output_type": "execute_result"
    }
   ],
   "source": [
    "mid_title_dict[1]"
   ]
  },
  {
   "cell_type": "code",
   "execution_count": 39,
   "id": "63f67d86-8d21-4e0f-baad-e1fa2e0a2e42",
   "metadata": {},
   "outputs": [],
   "source": [
    "# movieId -> 영화 타이틀로 변환하여 결과 탐색\n",
    "title_mid_dict = {v : k for k, v in mid_title_dict.items()}\n",
    "\n",
    "def get_similar_topn(title, n = 10, with_sim = True) :\n",
    "    mid = title_mid_dict.get(title, 0)\n",
    "    if mid == 0 :\n",
    "        return -1\n",
    "    \n",
    "    sims = model.wv.most_similar([str(mid)], topn = n)\n",
    "    sims = [(mid_title_dict[int(movieid)], round(score, 4)) for (movieid, score) in sims]\n",
    "    if with_sim :\n",
    "        return sims\n",
    "    else :\n",
    "        return [x[0] for x in sims]"
   ]
  },
  {
   "cell_type": "code",
   "execution_count": 88,
   "id": "9f2f815f-8d6b-4281-9521-e91b4dd3165b",
   "metadata": {},
   "outputs": [
    {
     "data": {
      "text/plain": [
       "[('Iron Man 2 (2010)', 0.8952),\n",
       " ('Guardians of the Galaxy 2 (2017)', 0.838),\n",
       " ('Thor (2011)', 0.8374),\n",
       " ('Tron: Legacy (2010)', 0.8227),\n",
       " ('Doctor Strange (2016)', 0.8182),\n",
       " ('Thor: Ragnarok (2017)', 0.8105),\n",
       " ('Rogue One: A Star Wars Story (2016)', 0.8091),\n",
       " ('Ant-Man (2015)', 0.8016),\n",
       " ('Despicable Me (2010)', 0.7965),\n",
       " ('WALL·E (2008)', 0.7883)]"
      ]
     },
     "execution_count": 88,
     "metadata": {},
     "output_type": "execute_result"
    }
   ],
   "source": [
    "get_similar_topn('Incredible Hulk, The (2008)')"
   ]
  },
  {
   "cell_type": "code",
   "execution_count": 41,
   "id": "9500e69c-e878-479e-b275-d3d15eccb370",
   "metadata": {},
   "outputs": [
    {
     "name": "stdout",
     "output_type": "stream",
     "text": [
      "Moive : Kings of Summer, The (2013)\n",
      "-------------------------------\n",
      "Glory Daze (1995)\n",
      "Mistress America (2015)\n",
      "A Most Wanted Man (2014)\n",
      "The Square (2017)\n",
      "Copenhagen (2014)\n",
      "\n",
      "Moive : Purge, The (2013)\n",
      "-------------------------------\n",
      "We Are What We Are (2013)\n",
      "Insidious: Chapter 2 (2013)\n",
      "Insidious: Chapter 3 (2015)\n",
      "Snowtown (Snowtown Murders, The) (2011)\n",
      "Shepherd: Border Patrol, The (2008)\n",
      "\n",
      "Moive : Rapture-Palooza (2013)\n",
      "-------------------------------\n",
      "Pact, The (2012)\n",
      "Absentia (2011)\n",
      "My Lucky Stars (Fuk sing go jiu) (1985)\n",
      "Paranormal Activity 3 (2011)\n",
      "Take Aim at the Police Van (Sono gosôsha wo nerae: 'Jûsangô taihisen' yori) (1960)\n",
      "\n",
      "Moive : Bedknobs and Broomsticks (1971)\n",
      "-------------------------------\n",
      "Krippendorf's Tribe (1998)\n",
      "NeverEnding Story, The (1984)\n",
      "Little Shop of Horrors (1986)\n",
      "Night of the Comet (1984)\n",
      "Andre (1994)\n",
      "\n",
      "Moive : 20 Feet from Stardom (Twenty Feet from Stardom) (2013)\n",
      "-------------------------------\n",
      "Man on Wire (2008)\n",
      "Brother's Keeper (1992)\n",
      "Unreasonable Man, An (2006)\n",
      "Harder They Fall, The (1956)\n",
      "Revolution Will Not Be Televised, The (a.k.a. Chavez: Inside the Coup) (2003)\n",
      "\n",
      "Moive : Bling Ring, The (2013)\n",
      "-------------------------------\n",
      "Beowulf & Grendel (2005)\n",
      "Gnomeo & Juliet (2011)\n",
      "Death Race 2 (2010)\n",
      "Very Harold & Kumar 3D Christmas, A (2011)\n",
      "Notorious (2009)\n",
      "\n",
      "Moive : Monsters University (2013)\n",
      "-------------------------------\n",
      "White House Down (2013)\n",
      "Stretch (2014)\n",
      "Knight and Day (2010)\n",
      "Paul Blart: Mall Cop 2 (2015)\n",
      "Southpaw (2015)\n",
      "\n",
      "Moive : Schlussmacher (2013)\n",
      "-------------------------------\n",
      "Orchestra Rehearsal (Prova d'orchestra) (1978)\n",
      "Endless Poetry (2016)\n",
      "Get Me Roger Stone (2017)\n",
      "Holiday (Jour de fête) (1949)\n",
      "F*ck You, Goethe 2 (2015)\n",
      "\n",
      "Moive : Alice in Wonderland (1951)\n",
      "-------------------------------\n",
      "Pinocchio (1940)\n",
      "Bambi (1942)\n",
      "Fox and the Hound, The (1981)\n",
      "Aristocats, The (1970)\n",
      "Brady Bunch Movie, The (1995)\n",
      "\n",
      "Moive : Fullmetal Alchemist: The Sacred Star of Milos (2011)\n",
      "-------------------------------\n",
      "Bakuman (2015)\n",
      "The Night Is Short, Walk on Girl (2017)\n",
      "Betting on Zero (2016)\n",
      "Kingsglaive: Final Fantasy XV (2016)\n",
      "Kizumonogatari II: Passionate Blood (2016)\n",
      "\n"
     ]
    }
   ],
   "source": [
    "movies = sorted(model.wv.index_to_key, key = lambda x : x)\n",
    "\n",
    "for movie in movies[120:130] :\n",
    "    title = mid_title_dict[int(movie)]\n",
    "    print(\"Moive : {}\".format(title))\n",
    "    print(\"-------------------------------\")\n",
    "    sims = get_similar_topn(title, n = 5, with_sim = False)\n",
    "    for name in sims :\n",
    "        print(name)\n",
    "    print()"
   ]
  },
  {
   "cell_type": "markdown",
   "id": "3dbf1c47-4d7a-4b67-ab30-80985ec22eba",
   "metadata": {},
   "source": [
    "## 평가\n",
    "\n",
    "추천이 잘 되었는지 평가하는 방법?\n",
    "\n",
    "-> User가 어떤 영화를 봤을때, 연관 영화들을\n",
    "   1) 대부분 봤고\n",
    "   2) 추천된 영화에 대한 rating이 기존 영화와 유사할 때 추천이 잘 됐다고 해석할 수 있다."
   ]
  },
  {
   "cell_type": "code",
   "execution_count": 32,
   "id": "f1f924bc-7b0a-4d01-8dbb-390aa7c6c793",
   "metadata": {},
   "outputs": [
    {
     "data": {
      "text/html": [
       "<div>\n",
       "<style scoped>\n",
       "    .dataframe tbody tr th:only-of-type {\n",
       "        vertical-align: middle;\n",
       "    }\n",
       "\n",
       "    .dataframe tbody tr th {\n",
       "        vertical-align: top;\n",
       "    }\n",
       "\n",
       "    .dataframe thead th {\n",
       "        text-align: right;\n",
       "    }\n",
       "</style>\n",
       "<table border=\"1\" class=\"dataframe\">\n",
       "  <thead>\n",
       "    <tr style=\"text-align: right;\">\n",
       "      <th></th>\n",
       "      <th>userId</th>\n",
       "      <th>movieId</th>\n",
       "      <th>rating</th>\n",
       "      <th>timestamp</th>\n",
       "      <th>ym</th>\n",
       "      <th>year</th>\n",
       "    </tr>\n",
       "  </thead>\n",
       "  <tbody>\n",
       "    <tr>\n",
       "      <th>52</th>\n",
       "      <td>1</td>\n",
       "      <td>1025</td>\n",
       "      <td>5.0</td>\n",
       "      <td>2000-07-30 18:46:31</td>\n",
       "      <td>2000-07</td>\n",
       "      <td>2000</td>\n",
       "    </tr>\n",
       "    <tr>\n",
       "      <th>179</th>\n",
       "      <td>1</td>\n",
       "      <td>2700</td>\n",
       "      <td>5.0</td>\n",
       "      <td>2000-07-30 18:16:25</td>\n",
       "      <td>2000-07</td>\n",
       "      <td>2000</td>\n",
       "    </tr>\n",
       "    <tr>\n",
       "      <th>186</th>\n",
       "      <td>1</td>\n",
       "      <td>2899</td>\n",
       "      <td>5.0</td>\n",
       "      <td>2000-07-30 18:45:03</td>\n",
       "      <td>2000-07</td>\n",
       "      <td>2000</td>\n",
       "    </tr>\n",
       "    <tr>\n",
       "      <th>37</th>\n",
       "      <td>1</td>\n",
       "      <td>648</td>\n",
       "      <td>3.0</td>\n",
       "      <td>2000-07-30 18:42:43</td>\n",
       "      <td>2000-07</td>\n",
       "      <td>2000</td>\n",
       "    </tr>\n",
       "    <tr>\n",
       "      <th>197</th>\n",
       "      <td>1</td>\n",
       "      <td>2997</td>\n",
       "      <td>4.0</td>\n",
       "      <td>2000-07-30 18:14:56</td>\n",
       "      <td>2000-07</td>\n",
       "      <td>2000</td>\n",
       "    </tr>\n",
       "    <tr>\n",
       "      <th>...</th>\n",
       "      <td>...</td>\n",
       "      <td>...</td>\n",
       "      <td>...</td>\n",
       "      <td>...</td>\n",
       "      <td>...</td>\n",
       "      <td>...</td>\n",
       "    </tr>\n",
       "    <tr>\n",
       "      <th>99644</th>\n",
       "      <td>610</td>\n",
       "      <td>1394</td>\n",
       "      <td>5.0</td>\n",
       "      <td>2016-11-19 08:33:23</td>\n",
       "      <td>2016-11</td>\n",
       "      <td>2016</td>\n",
       "    </tr>\n",
       "    <tr>\n",
       "      <th>100570</th>\n",
       "      <td>610</td>\n",
       "      <td>96079</td>\n",
       "      <td>4.0</td>\n",
       "      <td>2017-05-03 21:25:54</td>\n",
       "      <td>2017-05</td>\n",
       "      <td>2017</td>\n",
       "    </tr>\n",
       "    <tr>\n",
       "      <th>100325</th>\n",
       "      <td>610</td>\n",
       "      <td>60040</td>\n",
       "      <td>3.5</td>\n",
       "      <td>2017-05-03 21:05:56</td>\n",
       "      <td>2017-05</td>\n",
       "      <td>2017</td>\n",
       "    </tr>\n",
       "    <tr>\n",
       "      <th>100179</th>\n",
       "      <td>610</td>\n",
       "      <td>43936</td>\n",
       "      <td>3.0</td>\n",
       "      <td>2017-05-03 21:18:08</td>\n",
       "      <td>2017-05</td>\n",
       "      <td>2017</td>\n",
       "    </tr>\n",
       "    <tr>\n",
       "      <th>99937</th>\n",
       "      <td>610</td>\n",
       "      <td>5989</td>\n",
       "      <td>3.5</td>\n",
       "      <td>2017-05-03 20:54:07</td>\n",
       "      <td>2017-05</td>\n",
       "      <td>2017</td>\n",
       "    </tr>\n",
       "  </tbody>\n",
       "</table>\n",
       "<p>20168 rows × 6 columns</p>\n",
       "</div>"
      ],
      "text/plain": [
       "        userId movieId  rating           timestamp       ym  year\n",
       "52           1    1025     5.0 2000-07-30 18:46:31  2000-07  2000\n",
       "179          1    2700     5.0 2000-07-30 18:16:25  2000-07  2000\n",
       "186          1    2899     5.0 2000-07-30 18:45:03  2000-07  2000\n",
       "37           1     648     3.0 2000-07-30 18:42:43  2000-07  2000\n",
       "197          1    2997     4.0 2000-07-30 18:14:56  2000-07  2000\n",
       "...        ...     ...     ...                 ...      ...   ...\n",
       "99644      610    1394     5.0 2016-11-19 08:33:23  2016-11  2016\n",
       "100570     610   96079     4.0 2017-05-03 21:25:54  2017-05  2017\n",
       "100325     610   60040     3.5 2017-05-03 21:05:56  2017-05  2017\n",
       "100179     610   43936     3.0 2017-05-03 21:18:08  2017-05  2017\n",
       "99937      610    5989     3.5 2017-05-03 20:54:07  2017-05  2017\n",
       "\n",
       "[20168 rows x 6 columns]"
      ]
     },
     "execution_count": 32,
     "metadata": {},
     "output_type": "execute_result"
    }
   ],
   "source": [
    "df_test.sort_values(['userId'])"
   ]
  },
  {
   "cell_type": "code",
   "execution_count": 92,
   "id": "3a6b8f75-e362-41b8-a2c1-6721c78cfd53",
   "metadata": {},
   "outputs": [
    {
     "data": {
      "text/html": [
       "<div>\n",
       "<style scoped>\n",
       "    .dataframe tbody tr th:only-of-type {\n",
       "        vertical-align: middle;\n",
       "    }\n",
       "\n",
       "    .dataframe tbody tr th {\n",
       "        vertical-align: top;\n",
       "    }\n",
       "\n",
       "    .dataframe thead th {\n",
       "        text-align: right;\n",
       "    }\n",
       "</style>\n",
       "<table border=\"1\" class=\"dataframe\">\n",
       "  <thead>\n",
       "    <tr style=\"text-align: right;\">\n",
       "      <th></th>\n",
       "      <th>userId</th>\n",
       "      <th>movieId</th>\n",
       "      <th>rating</th>\n",
       "      <th>timestamp</th>\n",
       "      <th>ym</th>\n",
       "      <th>year</th>\n",
       "    </tr>\n",
       "  </thead>\n",
       "  <tbody>\n",
       "    <tr>\n",
       "      <th>35</th>\n",
       "      <td>1</td>\n",
       "      <td>596</td>\n",
       "      <td>5.0</td>\n",
       "      <td>2000-07-30 18:47:18</td>\n",
       "      <td>2000-07</td>\n",
       "      <td>2000</td>\n",
       "    </tr>\n",
       "    <tr>\n",
       "      <th>53</th>\n",
       "      <td>1</td>\n",
       "      <td>1029</td>\n",
       "      <td>5.0</td>\n",
       "      <td>2000-07-30 18:47:35</td>\n",
       "      <td>2000-07</td>\n",
       "      <td>2000</td>\n",
       "    </tr>\n",
       "    <tr>\n",
       "      <th>56</th>\n",
       "      <td>1</td>\n",
       "      <td>1032</td>\n",
       "      <td>5.0</td>\n",
       "      <td>2000-07-30 18:46:31</td>\n",
       "      <td>2000-07</td>\n",
       "      <td>2000</td>\n",
       "    </tr>\n",
       "    <tr>\n",
       "      <th>88</th>\n",
       "      <td>1</td>\n",
       "      <td>1282</td>\n",
       "      <td>5.0</td>\n",
       "      <td>2000-07-30 18:45:03</td>\n",
       "      <td>2000-07</td>\n",
       "      <td>2000</td>\n",
       "    </tr>\n",
       "    <tr>\n",
       "      <th>120</th>\n",
       "      <td>1</td>\n",
       "      <td>2018</td>\n",
       "      <td>5.0</td>\n",
       "      <td>2000-07-30 18:08:43</td>\n",
       "      <td>2000-07</td>\n",
       "      <td>2000</td>\n",
       "    </tr>\n",
       "    <tr>\n",
       "      <th>136</th>\n",
       "      <td>1</td>\n",
       "      <td>2137</td>\n",
       "      <td>5.0</td>\n",
       "      <td>2000-07-30 18:46:31</td>\n",
       "      <td>2000-07</td>\n",
       "      <td>2000</td>\n",
       "    </tr>\n",
       "    <tr>\n",
       "      <th>142</th>\n",
       "      <td>1</td>\n",
       "      <td>2193</td>\n",
       "      <td>4.0</td>\n",
       "      <td>2000-07-30 18:28:30</td>\n",
       "      <td>2000-07</td>\n",
       "      <td>2000</td>\n",
       "    </tr>\n",
       "    <tr>\n",
       "      <th>199</th>\n",
       "      <td>1</td>\n",
       "      <td>3034</td>\n",
       "      <td>5.0</td>\n",
       "      <td>2000-07-30 18:46:31</td>\n",
       "      <td>2000-07</td>\n",
       "      <td>2000</td>\n",
       "    </tr>\n",
       "    <tr>\n",
       "      <th>217</th>\n",
       "      <td>1</td>\n",
       "      <td>3489</td>\n",
       "      <td>4.0</td>\n",
       "      <td>2000-07-30 18:29:35</td>\n",
       "      <td>2000-07</td>\n",
       "      <td>2000</td>\n",
       "    </tr>\n",
       "  </tbody>\n",
       "</table>\n",
       "</div>"
      ],
      "text/plain": [
       "     userId movieId  rating           timestamp       ym  year\n",
       "35        1     596     5.0 2000-07-30 18:47:18  2000-07  2000\n",
       "53        1    1029     5.0 2000-07-30 18:47:35  2000-07  2000\n",
       "56        1    1032     5.0 2000-07-30 18:46:31  2000-07  2000\n",
       "88        1    1282     5.0 2000-07-30 18:45:03  2000-07  2000\n",
       "120       1    2018     5.0 2000-07-30 18:08:43  2000-07  2000\n",
       "136       1    2137     5.0 2000-07-30 18:46:31  2000-07  2000\n",
       "142       1    2193     4.0 2000-07-30 18:28:30  2000-07  2000\n",
       "199       1    3034     5.0 2000-07-30 18:46:31  2000-07  2000\n",
       "217       1    3489     4.0 2000-07-30 18:29:35  2000-07  2000"
      ]
     },
     "execution_count": 92,
     "metadata": {},
     "output_type": "execute_result"
    }
   ],
   "source": [
    "sims_test = model.wv.most_similar([str(1025)], topn = 30)\n",
    "df[df['userId'] == 1 & df['movieId'].isin([x[0] for x in sims_test])]"
   ]
  },
  {
   "cell_type": "code",
   "execution_count": null,
   "id": "86f575c3-6131-47ca-a286-b2e39df35898",
   "metadata": {},
   "outputs": [],
   "source": []
  }
 ],
 "metadata": {
  "kernelspec": {
   "display_name": "Python 3 (ipykernel)",
   "language": "python",
   "name": "python3"
  },
  "language_info": {
   "codemirror_mode": {
    "name": "ipython",
    "version": 3
   },
   "file_extension": ".py",
   "mimetype": "text/x-python",
   "name": "python",
   "nbconvert_exporter": "python",
   "pygments_lexer": "ipython3",
   "version": "3.9.6"
  }
 },
 "nbformat": 4,
 "nbformat_minor": 5
}
