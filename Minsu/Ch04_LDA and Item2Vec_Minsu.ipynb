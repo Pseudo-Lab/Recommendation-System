{
 "cells": [
  {
   "cell_type": "markdown",
   "metadata": {},
   "source": [
    "# 가짜연구소 4기 - 추천시스템 톺아보기\n",
    "## LDA와 Item2Vec를 활용한 추천\n",
    "- 작성자: 김민수(kimminsu.ds@gmail.com)\n",
    "- 데이터 출처: https://archive.ics.uci.edu/ml/datasets/online+retail#"
   ]
  },
  {
   "cell_type": "markdown",
   "metadata": {},
   "source": [
    "#### Abstract\n",
    "- This is a transaction data set which contains all the transactions occuring between 01/12/2010 and 09/12/2011 for a UK-based registered non-store online retail"
   ]
  },
  {
   "cell_type": "markdown",
   "metadata": {},
   "source": [
    "#### Attritbute Information\n",
    "- InvoiceNo: Invoce number\n",
    "    - If this code starts with letter 'C', it indicates a cancellation\n",
    "- StockCode: Product(item) code\n",
    "- Description: Product(item) name\n",
    "- Quantity: The quantities of each product (item) per transaction\n",
    "- InvoceDate: The day and time when each transaction was generated\n",
    "- UnitPrice: Product price per unit in sterling\n",
    "- CustomerID: Customer number\n",
    "- Country: The name of country where each customer resides"
   ]
  },
  {
   "cell_type": "markdown",
   "metadata": {},
   "source": [
    "## 00. 환경설정"
   ]
  },
  {
   "cell_type": "markdown",
   "metadata": {},
   "source": [
    "### 00-01. 패키지"
   ]
  },
  {
   "cell_type": "code",
   "execution_count": 2,
   "metadata": {},
   "outputs": [],
   "source": [
    "import re\n",
    "import pandas as pd\n",
    "import numpy as np\n",
    "from matplotlib import pyplot as plt\n",
    "from datetime import datetime\n",
    "from tqdm import tqdm\n",
    "%matplotlib inline\n",
    "\n",
    "# Gensim\n",
    "import gensim\n",
    "import gensim.corpora as corpora\n",
    "from gensim.models import CoherenceModel\n",
    "\n",
    "# Plotting tools\n",
    "import pyLDAvis\n",
    "import pyLDAvis.gensim  # don't skip this\n",
    "import matplotlib.pyplot as plt\n",
    "%matplotlib inline\n",
    "\n",
    "# Enable logging for gensim - optional\n",
    "import logging\n",
    "logging.basicConfig(format='%(asctime)s : %(levelname)s : %(message)s', level=logging.ERROR)\n",
    "\n",
    "import warnings\n",
    "warnings.filterwarnings(\"ignore\")"
   ]
  },
  {
   "cell_type": "markdown",
   "metadata": {},
   "source": [
    "### 00-02. UCI Online  retail 데이터"
   ]
  },
  {
   "cell_type": "code",
   "execution_count": 2,
   "metadata": {},
   "outputs": [],
   "source": [
    "path = \"../data/online retail.csv\"\n",
    "parse_date = lambda x: datetime.strptime(x, '%Y-%m-%d %H:%M')\n",
    "df = pd.read_csv(path, parse_dates=['InvoiceDate'], date_parser=parse_date)"
   ]
  },
  {
   "cell_type": "code",
   "execution_count": 3,
   "metadata": {},
   "outputs": [
    {
     "data": {
      "text/html": [
       "<div>\n",
       "<style scoped>\n",
       "    .dataframe tbody tr th:only-of-type {\n",
       "        vertical-align: middle;\n",
       "    }\n",
       "\n",
       "    .dataframe tbody tr th {\n",
       "        vertical-align: top;\n",
       "    }\n",
       "\n",
       "    .dataframe thead th {\n",
       "        text-align: right;\n",
       "    }\n",
       "</style>\n",
       "<table border=\"1\" class=\"dataframe\">\n",
       "  <thead>\n",
       "    <tr style=\"text-align: right;\">\n",
       "      <th></th>\n",
       "      <th>InvoiceNo</th>\n",
       "      <th>StockCode</th>\n",
       "      <th>Description</th>\n",
       "      <th>Quantity</th>\n",
       "      <th>InvoiceDate</th>\n",
       "      <th>UnitPrice</th>\n",
       "      <th>CustomerID</th>\n",
       "      <th>Country</th>\n",
       "    </tr>\n",
       "  </thead>\n",
       "  <tbody>\n",
       "    <tr>\n",
       "      <th>0</th>\n",
       "      <td>536365</td>\n",
       "      <td>85123A</td>\n",
       "      <td>WHITE HANGING HEART T-LIGHT HOLDER</td>\n",
       "      <td>6</td>\n",
       "      <td>2010-12-01 08:26:00</td>\n",
       "      <td>2.55</td>\n",
       "      <td>17850.0</td>\n",
       "      <td>United Kingdom</td>\n",
       "    </tr>\n",
       "    <tr>\n",
       "      <th>1</th>\n",
       "      <td>536365</td>\n",
       "      <td>71053</td>\n",
       "      <td>WHITE METAL LANTERN</td>\n",
       "      <td>6</td>\n",
       "      <td>2010-12-01 08:26:00</td>\n",
       "      <td>3.39</td>\n",
       "      <td>17850.0</td>\n",
       "      <td>United Kingdom</td>\n",
       "    </tr>\n",
       "    <tr>\n",
       "      <th>2</th>\n",
       "      <td>536365</td>\n",
       "      <td>84406B</td>\n",
       "      <td>CREAM CUPID HEARTS COAT HANGER</td>\n",
       "      <td>8</td>\n",
       "      <td>2010-12-01 08:26:00</td>\n",
       "      <td>2.75</td>\n",
       "      <td>17850.0</td>\n",
       "      <td>United Kingdom</td>\n",
       "    </tr>\n",
       "    <tr>\n",
       "      <th>3</th>\n",
       "      <td>536365</td>\n",
       "      <td>84029G</td>\n",
       "      <td>KNITTED UNION FLAG HOT WATER BOTTLE</td>\n",
       "      <td>6</td>\n",
       "      <td>2010-12-01 08:26:00</td>\n",
       "      <td>3.39</td>\n",
       "      <td>17850.0</td>\n",
       "      <td>United Kingdom</td>\n",
       "    </tr>\n",
       "    <tr>\n",
       "      <th>4</th>\n",
       "      <td>536365</td>\n",
       "      <td>84029E</td>\n",
       "      <td>RED WOOLLY HOTTIE WHITE HEART.</td>\n",
       "      <td>6</td>\n",
       "      <td>2010-12-01 08:26:00</td>\n",
       "      <td>3.39</td>\n",
       "      <td>17850.0</td>\n",
       "      <td>United Kingdom</td>\n",
       "    </tr>\n",
       "  </tbody>\n",
       "</table>\n",
       "</div>"
      ],
      "text/plain": [
       "  InvoiceNo StockCode                          Description  Quantity  \\\n",
       "0    536365    85123A   WHITE HANGING HEART T-LIGHT HOLDER         6   \n",
       "1    536365     71053                  WHITE METAL LANTERN         6   \n",
       "2    536365    84406B       CREAM CUPID HEARTS COAT HANGER         8   \n",
       "3    536365    84029G  KNITTED UNION FLAG HOT WATER BOTTLE         6   \n",
       "4    536365    84029E       RED WOOLLY HOTTIE WHITE HEART.         6   \n",
       "\n",
       "          InvoiceDate  UnitPrice  CustomerID         Country  \n",
       "0 2010-12-01 08:26:00       2.55     17850.0  United Kingdom  \n",
       "1 2010-12-01 08:26:00       3.39     17850.0  United Kingdom  \n",
       "2 2010-12-01 08:26:00       2.75     17850.0  United Kingdom  \n",
       "3 2010-12-01 08:26:00       3.39     17850.0  United Kingdom  \n",
       "4 2010-12-01 08:26:00       3.39     17850.0  United Kingdom  "
      ]
     },
     "execution_count": 3,
     "metadata": {},
     "output_type": "execute_result"
    }
   ],
   "source": [
    "df.head()"
   ]
  },
  {
   "cell_type": "markdown",
   "metadata": {},
   "source": [
    "#### 일부 데이터 제외\n",
    "- 사용자 아이디가 없는 데이터 제외\n",
    "- quantity가 음수인 데이터 제외"
   ]
  },
  {
   "cell_type": "code",
   "execution_count": 4,
   "metadata": {},
   "outputs": [
    {
     "data": {
      "text/html": [
       "<div>\n",
       "<style scoped>\n",
       "    .dataframe tbody tr th:only-of-type {\n",
       "        vertical-align: middle;\n",
       "    }\n",
       "\n",
       "    .dataframe tbody tr th {\n",
       "        vertical-align: top;\n",
       "    }\n",
       "\n",
       "    .dataframe thead th {\n",
       "        text-align: right;\n",
       "    }\n",
       "</style>\n",
       "<table border=\"1\" class=\"dataframe\">\n",
       "  <thead>\n",
       "    <tr style=\"text-align: right;\">\n",
       "      <th></th>\n",
       "      <th>InvoiceNo</th>\n",
       "      <th>StockCode</th>\n",
       "      <th>Description</th>\n",
       "      <th>Quantity</th>\n",
       "      <th>InvoiceDate</th>\n",
       "      <th>UnitPrice</th>\n",
       "      <th>CustomerID</th>\n",
       "      <th>Country</th>\n",
       "    </tr>\n",
       "  </thead>\n",
       "  <tbody>\n",
       "    <tr>\n",
       "      <th>0</th>\n",
       "      <td>536365</td>\n",
       "      <td>85123A</td>\n",
       "      <td>WHITE HANGING HEART T-LIGHT HOLDER</td>\n",
       "      <td>6</td>\n",
       "      <td>2010-12-01 08:26:00</td>\n",
       "      <td>2.55</td>\n",
       "      <td>17850.0</td>\n",
       "      <td>United Kingdom</td>\n",
       "    </tr>\n",
       "    <tr>\n",
       "      <th>1</th>\n",
       "      <td>536365</td>\n",
       "      <td>71053</td>\n",
       "      <td>WHITE METAL LANTERN</td>\n",
       "      <td>6</td>\n",
       "      <td>2010-12-01 08:26:00</td>\n",
       "      <td>3.39</td>\n",
       "      <td>17850.0</td>\n",
       "      <td>United Kingdom</td>\n",
       "    </tr>\n",
       "    <tr>\n",
       "      <th>2</th>\n",
       "      <td>536365</td>\n",
       "      <td>84406B</td>\n",
       "      <td>CREAM CUPID HEARTS COAT HANGER</td>\n",
       "      <td>8</td>\n",
       "      <td>2010-12-01 08:26:00</td>\n",
       "      <td>2.75</td>\n",
       "      <td>17850.0</td>\n",
       "      <td>United Kingdom</td>\n",
       "    </tr>\n",
       "    <tr>\n",
       "      <th>3</th>\n",
       "      <td>536365</td>\n",
       "      <td>84029G</td>\n",
       "      <td>KNITTED UNION FLAG HOT WATER BOTTLE</td>\n",
       "      <td>6</td>\n",
       "      <td>2010-12-01 08:26:00</td>\n",
       "      <td>3.39</td>\n",
       "      <td>17850.0</td>\n",
       "      <td>United Kingdom</td>\n",
       "    </tr>\n",
       "    <tr>\n",
       "      <th>4</th>\n",
       "      <td>536365</td>\n",
       "      <td>84029E</td>\n",
       "      <td>RED WOOLLY HOTTIE WHITE HEART.</td>\n",
       "      <td>6</td>\n",
       "      <td>2010-12-01 08:26:00</td>\n",
       "      <td>3.39</td>\n",
       "      <td>17850.0</td>\n",
       "      <td>United Kingdom</td>\n",
       "    </tr>\n",
       "  </tbody>\n",
       "</table>\n",
       "</div>"
      ],
      "text/plain": [
       "  InvoiceNo StockCode                          Description  Quantity  \\\n",
       "0    536365    85123A   WHITE HANGING HEART T-LIGHT HOLDER         6   \n",
       "1    536365     71053                  WHITE METAL LANTERN         6   \n",
       "2    536365    84406B       CREAM CUPID HEARTS COAT HANGER         8   \n",
       "3    536365    84029G  KNITTED UNION FLAG HOT WATER BOTTLE         6   \n",
       "4    536365    84029E       RED WOOLLY HOTTIE WHITE HEART.         6   \n",
       "\n",
       "          InvoiceDate  UnitPrice  CustomerID         Country  \n",
       "0 2010-12-01 08:26:00       2.55     17850.0  United Kingdom  \n",
       "1 2010-12-01 08:26:00       3.39     17850.0  United Kingdom  \n",
       "2 2010-12-01 08:26:00       2.75     17850.0  United Kingdom  \n",
       "3 2010-12-01 08:26:00       3.39     17850.0  United Kingdom  \n",
       "4 2010-12-01 08:26:00       3.39     17850.0  United Kingdom  "
      ]
     },
     "execution_count": 4,
     "metadata": {},
     "output_type": "execute_result"
    }
   ],
   "source": [
    "df2 = df[~(df.CustomerID.isnull()) & (df.Quantity > 0)]\n",
    "df2.head()"
   ]
  },
  {
   "cell_type": "markdown",
   "metadata": {},
   "source": [
    "#### 전처리"
   ]
  },
  {
   "cell_type": "code",
   "execution_count": 5,
   "metadata": {},
   "outputs": [],
   "source": [
    "stock_to_description = {row[\"StockCode\"] : row[\"Description\"] for _, row in df2.iterrows()}"
   ]
  },
  {
   "cell_type": "code",
   "execution_count": 6,
   "metadata": {},
   "outputs": [],
   "source": [
    "df2['CustomerId'] = df2.CustomerID.astype(int)\n",
    "df2['StockCode']  = df2['StockCode'].astype(\"str\")\n",
    "df2 = df2[['InvoiceNo', 'StockCode', 'Quantity', 'CustomerID', 'InvoiceDate']]\n",
    "df2['ym'] = df2['InvoiceDate'].apply(lambda x: str(x)[:7])"
   ]
  },
  {
   "cell_type": "markdown",
   "metadata": {},
   "source": [
    "#### 전체 기간 데이터 확인"
   ]
  },
  {
   "cell_type": "code",
   "execution_count": 7,
   "metadata": {},
   "outputs": [
    {
     "data": {
      "image/png": "[encoded data removed]",
      "text/plain": [
       "<Figure size 360x360 with 1 Axes>"
      ]
     },
     "metadata": {
      "needs_background": "light"
     },
     "output_type": "display_data"
    }
   ],
   "source": [
    "df2.groupby(['ym'])['StockCode'].count().plot.bar(figsize=(5, 5))\n",
    "plt.show()"
   ]
  },
  {
   "cell_type": "markdown",
   "metadata": {},
   "source": [
    "#### 데이터셋 분리\n",
    "- train: **`2011년 09월 ~ 201111월`** \n",
    "- test: **`2011년 12월`**"
   ]
  },
  {
   "cell_type": "code",
   "execution_count": 8,
   "metadata": {},
   "outputs": [],
   "source": [
    "df2['ym'] = df2['InvoiceDate'].apply(lambda x: str(x)[:7])\n",
    "train_df = df2[(df2['ym'] >= '2011-09') & (df2['ym'] <= '2011-11')]\n",
    "test_df  = df2[df2['ym'] == '2011-12']"
   ]
  },
  {
   "cell_type": "markdown",
   "metadata": {},
   "source": [
    "#### 문서 생성"
   ]
  },
  {
   "cell_type": "code",
   "execution_count": 9,
   "metadata": {},
   "outputs": [],
   "source": [
    "train_groupby = train_df.groupby(['CustomerID'])\n",
    "doc_list = []\n",
    "\n",
    "for user_id, user_df in train_groupby:\n",
    "    document = user_df['StockCode'].values.tolist()\n",
    "    doc_list.append(document)"
   ]
  },
  {
   "cell_type": "code",
   "execution_count": 10,
   "metadata": {},
   "outputs": [
    {
     "data": {
      "text/plain": [
       "['23480',\n",
       " '21265',\n",
       " '21636',\n",
       " '22372',\n",
       " '22375',\n",
       " '22371',\n",
       " '22374',\n",
       " '22252',\n",
       " '22945',\n",
       " '22423',\n",
       " '23173',\n",
       " '47580',\n",
       " '47567B',\n",
       " '47559B',\n",
       " '22698',\n",
       " '22697',\n",
       " '84558A',\n",
       " '23084',\n",
       " '21731',\n",
       " '23177',\n",
       " '21791',\n",
       " '23508',\n",
       " '23506',\n",
       " '23503',\n",
       " '22992',\n",
       " '22561',\n",
       " '22492',\n",
       " '22621',\n",
       " '23146',\n",
       " '23421',\n",
       " '23422',\n",
       " '23420',\n",
       " '22699',\n",
       " '22725',\n",
       " '22728',\n",
       " '22726',\n",
       " '22727',\n",
       " '21976',\n",
       " '22417',\n",
       " '23308',\n",
       " '84991',\n",
       " '84992',\n",
       " '22196',\n",
       " '22195',\n",
       " '20719',\n",
       " '23162',\n",
       " '22131']"
      ]
     },
     "execution_count": 10,
     "metadata": {},
     "output_type": "execute_result"
    }
   ],
   "source": [
    "doc_list[0]"
   ]
  },
  {
   "cell_type": "markdown",
   "metadata": {},
   "source": [
    "#### gensim Dictionary 형태로 변환"
   ]
  },
  {
   "cell_type": "code",
   "execution_count": 11,
   "metadata": {},
   "outputs": [
    {
     "data": {
      "text/plain": [
       "<gensim.corpora.dictionary.Dictionary at 0x26247a38708>"
      ]
     },
     "execution_count": 11,
     "metadata": {},
     "output_type": "execute_result"
    }
   ],
   "source": [
    "id2word = corpora.Dictionary(doc_list)\n",
    "id2word"
   ]
  },
  {
   "cell_type": "markdown",
   "metadata": {},
   "source": [
    "- (예) StockCode 20719 값이 0번으로 매칭"
   ]
  },
  {
   "cell_type": "code",
   "execution_count": 12,
   "metadata": {},
   "outputs": [
    {
     "data": {
      "text/plain": [
       "'20719'"
      ]
     },
     "execution_count": 12,
     "metadata": {},
     "output_type": "execute_result"
    }
   ],
   "source": [
    "id2word[0]"
   ]
  },
  {
   "cell_type": "markdown",
   "metadata": {},
   "source": [
    "#### 문서를 TF(Term Frequency)의 형태로 변환\n",
    "- doc_list[0] 유저는 20719(0)을 한 번 구매했으므로 (0, 1)"
   ]
  },
  {
   "cell_type": "code",
   "execution_count": 13,
   "metadata": {},
   "outputs": [
    {
     "name": "stdout",
     "output_type": "stream",
     "text": [
      "[(0, 1), (1, 1), (2, 1), (3, 1), (4, 1), (5, 1), (6, 1), (7, 1), (8, 1), (9, 1), (10, 1), (11, 1), (12, 1), (13, 1), (14, 1), (15, 1), (16, 1), (17, 1), (18, 1), (19, 1), (20, 1), (21, 1), (22, 1), (23, 1), (24, 1), (25, 1), (26, 1), (27, 1), (28, 1), (29, 1), (30, 1), (31, 1), (32, 1), (33, 1), (34, 1), (35, 1), (36, 1), (37, 1), (38, 1), (39, 1), (40, 1), (41, 1), (42, 1), (43, 1), (44, 1), (45, 1), (46, 1)]\n"
     ]
    }
   ],
   "source": [
    "corpus = [id2word.doc2bow(doc) for doc in doc_list]\n",
    "print(corpus[0])"
   ]
  },
  {
   "cell_type": "markdown",
   "metadata": {},
   "source": [
    "## 01. Gensim 패키지를 활용한 LDA 모델링\n",
    "- [models.ldamodel – Latent Dirichlet Allocation](https://radimrehurek.com/gensim/models/ldamodel.html)"
   ]
  },
  {
   "cell_type": "markdown",
   "metadata": {},
   "source": [
    "#### K는 20으로 지정"
   ]
  },
  {
   "cell_type": "code",
   "execution_count": 14,
   "metadata": {},
   "outputs": [],
   "source": [
    "topic_num = 20\n",
    "\n",
    "ldamodel = gensim.models.ldamodel.LdaModel(corpus,\n",
    "                                          num_topics = topic_num,\n",
    "                                          id2word = id2word,\n",
    "                                          passes=10,\n",
    "                                          per_word_topics=True)"
   ]
  },
  {
   "cell_type": "markdown",
   "metadata": {},
   "source": [
    "#### 0번 Topic의 연관도 Top 5 단어 확인"
   ]
  },
  {
   "cell_type": "code",
   "execution_count": 15,
   "metadata": {},
   "outputs": [
    {
     "name": "stdout",
     "output_type": "stream",
     "text": [
      "23293 0.040483784\n",
      "23295 0.03846333\n",
      "23296 0.03489922\n",
      "23307 0.033661783\n",
      "23294 0.033576977\n"
     ]
    }
   ],
   "source": [
    "topic = 0\n",
    "topn = 5\n",
    "\n",
    "for id, prob in ldamodel.get_topic_terms(topic, topn=topn):\n",
    "    print(ldamodel.id2word[id], prob)"
   ]
  },
  {
   "cell_type": "markdown",
   "metadata": {},
   "source": [
    "#### Topic별 Top 5 단어 출력"
   ]
  },
  {
   "cell_type": "code",
   "execution_count": 16,
   "metadata": {},
   "outputs": [
    {
     "name": "stdout",
     "output_type": "stream",
     "text": [
      "(0, '0.040*\"23293\" + 0.038*\"23295\" + 0.035*\"23296\" + 0.034*\"23307\" + 0.034*\"23294\"')\n",
      "(1, '0.013*\"22865\" + 0.012*\"22866\" + 0.012*\"22633\" + 0.012*\"23439\" + 0.011*\"21034\"')\n",
      "(2, '0.011*\"20727\" + 0.010*\"22383\" + 0.007*\"20725\" + 0.007*\"23321\" + 0.006*\"23583\"')\n",
      "(3, '0.039*\"22138\" + 0.032*\"84946\" + 0.022*\"22617\" + 0.021*\"22178\" + 0.019*\"84947\"')\n",
      "(4, '0.017*\"POST\" + 0.011*\"23256\" + 0.010*\"22629\" + 0.010*\"22551\" + 0.010*\"23084\"')\n",
      "(5, '0.028*\"22998\" + 0.025*\"21498\" + 0.020*\"M\" + 0.020*\"21497\" + 0.019*\"21500\"')\n",
      "(6, '0.030*\"22726\" + 0.028*\"22727\" + 0.022*\"22728\" + 0.016*\"22730\" + 0.011*\"22993\"')\n",
      "(7, '0.010*\"22585\" + 0.008*\"22398\" + 0.008*\"21992\" + 0.008*\"23169\" + 0.007*\"21791\"')\n",
      "(8, '0.016*\"85123A\" + 0.012*\"23126\" + 0.012*\"22144\" + 0.012*\"22271\" + 0.012*\"22940\"')\n",
      "(9, '0.029*\"23355\" + 0.023*\"22112\" + 0.019*\"22114\" + 0.018*\"23284\" + 0.017*\"22111\"')\n",
      "(10, '0.033*\"85099B\" + 0.032*\"23203\" + 0.025*\"23344\" + 0.024*\"23209\" + 0.022*\"23202\"')\n",
      "(11, '0.024*\"22577\" + 0.022*\"22578\" + 0.016*\"22579\" + 0.009*\"21810\" + 0.009*\"22158\"')\n",
      "(12, '0.014*\"23263\" + 0.013*\"22595\" + 0.012*\"23264\" + 0.012*\"79321\" + 0.012*\"23266\"')\n",
      "(13, '0.025*\"23084\" + 0.012*\"23505\" + 0.012*\"22970\" + 0.011*\"22616\" + 0.011*\"22900\"')\n",
      "(14, '0.013*\"21034\" + 0.010*\"22086\" + 0.009*\"22910\" + 0.009*\"23319\" + 0.009*\"23320\"')\n",
      "(15, '0.014*\"82482\" + 0.013*\"82494L\" + 0.010*\"82483\" + 0.010*\"23393\" + 0.009*\"23394\"')\n",
      "(16, '0.024*\"21175\" + 0.022*\"21166\" + 0.022*\"85152\" + 0.020*\"21181\" + 0.015*\"82583\"')\n",
      "(17, '0.040*\"22563\" + 0.022*\"22562\" + 0.022*\"22991\" + 0.017*\"22742\" + 0.015*\"22564\"')\n",
      "(18, '0.031*\"22086\" + 0.027*\"22910\" + 0.021*\"23349\" + 0.021*\"23318\" + 0.020*\"22909\"')\n",
      "(19, '0.026*\"21790\" + 0.020*\"22568\" + 0.017*\"22621\" + 0.017*\"20972\" + 0.017*\"21889\"')\n"
     ]
    }
   ],
   "source": [
    "topics = ldamodel.print_topics(num_words = 5)\n",
    "for topic in topics:\n",
    "    print(topic)"
   ]
  },
  {
   "cell_type": "code",
   "execution_count": 17,
   "metadata": {},
   "outputs": [
    {
     "name": "stdout",
     "output_type": "stream",
     "text": [
      "0 ['SET OF 12 FAIRY CAKE BAKING CASES', 'SET OF 12 MINI LOAF BAKING CASES', 'SET OF 6 TEA TIME BAKING CASES', 'SET OF 60 PANTRY DESIGN CAKE CASES ', 'SET OF 6 SNACK LOAF BAKING CASES']\n",
      "1 ['HAND WARMER OWL DESIGN', 'HAND WARMER SCOTTY DOG DESIGN', 'HAND WARMER UNION JACK', 'HAND WARMER RED LOVE HEART', 'REX CASH+CARRY JUMBO SHOPPER']\n",
      "2 ['LUNCH BAG  BLACK SKULL.', 'LUNCH BAG SUKI DESIGN ', 'LUNCH BAG RED RETROSPOT', 'SMALL WHITE HEART OF WICKER', 'LUNCH BAG PAISLEY PARK  ']\n",
      "3 ['BAKING SET 9 PIECE RETROSPOT ', 'ANTIQUE SILVER T-LIGHT GLASS', 'BAKING SET SPACEBOY DESIGN', 'VICTORIAN GLASS HANGING T-LIGHT', 'ANTIQUE SILVER TEA GLASS ENGRAVED']\n",
      "4 ['POSTAGE', 'CHILDRENS CUTLERY SPACEBOY ', 'SPACEBOY LUNCH BOX ', 'PLASTERS IN TIN SPACEBOY', 'RABBIT NIGHT LIGHT']\n",
      "5 ['TRAVEL CARD WALLET KEEP CALM', 'RED RETROSPOT WRAP ', 'Manual', 'FANCY FONTS BIRTHDAY WRAP', 'PINK POLKADOT WRAP ']\n",
      "6 ['ALARM CLOCK BAKELIKE GREEN', 'ALARM CLOCK BAKELIKE RED ', 'ALARM CLOCK BAKELIKE PINK', 'ALARM CLOCK BAKELIKE IVORY', 'SET OF 4 PANTRY JELLY MOULDS']\n",
      "7 ['PACK OF 6 BIRDY GIFT TAGS', 'MAGNETS PACK OF 4 SWALLOWS', 'VINTAGE PAISLEY STATIONERY SET', 'CLASSIC GLASS COOKIE JAR', 'VINTAGE HEADS AND TAILS CARD GAME ']\n",
      "8 ['CREAM HANGING HEART T-LIGHT HOLDER', 'FELTCRAFT GIRL AMELIE KIT', 'CHRISTMAS CRAFT LITTLE FRIENDS', 'FELTCRAFT DOLL ROSIE', 'FELTCRAFT CHRISTMAS FAIRY']\n",
      "9 ['HOT WATER BOTTLE KEEP CALM', 'CHOCOLATE HOT WATER BOTTLE', 'HOT WATER BOTTLE TEA AND SYMPATHY', 'DOORMAT KEEP CALM AND COME IN', 'SCOTTIE DOG HOT WATER BOTTLE']\n",
      "10 ['JUMBO BAG RED RETROSPOT', 'JUMBO BAG VINTAGE DOILY ', \"JUMBO BAG 50'S CHRISTMAS \", 'LUNCH BAG VINTAGE DOILY ', 'JUMBO BAG VINTAGE LEAF']\n",
      "11 ['WOODEN HEART CHRISTMAS SCANDINAVIAN', 'WOODEN STAR CHRISTMAS SCANDINAVIAN', 'WOODEN TREE CHRISTMAS SCANDINAVIAN', 'CHRISTMAS HANGING STAR WITH BELL', '3 HEARTS HANGING DECORATION RUSTIC']\n",
      "12 ['SET OF 3 WOODEN HEART DECORATIONS', 'GINGHAM HEART DECORATION', 'SET OF 3 WOODEN SLEIGH DECORATIONS', 'CHILLI LIGHTS', 'SET OF 3 WOODEN STOCKING DECORATION']\n",
      "13 ['RABBIT NIGHT LIGHT', 'PLAYING CARDS I LOVE LONDON ', 'LONDON BUS COFFEE MUG', 'PACK OF 12 LONDON TISSUES ', 'SET 2 TEA TOWELS I LOVE LONDON ']\n",
      "14 ['REX CASH+CARRY JUMBO SHOPPER', \"PAPER CHAIN KIT 50'S CHRISTMAS \", 'PAPER CHAIN KIT VINTAGE CHRISTMAS', \"BOX OF 6 MINI 50'S CRACKERS\", \"GIANT 50'S CHRISTMAS CRACKER\"]\n",
      "15 ['WOODEN PICTURE FRAME WHITE FINISH', 'WOODEN FRAME ANTIQUE WHITE ', 'WOOD 2 DRAWER CABINET WHITE FINISH', 'HOME SWEET HOME CUSHION COVER ', 'POSTE FRANCE CUSHION COVER']\n",
      "16 ['GIN AND TONIC DIET METAL SIGN', 'COOK WITH WINE METAL SIGN ', 'HAND OVER THE CHOCOLATE   SIGN ', 'PLEASE ONE PERSON METAL SIGN', 'HOT BATHS METAL SIGN']\n",
      "17 ['HAPPY STENCIL CRAFT', 'MONSTERS STENCIL CRAFT', 'GIRAFFE WOODEN RULER', 'MAKE YOUR OWN PLAYTIME CARD KIT', 'ALPHABET STENCIL CRAFT']\n",
      "18 [\"PAPER CHAIN KIT 50'S CHRISTMAS \", 'PAPER CHAIN KIT VINTAGE CHRISTMAS', 'ROLL WRAP VINTAGE CHRISTMAS', 'BOX OF 6 MINI VINTAGE CRACKERS', 'SET OF 20 VINTAGE CHRISTMAS NAPKINS']\n",
      "19 ['VINTAGE SNAP CARDS', 'FELTCRAFT CUSHION OWL', 'TRADITIONAL KNITTING NANCY', 'PINK CREAM FELT CRAFT TRINKET BOX ', 'WOODEN BOX OF DOMINOES']\n"
     ]
    }
   ],
   "source": [
    "for i in range(20):\n",
    "    recommend = ldamodel.show_topic(topicid=i, topn=5)\n",
    "    print(i, [stock_to_description[item] for item, score in recommend])"
   ]
  },
  {
   "cell_type": "markdown",
   "metadata": {},
   "source": [
    "#### 유저 Topic별 분포\n",
    "- (예): 12682번 유저"
   ]
  },
  {
   "cell_type": "code",
   "execution_count": 18,
   "metadata": {},
   "outputs": [],
   "source": [
    "user_topic_dict = {}\n",
    "for user_id, user_df in train_groupby:\n",
    "    document = user_df['StockCode'].values.tolist()\n",
    "    user_topic_dict[user_id] = ldamodel.get_document_topics(id2word.doc2bow(document), minimum_probability=0.0)"
   ]
  },
  {
   "cell_type": "code",
   "execution_count": 19,
   "metadata": {},
   "outputs": [
    {
     "data": {
      "text/plain": [
       "[(0, 0.00035468693),\n",
       " (1, 0.0003546869),\n",
       " (2, 0.0003546869),\n",
       " (3, 0.0003546869),\n",
       " (4, 0.5287927),\n",
       " (5, 0.013791497),\n",
       " (6, 0.124395534),\n",
       " (7, 0.0003546869),\n",
       " (8, 0.10749814),\n",
       " (9, 0.0003546869),\n",
       " (10, 0.18053775),\n",
       " (11, 0.0003546869),\n",
       " (12, 0.0003546869),\n",
       " (13, 0.0003546869),\n",
       " (14, 0.0003546869),\n",
       " (15, 0.040018767),\n",
       " (16, 0.0003546869),\n",
       " (17, 0.0003546869),\n",
       " (18, 0.0003546869),\n",
       " (19, 0.0003546869)]"
      ]
     },
     "execution_count": 19,
     "metadata": {},
     "output_type": "execute_result"
    }
   ],
   "source": [
    "user_id = 12682\n",
    "user_topic_dict[user_id]"
   ]
  },
  {
   "cell_type": "code",
   "execution_count": 20,
   "metadata": {},
   "outputs": [
    {
     "data": {
      "text/plain": [
       "0.9999999787833076"
      ]
     },
     "execution_count": 20,
     "metadata": {},
     "output_type": "execute_result"
    }
   ],
   "source": [
    "weight_sum = 0\n",
    "for topic, weight in user_topic_dict[user_id]:\n",
    "    weight_sum += weight\n",
    "    \n",
    "weight_sum"
   ]
  },
  {
   "cell_type": "markdown",
   "metadata": {},
   "source": [
    "#### Perplexity 계산 - Perplexity가 낮을수록 좋은 모델"
   ]
  },
  {
   "cell_type": "code",
   "execution_count": 21,
   "metadata": {},
   "outputs": [
    {
     "name": "stdout",
     "output_type": "stream",
     "text": [
      "Perplexity:  -7.347238049526462\n"
     ]
    }
   ],
   "source": [
    "print(\"Perplexity: \",  ldamodel.log_perplexity(corpus))"
   ]
  },
  {
   "cell_type": "markdown",
   "metadata": {},
   "source": [
    "#### pyLDAvis 패키지를 활용한 시각화"
   ]
  },
  {
   "cell_type": "code",
   "execution_count": 22,
   "metadata": {},
   "outputs": [
    {
     "data": {
      "text/html": [
       "\n",
       "<link rel=\"stylesheet\" type=\"text/css\" href=\"https://cdn.rawgit.com/bmabey/pyLDAvis/files/ldavis.v1.0.0.css\">\n",
       "\n",
       "\n",
       "<div id=\"ldavis_el175522621000503112401101723\"></div>\n",
       "<script type=\"text/javascript\">\n",
       "\n",
       "var ldavis_el175522621000503112401101723_data = {\"mdsDat\": {\"x\": [0.03213859086238065, 0.1591641983121402, 0.16221984893155983, 0.2076725021505129, -0.17623211704446992, 0.016780999689014017, -0.14387583167045426, 0.056516149209719944, -0.06529882549686636, -0.09697279411453709, 0.2265921263881151, -0.16465343949755484, -0.17853289210019588, 0.17625957238107234, -0.07513394868340131, 0.03491867628029344, 0.022743181646517393, 0.006485480453650943, -0.0555359042184078, -0.14525557347908868], \"y\": [0.020897783569579585, 0.15152439536082132, 0.11222543458856439, 0.0717482519874253, -0.04401073390300718, -0.039227122943591736, 0.062143230023045795, -0.16938783953471986, 0.05491679233607248, 0.19769324653919312, -0.13288738864598967, 0.08835978639750039, -0.031857936947189115, -0.047782757611447645, 0.029745342370898886, 0.1204008324916145, 0.010518067353553704, -0.10086712822842046, -0.326836375597442, -0.02731587960646143], \"topics\": [1, 2, 3, 4, 5, 6, 7, 8, 9, 10, 11, 12, 13, 14, 15, 16, 17, 18, 19, 20], \"cluster\": [1, 1, 1, 1, 1, 1, 1, 1, 1, 1, 1, 1, 1, 1, 1, 1, 1, 1, 1, 1], \"Freq\": [8.457977294921875, 8.206009864807129, 8.043681144714355, 7.930922508239746, 7.098544597625732, 6.903248310089111, 6.565435886383057, 5.565540313720703, 5.554162979125977, 5.436208248138428, 5.028546333312988, 4.4031877517700195, 3.6804251670837402, 3.30171799659729, 3.085628032684326, 3.0633323192596436, 2.9447484016418457, 2.2712016105651855, 1.562263011932373, 0.8972214460372925]}, \"tinfo\": {\"Category\": [\"Default\", \"Default\", \"Default\", \"Default\", \"Default\", \"Default\", \"Default\", \"Default\", \"Default\", \"Default\", \"Default\", \"Default\", \"Default\", \"Default\", \"Default\", \"Default\", \"Default\", \"Default\", \"Default\", \"Default\", \"Default\", \"Default\", \"Default\", \"Default\", \"Default\", \"Default\", \"Default\", \"Default\", \"Default\", \"Default\", \"Topic1\", \"Topic1\", \"Topic1\", \"Topic1\", \"Topic1\", \"Topic1\", \"Topic1\", \"Topic1\", \"Topic1\", \"Topic1\", \"Topic1\", \"Topic1\", \"Topic1\", \"Topic1\", \"Topic1\", \"Topic1\", \"Topic1\", \"Topic1\", \"Topic1\", \"Topic1\", \"Topic1\", \"Topic1\", \"Topic1\", \"Topic1\", \"Topic1\", \"Topic1\", \"Topic1\", \"Topic1\", \"Topic1\", \"Topic1\", \"Topic1\", \"Topic1\", \"Topic1\", \"Topic1\", \"Topic1\", \"Topic1\", \"Topic1\", \"Topic1\", \"Topic1\", \"Topic1\", \"Topic1\", \"Topic1\", \"Topic2\", \"Topic2\", \"Topic2\", \"Topic2\", \"Topic2\", \"Topic2\", \"Topic2\", \"Topic2\", \"Topic2\", \"Topic2\", \"Topic2\", \"Topic2\", \"Topic2\", \"Topic2\", \"Topic2\", \"Topic2\", \"Topic2\", \"Topic2\", \"Topic2\", \"Topic2\", \"Topic2\", \"Topic2\", \"Topic2\", \"Topic2\", \"Topic2\", \"Topic2\", \"Topic2\", \"Topic2\", \"Topic2\", \"Topic2\", \"Topic2\", \"Topic2\", \"Topic2\", \"Topic2\", \"Topic2\", \"Topic2\", \"Topic2\", \"Topic2\", \"Topic2\", \"Topic2\", \"Topic2\", \"Topic2\", \"Topic2\", \"Topic2\", \"Topic2\", \"Topic2\", \"Topic2\", \"Topic2\", \"Topic2\", \"Topic2\", \"Topic2\", \"Topic2\", \"Topic3\", \"Topic3\", \"Topic3\", \"Topic3\", \"Topic3\", \"Topic3\", \"Topic3\", \"Topic3\", \"Topic3\", \"Topic3\", \"Topic3\", \"Topic3\", \"Topic3\", \"Topic3\", \"Topic3\", \"Topic3\", \"Topic3\", \"Topic3\", \"Topic3\", \"Topic3\", \"Topic3\", \"Topic3\", \"Topic3\", \"Topic3\", \"Topic3\", \"Topic3\", \"Topic3\", \"Topic3\", \"Topic3\", \"Topic3\", \"Topic3\", \"Topic3\", \"Topic3\", \"Topic3\", \"Topic3\", \"Topic3\", \"Topic3\", \"Topic3\", \"Topic3\", \"Topic3\", \"Topic3\", \"Topic3\", \"Topic3\", \"Topic3\", \"Topic3\", \"Topic3\", \"Topic3\", \"Topic3\", \"Topic3\", \"Topic3\", \"Topic3\", \"Topic3\", \"Topic3\", \"Topic3\", \"Topic3\", \"Topic3\", \"Topic3\", \"Topic3\", \"Topic3\", \"Topic3\", \"Topic3\", \"Topic3\", \"Topic3\", \"Topic3\", \"Topic3\", \"Topic3\", \"Topic4\", \"Topic4\", \"Topic4\", \"Topic4\", \"Topic4\", \"Topic4\", \"Topic4\", \"Topic4\", \"Topic4\", \"Topic4\", \"Topic4\", \"Topic4\", \"Topic4\", \"Topic4\", \"Topic4\", \"Topic4\", \"Topic4\", \"Topic4\", \"Topic4\", \"Topic4\", \"Topic4\", \"Topic4\", \"Topic4\", \"Topic4\", \"Topic4\", \"Topic4\", \"Topic4\", \"Topic4\", \"Topic4\", \"Topic4\", \"Topic4\", \"Topic4\", \"Topic4\", \"Topic4\", \"Topic4\", \"Topic4\", \"Topic4\", \"Topic4\", \"Topic4\", \"Topic4\", \"Topic4\", \"Topic4\", \"Topic4\", \"Topic4\", \"Topic4\", \"Topic4\", \"Topic4\", \"Topic4\", \"Topic4\", \"Topic4\", \"Topic4\", \"Topic4\", \"Topic4\", \"Topic4\", \"Topic4\", \"Topic4\", \"Topic4\", \"Topic4\", \"Topic4\", \"Topic4\", \"Topic4\", \"Topic4\", \"Topic4\", \"Topic5\", \"Topic5\", \"Topic5\", \"Topic5\", \"Topic5\", \"Topic5\", \"Topic5\", \"Topic5\", \"Topic5\", \"Topic5\", \"Topic5\", \"Topic5\", \"Topic5\", \"Topic5\", \"Topic5\", \"Topic5\", \"Topic5\", \"Topic5\", \"Topic5\", \"Topic5\", \"Topic5\", \"Topic5\", \"Topic5\", \"Topic5\", \"Topic5\", \"Topic5\", \"Topic5\", \"Topic5\", \"Topic5\", \"Topic5\", \"Topic5\", \"Topic5\", \"Topic5\", \"Topic5\", \"Topic5\", \"Topic5\", \"Topic5\", \"Topic5\", \"Topic5\", \"Topic5\", \"Topic5\", \"Topic5\", \"Topic5\", \"Topic5\", \"Topic5\", \"Topic5\", \"Topic5\", \"Topic5\", \"Topic5\", \"Topic5\", \"Topic5\", \"Topic5\", \"Topic5\", \"Topic5\", \"Topic5\", \"Topic5\", \"Topic5\", \"Topic5\", \"Topic5\", \"Topic6\", \"Topic6\", \"Topic6\", \"Topic6\", \"Topic6\", \"Topic6\", \"Topic6\", \"Topic6\", \"Topic6\", \"Topic6\", \"Topic6\", \"Topic6\", \"Topic6\", \"Topic6\", \"Topic6\", \"Topic6\", \"Topic6\", \"Topic6\", \"Topic6\", \"Topic6\", \"Topic6\", \"Topic6\", \"Topic6\", \"Topic6\", \"Topic6\", \"Topic6\", \"Topic6\", \"Topic6\", \"Topic6\", \"Topic6\", \"Topic6\", \"Topic6\", \"Topic6\", \"Topic6\", \"Topic6\", \"Topic6\", \"Topic6\", \"Topic6\", \"Topic6\", \"Topic6\", \"Topic6\", \"Topic6\", \"Topic6\", \"Topic6\", \"Topic6\", \"Topic6\", \"Topic6\", \"Topic6\", \"Topic6\", \"Topic6\", \"Topic6\", \"Topic6\", \"Topic6\", \"Topic6\", \"Topic6\", \"Topic6\", \"Topic6\", \"Topic6\", \"Topic6\", \"Topic6\", \"Topic6\", \"Topic6\", \"Topic6\", \"Topic6\", \"Topic6\", \"Topic6\", \"Topic6\", \"Topic6\", \"Topic6\", \"Topic6\", \"Topic6\", \"Topic6\", \"Topic6\", \"Topic6\", \"Topic7\", \"Topic7\", \"Topic7\", \"Topic7\", \"Topic7\", \"Topic7\", \"Topic7\", \"Topic7\", \"Topic7\", \"Topic7\", \"Topic7\", \"Topic7\", \"Topic7\", \"Topic7\", \"Topic7\", \"Topic7\", \"Topic7\", \"Topic7\", \"Topic7\", \"Topic7\", \"Topic7\", \"Topic7\", \"Topic7\", \"Topic7\", \"Topic7\", \"Topic7\", \"Topic7\", \"Topic7\", \"Topic7\", \"Topic7\", \"Topic7\", \"Topic7\", \"Topic7\", \"Topic7\", \"Topic7\", \"Topic7\", \"Topic7\", \"Topic7\", \"Topic7\", \"Topic7\", \"Topic7\", \"Topic7\", \"Topic7\", \"Topic7\", \"Topic7\", \"Topic7\", \"Topic7\", \"Topic7\", \"Topic7\", \"Topic7\", \"Topic7\", \"Topic7\", \"Topic7\", \"Topic7\", \"Topic7\", \"Topic7\", \"Topic7\", \"Topic7\", \"Topic7\", \"Topic8\", \"Topic8\", \"Topic8\", \"Topic8\", \"Topic8\", \"Topic8\", \"Topic8\", \"Topic8\", \"Topic8\", \"Topic8\", \"Topic8\", \"Topic8\", \"Topic8\", \"Topic8\", \"Topic8\", \"Topic8\", \"Topic8\", \"Topic8\", \"Topic8\", \"Topic8\", \"Topic8\", \"Topic8\", \"Topic8\", \"Topic8\", \"Topic8\", \"Topic8\", \"Topic8\", \"Topic8\", \"Topic8\", \"Topic8\", \"Topic8\", \"Topic8\", \"Topic8\", \"Topic8\", \"Topic8\", \"Topic8\", \"Topic8\", \"Topic8\", \"Topic8\", \"Topic8\", \"Topic8\", \"Topic8\", \"Topic8\", \"Topic8\", \"Topic8\", \"Topic8\", \"Topic8\", \"Topic8\", \"Topic8\", \"Topic8\", \"Topic8\", \"Topic8\", \"Topic8\", \"Topic8\", \"Topic8\", \"Topic8\", \"Topic8\", \"Topic8\", \"Topic8\", \"Topic8\", \"Topic8\", \"Topic8\", \"Topic8\", \"Topic8\", \"Topic8\", \"Topic8\", \"Topic8\", \"Topic8\", \"Topic8\", \"Topic8\", \"Topic8\", \"Topic8\", \"Topic8\", \"Topic8\", \"Topic9\", \"Topic9\", \"Topic9\", \"Topic9\", \"Topic9\", \"Topic9\", \"Topic9\", \"Topic9\", \"Topic9\", \"Topic9\", \"Topic9\", \"Topic9\", \"Topic9\", \"Topic9\", \"Topic9\", \"Topic9\", \"Topic9\", \"Topic9\", \"Topic9\", \"Topic9\", \"Topic9\", \"Topic9\", \"Topic9\", \"Topic9\", \"Topic9\", \"Topic9\", \"Topic9\", \"Topic9\", \"Topic9\", \"Topic9\", \"Topic9\", \"Topic9\", \"Topic9\", \"Topic9\", \"Topic9\", \"Topic9\", \"Topic9\", \"Topic9\", \"Topic9\", \"Topic9\", \"Topic9\", \"Topic9\", \"Topic9\", \"Topic9\", \"Topic9\", \"Topic9\", \"Topic9\", \"Topic9\", \"Topic9\", \"Topic9\", \"Topic9\", \"Topic9\", \"Topic9\", \"Topic9\", \"Topic9\", \"Topic9\", \"Topic9\", \"Topic9\", \"Topic9\", \"Topic9\", \"Topic9\", \"Topic9\", \"Topic9\", \"Topic9\", \"Topic9\", \"Topic9\", \"Topic9\", \"Topic9\", \"Topic9\", \"Topic9\", \"Topic9\", \"Topic9\", \"Topic9\", \"Topic9\", \"Topic9\", \"Topic9\", \"Topic9\", \"Topic9\", \"Topic9\", \"Topic9\", \"Topic10\", \"Topic10\", \"Topic10\", \"Topic10\", \"Topic10\", \"Topic10\", \"Topic10\", \"Topic10\", \"Topic10\", \"Topic10\", \"Topic10\", \"Topic10\", \"Topic10\", \"Topic10\", \"Topic10\", \"Topic10\", \"Topic10\", \"Topic10\", \"Topic10\", \"Topic10\", \"Topic10\", \"Topic10\", \"Topic10\", \"Topic10\", \"Topic10\", \"Topic10\", \"Topic10\", \"Topic10\", \"Topic10\", \"Topic10\", \"Topic10\", \"Topic10\", \"Topic10\", \"Topic10\", \"Topic10\", \"Topic10\", \"Topic10\", \"Topic10\", \"Topic10\", \"Topic10\", \"Topic10\", \"Topic10\", \"Topic10\", \"Topic10\", \"Topic10\", \"Topic10\", \"Topic10\", \"Topic10\", \"Topic10\", \"Topic10\", \"Topic10\", \"Topic10\", \"Topic11\", \"Topic11\", \"Topic11\", \"Topic11\", \"Topic11\", \"Topic11\", \"Topic11\", \"Topic11\", \"Topic11\", \"Topic11\", \"Topic11\", \"Topic11\", \"Topic11\", \"Topic11\", \"Topic11\", \"Topic11\", \"Topic11\", \"Topic11\", \"Topic11\", \"Topic11\", \"Topic11\", \"Topic11\", \"Topic11\", \"Topic11\", \"Topic11\", \"Topic11\", \"Topic11\", \"Topic11\", \"Topic11\", \"Topic11\", \"Topic11\", \"Topic11\", \"Topic11\", \"Topic11\", \"Topic11\", \"Topic11\", \"Topic11\", \"Topic11\", \"Topic11\", \"Topic11\", \"Topic11\", \"Topic11\", \"Topic11\", \"Topic11\", \"Topic11\", \"Topic11\", \"Topic11\", \"Topic11\", \"Topic11\", \"Topic11\", \"Topic11\", \"Topic11\", \"Topic11\", \"Topic11\", \"Topic11\", \"Topic11\", \"Topic11\", \"Topic11\", \"Topic11\", \"Topic11\", \"Topic11\", \"Topic11\", \"Topic11\", \"Topic12\", \"Topic12\", \"Topic12\", \"Topic12\", \"Topic12\", \"Topic12\", \"Topic12\", \"Topic12\", \"Topic12\", \"Topic12\", \"Topic12\", \"Topic12\", \"Topic12\", \"Topic12\", \"Topic12\", \"Topic12\", \"Topic12\", \"Topic12\", \"Topic12\", \"Topic12\", \"Topic12\", \"Topic12\", \"Topic12\", \"Topic12\", \"Topic12\", \"Topic12\", \"Topic12\", \"Topic12\", \"Topic12\", \"Topic12\", \"Topic12\", \"Topic12\", \"Topic12\", \"Topic12\", \"Topic12\", \"Topic12\", \"Topic12\", \"Topic12\", \"Topic12\", \"Topic12\", \"Topic12\", \"Topic12\", \"Topic12\", \"Topic12\", \"Topic12\", \"Topic12\", \"Topic12\", \"Topic12\", \"Topic12\", \"Topic13\", \"Topic13\", \"Topic13\", \"Topic13\", \"Topic13\", \"Topic13\", \"Topic13\", \"Topic13\", \"Topic13\", \"Topic13\", \"Topic13\", \"Topic13\", \"Topic13\", \"Topic13\", \"Topic13\", \"Topic13\", \"Topic13\", \"Topic13\", \"Topic13\", \"Topic13\", \"Topic13\", \"Topic13\", \"Topic13\", \"Topic13\", \"Topic13\", \"Topic13\", \"Topic13\", \"Topic13\", \"Topic13\", \"Topic13\", \"Topic13\", \"Topic13\", \"Topic13\", \"Topic13\", \"Topic13\", \"Topic13\", \"Topic13\", \"Topic13\", \"Topic13\", \"Topic13\", \"Topic13\", \"Topic13\", \"Topic13\", \"Topic13\", \"Topic13\", \"Topic13\", \"Topic13\", \"Topic13\", \"Topic13\", \"Topic13\", \"Topic13\", \"Topic13\", \"Topic13\", \"Topic13\", \"Topic13\", \"Topic13\", \"Topic13\", \"Topic13\", \"Topic13\", \"Topic13\", \"Topic13\", \"Topic13\", \"Topic13\", \"Topic13\", \"Topic13\", \"Topic14\", \"Topic14\", \"Topic14\", \"Topic14\", \"Topic14\", \"Topic14\", \"Topic14\", \"Topic14\", \"Topic14\", \"Topic14\", \"Topic14\", \"Topic14\", \"Topic14\", \"Topic14\", \"Topic14\", \"Topic14\", \"Topic14\", \"Topic14\", \"Topic14\", \"Topic14\", \"Topic14\", \"Topic14\", \"Topic14\", \"Topic14\", \"Topic14\", \"Topic14\", \"Topic14\", \"Topic14\", \"Topic14\", \"Topic14\", \"Topic14\", \"Topic14\", \"Topic14\", \"Topic14\", \"Topic14\", \"Topic14\", \"Topic14\", \"Topic14\", \"Topic14\", \"Topic14\", \"Topic14\", \"Topic14\", \"Topic14\", \"Topic14\", \"Topic14\", \"Topic14\", \"Topic14\", \"Topic14\", \"Topic14\", \"Topic14\", \"Topic14\", \"Topic14\", \"Topic14\", \"Topic14\", \"Topic14\", \"Topic14\", \"Topic14\", \"Topic14\", \"Topic14\", \"Topic14\", \"Topic14\", \"Topic14\", \"Topic14\", \"Topic14\", \"Topic15\", \"Topic15\", \"Topic15\", \"Topic15\", \"Topic15\", \"Topic15\", \"Topic15\", \"Topic15\", \"Topic15\", \"Topic15\", \"Topic15\", \"Topic15\", \"Topic15\", \"Topic15\", \"Topic15\", \"Topic15\", \"Topic15\", \"Topic15\", \"Topic15\", \"Topic15\", \"Topic15\", \"Topic15\", \"Topic15\", \"Topic15\", \"Topic15\", \"Topic15\", \"Topic15\", \"Topic15\", \"Topic15\", \"Topic15\", \"Topic15\", \"Topic15\", \"Topic15\", \"Topic15\", \"Topic15\", \"Topic15\", \"Topic15\", \"Topic15\", \"Topic15\", \"Topic15\", \"Topic15\", \"Topic15\", \"Topic15\", \"Topic15\", \"Topic15\", \"Topic15\", \"Topic15\", \"Topic15\", \"Topic15\", \"Topic15\", \"Topic15\", \"Topic15\", \"Topic15\", \"Topic16\", \"Topic16\", \"Topic16\", \"Topic16\", \"Topic16\", \"Topic16\", \"Topic16\", \"Topic16\", \"Topic16\", \"Topic16\", \"Topic16\", \"Topic16\", \"Topic16\", \"Topic16\", \"Topic16\", \"Topic16\", \"Topic16\", \"Topic16\", \"Topic16\", \"Topic16\", \"Topic16\", \"Topic16\", \"Topic16\", \"Topic16\", \"Topic16\", \"Topic16\", \"Topic16\", \"Topic16\", \"Topic16\", \"Topic16\", \"Topic16\", \"Topic16\", \"Topic16\", \"Topic16\", \"Topic16\", \"Topic16\", \"Topic16\", \"Topic16\", \"Topic16\", \"Topic16\", \"Topic16\", \"Topic16\", \"Topic16\", \"Topic16\", \"Topic16\", \"Topic16\", \"Topic16\", \"Topic16\", \"Topic16\", \"Topic16\", \"Topic16\", \"Topic16\", \"Topic16\", \"Topic16\", \"Topic16\", \"Topic17\", \"Topic17\", \"Topic17\", \"Topic17\", \"Topic17\", \"Topic17\", \"Topic17\", \"Topic17\", \"Topic17\", \"Topic17\", \"Topic17\", \"Topic17\", \"Topic17\", \"Topic17\", \"Topic17\", \"Topic17\", \"Topic17\", \"Topic17\", \"Topic17\", \"Topic17\", \"Topic17\", \"Topic17\", \"Topic17\", \"Topic17\", \"Topic17\", \"Topic17\", \"Topic17\", \"Topic17\", \"Topic17\", \"Topic17\", \"Topic17\", \"Topic17\", \"Topic17\", \"Topic17\", \"Topic17\", \"Topic17\", \"Topic17\", \"Topic17\", \"Topic17\", \"Topic17\", \"Topic17\", \"Topic17\", \"Topic17\", \"Topic17\", \"Topic17\", \"Topic17\", \"Topic17\", \"Topic17\", \"Topic17\", \"Topic17\", \"Topic17\", \"Topic17\", \"Topic17\", \"Topic17\", \"Topic17\", \"Topic17\", \"Topic17\", \"Topic17\", \"Topic17\", \"Topic17\", \"Topic17\", \"Topic17\", \"Topic17\", \"Topic18\", \"Topic18\", \"Topic18\", \"Topic18\", \"Topic18\", \"Topic18\", \"Topic18\", \"Topic18\", \"Topic18\", \"Topic18\", \"Topic18\", \"Topic18\", \"Topic18\", \"Topic18\", \"Topic18\", \"Topic18\", \"Topic18\", \"Topic18\", \"Topic18\", \"Topic18\", \"Topic18\", \"Topic18\", \"Topic18\", \"Topic18\", \"Topic18\", \"Topic18\", \"Topic18\", \"Topic18\", \"Topic18\", \"Topic18\", \"Topic18\", \"Topic18\", \"Topic18\", \"Topic18\", \"Topic18\", \"Topic18\", \"Topic18\", \"Topic18\", \"Topic18\", \"Topic18\", \"Topic18\", \"Topic18\", \"Topic18\", \"Topic18\", \"Topic18\", \"Topic18\", \"Topic18\", \"Topic18\", \"Topic18\", \"Topic18\", \"Topic18\", \"Topic18\", \"Topic18\", \"Topic18\", \"Topic18\", \"Topic18\", \"Topic18\", \"Topic18\", \"Topic18\", \"Topic18\", \"Topic18\", \"Topic18\", \"Topic18\", \"Topic18\", \"Topic18\", \"Topic18\", \"Topic19\", \"Topic19\", \"Topic19\", \"Topic19\", \"Topic19\", \"Topic19\", \"Topic19\", \"Topic19\", \"Topic19\", \"Topic19\", \"Topic19\", \"Topic19\", \"Topic19\", \"Topic19\", \"Topic19\", \"Topic19\", \"Topic19\", \"Topic19\", \"Topic19\", \"Topic19\", \"Topic19\", \"Topic19\", \"Topic19\", \"Topic19\", \"Topic19\", \"Topic19\", \"Topic19\", \"Topic19\", \"Topic19\", \"Topic19\", \"Topic19\", \"Topic19\", \"Topic19\", \"Topic19\", \"Topic19\", \"Topic19\", \"Topic19\", \"Topic19\", \"Topic19\", \"Topic19\", \"Topic19\", \"Topic19\", \"Topic19\", \"Topic19\", \"Topic19\", \"Topic19\", \"Topic19\", \"Topic19\", \"Topic19\", \"Topic19\", \"Topic19\", \"Topic19\", \"Topic19\", \"Topic19\", \"Topic20\", \"Topic20\", \"Topic20\", \"Topic20\", \"Topic20\", \"Topic20\", \"Topic20\", \"Topic20\", \"Topic20\", \"Topic20\", \"Topic20\", \"Topic20\", \"Topic20\", \"Topic20\", \"Topic20\", \"Topic20\", \"Topic20\", \"Topic20\", \"Topic20\", \"Topic20\", \"Topic20\", \"Topic20\", \"Topic20\", \"Topic20\", \"Topic20\", \"Topic20\", \"Topic20\", \"Topic20\", \"Topic20\", \"Topic20\", \"Topic20\", \"Topic20\", \"Topic20\", \"Topic20\", \"Topic20\", \"Topic20\", \"Topic20\", \"Topic20\", \"Topic20\", \"Topic20\", \"Topic20\", \"Topic20\", \"Topic20\", \"Topic20\", \"Topic20\", \"Topic20\", \"Topic20\", \"Topic20\", \"Topic20\", \"Topic20\", \"Topic20\", \"Topic20\", \"Topic20\", \"Topic20\", \"Topic20\"], \"Freq\": [501.0, 542.0, 338.0, 286.0, 228.0, 429.0, 334.0, 416.0, 728.0, 481.0, 199.0, 262.0, 281.0, 384.0, 670.0, 181.0, 475.0, 237.0, 339.0, 211.0, 500.0, 374.0, 212.0, 364.0, 423.0, 403.0, 257.0, 405.0, 203.0, 213.0, 208.93600463867188, 237.46417236328125, 165.9890899658203, 160.87420654296875, 93.94468688964844, 6.1565842628479, 156.42291259765625, 138.65283203125, 136.3847198486328, 83.98931121826172, 288.2275390625, 420.671142578125, 4.8332977294921875, 180.81422424316406, 136.4630889892578, 136.90760803222656, 429.1425476074219, 211.61398315429688, 50.45337677001953, 93.43124389648438, 199.6624755859375, 135.8441162109375, 317.7612609863281, 2.9916045665740967, 85.87468719482422, 62.7359619140625, 85.229736328125, 184.68304443359375, 199.10011291503906, 11.349410057067871, 190.71237182617188, 197.53466796875, 327.9282531738281, 258.9661865234375, 154.87001037597656, 251.7721710205078, 189.83172607421875, 199.47312927246094, 193.52015686035156, 204.32005310058594, 156.40115356445312, 136.34629821777344, 75.91800689697266, 155.64442443847656, 176.3718719482422, 40.628273010253906, 14.738292694091797, 6.26005220413208, 27.631561279296875, 7.605161666870117, 93.1676254272461, 174.15968322753906, 85.992919921875, 36.91615295410156, 68.55130767822266, 47.28007888793945, 4.4626383781433105, 4.337309837341309, 82.84282684326172, 57.866573333740234, 107.6871109008789, 16.991579055786133, 3.7064454555511475, 17.92816925048828, 18.512527465820312, 3.0883710384368896, 64.47161102294922, 226.82054138183594, 56.95880126953125, 68.83821105957031, 65.97148132324219, 2.5569956302642822, 92.13438415527344, 293.0084533691406, 139.43130493164062, 95.29325866699219, 205.29336547851562, 246.0477294921875, 369.8239440917969, 155.3402862548828, 215.26370239257812, 32.95892333984375, 92.4511947631836, 77.73147583007812, 206.31591796875, 164.54364013671875, 124.81768798828125, 82.74195098876953, 83.5821533203125, 121.98954772949219, 103.14775085449219, 93.7032699584961, 89.44097900390625, 85.42278289794922, 9.821155548095703, 53.598567962646484, 8.151517868041992, 36.69523620605469, 10.616778373718262, 92.19640350341797, 5.952279090881348, 58.57722091674805, 5.355572700500488, 5.350587368011475, 102.65177154541016, 42.95337677001953, 4.6240363121032715, 49.64873123168945, 54.29604721069336, 55.987892150878906, 54.26616668701172, 100.22962188720703, 3.2066049575805664, 5.176375865936279, 42.54032897949219, 117.6865463256836, 50.49774932861328, 2.702446699142456, 2.703307628631592, 2.7004306316375732, 2.949502468109131, 2.6717498302459717, 195.19558715820312, 39.753841400146484, 291.5587463378906, 33.4515266418457, 60.485477447509766, 47.8240966796875, 44.77915954589844, 275.23199462890625, 74.5038070678711, 60.27001190185547, 62.82930374145508, 43.0478515625, 85.86334991455078, 117.42560577392578, 35.56576156616211, 92.0844955444336, 51.27226638793945, 75.7733154296875, 57.13325500488281, 72.30023956298828, 93.24578094482422, 108.50881958007812, 105.83329772949219, 93.35142517089844, 84.61802673339844, 83.460205078125, 95.94175720214844, 81.5019302368164, 96.37316131591797, 76.54619598388672, 102.74647521972656, 92.779052734375, 75.16600036621094, 77.98017120361328, 67.37970733642578, 68.68357849121094, 65.67694854736328, 67.6500473022461, 66.4153823852539, 47.813392639160156, 37.63905334472656, 33.039859771728516, 32.959632873535156, 89.24092864990234, 22.853736877441406, 74.46240234375, 23.249141693115234, 16.947032928466797, 17.366506576538086, 36.32997131347656, 73.01929473876953, 11.732624053955078, 49.87419509887695, 11.467509269714355, 75.17674255371094, 81.39107513427734, 8.324626922607422, 6.971607685089111, 6.9497456550598145, 37.55037307739258, 28.982328414916992, 103.8365249633789, 68.68093872070312, 31.68452262878418, 9.522390365600586, 5.610872268676758, 7.388096809387207, 6.077533721923828, 17.929943084716797, 9.407219886779785, 110.86521911621094, 37.51389694213867, 123.86651611328125, 33.10132598876953, 73.48119354248047, 34.43867492675781, 61.87516784667969, 167.2584228515625, 110.33549499511719, 122.20148468017578, 157.38038635253906, 104.23344421386719, 104.57144165039062, 36.00240707397461, 56.164058685302734, 73.01219940185547, 78.19242095947266, 52.72915267944336, 68.48467254638672, 54.71823501586914, 53.17216491699219, 109.7774887084961, 61.038516998291016, 59.767425537109375, 75.78449249267578, 71.54131317138672, 65.06938171386719, 64.20124053955078, 56.40169143676758, 59.332984924316406, 58.98017501831055, 118.99351501464844, 40.240325927734375, 44.36629104614258, 54.70757293701172, 18.8493595123291, 21.62938690185547, 22.744007110595703, 53.42604064941406, 9.594371795654297, 35.32913589477539, 31.792652130126953, 41.4396858215332, 6.865302085876465, 6.480542182922363, 13.73862075805664, 76.83203887939453, 87.5564956665039, 51.64241027832031, 80.59220123291016, 60.16788864135742, 7.373952865600586, 27.403093338012695, 39.742942810058594, 4.240368366241455, 4.2371015548706055, 18.090045928955078, 3.954777717590332, 59.18795394897461, 54.78203582763672, 2.901540756225586, 69.59009552001953, 182.0597686767578, 57.095054626464844, 81.962158203125, 60.82633972167969, 56.63718032836914, 29.360763549804688, 82.8114013671875, 84.19049072265625, 58.303524017333984, 52.676979064941406, 110.55398559570312, 104.29344940185547, 112.70298767089844, 103.89039611816406, 88.10431671142578, 70.515380859375, 68.6952133178711, 98.53358459472656, 88.09010314941406, 85.99425506591797, 87.70818328857422, 70.69424438476562, 100.98458862304688, 104.56050109863281, 60.385929107666016, 70.02584075927734, 63.113380432128906, 58.33075714111328, 24.65379524230957, 14.760896682739258, 11.309000968933105, 10.78856372833252, 9.488329887390137, 11.481118202209473, 7.446742534637451, 21.014741897583008, 18.05093002319336, 12.66561222076416, 12.007287979125977, 19.383878707885742, 8.209698677062988, 21.397689819335938, 5.822648048400879, 23.121706008911133, 5.3040385246276855, 5.304111003875732, 23.50137710571289, 5.2759599685668945, 10.792516708374023, 4.765568256378174, 5.009974956512451, 21.571727752685547, 4.755892753601074, 7.533427715301514, 4.230807781219482, 4.015869617462158, 4.015007972717285, 3.9878828525543213, 20.90247917175293, 31.226627349853516, 15.709738731384277, 21.436063766479492, 32.59223937988281, 23.322582244873047, 14.1334867477417, 70.93047332763672, 26.37624740600586, 13.937495231628418, 46.02836990356445, 65.07162475585938, 25.456655502319336, 22.413410186767578, 54.08493423461914, 127.81843566894531, 31.940208435058594, 131.60476684570312, 122.83566284179688, 41.98832321166992, 139.06610107421875, 44.794288635253906, 104.37210845947266, 37.933143615722656, 86.15245056152344, 116.7845687866211, 108.12710571289062, 65.83783721923828, 84.10453796386719, 48.624786376953125, 96.51402282714844, 77.59794616699219, 51.95125961303711, 36.15873336791992, 32.38884735107422, 61.241756439208984, 55.88309097290039, 58.649696350097656, 43.473907470703125, 51.09343338012695, 38.716514587402344, 45.833702087402344, 38.32436752319336, 37.78628158569336, 12.461847305297852, 16.253402709960938, 9.057012557983398, 303.2601623535156, 63.80817413330078, 6.616849422454834, 218.89605712890625, 11.466287612915039, 280.0972595214844, 43.56983184814453, 106.8838882446289, 26.516447067260742, 19.4446964263916, 23.80478858947754, 162.7725067138672, 23.304105758666992, 89.81005859375, 2.8410608768463135, 19.659257888793945, 18.621610641479492, 10.659586906433105, 10.681036949157715, 14.161298751831055, 35.009254455566406, 63.8354606628418, 32.68360137939453, 7.391947269439697, 30.00777816772461, 45.26013946533203, 4.383619785308838, 41.23059844970703, 49.205631256103516, 46.377960205078125, 76.09392547607422, 29.55668830871582, 55.137306213378906, 63.65019226074219, 113.20182037353516, 30.351789474487305, 95.23457336425781, 55.40327453613281, 67.75959777832031, 70.31977081298828, 62.55845642089844, 73.87541198730469, 95.963134765625, 72.18199920654297, 49.66505813598633, 69.8679428100586, 76.6711654663086, 62.53768539428711, 71.72852325439453, 62.10958480834961, 66.71269989013672, 63.53043746948242, 59.01752853393555, 56.21780776977539, 58.0095329284668, 56.000946044921875, 15.378292083740234, 11.923407554626465, 11.725207328796387, 11.520173072814941, 11.216262817382812, 17.07303237915039, 17.436538696289062, 9.971528053283691, 9.641757011413574, 8.72903823852539, 7.962437152862549, 7.045346736907959, 9.883366584777832, 6.7414398193359375, 12.24880599975586, 32.719173431396484, 32.30016326904297, 8.400354385375977, 6.0324578285217285, 17.987539291381836, 9.136285781860352, 6.012385368347168, 9.011334419250488, 11.504922866821289, 8.37402057647705, 8.592674255371094, 5.22229528427124, 4.774740219116211, 7.095287799835205, 19.883495330810547, 37.012725830078125, 37.118778228759766, 16.777986526489258, 11.192510604858398, 18.363069534301758, 26.638689041137695, 33.71772766113281, 14.380836486816406, 11.61959457397461, 32.06330871582031, 15.71281909942627, 18.731342315673828, 86.74029541015625, 94.4166030883789, 33.634437561035156, 32.0201301574707, 38.738426208496094, 49.3020133972168, 18.03351593017578, 26.212736129760742, 44.19847869873047, 54.79438781738281, 31.703725814819336, 55.046627044677734, 38.37839889526367, 32.35068893432617, 60.92535400390625, 55.903099060058594, 37.1722297668457, 44.06061935424805, 32.44654083251953, 44.12508010864258, 48.185157775878906, 42.572017669677734, 32.44400405883789, 39.37598419189453, 40.69970703125, 41.02663040161133, 37.038597106933594, 37.892234802246094, 34.41337585449219, 34.42338943481445, 34.26839065551758, 33.34115219116211, 40.598812103271484, 12.499054908752441, 10.506708145141602, 9.277101516723633, 7.147390365600586, 5.988275051116943, 5.983465671539307, 5.43917989730835, 4.840303897857666, 5.135560035705566, 7.564838886260986, 4.341034412384033, 4.340845584869385, 4.331545352935791, 4.321484565734863, 4.295290946960449, 10.420373916625977, 8.44300365447998, 3.564443826675415, 3.5532119274139404, 14.94908332824707, 10.412665367126465, 5.154812812805176, 6.525379657745361, 28.983186721801758, 3.014370918273926, 3.0129964351654053, 3.0032432079315186, 3.000591278076172, 10.285642623901367, 23.204269409179688, 35.57944869995117, 34.776824951171875, 8.95544147491455, 14.084670066833496, 13.980358123779297, 23.81251335144043, 25.53802490234375, 10.005093574523926, 67.66683959960938, 7.805630207061768, 21.985952377319336, 23.78376579284668, 52.097450256347656, 13.98034381866455, 32.259742736816406, 112.95357513427734, 73.72953033447266, 16.598430633544922, 21.346908569335938, 49.46171188354492, 62.76995086669922, 41.39802932739258, 74.97666931152344, 29.517873764038086, 45.702178955078125, 39.85868835449219, 33.36530685424805, 46.62812042236328, 77.06233215332031, 39.29560470581055, 55.42460250854492, 44.51634216308594, 89.61058807373047, 71.04781341552734, 33.16592788696289, 55.46448516845703, 42.219173431396484, 49.925010681152344, 47.12733840942383, 37.90577697753906, 40.907325744628906, 38.398277282714844, 43.51787567138672, 44.53778076171875, 38.83071517944336, 40.19783020019531, 39.459774017333984, 38.883304595947266, 38.47292709350586, 24.849891662597656, 8.55546760559082, 7.089151382446289, 6.634308338165283, 5.319250583648682, 4.433055400848389, 4.462283611297607, 13.258345603942871, 9.686662673950195, 3.262377977371216, 177.2884063720703, 2.6822404861450195, 2.682239055633545, 10.545586585998535, 162.41781616210938, 55.26060485839844, 99.5690689086914, 88.94458770751953, 60.31350326538086, 53.28318405151367, 10.428994178771973, 25.781448364257812, 27.07342529296875, 175.04234313964844, 134.8374481201172, 19.654640197753906, 147.35675048828125, 28.994583129882812, 8.273064613342285, 2.0784754753112793, 148.0537872314453, 67.12681579589844, 154.35171508789062, 69.14083862304688, 229.13137817382812, 166.5068359375, 82.00555419921875, 56.424686431884766, 67.14715576171875, 142.4371795654297, 260.8232116699219, 81.77561950683594, 55.78679275512695, 132.80224609375, 95.5119857788086, 89.83078002929688, 42.79529571533203, 58.522552490234375, 53.070255279541016, 48.22144317626953, 62.29268264770508, 68.67212677001953, 18.93716812133789, 14.517407417297363, 37.708274841308594, 44.8735466003418, 26.654022216796875, 10.108569145202637, 9.613378524780273, 9.336109161376953, 9.126656532287598, 18.643516540527344, 6.8596110343933105, 6.426449775695801, 6.420642375946045, 22.422555923461914, 6.0347065925598145, 6.023466110229492, 74.24713134765625, 20.384132385253906, 8.965399742126465, 5.184037685394287, 12.219954490661621, 7.370562553405762, 39.50593566894531, 4.833930015563965, 5.134670257568359, 5.303514003753662, 4.647687911987305, 19.608673095703125, 4.5920257568359375, 4.337283134460449, 166.7156982421875, 32.13582992553711, 189.3107147216797, 170.1223602294922, 89.58649444580078, 109.16669464111328, 87.39187622070312, 111.0081787109375, 84.50796508789062, 55.68375015258789, 85.91851806640625, 56.937965393066406, 114.64520263671875, 20.991979598999023, 78.88158416748047, 156.8765869140625, 51.85261535644531, 53.1657600402832, 29.58881187438965, 98.79994201660156, 72.36100006103516, 62.13945770263672, 63.36677169799805, 74.03854370117188, 30.763511657714844, 57.728824615478516, 44.976097106933594, 49.97216796875, 35.478233337402344, 48.66801834106445, 45.123741149902344, 47.38973617553711, 39.61699676513672, 28.214784622192383, 68.38824462890625, 30.52402687072754, 5.610624313354492, 65.67980194091797, 135.27767944335938, 61.1239128112793, 93.07192993164062, 53.78737258911133, 2.5657763481140137, 2.5553627014160156, 2.4362504482269287, 87.1119384765625, 81.84568786621094, 14.95466136932373, 30.06072425842285, 99.12035369873047, 6.2777276039123535, 59.93998718261719, 2.6510727405548096, 82.58366394042969, 56.25363540649414, 114.23884582519531, 1.1943113803863525, 100.22270965576172, 78.44406127929688, 10.296907424926758, 31.897602081298828, 57.22050857543945, 3.4809954166412354, 72.02099609375, 175.25079345703125, 71.99901580810547, 98.3621826171875, 79.91323852539062, 114.74869537353516, 112.98251342773438, 52.080039978027344, 40.12852478027344, 68.79755401611328, 87.5079345703125, 66.40272521972656, 94.58856201171875, 85.61148071289062, 61.363914489746094, 85.30091094970703, 65.22286224365234, 74.20333099365234, 62.55278778076172, 16.804750442504883, 10.967748641967773, 7.365508556365967, 4.537583351135254, 4.334571361541748, 4.329565525054932, 13.057907104492188, 66.8048324584961, 51.80586242675781, 3.315197229385376, 7.670531272888184, 4.811468124389648, 2.803140163421631, 2.801560163497925, 2.799550771713257, 2.7869911193847656, 2.776289224624634, 12.16838550567627, 2.900754690170288, 3.9069669246673584, 2.293797254562378, 2.291792631149292, 2.266578197479248, 25.94457244873047, 27.09881019592285, 30.27308464050293, 12.229926109313965, 9.787673950195312, 3.3079659938812256, 30.978960037231445, 67.86798858642578, 10.416932106018066, 20.839210510253906, 20.84773826599121, 60.24866485595703, 25.622034072875977, 33.214019775390625, 22.76497459411621, 58.70975875854492, 61.49992370605469, 8.195706367492676, 48.931671142578125, 25.361433029174805, 51.816612243652344, 29.90306854248047, 143.19412231445312, 42.14199447631836, 54.58994674682617, 34.07475662231445, 18.51519203186035, 42.030704498291016, 34.45370864868164, 34.597564697265625, 41.12835693359375, 47.71163558959961, 26.517427444458008, 53.39868927001953, 33.646392822265625, 37.00506591796875, 29.153057098388672, 29.391990661621094, 29.45808219909668, 28.345870971679688, 28.802162170410156, 28.879261016845703, 23.2261905670166, 15.816716194152832, 22.167509078979492, 14.921380996704102, 21.019073486328125, 13.798077583312988, 17.36507797241211, 9.418055534362793, 8.128402709960938, 8.127771377563477, 21.716157913208008, 7.412571907043457, 19.24260139465332, 6.968095302581787, 5.928610324859619, 33.479286193847656, 20.271726608276367, 21.074493408203125, 4.728262424468994, 4.235378265380859, 4.841521739959717, 3.736111640930176, 20.282512664794922, 12.01824951171875, 3.2361717224121094, 15.223808288574219, 3.475050449371338, 6.916584014892578, 16.961204528808594, 23.320955276489258, 20.855506896972656, 10.596759796142578, 9.350004196166992, 38.33428955078125, 57.72249984741211, 41.95979690551758, 39.64979553222656, 39.34189224243164, 27.915790557861328, 54.761077880859375, 48.43883514404297, 32.90995407104492, 46.084754943847656, 33.63854217529297, 31.316774368286133, 68.02799224853516, 61.67896270751953, 52.51026153564453, 33.96089553833008, 42.299495697021484, 62.88871383666992, 38.21706771850586, 69.7164077758789, 45.87241744995117, 60.9094123840332, 55.47510528564453, 32.70964050292969, 40.355533599853516, 48.56548309326172, 36.73695755004883, 36.494712829589844, 32.666385650634766, 37.23908233642578, 36.20223617553711, 159.69039916992188, 64.33824920654297, 25.949445724487305, 5.64192533493042, 5.400001049041748, 165.97891235351562, 49.6428108215332, 37.33245849609375, 4.118001461029053, 12.75903034210205, 182.92965698242188, 7.739562034606934, 3.4559850692749023, 3.4373135566711426, 111.86038970947266, 2.8548243045806885, 2.844529628753662, 2.6631157398223877, 156.03765869140625, 8.136959075927734, 33.20045471191406, 36.62449645996094, 149.76223754882812, 3.478522539138794, 46.194061279296875, 1.9421800374984741, 192.538818359375, 49.03478240966797, 4.3113226890563965, 160.09373474121094, 79.99284362792969, 117.1501693725586, 84.16449737548828, 89.02580261230469, 24.87068748474121, 88.49785614013672, 125.95060729980469, 39.10464096069336, 84.38188171386719, 25.910415649414062, 70.30718231201172, 34.806419372558594, 37.59128952026367, 67.0232925415039, 41.06470489501953, 36.71566390991211, 63.1510009765625, 66.81983947753906, 45.70342254638672, 47.210174560546875, 48.84487533569336, 43.998680114746094, 39.894989013671875, 7.336941719055176, 6.252509117126465, 53.43107986450195, 6.136992931365967, 5.787289142608643, 3.278071403503418, 10.503016471862793, 2.6709163188934326, 2.4277219772338867, 91.4480209350586, 9.365272521972656, 1.8268980979919434, 3.7248823642730713, 5.215490341186523, 41.74858474731445, 73.84454345703125, 9.455913543701172, 21.039743423461914, 1.2390764951705933, 10.270463943481445, 2.640563726425171, 7.714875221252441, 20.533082962036133, 105.8691177368164, 2.113227605819702, 149.4282684326172, 41.92275619506836, 50.55881881713867, 35.23080825805664, 42.547813415527344, 101.4695816040039, 182.50367736816406, 28.186765670776367, 49.7816162109375, 31.5716495513916, 40.038970947265625, 46.32762145996094, 41.36347198486328, 30.35405158996582, 24.960142135620117, 84.4783935546875, 38.43867874145508, 63.920989990234375, 22.82439613342285, 16.576614379882812, 40.8251838684082, 27.145999908447266, 22.689451217651367, 49.44813537597656, 35.638099670410156, 33.53679275512695, 33.15138626098633, 32.37211608886719, 34.907432556152344, 28.72201156616211, 13.578629493713379, 12.961426734924316, 7.667092800140381, 6.560152053833008, 6.0062713623046875, 5.1892924308776855, 4.677094459533691, 4.613242149353027, 17.296215057373047, 6.225509166717529, 3.578749895095825, 3.8339695930480957, 3.5460128784179688, 3.4890499114990234, 2.4618422985076904, 2.2459115982055664, 17.95001792907715, 3.0151259899139404, 15.019064903259277, 8.250473976135254, 2.063835859298706, 1.6892966032028198, 48.53124237060547, 26.085947036743164, 4.557680606842041, 8.971184730529785, 26.414573669433594, 39.052310943603516, 8.181589126586914, 10.776701927185059, 42.452415466308594, 54.51696014404297, 56.72342300415039, 13.181877136230469, 29.9628963470459, 23.821582794189453, 47.42267608642578, 34.001487731933594, 38.914512634277344, 17.786457061767578, 37.230369567871094, 14.609918594360352, 52.85163497924805, 48.59203338623047, 38.18565368652344, 49.78414535522461, 53.303470611572266, 24.156585693359375, 27.501384735107422, 28.399005889892578, 55.76612854003906, 72.15129089355469, 18.1715145111084, 38.201080322265625, 42.885929107666016, 38.368690490722656, 28.959739685058594, 34.31676483154297, 38.56548309326172, 24.416807174682617, 28.330486297607422, 24.73688316345215, 24.513721466064453, 19.32864761352539, 10.032490730285645, 10.18274974822998, 9.533074378967285, 9.453177452087402, 7.357458114624023, 7.097364902496338, 7.507105350494385, 6.116589546203613, 5.244749069213867, 4.881718158721924, 7.9631853103637695, 5.153141498565674, 13.716909408569336, 8.39166259765625, 4.006361961364746, 3.7905771732330322, 6.0841569900512695, 6.749912738800049, 3.396035671234131, 3.3942067623138428, 16.60487937927246, 5.2041707038879395, 13.125077247619629, 3.0204644203186035, 8.113142967224121, 2.7768445014953613, 10.017406463623047, 22.72168731689453, 13.683281898498535, 22.916093826293945, 7.576413154602051, 10.227640151977539, 12.621439933776855, 17.701013565063477, 12.39608383178711, 9.205288887023926, 21.38947296142578, 18.056028366088867, 13.141719818115234, 35.9675178527832, 28.00143051147461, 23.979297637939453, 27.85755157470703, 20.95811653137207, 17.076513290405273, 27.642026901245117, 16.44774627685547, 22.384048461914062, 15.301422119140625, 15.751851081848145, 17.698814392089844, 25.04266357421875, 19.382978439331055, 19.533872604370117, 19.757238388061523, 15.570709228515625, 21.070592880249023, 17.754751205444336, 23.79820442199707, 21.12599754333496, 17.43585777282715, 18.155012130737305, 17.223840713500977, 16.723222732543945, 18.566661834716797, 10.683821678161621, 17.247127532958984, 12.501559257507324, 10.306130409240723, 8.236028671264648, 7.778303623199463, 7.435953140258789, 5.526988506317139, 4.979467868804932, 4.422029495239258, 35.37863540649414, 14.687003135681152, 3.913254976272583, 46.40713882446289, 2.8479599952697754, 2.8463120460510254, 42.167633056640625, 2.508697748184204, 5.066530227661133, 44.85701370239258, 13.425654411315918, 17.15842056274414, 1.7251899242401123, 1.7250468730926514, 10.631338119506836, 1.7013499736785889, 28.066679000854492, 12.831130027770996, 61.10292053222656, 1.6422781944274902, 25.144147872924805, 41.839683532714844, 40.695648193359375, 32.57843017578125, 47.38301086425781, 34.319854736328125, 19.842134475708008, 20.74604606628418, 36.27437973022461, 21.533634185791016, 67.9893569946289, 48.11140823364258, 45.93366622924805, 19.828006744384766, 30.59522247314453, 36.88143539428711, 33.99216842651367, 30.86515998840332, 38.426795959472656, 19.781963348388672, 22.897218704223633, 26.931589126586914, 20.4375057220459, 18.497207641601562, 17.346467971801758, 14.733095169067383, 13.429445266723633, 10.16165828704834, 7.514388084411621, 6.130438327789307, 9.426555633544922, 3.527369976043701, 7.9438157081604, 2.8875906467437744, 2.428143262863159, 2.409066915512085, 2.3984248638153076, 12.87917423248291, 2.162914276123047, 13.39704704284668, 3.6400387287139893, 12.644865036010742, 4.145224571228027, 23.86517333984375, 6.352036952972412, 55.51057815551758, 9.842338562011719, 4.685433864593506, 2.127495765686035, 2.7035105228424072, 1.1289743185043335, 4.8996124267578125, 1.1199455261230469, 7.741389751434326, 17.9942569732666, 30.903820037841797, 6.556074619293213, 6.761914253234863, 20.641324996948242, 30.236021041870117, 14.93317699432373, 8.200258255004883, 5.993655204772949, 20.135786056518555, 15.374635696411133, 18.360382080078125, 13.963262557983398, 7.671054840087891, 14.435809135437012, 13.522042274475098, 9.153730392456055, 11.263042449951172, 8.454571723937988, 9.024736404418945, 10.27967357635498, 8.778773307800293, 8.895153045654297, 8.594002723693848, 8.587943077087402], \"Term\": [\"23203\", \"85099B\", \"22726\", \"23293\", \"23295\", \"22138\", \"22727\", \"23209\", \"22086\", \"22910\", \"23296\", \"23307\", \"84946\", \"20727\", \"23355\", \"23294\", \"23344\", \"21175\", \"23202\", \"84991\", \"23084\", \"20725\", \"21977\", \"22382\", \"22112\", \"22577\", \"22728\", \"22578\", \"85152\", \"21166\", \"23199\", \"22386\", \"23582\", \"23200\", \"22663\", \"72801G\", \"85099C\", \"22385\", \"85099F\", \"23681\", \"23202\", \"23203\", \"23561\", \"21931\", \"21930\", \"21928\", \"85099B\", \"23581\", \"20711\", \"22379\", \"22384\", \"21929\", \"23209\", \"23440\", \"20713\", \"22381\", \"23204\", \"22411\", \"23201\", \"37475\", \"23583\", \"20728\", \"23344\", \"20725\", \"23208\", \"20727\", \"23206\", \"23343\", \"22383\", \"22382\", \"20724\", \"20726\", \"23172\", \"22698\", \"22697\", \"48173C\", \"23016\", \"21586\", \"23539\", \"37479P\", \"23170\", \"22699\", \"23171\", \"22188\", \"23543\", \"48188\", \"20796\", \"21735\", \"48194\", \"48184\", \"48138\", \"23532\", \"85089\", \"22826\", \"23161\", \"84429A\", \"23174\", \"23284\", \"22690\", \"23283\", \"23175\", \"21221\", \"23173\", \"22112\", \"84029E\", \"21523\", \"22835\", \"22114\", \"23355\", \"21485\", \"22111\", \"48111\", \"48187\", \"20685\", \"23356\", \"22423\", \"22113\", \"84029G\", \"23534\", \"23301\", \"84879\", \"23245\", \"22865\", \"23300\", \"22643\", \"23222\", \"23064\", \"21817\", \"21808\", \"21819\", \"90145\", \"23223\", \"90192\", \"79149B\", \"21811\", \"22575\", \"21364\", \"21822\", \"21809\", \"23217\", \"22155\", \"21818\", \"22934\", \"22040\", \"23219\", \"21810\", \"21824\", \"90196A\", \"90124C\", \"21196\", \"22106\", \"15058B\", \"22579\", \"22153\", \"22577\", \"23224\", \"23131\", \"23491\", \"21823\", \"22578\", \"23221\", \"22154\", \"22338\", \"21015\", \"23130\", \"22158\", \"22339\", \"23215\", \"22597\", \"23210\", \"22576\", \"23129\", \"23264\", \"23263\", \"35970\", \"23103\", \"23265\", \"23332\", \"23321\", \"23266\", \"84879\", \"84347\", \"22086\", \"85123A\", \"23313\", \"22469\", \"85048\", \"23275\", \"22596\", \"23322\", \"21671\", \"23034\", \"22774\", \"23033\", \"23026\", \"21668\", \"22805\", \"21672\", \"72800B\", \"72800D\", \"22797\", \"22773\", \"21673\", \"23136\", \"22775\", \"23027\", \"23035\", \"21670\", \"21417\", \"84913B\", \"84821\", \"22772\", \"23067\", \"21669\", \"22771\", \"23028\", \"21294\", \"85170B\", \"35819P\", \"20836\", \"23107\", \"22832\", \"23394\", \"21927\", \"82483\", \"22794\", \"23032\", \"22361\", \"46000M\", \"82482\", \"82486\", \"23393\", \"82494L\", \"23396\", \"23395\", \"23152\", \"46000S\", \"23397\", \"23399\", \"23147\", \"82484\", \"23118\", \"22173\", \"85123A\", \"85066\", \"21755\", \"23322\", \"23321\", \"22469\", \"22720\", \"22766\", \"23298\", \"84879\", \"23256\", \"23516\", \"23512\", \"23515\", \"23519\", \"46000U\", \"23474\", \"23514\", \"22655\", \"23255\", \"23520\", \"23518\", \"23477\", \"10133\", \"22545\", \"23292\", \"23254\", \"23513\", \"23290\", \"23289\", \"22820\", \"20977\", \"23517\", \"21747\", \"21331\", \"23476\", \"84974\", \"23291\", \"21086\", \"21761\", \"23346\", \"POST\", \"21094\", \"84997D\", \"23511\", \"23345\", \"23473\", \"23506\", \"23480\", \"84997C\", \"22614\", \"22551\", \"23389\", \"22629\", \"23367\", \"23368\", \"23388\", \"23508\", \"22554\", \"21731\", \"22326\", \"22630\", \"23390\", \"22382\", \"23084\", \"22534\", \"22367\", \"21080\", \"23371\", \"22919\", \"21026\", \"37489D\", \"44234\", \"37489A\", \"21944\", \"20893\", \"22107\", \"21367\", \"21741\", \"21849\", \"21878\", \"21815\", \"22921\", \"21626\", \"22916\", \"47341B\", \"21031\", \"22917\", \"79063C\", \"20652\", \"21943\", \"BANK CHARGES\", \"22918\", \"84673A\", \"23053\", \"20794\", \"90214A\", \"21025\", \"22038\", \"84031A\", \"21116\", \"72807A\", \"22920\", \"20986\", \"22312\", \"21945\", \"22834\", \"21866\", \"22513\", \"22904\", \"21098\", \"22311\", \"22314\", \"23197\", \"22633\", \"84032A\", \"22866\", \"23439\", \"21901\", \"22865\", \"21900\", \"22867\", \"20751\", \"22632\", \"21034\", \"22197\", \"23198\", \"22111\", \"23196\", \"23355\", \"23356\", \"21479\", \"22210\", \"21899\", \"23301\", \"23300\", \"22114\", \"22557\", \"22835\", \"22208\", \"22113\", \"20982\", \"84030E\", \"22048\", \"22848\", \"22204\", \"22726\", \"23231\", \"22709\", \"22728\", \"23054\", \"22727\", \"23286\", \"22725\", \"22026\", \"22023\", \"22046\", \"22730\", \"23324\", \"23236\", \"23692\", \"23325\", \"23568\", \"37495\", \"79190A\", \"23428\", \"23285\", \"23546\", \"16156S\", \"22032\", \"23113\", \"22027\", \"85169D\", \"23545\", \"22712\", \"22729\", \"22193\", \"23288\", \"22192\", \"22029\", \"22993\", \"23287\", \"23240\", \"22907\", \"23241\", \"22630\", \"23243\", \"22960\", \"22720\", \"22961\", \"22627\", \"22966\", \"23493\", \"22629\", \"23245\", \"22624\", \"47566\", \"23298\", \"21212\", \"23198\", \"23084\", \"22423\", \"21647\", \"82613D\", \"21106\", \"72128\", \"22165\", \"85173\", \"72799E\", \"72130\", \"22538\", \"35968\", \"21678\", \"84976\", \"82613C\", \"84596L\", \"20886\", \"72351A\", \"72349B\", \"72802A\", \"84661B\", \"85174\", \"22540\", \"21851\", \"20819\", \"22324\", \"84192\", \"22517\", \"20932\", \"22936\", \"46118\", \"21564\", \"72351B\", \"47421\", \"21107\", \"84859C\", \"21179\", \"85038\", \"22066\", \"22062\", \"20735\", \"23002\", \"84199\", \"85175\", \"22383\", \"20727\", \"22995\", \"22997\", \"85034C\", \"22998\", \"22608\", \"22645\", \"22355\", \"20724\", \"22306\", \"23583\", \"84596B\", \"47503A\", \"20725\", \"23321\", \"22356\", \"23103\", \"20983\", \"20728\", \"22382\", \"22384\", \"23365\", \"23208\", \"23206\", \"23300\", \"21034\", \"85123A\", \"20726\", \"23209\", \"22197\", \"23207\", \"23120\", \"21265\", \"21371\", \"20756\", \"84859B\", \"90114\", \"79063D\", \"21369\", \"84952B\", \"22827\", \"85202\", \"84984B\", \"84984A\", \"90186B\", \"84086B\", \"85211\", \"21372\", \"21801\", \"90158\", \"21269\", \"85136C\", \"21065\", \"84968A\", \"23023\", \"23041\", \"21226\", \"84711B\", \"21847\", \"90129B\", \"23574\", \"23123\", \"23119\", \"23121\", \"35598D\", \"21191\", \"23694\", \"23695\", \"23498\", \"21222\", \"22992\", \"20760\", \"23122\", \"21262\", \"23378\", \"22049\", \"22906\", \"21034\", \"23320\", \"21373\", \"23552\", \"23192\", \"23328\", \"23497\", \"23319\", \"22610\", \"23157\", \"22816\", \"21985\", \"23188\", \"22910\", \"22065\", \"23318\", \"22553\", \"22086\", \"23084\", \"23376\", \"22909\", \"22551\", \"22866\", \"23493\", \"23100\", \"23265\", \"22555\", \"23300\", \"22197\", \"23266\", \"22867\", \"23344\", \"22952\", \"23354\", \"23249\", \"23304\", \"23305\", \"21455\", \"90206C\", \"22825\", \"23303\", \"23116\", \"85125\", \"84592\", \"23349\", \"90162D\", \"90162C\", \"23019\", \"23353\", \"23314\", \"23352\", \"22738\", \"23373\", \"23436\", \"23017\", \"23117\", \"23251\", \"23318\", \"23350\", \"22853\", \"23351\", \"23250\", \"21351\", \"90081A\", \"23354\", \"23340\", \"22734\", \"22950\", \"22910\", \"22909\", \"23312\", \"22959\", \"22736\", \"23319\", \"22086\", \"23234\", \"23437\", \"22952\", \"23320\", \"23311\", \"23438\", \"22739\", \"22809\", \"16169E\", \"22941\", \"23313\", \"37450\", \"22229\", \"21903\", \"82567\", \"22412\", \"37447\", \"21454\", \"23180\", \"71279\", \"22913\", \"71510\", \"85131D\", \"21277\", \"84818\", \"72801D\", \"21758\", \"82600\", \"35646\", \"22317\", \"22761\", \"21773\", \"21426\", \"21905\", \"71496B\", \"84924A\", \"85104\", \"21128\", \"20839\", \"22223\", \"72225C\", \"85152\", \"22116\", \"21175\", \"21166\", \"22413\", \"21169\", \"21174\", \"85150\", \"21165\", \"21907\", \"21908\", \"22115\", \"82583\", \"37448\", \"82582\", \"21181\", \"82551\", \"72817\", \"72818\", \"23426\", \"21231\", \"82552\", \"21108\", \"21232\", \"23186\", \"82580\", \"82581\", \"22065\", \"21162\", \"20914\", \"21733\", \"85123A\", \"84596B\", \"21913\", \"22570\", \"22081\", \"85088\", \"22569\", \"22568\", \"21890\", \"21912\", \"22550\", \"90198A\", \"22447\", \"71495B\", \"22751\", \"20969\", \"22072\", \"22653\", \"22749\", \"20775\", \"23076\", \"90200E\", \"21888\", \"20970\", \"20972\", \"20694\", \"22750\", \"21892\", \"22547\", \"22548\", \"22623\", \"84819\", \"22147\", \"21790\", \"23229\", \"20971\", \"21891\", \"22621\", \"21889\", \"21704\", \"22746\", \"22620\", \"22940\", \"22150\", \"22141\", \"22142\", \"23077\", \"22144\", \"85049A\", \"21914\", \"21791\", \"22450\", \"20669\", \"16012\", \"21001\", \"21689\", \"21711\", \"21683\", \"22970\", \"22971\", \"90200B\", \"79191B\", \"21198\", \"35443\", \"21197\", \"21363\", \"35914\", \"46776E\", \"23045\", \"21424\", \"21613\", \"21634\", \"21376\", \"85106\", \"22449\", \"22440\", \"23555\", \"16011\", \"22640\", \"44092C\", \"23558\", \"23505\", \"22641\", \"23317\", \"22902\", \"22900\", \"23556\", \"23542\", \"22434\", \"23365\", \"22616\", \"84826\", \"22988\", \"23554\", \"22748\", \"22747\", \"23084\", \"22745\", \"22659\", \"22746\", \"23315\", \"21621\", \"23531\", \"23369\", \"23569\", \"23504\", \"23501\", \"23503\", \"23005\", \"21731\", \"21918\", \"23571\", \"23570\", \"84077\", \"23201\", \"22197\", \"22134\", \"78124\", \"22677\", \"21629\", \"22681\", \"22685\", \"20659\", \"90119\", \"22221\", \"84951A\", \"22678\", \"84356\", \"22135\", \"DOT\", \"20831\", \"22676\", \"22686\", \"22680\", \"47420\", \"40016\", \"85131B\", \"23463\", \"47422\", \"22684\", \"85129C\", \"22683\", \"90086\", \"22501\", \"22132\", \"22679\", \"22758\", \"84951B\", \"22682\", \"22755\", \"22593\", \"82578\", \"22196\", \"22419\", \"22222\", \"23212\", \"22594\", \"22475\", \"85199S\", \"22227\", \"20961\", \"22595\", \"79321\", \"23210\", \"22754\", \"82581\", \"23264\", \"23213\", \"23263\", \"82580\", \"23266\", \"23265\", \"22179\", \"23403\", \"22467\", \"23211\", \"21155\", \"22212\", \"23275\", \"21975\", \"23294\", \"21974\", \"22956\", \"22502\", \"84968F\", \"23296\", \"84987\", \"22300\", \"22824\", \"72799F\", \"23295\", \"84968D\", \"90010E\", \"22391\", \"22951\", \"90120C\", \"90129F\", \"17174\", \"84991\", \"84968C\", \"22301\", \"22938\", \"21977\", \"90183A\", \"23306\", \"90194\", \"23293\", \"84988\", \"90018A\", \"23307\", \"22417\", \"21975\", \"21210\", \"23308\", \"22842\", \"84992\", \"21212\", \"22965\", \"21213\", \"22087\", \"23309\", \"23167\", \"23166\", \"22961\", \"23165\", \"21976\", \"23245\", \"22720\", \"84380\", \"22952\", \"22423\", \"22138\", \"84378\", \"21051\", \"23142\", \"23145\", \"84931A\", \"21205\", \"90013C\", \"84931B\", \"90178A\", \"21286\", \"84947\", \"23021\", \"21199\", \"85131C\", \"21244\", \"84970L\", \"22791\", \"23086\", \"21789\", \"21003\", \"22182\", \"21131\", \"22409\", \"21788\", \"22617\", \"90191\", \"84946\", \"84832\", \"84949\", \"71459\", \"23144\", \"22178\", \"22138\", \"22792\", \"84978\", \"21340\", \"84945\", \"20749\", \"21326\", \"84970S\", \"22460\", \"22139\", \"23080\", \"22457\", \"22427\", \"22426\", \"84836\", \"22456\", \"84755\", \"84879\", \"22077\", \"84347\", \"21915\", \"23328\", \"22469\", \"22367\", \"20838\", \"21925\", \"20840\", \"71101E\", \"20657\", \"20619\", \"22316\", \"22164\", \"47599B\", \"84968E\", \"21202\", \"22129\", \"20661\", \"84915\", \"47369A\", \"22251\", \"47599A\", \"22869\", \"84912B\", \"22276\", \"22856\", \"20670\", \"20679\", \"15056P\", \"22341\", \"21201\", \"23128\", \"23127\", \"21167\", \"22432\", \"15056BL\", \"22271\", \"23126\", \"22061\", \"22587\", \"22566\", \"22273\", \"15056N\", \"20970\", \"22565\", \"22274\", \"22939\", \"22750\", \"22749\", \"20969\", \"20971\", \"22940\", \"21932\", \"85014A\", \"85014B\", \"22144\", \"85123A\", \"21933\", \"20972\", \"22457\", \"22142\", \"22150\", \"22141\", \"85099B\", \"23080\", \"22139\", \"22568\", \"23494\", \"20767\", \"18097C\", \"84725\", \"22124\", \"90164B\", \"20770\", \"21643\", \"85179C\", \"90058A\", \"37468\", \"84870C\", \"21441\", \"22559\", \"47578A\", \"20763\", \"20795\", \"22889\", \"21641\", \"22389\", \"84877D\", \"22885\", \"22044\", \"20665\", \"20761\", \"22886\", \"22390\", \"22888\", \"21386\", \"20765\", \"22821\", \"20764\", \"20768\", \"21209\", \"35971\", \"21650\", \"20766\", \"84828\", \"22076\", \"21114\", \"85032D\", \"22585\", \"22398\", \"85227\", \"21992\", \"22402\", \"21991\", \"23169\", \"22396\", \"21993\", \"22483\", \"85032C\", \"22360\", \"21791\", \"85049G\", \"21918\", \"35471D\", \"23469\", \"22554\", \"22110\", \"21034\", \"22138\", \"22571\", \"22557\", \"22759\", \"22572\", \"84879\", \"84806B\", \"22707\", \"85019B\", \"21200\", \"84360\", \"85019A\", \"51008\", \"21503\", \"17084P\", \"79157V\", \"23547\", \"21208\", \"90030B\", \"21500\", \"90030A\", \"90030C\", \"23000\", \"90160D\", \"37327\", \"21499\", \"17012F\", \"17012D\", \"22105\", \"90031\", \"15044D\", \"90201B\", \"23006\", \"17012B\", \"21498\", \"90177D\", \"23004\", \"16161P\", \"22999\", \"21495\", \"21497\", \"22994\", \"23549\", \"22047\", \"22997\", \"23233\", \"22998\", \"M\", \"22996\", \"23550\", \"23230\", \"23232\", \"17003\", \"22045\", \"23005\", \"21504\", \"23002\", \"35471D\", \"22995\", \"15036\", \"22117\", \"22260\", \"22261\", \"22263\", \"72131\", \"90098\", \"72127\", \"46775D\", \"22246\", \"35815P\", \"90000A\", \"35591T\", \"21067\", \"23104\", \"20847\", \"22266\", \"22084\", \"22262\", \"84510E\", \"22742\", \"21709\", \"22563\", \"22286\", \"22035\", \"84707B\", \"21719\", \"22823\", \"21708\", \"35400\", \"21110\", \"22533\", \"22562\", \"21718\", \"20757\", \"22564\", \"22991\", \"22493\", \"85185B\", \"21716\", \"22556\", \"23238\", \"84375\", \"23242\", \"22925\", \"23309\", \"22992\", \"22536\", \"23241\", \"23341\", \"22965\", \"22910\", \"20749\", \"22086\", \"23390\", \"22555\"], \"Total\": [501.0, 542.0, 338.0, 286.0, 228.0, 429.0, 334.0, 416.0, 728.0, 481.0, 199.0, 262.0, 281.0, 384.0, 670.0, 181.0, 475.0, 237.0, 339.0, 211.0, 500.0, 374.0, 212.0, 364.0, 423.0, 403.0, 257.0, 405.0, 203.0, 213.0, 229.80462646484375, 266.9569091796875, 188.5944366455078, 183.8536834716797, 107.73848724365234, 7.095334053039551, 181.38909912109375, 162.30560302734375, 160.10147094726562, 98.85138702392578, 339.77880859375, 501.09881591796875, 5.771434307098389, 221.38914489746094, 167.9683074951172, 170.3984375, 542.1099853515625, 271.2370910644531, 65.18191528320312, 121.31377410888672, 259.82342529296875, 177.7804412841797, 416.9165344238281, 3.9299426078796387, 114.49545288085938, 83.98739624023438, 115.2958984375, 253.9250030517578, 280.9173278808594, 16.118650436401367, 271.0088806152344, 282.07513427734375, 475.7449951171875, 374.40252685546875, 221.2744903564453, 384.0801086425781, 280.868408203125, 307.8935852050781, 319.7798156738281, 364.50360107421875, 259.3569641113281, 229.8328399658203, 78.39684295654297, 166.73773193359375, 190.48973083496094, 45.16255569458008, 16.72265625, 7.1960015296936035, 32.1097297668457, 8.86464786529541, 108.93757629394531, 204.52244567871094, 101.71200561523438, 43.722923278808594, 81.39791107177734, 56.78982162475586, 5.398474216461182, 5.273182392120361, 102.21070861816406, 71.41072082519531, 133.0368194580078, 21.28084373474121, 4.642345905303955, 22.79263687133789, 23.92074966430664, 4.024242877960205, 84.4045181274414, 301.417724609375, 76.3811264038086, 92.73851776123047, 89.0513916015625, 3.492889642715454, 127.20134735107422, 423.8844299316406, 199.34632873535156, 134.75540161132812, 315.34124755859375, 387.70806884765625, 670.4425659179688, 258.4866638183594, 395.9715881347656, 45.84243392944336, 153.34368896484375, 131.14007568359375, 449.55657958984375, 422.41851806640625, 285.27801513671875, 153.7494354248047, 164.46319580078125, 374.50653076171875, 433.3338623046875, 322.58563232421875, 434.2398681640625, 331.69244384765625, 10.754817962646484, 60.42861557006836, 9.268932342529297, 41.998497009277344, 12.191807746887207, 106.63556671142578, 6.888001441955566, 68.23702239990234, 6.289089202880859, 6.284078121185303, 120.85911560058594, 51.07101058959961, 5.557465076446533, 61.1326904296875, 68.35222625732422, 70.83275604248047, 69.6317367553711, 129.15219116210938, 4.140069007873535, 6.773128032684326, 56.114749908447266, 155.6177520751953, 67.16633605957031, 3.6358985900878906, 3.6370880603790283, 3.6338956356048584, 3.9768972396850586, 3.6052072048187256, 267.87982177734375, 54.62091827392578, 403.4405517578125, 45.9696159362793, 83.80255889892578, 66.6096420288086, 62.370849609375, 405.2672424316406, 105.58919525146484, 85.0447998046875, 93.50602722167969, 62.77467346191406, 137.71347045898438, 204.70924377441406, 51.99435043334961, 166.79330444335938, 81.3821029663086, 136.0087890625, 94.82231903076172, 141.4427947998047, 226.5707550048828, 299.8594055175781, 296.8931579589844, 243.7555389404297, 226.97265625, 224.90257263183594, 370.3679504394531, 245.31776428222656, 433.3338623046875, 239.30690002441406, 728.48046875, 547.8473510742188, 268.7339172363281, 344.12530517578125, 166.72059631347656, 209.7283477783203, 173.34817504882812, 332.1111145019531, 67.51158142089844, 48.768287658691406, 38.586891174316406, 34.02593994140625, 34.29005432128906, 92.88072967529297, 23.84027671813965, 77.73033905029297, 24.279769897460938, 17.886964797973633, 18.52418327331543, 38.89215850830078, 78.19355010986328, 12.672613143920898, 53.958900451660156, 12.467881202697754, 83.72032928466797, 90.93096160888672, 9.42228889465332, 7.911248207092285, 7.893152236938477, 42.66232681274414, 32.9567985534668, 119.20816040039062, 79.18917846679688, 36.677494049072266, 11.040607452392578, 6.553983688354492, 8.650500297546387, 7.1378865242004395, 21.273075103759766, 11.094138145446777, 139.86587524414062, 46.016998291015625, 166.17648315429688, 41.370811462402344, 97.57048797607422, 43.39943313598633, 82.42261505126953, 264.2957458496094, 167.66259765625, 203.4372100830078, 297.245849609375, 181.11973571777344, 187.6352081298828, 46.124027252197266, 95.52193450927734, 149.0416717529297, 167.20030212402344, 89.16329956054688, 149.9510040283203, 98.85956573486328, 95.2237319946289, 547.8473510742188, 136.57904052734375, 141.9638214111328, 332.1111145019531, 370.3679504394531, 344.12530517578125, 394.6018371582031, 143.33450317382812, 326.9949035644531, 433.3338623046875, 121.99111938476562, 41.45497131347656, 46.30392074584961, 57.265113830566406, 19.784019470214844, 22.86162757873535, 24.53059196472168, 58.22344207763672, 10.523163795471191, 39.55220413208008, 35.623146057128906, 46.50484848022461, 7.814488410949707, 7.409464359283447, 15.866920471191406, 90.29122924804688, 103.3031234741211, 61.366363525390625, 95.82162475585938, 72.34291076660156, 8.965085983276367, 33.3178596496582, 48.367122650146484, 5.1696367263793945, 5.166244029998779, 22.17281723022461, 4.9034552574157715, 74.8898696899414, 70.24396514892578, 3.8303961753845215, 93.14347839355469, 261.6130676269531, 80.22562408447266, 122.84037780761719, 89.4525146484375, 84.27842712402344, 40.85647964477539, 141.06346130371094, 144.3879852294922, 93.16043090820312, 82.58304595947266, 210.59906005859375, 200.60516357421875, 222.54139709472656, 209.36317443847656, 169.35130310058594, 124.44825744628906, 121.28453063964844, 229.2097930908203, 194.22146606445312, 189.75547790527344, 204.0919647216797, 146.407958984375, 364.50360107421875, 500.5116882324219, 99.35907745361328, 183.1470184326172, 191.63751220703125, 133.61265563964844, 26.0351505279541, 15.701855659484863, 12.262436866760254, 11.72805118560791, 10.439577102661133, 12.91209888458252, 8.386373519897461, 23.873689651489258, 20.637571334838867, 14.527242660522461, 13.832364082336426, 22.35597038269043, 9.480170249938965, 24.75691795349121, 6.762130260467529, 27.145065307617188, 6.243642807006836, 6.244905471801758, 27.681241989135742, 6.215259075164795, 12.719125747680664, 5.704754829406738, 5.998322486877441, 25.84988784790039, 5.703124046325684, 9.144100189208984, 5.170059680938721, 4.955251693725586, 4.954441070556641, 4.927155494689941, 25.918798446655273, 39.387733459472656, 19.748027801513672, 27.35526466369629, 42.29640579223633, 31.17983055114746, 18.352306365966797, 110.58409881591797, 37.909847259521484, 18.565685272216797, 72.85586547851562, 108.50138092041016, 39.16797637939453, 34.047874450683594, 105.64655303955078, 339.0353698730469, 54.3759765625, 366.3138427734375, 338.8825988769531, 78.80725860595703, 434.2398681640625, 88.12744903564453, 322.92730712890625, 73.44927978515625, 254.31361389160156, 434.9495544433594, 398.46026611328125, 237.5770263671875, 395.9715881347656, 143.0199737548828, 670.4425659179688, 449.55657958984375, 205.97500610351562, 90.46636962890625, 70.1515121459961, 374.50653076171875, 331.69244384765625, 387.70806884765625, 176.8283233642578, 315.34124755859375, 124.61721801757812, 285.27801513671875, 122.15556335449219, 152.98240661621094, 13.434151649475098, 17.590173721313477, 9.995040893554688, 338.8503112792969, 72.46235656738281, 7.5884270668029785, 257.70501708984375, 13.600157737731934, 334.1153564453125, 52.27212142944336, 130.1663360595703, 32.48074722290039, 24.615053176879883, 30.152761459350586, 206.3683624267578, 30.069034576416016, 118.32454681396484, 3.772491455078125, 26.56169891357422, 25.16943359375, 14.437286376953125, 14.554048538208008, 19.38158416748047, 48.182151794433594, 88.07435607910156, 45.13714599609375, 10.231064796447754, 42.550086975097656, 64.77836608886719, 6.311582565307617, 59.46886444091797, 79.83759307861328, 76.29388427734375, 134.19508361816406, 46.537601470947266, 95.40492248535156, 115.53050231933594, 252.13226318359375, 49.3129768371582, 233.20794677734375, 122.15216827392578, 174.3363037109375, 204.0919647216797, 170.32313537597656, 235.46697998046875, 394.6018371582031, 236.36256408691406, 120.12152862548828, 236.31459045410156, 309.5212097167969, 222.54139709472656, 322.58563232421875, 237.2832794189453, 302.3172607421875, 326.9949035644531, 304.8344421386719, 237.5770263671875, 500.5116882324219, 422.41851806640625, 16.32904815673828, 12.872278213500977, 12.667129516601562, 12.46342945098877, 12.160724639892578, 18.54686164855957, 19.038299560546875, 10.91374397277832, 10.583475112915039, 9.718016624450684, 8.904266357421875, 7.988237380981445, 11.21995735168457, 7.683248043060303, 14.002363204956055, 37.79671859741211, 37.3173942565918, 9.705286026000977, 6.974863052368164, 20.819625854492188, 10.587047576904297, 6.974884986877441, 10.45704174041748, 13.688312530517578, 9.981879234313965, 10.253243446350098, 6.250235557556152, 5.717541217803955, 8.524303436279297, 23.913524627685547, 44.98581314086914, 45.477474212646484, 21.415077209472656, 14.10147476196289, 25.266803741455078, 39.00661849975586, 54.787872314453125, 19.438825607299805, 14.95967960357666, 56.104976654052734, 22.78558921813965, 30.65467071533203, 319.7798156738281, 384.0801086425781, 79.04193115234375, 75.34483337402344, 104.39582824707031, 170.66189575195312, 30.985248565673828, 61.40498733520508, 164.160400390625, 259.3569641113281, 89.96745300292969, 271.0088806152344, 137.6818084716797, 99.58842468261719, 374.40252685546875, 370.3679504394531, 157.2425537109375, 243.7555389404297, 113.69637298583984, 282.07513427734375, 364.50360107421875, 259.82342529296875, 121.25492858886719, 221.2744903564453, 280.868408203125, 331.69244384765625, 434.9495544433594, 547.8473510742188, 229.8328399658203, 416.9165344238281, 398.46026611328125, 227.1788330078125, 42.18367004394531, 13.445392608642578, 11.445816993713379, 10.2288179397583, 8.256855010986328, 6.926431655883789, 6.927464962005615, 6.377260208129883, 5.781474590301514, 6.147278308868408, 9.102272033691406, 5.279102802276611, 5.279045581817627, 5.2695417404174805, 5.259522914886475, 5.233421325683594, 12.82990550994873, 10.417546272277832, 4.504921913146973, 4.493600368499756, 19.184329986572266, 13.384444236755371, 6.675569534301758, 8.475926399230957, 37.749237060546875, 3.9524216651916504, 3.951028347015381, 3.9413630962371826, 3.9386680126190186, 13.607226371765137, 30.89472770690918, 50.39083480834961, 49.451499938964844, 12.469948768615723, 20.300025939941406, 20.52610206604004, 38.48154067993164, 42.333309173583984, 14.537774085998535, 161.05392456054688, 10.975897789001465, 41.047489166259766, 46.15330505371094, 132.08204650878906, 23.636070251464844, 75.92420959472656, 434.9495544433594, 261.1689147949219, 31.139244079589844, 45.35724639892578, 162.6620635986328, 239.03265380859375, 126.28268432617188, 324.7435302734375, 76.82026672363281, 154.56861877441406, 131.58668518066406, 98.73816680908203, 187.78065490722656, 481.2790222167969, 142.32742309570312, 278.3388366699219, 184.47669982910156, 728.48046875, 500.5116882324219, 105.87168884277344, 345.05682373046875, 210.59906005859375, 366.3138427734375, 309.5212097167969, 165.87730407714844, 226.97265625, 183.96170043945312, 331.69244384765625, 398.46026611328125, 245.31776428222656, 322.92730712890625, 475.7449951171875, 343.065185546875, 256.1016540527344, 27.09821128845215, 9.497867584228516, 8.052804946899414, 7.571594715118408, 6.253011703491211, 5.367129325866699, 5.416577339172363, 16.677093505859375, 12.394291877746582, 4.196229457855225, 230.04148864746094, 3.61604642868042, 3.6160459518432617, 14.254798889160156, 227.9681396484375, 79.0642318725586, 144.4664764404297, 132.10096740722656, 89.81180572509766, 81.32057189941406, 16.06444549560547, 39.85953903198242, 42.07058334350586, 278.3388366699219, 221.0901336669922, 32.28202438354492, 242.9840850830078, 48.86805725097656, 14.04856014251709, 3.5755462646484375, 256.1016540527344, 119.52506256103516, 291.34332275390625, 124.15830993652344, 481.2790222167969, 345.05682373046875, 164.1090087890625, 107.14293670654297, 132.53872680664062, 324.7435302734375, 728.48046875, 181.0216827392578, 112.418212890625, 343.065185546875, 261.1689147949219, 240.2744903564453, 88.17543029785156, 148.3436737060547, 131.12478637695312, 112.00354766845703, 195.9641876220703, 268.7339172363281, 19.872549057006836, 15.460229873657227, 40.40240478515625, 48.16898727416992, 28.766986846923828, 11.042556762695312, 10.55002212524414, 10.274380683898926, 10.059552192687988, 20.938283920288086, 7.7944655418396, 7.359464168548584, 7.3570404052734375, 25.86028480529785, 6.968512535095215, 6.956164836883545, 87.15596008300781, 23.92885398864746, 10.536104202270508, 6.117025375366211, 14.43103313446045, 8.718860626220703, 46.98244857788086, 5.7664899826049805, 6.1262898445129395, 6.367607593536377, 5.580510139465332, 23.556440353393555, 5.524727821350098, 5.271803379058838, 203.29022216796875, 39.42991256713867, 237.5714569091797, 213.3922576904297, 112.37590026855469, 141.3672637939453, 112.48030853271484, 144.96044921875, 111.64818572998047, 73.95604705810547, 118.058349609375, 76.88258361816406, 165.20716857910156, 26.526294708251953, 117.65574645996094, 265.67437744140625, 78.44254302978516, 81.10285186767578, 40.59626007080078, 183.1009063720703, 129.5908966064453, 108.65949249267578, 118.03706359863281, 151.0486602783203, 43.38697052001953, 134.32391357421875, 107.7587890625, 142.32742309570312, 68.75190734863281, 262.8441467285156, 272.31719970703125, 547.8473510742188, 137.6818084716797, 31.685667037963867, 79.93902587890625, 37.659427642822266, 6.922434329986572, 82.20984649658203, 173.3456268310547, 80.00748443603516, 122.31571960449219, 70.96051788330078, 3.501474618911743, 3.491074323654175, 3.3719663619995117, 124.4359359741211, 125.5916748046875, 23.016191482543945, 48.89741134643555, 168.9149932861328, 10.718345642089844, 102.35132598876953, 4.58150577545166, 143.3166961669922, 99.20875549316406, 201.4770050048828, 2.1310739517211914, 179.48072814941406, 140.78529357910156, 18.889699935913086, 59.12191390991211, 107.28414916992188, 6.527227401733398, 136.3332061767578, 348.31695556640625, 140.14004516601562, 195.2032470703125, 166.9509735107422, 256.12841796875, 251.99378967285156, 105.63311767578125, 79.3599853515625, 158.82791137695312, 218.94244384765625, 156.7844696044922, 276.0475769042969, 256.0632629394531, 147.41641235351562, 322.6625061035156, 177.789794921875, 269.9333190917969, 204.0509033203125, 17.977048873901367, 12.905876159667969, 8.771644592285156, 5.479816913604736, 5.27623176574707, 5.27138614654541, 16.148557662963867, 83.98019409179688, 65.29725646972656, 4.2567949295043945, 10.106729507446289, 6.385155200958252, 3.7445414066314697, 3.742978811264038, 3.740952491760254, 3.7284114360809326, 3.717660903930664, 16.516014099121094, 4.052978992462158, 5.507856369018555, 3.2351136207580566, 3.233138084411621, 3.2078945636749268, 36.982276916503906, 38.67595291137695, 44.04159927368164, 17.8265438079834, 14.304363250732422, 4.86463737487793, 46.164737701416016, 106.34893035888672, 16.14141273498535, 33.7584228515625, 33.893497467041016, 108.461669921875, 43.05312728881836, 57.65583419799805, 38.19256591796875, 121.25492858886719, 133.5689697265625, 12.927322387695312, 105.61517333984375, 48.78451919555664, 121.67091369628906, 61.70811080932617, 500.5116882324219, 102.11829376220703, 149.46571350097656, 79.3599853515625, 34.80150604248047, 112.56575775146484, 90.68705749511719, 96.35514831542969, 132.5963134765625, 186.67465209960938, 64.70250701904297, 321.1269226074219, 116.9516372680664, 194.22146606445312, 101.99662017822266, 182.97186279296875, 199.66722106933594, 166.53587341308594, 280.9173278808594, 398.46026611328125, 24.187299728393555, 16.75907325744629, 23.511363983154297, 15.879026412963867, 22.42304229736328, 14.781583786010742, 18.605724334716797, 10.374520301818848, 9.072070121765137, 9.071382522583008, 24.359338760375977, 8.355484008789062, 22.022781372070312, 7.9852519035339355, 6.874635696411133, 39.09431076049805, 23.833980560302734, 25.115053176879883, 5.671114444732666, 5.1780500411987305, 6.016961097717285, 4.678652286529541, 25.533781051635742, 15.198469161987305, 4.178781032562256, 19.66478157043457, 4.4894890785217285, 9.008849143981934, 22.1463623046875, 30.543537139892578, 27.770471572875977, 14.189692497253418, 12.583175659179688, 61.65448760986328, 98.71051788330078, 72.29924774169922, 69.70826721191406, 69.6872329711914, 47.80464553833008, 115.58863067626953, 100.43119812011719, 61.48621368408203, 98.94171142578125, 64.2763442993164, 60.44248580932617, 191.6817169189453, 168.3431854248047, 136.0087890625, 70.66716766357422, 107.7587890625, 226.5707550048828, 90.13133239746094, 299.8594055175781, 134.32391357421875, 245.31776428222656, 226.97265625, 71.25321960449219, 121.23638153076172, 196.91415405273438, 104.2549057006836, 105.95690155029297, 94.54016876220703, 209.7283477783203, 200.0875244140625, 181.53590393066406, 73.48482513427734, 29.8756103515625, 6.572553634643555, 6.330738544464111, 199.6419219970703, 59.80929946899414, 45.4962272644043, 5.048624038696289, 15.669388771057129, 228.1672821044922, 9.750933647155762, 4.386600017547607, 4.367992401123047, 146.52267456054688, 3.785372018814087, 3.7751212120056152, 3.5936856269836426, 211.1702880859375, 11.085829734802246, 46.522315979003906, 51.44448471069336, 212.87181091308594, 4.978804111480713, 68.31977844238281, 2.8731253147125244, 286.4121398925781, 75.58446502685547, 6.758516311645508, 262.68182373046875, 131.5830535888672, 200.0875244140625, 142.0198974609375, 163.50369262695312, 40.94365310668945, 170.06314086914062, 304.8344421386719, 76.69962310791016, 197.71556091308594, 47.2926025390625, 193.63795471191406, 76.75962829589844, 85.80384063720703, 236.36256408691406, 110.54509735107422, 91.46453094482422, 322.58563232421875, 394.6018371582031, 160.75775146484375, 343.065185546875, 422.41851806640625, 429.8788146972656, 154.85987854003906, 8.274470329284668, 7.188014984130859, 65.61962127685547, 7.725633144378662, 7.359499931335449, 4.212420463562012, 13.708918571472168, 3.6047959327697754, 3.3619577884674072, 126.76565551757812, 12.988897323608398, 2.7611308097839355, 5.782102108001709, 8.153302192687988, 67.2057876586914, 127.45734405517578, 16.393369674682617, 36.69865417480469, 2.172980785369873, 18.16303825378418, 4.7732930183410645, 14.138269424438477, 37.756568908691406, 198.0481414794922, 3.9730446338653564, 281.6492614746094, 81.19196319580078, 99.41645050048828, 70.04237365722656, 85.78227996826172, 205.4040985107422, 429.8788146972656, 59.463539123535156, 117.33501434326172, 76.275390625, 105.73441314697266, 128.28736877441406, 111.65721130371094, 78.48128509521484, 62.390655517578125, 333.5604248046875, 128.5889434814453, 278.6930236816406, 61.052093505859375, 39.84705352783203, 211.1557159423828, 107.4283447265625, 76.52140045166016, 433.3338623046875, 268.2380676269531, 239.30690002441406, 246.4354705810547, 239.03265380859375, 344.12530517578125, 183.1470184326172, 14.573689460754395, 13.918742179870605, 8.60537338256836, 7.50319242477417, 6.950362682342529, 6.16526460647583, 5.615293025970459, 5.632180690765381, 21.310911178588867, 7.708717346191406, 4.516644477844238, 4.844108581542969, 4.483964443206787, 4.517350673675537, 3.399653434753418, 3.18396258354187, 26.000734329223633, 4.480162143707275, 22.49750518798828, 12.427583694458008, 3.1397438049316406, 2.6282687187194824, 76.25631713867188, 41.3183708190918, 7.236028671264648, 14.602300643920898, 45.54220199584961, 67.46974182128906, 14.187484741210938, 19.07785987854004, 79.92083740234375, 109.50811767578125, 116.39676666259766, 23.93246841430664, 61.516761779785156, 48.49082565307617, 116.87037658691406, 79.67970275878906, 99.20875549316406, 36.4610595703125, 103.40978240966797, 29.261072158813477, 179.48072814941406, 168.9149932861328, 125.5916748046875, 195.2032470703125, 218.94244384765625, 65.31259155273438, 86.20338439941406, 91.5865707397461, 322.6625061035156, 547.8473510742188, 44.84972381591797, 201.4770050048828, 278.6930236816406, 256.0632629394531, 156.7844696044922, 276.0475769042969, 542.1099853515625, 128.5889434814453, 333.5604248046875, 173.3456268310547, 152.1539764404297, 20.289894104003906, 11.015203475952148, 11.219452857971191, 10.509502410888672, 10.611465454101562, 8.289932250976562, 8.036760330200195, 8.51550006866455, 7.050924301147461, 6.178144931793213, 5.8138604164123535, 9.500767707824707, 6.165354251861572, 16.560388565063477, 10.146363258361816, 4.938820838928223, 4.723091125488281, 7.60831880569458, 8.542694091796875, 4.328224182128906, 4.326375484466553, 21.42997169494629, 6.7549662590026855, 17.14046287536621, 3.997910499572754, 10.805870056152344, 3.7089974880218506, 13.529972076416016, 30.72262191772461, 18.54893684387207, 31.310792922973633, 10.288322448730469, 14.646188735961914, 18.89609146118164, 28.643953323364258, 18.866592407226562, 13.620047569274902, 40.44208908081055, 40.26811218261719, 25.660655975341797, 123.75289154052734, 94.61192321777344, 80.28852844238281, 107.34369659423828, 64.55859375, 47.80133056640625, 148.29039001464844, 48.81264114379883, 105.08828735351562, 45.31637954711914, 50.210426330566406, 68.65545654296875, 204.0509033203125, 94.85910034179688, 101.99662017822266, 114.66400909423828, 59.3952522277832, 229.2097930908203, 105.30751037597656, 434.9495544433594, 429.8788146972656, 127.81674194335938, 176.8283233642578, 121.02973937988281, 106.87305450439453, 433.3338623046875, 11.629312515258789, 18.808923721313477, 13.671784400939941, 11.28184700012207, 9.17313003540039, 8.719423294067383, 8.381150245666504, 6.47859001159668, 5.917447090148926, 5.359144687652588, 43.31877517700195, 18.31464195251465, 4.907465934753418, 59.04130172729492, 3.785471200942993, 3.784571886062622, 57.472198486328125, 3.445808172225952, 6.991967678070068, 63.11579132080078, 20.526456832885742, 26.41730499267578, 2.6633541584014893, 2.663224220275879, 16.424617767333984, 2.638795852661133, 44.20343017578125, 20.29969596862793, 96.7308578491211, 2.6371359825134277, 40.673065185546875, 68.48998260498047, 67.29225158691406, 54.04846954345703, 85.92296600341797, 63.50138854980469, 34.52821731567383, 37.18812561035156, 75.34483337402344, 39.6862907409668, 170.66189575195312, 110.65734100341797, 114.03353118896484, 37.223358154296875, 70.18453979492188, 92.9239501953125, 82.26549530029297, 74.87293243408203, 116.9516372680664, 40.218257904052734, 56.104976654052734, 114.66400909423828, 79.04193115234375, 65.48137664794922, 18.289196014404297, 15.679065704345703, 14.369884490966797, 11.109099388122559, 8.495800018310547, 7.070674419403076, 11.146451950073242, 4.466022491455078, 10.375227928161621, 3.8261823654174805, 3.3666698932647705, 3.3476552963256836, 3.337062120437622, 18.511110305786133, 3.166069984436035, 21.24431610107422, 5.815798759460449, 20.80925750732422, 6.875499248504639, 40.50558090209961, 11.919395446777344, 109.00801086425781, 19.44900131225586, 9.51618766784668, 4.4290618896484375, 5.947376728057861, 2.5761032104492188, 11.35171890258789, 2.595625400543213, 19.126697540283203, 44.95599365234375, 81.38013458251953, 16.23930549621582, 17.07018280029297, 64.9314956665039, 119.27596282958984, 64.56288146972656, 28.253995895385742, 16.50568389892578, 167.95001220703125, 100.49664306640625, 161.89703369140625, 97.91902160644531, 29.298063278198242, 193.63795471191406, 161.05392456054688, 59.21509552001953, 174.3363037109375, 50.81438064575195, 76.69962310791016, 481.2790222167969, 128.28736877441406, 728.48046875, 146.407958984375, 183.96170043945312], \"loglift\": [30.0, 29.0, 28.0, 27.0, 26.0, 25.0, 24.0, 23.0, 22.0, 21.0, 20.0, 19.0, 18.0, 17.0, 16.0, 15.0, 14.0, 13.0, 12.0, 11.0, 10.0, 9.0, 8.0, 7.0, 6.0, 5.0, 4.0, 3.0, 2.0, 1.0, 2.3749001026153564, 2.3529999256134033, 2.342400074005127, 2.3364999294281006, 2.3331000804901123, 2.3280999660491943, 2.322000026702881, 2.3125998973846436, 2.3097000122070312, 2.3071000576019287, 2.305500030517578, 2.295099973678589, 2.2927000522613525, 2.2676000595092773, 2.2623000144958496, 2.251199960708618, 2.2363998889923096, 2.2218000888824463, 2.213900089263916, 2.208899974822998, 2.206700086593628, 2.2009999752044678, 2.198499917984009, 2.197200059890747, 2.1823999881744385, 2.178299903869629, 2.1679000854492188, 2.151700019836426, 2.1257998943328857, 2.1191999912261963, 2.1187000274658203, 2.113800048828125, 2.0980000495910645, 2.1013998985290527, 2.1131999492645264, 2.0476999282836914, 2.0782999992370605, 2.0360000133514404, 1.9678000211715698, 1.8911999464035034, 1.9643000364303589, 1.9479000568389893, 2.4681999683380127, 2.43149995803833, 2.42330002784729, 2.3945000171661377, 2.374000072479248, 2.3610000610351562, 2.350100040435791, 2.347100019454956, 2.343899965286255, 2.339600086212158, 2.33240008354187, 2.3310999870300293, 2.3285000324249268, 2.316999912261963, 2.3099000453948975, 2.3048999309539795, 2.2901999950408936, 2.2899999618530273, 2.2888998985290527, 2.2751998901367188, 2.2751998901367188, 2.260200023651123, 2.24399995803833, 2.235599994659424, 2.2309000492095947, 2.2160000801086426, 2.206899881362915, 2.2023000717163086, 2.2002999782562256, 2.1884000301361084, 2.177799940109253, 2.13100004196167, 2.1428000926971436, 2.1538000106811523, 2.0710999965667725, 2.045599937438965, 1.905400037765503, 1.9910999536514282, 1.8907999992370605, 2.1703999042510986, 1.9943000078201294, 1.9773000478744507, 1.721500039100647, 1.5575000047683716, 1.673699975013733, 1.8806999921798706, 1.8234000205993652, 1.378600001335144, 1.065000057220459, 1.2640999555587769, 0.9203000068664551, 1.1437000036239624, 2.429500102996826, 2.4003000259399414, 2.3917999267578125, 2.3852999210357666, 2.381999969482422, 2.374799966812134, 2.374300003051758, 2.3675999641418457, 2.359600067138672, 2.359499931335449, 2.3570001125335693, 2.3471999168395996, 2.336400032043457, 2.3122000694274902, 2.29010009765625, 2.285099983215332, 2.2709999084472656, 2.2667999267578125, 2.2648000717163086, 2.2513999938964844, 2.243299961090088, 2.2409000396728516, 2.234999895095825, 2.223599910736084, 2.223599910736084, 2.223400115966797, 2.221400022506714, 2.220599889755249, 2.203700065612793, 2.2026000022888184, 2.195499897003174, 2.202399969100952, 2.194200038909912, 2.188999891281128, 2.1888999938964844, 2.1333999633789062, 2.171600103378296, 2.1758999824523926, 2.1226999759674072, 2.1429998874664307, 2.0478999614715576, 1.9644999504089355, 2.140500068664551, 1.926200032234192, 2.058300018310547, 1.9352999925613403, 2.013700008392334, 1.8492000102996826, 1.6325000524520874, 1.5038000345230103, 1.488800048828125, 1.5605000257492065, 1.5335999727249146, 1.5290000438690186, 1.1694999933242798, 1.4184000492095947, 1.0169999599456787, 1.3803999423980713, 0.5616000294685364, 0.7444999814033508, 1.2462999820709229, 1.0356999635696411, 1.614300012588501, 1.4040000438690186, 1.5497000217437744, 0.9291999936103821, 2.5179998874664307, 2.5146000385284424, 2.509500026702881, 2.505000114440918, 2.494800090789795, 2.4944000244140625, 2.4921000003814697, 2.4914000034332275, 2.490999937057495, 2.4804000854492188, 2.469899892807007, 2.4663000106811523, 2.46589994430542, 2.4572999477386475, 2.455699920654297, 2.4507999420166016, 2.426800012588501, 2.4235999584198, 2.4105000495910645, 2.4079999923706055, 2.407099962234497, 2.4068000316619873, 2.405900001525879, 2.3963000774383545, 2.3919999599456787, 2.3880999088287354, 2.3864998817443848, 2.378999948501587, 2.376699924468994, 2.3736000061035156, 2.3633999824523926, 2.369499921798706, 2.302000045776367, 2.3301000595092773, 2.240600109100342, 2.3113999366760254, 2.2509000301361084, 2.303100109100342, 2.2476999759674072, 2.076900005340576, 2.115999937057495, 2.0246999263763428, 1.8984999656677246, 1.9818999767303467, 1.9498000144958496, 2.2867000102996826, 2.0032999515533447, 1.8207999467849731, 1.774399995803833, 2.0090999603271484, 1.7506999969482422, 1.9428999423980713, 1.95169997215271, 0.9269000291824341, 1.7289999723434448, 1.6692999601364136, 1.0568000078201294, 0.8902000188827515, 0.8687999844551086, 0.718500018119812, 1.601699948310852, 0.8276000022888184, 0.5400999784469604, 2.6203999519348145, 2.615499973297119, 2.6024999618530273, 2.599600076675415, 2.59689998626709, 2.589900016784668, 2.569700002670288, 2.559299945831299, 2.5529000759124756, 2.532399892807007, 2.5315001010894775, 2.5299999713897705, 2.5157999992370605, 2.5113000869750977, 2.501300096511841, 2.4839000701904297, 2.4798998832702637, 2.4728000164031982, 2.4721999168395996, 2.4609999656677246, 2.449899911880493, 2.4498000144958496, 2.448899984359741, 2.4470999240875244, 2.447000026702881, 2.441800117492676, 2.430299997329712, 2.4100000858306885, 2.396699905395508, 2.3675999641418457, 2.353800058364868, 2.2827000617980957, 2.3052000999450684, 2.2407000064849854, 2.2595999240875244, 2.24780011177063, 2.3148999214172363, 2.112600088119507, 2.1059000492095947, 2.1765999794006348, 2.19569993019104, 2.0007998943328857, 1.9911999702453613, 1.964900016784668, 1.9444999694824219, 1.9917999505996704, 2.077199935913086, 2.0768001079559326, 1.8009999990463257, 1.854599952697754, 1.8538000583648682, 1.8006999492645264, 1.917199969291687, 1.3617000579833984, 1.0793999433517456, 2.1473000049591064, 1.683899998664856, 1.534600019454956, 1.816499948501587, 2.6187000274658203, 2.6113998889923096, 2.5922000408172607, 2.5896999835968018, 2.5776000022888184, 2.5557000637054443, 2.55430006980896, 2.545599937438965, 2.539299964904785, 2.5360000133514404, 2.5316998958587646, 2.5304999351501465, 2.5292999744415283, 2.527400016784668, 2.5236001014709473, 2.5127999782562256, 2.5100998878479004, 2.5099000930786133, 2.509500026702881, 2.5092999935150146, 2.5088999271392822, 2.493299961090088, 2.4930999279022217, 2.492300033569336, 2.491499900817871, 2.4793999195098877, 2.4727001190185547, 2.4630000591278076, 2.462899923324585, 2.461699962615967, 2.4581000804901123, 2.440999984741211, 2.4444000720977783, 2.42930006980896, 2.412600040435791, 2.3828001022338867, 2.4119999408721924, 2.229099988937378, 2.3104000091552734, 2.386399984359741, 2.2139999866485596, 2.161900043487549, 2.242300033569336, 2.2551000118255615, 2.0035998821258545, 1.697700023651123, 2.1410999298095703, 1.6495000123977661, 1.658400058746338, 2.043600082397461, 1.534500002861023, 1.996500015258789, 1.5436999797821045, 2.012399911880493, 1.5907000303268433, 1.358299970626831, 1.368899941444397, 1.3898999691009521, 1.123900055885315, 1.5943000316619873, 0.7348999977111816, 0.9164999723434448, 1.295699954032898, 1.756100058555603, 1.9003000259399414, 0.8623999953269958, 0.8921999931335449, 0.784500002861023, 1.2702000141143799, 0.8532000184059143, 1.5041999816894531, 0.8446999788284302, 1.5140000581741333, 1.2747999429702759, 2.648200035095215, 2.6442999839782715, 2.624799966812134, 2.6124000549316406, 2.5961999893188477, 2.5862998962402344, 2.5601000785827637, 2.5527000427246094, 2.546999931335449, 2.541300058364868, 2.5262999534606934, 2.5204999446868896, 2.487600088119507, 2.486999988555908, 2.4860000610351562, 2.4684998989105225, 2.4475998878479004, 2.4398000240325928, 2.4223999977111816, 2.421999931335449, 2.4200000762939453, 2.4140000343322754, 2.4094998836517334, 2.4040000438690186, 2.4014999866485596, 2.4005000591278076, 2.3982999324798584, 2.3740999698638916, 2.364799976348877, 2.358799934387207, 2.357100009918213, 2.2393999099731445, 2.225600004196167, 2.1559998989105225, 2.269399881362915, 2.174999952316284, 2.12719988822937, 1.9226000308990479, 2.23799991607666, 1.8278000354766846, 1.9327000379562378, 1.7783000469207764, 1.6577999591827393, 1.7217999696731567, 1.5642000436782837, 1.309399962425232, 1.5371999740600586, 1.8401000499725342, 1.5047999620437622, 1.3279000520706177, 1.4539999961853027, 1.2199000120162964, 1.3830000162124634, 1.2122999429702759, 1.0849000215530396, 1.0814000368118286, 1.282099962234497, 0.5683000087738037, 0.7027000188827515, 2.8285999298095703, 2.812000036239624, 2.811300039291382, 2.8099000453948975, 2.8076999187469482, 2.805799961090088, 2.8006999492645264, 2.79830002784729, 2.7953999042510986, 2.7811999320983887, 2.7767999172210693, 2.763000011444092, 2.761699914932251, 2.7578001022338867, 2.7548000812530518, 2.74429988861084, 2.7441999912261963, 2.7441999912261963, 2.7434000968933105, 2.7423999309539795, 2.7411999702453613, 2.7400999069213867, 2.739799976348877, 2.7147998809814453, 2.712899923324585, 2.711899995803833, 2.708899974822998, 2.708400011062622, 2.7051000595092773, 2.7039999961853027, 2.69350004196167, 2.685499906539917, 2.6445000171661377, 2.6575000286102295, 2.5694000720977783, 2.507200002670288, 2.40310001373291, 2.5871999263763428, 2.6359000205993652, 2.3290998935699463, 2.516900062561035, 2.3959999084472656, 1.583899974822998, 1.4853999614715576, 2.03410005569458, 2.032900094985962, 1.8971999883651733, 1.6469000577926636, 2.3473000526428223, 2.0373001098632812, 1.5764000415802002, 1.3339999914169312, 1.8456000089645386, 1.294600009918213, 1.6110999584197998, 1.76419997215271, 1.0729000568389893, 0.9976999759674072, 1.4463000297546387, 1.1779999732971191, 1.634600043296814, 1.033400058746338, 0.8651000261306763, 1.079800009727478, 1.570199966430664, 1.1622999906539917, 0.9569000005722046, 0.7986000180244446, 0.4253000020980835, 0.21729999780654907, 0.9897000193595886, 0.3944000005722046, 0.4352000057697296, 0.9696000218391418, 2.852299928665161, 2.8176000118255615, 2.805000066757202, 2.7929999828338623, 2.746299982070923, 2.7451000213623047, 2.7441000938415527, 2.7314999103546143, 2.712899923324585, 2.7107999324798584, 2.7056000232696533, 2.694999933242798, 2.6949000358581543, 2.6946001052856445, 2.694200038909912, 2.6930999755859375, 2.6826000213623047, 2.680500030517578, 2.6565001010894775, 2.6558001041412354, 2.641200065612793, 2.6396000385284424, 2.6321001052856445, 2.6291000843048096, 2.6263999938964844, 2.6196999549865723, 2.6196000576019287, 2.618799924850464, 2.6185998916625977, 2.61080002784729, 2.6043999195098877, 2.54259991645813, 2.538599967956543, 2.5596001148223877, 2.525099992752075, 2.5065999031066895, 2.4107000827789307, 2.385200023651123, 2.5169999599456787, 2.0234999656677246, 2.549799919128418, 2.2662999629974365, 2.2276999950408936, 1.9602999687194824, 2.365499973297119, 2.0346999168395996, 1.5424000024795532, 1.6259000301361084, 2.2614998817443848, 2.13700008392334, 1.7000999450683594, 1.5535000562667847, 1.7753000259399414, 1.4248000383377075, 1.9342000484466553, 1.6720999479293823, 1.6963000297546387, 1.8056999444961548, 1.4975999593734741, 1.0587999820709229, 1.603600025177002, 1.2768000364303589, 1.468999981880188, 0.7950999736785889, 0.9383000135421753, 1.7299000024795532, 1.0627000331878662, 1.2834999561309814, 0.8977000117301941, 1.0083999633789062, 1.4144999980926514, 1.1770999431610107, 1.3238999843597412, 0.8596000075340271, 0.699400007724762, 1.0472999811172485, 0.8069999814033508, 0.4009999930858612, 0.7132999897003174, 0.9950000047683716, 2.825500011444092, 2.8076000213623047, 2.784600019454956, 2.779900074005127, 2.7504000663757324, 2.720900058746338, 2.7183001041412354, 2.6826999187469482, 2.665600061416626, 2.660399913787842, 2.651599884033203, 2.6133999824523926, 2.6133999824523926, 2.6106998920440674, 2.5731000900268555, 2.5539000034332275, 2.539900064468384, 2.5164999961853027, 2.5139000415802, 2.489300012588501, 2.48009991645813, 2.4763998985290527, 2.471299886703491, 2.4482998847961426, 2.41759991645813, 2.4158999919891357, 2.411900043487549, 2.3901000022888184, 2.3826000690460205, 2.3696000576019287, 2.3640999794006348, 2.335099935531616, 2.2767999172210693, 2.32669997215271, 2.1698999404907227, 2.1833999156951904, 2.2183001041412354, 2.2708001136779785, 2.232100009918213, 2.0880000591278076, 1.8849999904632568, 2.117500066757202, 2.211400032043457, 1.9630000591278076, 1.9062000513076782, 1.9282000064849854, 2.189199924468994, 1.9819999933242798, 2.0076000690460205, 2.0694000720977783, 1.7660000324249268, 1.547700047492981, 2.941800117492676, 2.9270999431610107, 2.9210000038146973, 2.9191999435424805, 2.913800001144409, 2.901700019836426, 2.8970999717712402, 2.8942999839782715, 2.892699956893921, 2.874000072479248, 2.862299919128418, 2.8545000553131104, 2.8538999557495117, 2.847399950027466, 2.8461999893188477, 2.846100091934204, 2.829699993133545, 2.829699993133545, 2.8285999298095703, 2.82450008392334, 2.823699951171875, 2.822000026702881, 2.816699981689453, 2.8136000633239746, 2.813499927520752, 2.8071999549865723, 2.8071000576019287, 2.8066000938415527, 2.8050999641418457, 2.7948999404907227, 2.7916998863220215, 2.7855000495910645, 2.763000011444092, 2.763400077819824, 2.763400077819824, 2.731600046157837, 2.7376999855041504, 2.7232000827789307, 2.7114999294281006, 2.7063000202178955, 2.672300100326538, 2.68969988822937, 2.6247000694274902, 2.75600004196167, 2.5901999473571777, 2.463200092315674, 2.5761001110076904, 2.567699909210205, 2.673799991607666, 2.3731000423431396, 2.4072999954223633, 2.4312000274658203, 2.368000030517578, 2.2769999504089355, 2.646199941635132, 2.1454999446868896, 2.116300106048584, 1.9434000253677368, 2.3285000324249268, 1.3035000562667847, 1.1924999952316284, 0.5424000024795532, 1.7444000244140625, 3.0067999362945557, 2.9667999744415283, 2.9128000736236572, 2.9126999378204346, 2.898400068283081, 2.8749001026153564, 2.853600025177002, 2.849600076675415, 2.8457999229431152, 2.8118999004364014, 2.810800075531006, 2.797800064086914, 2.766200065612793, 2.6946001052856445, 2.691699981689453, 2.6363000869750977, 2.5897998809814453, 2.587899923324585, 2.5878000259399414, 2.5757999420166016, 2.5715999603271484, 2.555500030517578, 2.555500030517578, 2.543800115585327, 2.5401999950408936, 2.5380001068115234, 2.5160999298095703, 2.5058000087738037, 2.49429988861084, 2.4941999912261963, 2.4846999645233154, 2.4358999729156494, 2.456899881362915, 2.4375, 2.3861000537872314, 2.3199000358581543, 2.32069993019104, 2.4156999588012695, 2.4409000873565674, 2.2862000465393066, 2.2058000564575195, 2.263700008392334, 2.051800012588501, 2.0271999835968018, 2.2464001178741455, 1.7924000024795532, 2.119999885559082, 1.8315000534057617, 1.940500020980835, 3.2346999645233154, 3.139400005340576, 3.1273999214172363, 3.1135001182556152, 3.105600118637085, 3.105299949645996, 3.0896999835968018, 3.0732998847961426, 3.07069993019104, 3.0520999431610107, 3.0262999534606934, 3.019200086593628, 3.0125999450683594, 3.012399911880493, 3.0123000144958496, 3.0111000537872314, 3.010200023651123, 2.9967000484466553, 2.9677000045776367, 2.958699941635132, 2.9583001136779785, 2.9579999446868896, 2.9547998905181885, 2.947700023651123, 2.9463999271392822, 2.927299976348877, 2.925299882888794, 2.9226999282836914, 2.9165000915527344, 2.9031999111175537, 2.8529999256134033, 2.8642001152038574, 2.819700002670288, 2.816200017929077, 2.714200019836426, 2.7832000255584717, 2.7506000995635986, 2.7846999168395996, 2.576900005340576, 2.526599884033203, 2.846400022506714, 2.5327999591827393, 2.6480000019073486, 2.448499917984009, 2.577699899673462, 2.0506999492645264, 2.417099952697754, 2.2948999404907227, 2.456700086593628, 2.671099901199341, 2.316999912261963, 2.3343000411987305, 2.277899980545044, 2.131500005722046, 1.937999963760376, 2.410099983215332, 1.5081000328063965, 2.056299924850464, 1.6441999673843384, 2.049799919128418, 1.4735000133514404, 1.3884999752044678, 1.5313999652862549, 1.0245000123977661, 0.6776999831199646, 3.3701999187469482, 3.3529000282287598, 3.351900100708008, 3.3485000133514404, 3.346100091934204, 3.341900110244751, 3.3417000770568848, 3.313999891281128, 3.3008999824523926, 3.3008999824523926, 3.2959001064300537, 3.2909998893737793, 3.2757999897003174, 3.2744998931884766, 3.262700080871582, 3.25570011138916, 3.248800039291382, 3.235300064086914, 3.2288999557495117, 3.2098000049591064, 3.1933999061584473, 3.185800075531006, 3.180500030517578, 3.1760001182556152, 3.155100107192993, 3.1547999382019043, 3.154599905014038, 3.146399974822998, 3.1440000534057617, 3.140899896621704, 3.1243999004364014, 3.118799924850464, 3.1136999130249023, 2.935499906539917, 2.8742001056671143, 2.8666000366210938, 2.8464999198913574, 2.8389999866485596, 2.87280011177063, 2.6637001037597656, 2.6816000938415527, 2.7857000827789307, 2.646699905395508, 2.763200044631958, 2.753200054168701, 2.374799966812134, 2.4066998958587646, 2.4590001106262207, 2.677999973297119, 2.475600004196167, 2.128999948501587, 2.5527000427246094, 1.951799988746643, 2.3362998962402344, 2.0176000595092773, 2.001800060272217, 2.632200002670288, 2.310699939727783, 2.0109000205993652, 2.3677000999450684, 2.344899892807007, 2.3480000495910645, 1.6822999715805054, 1.7010999917984009, 3.3501999378204346, 3.3454999923706055, 3.3375000953674316, 3.325700044631958, 3.3194000720977783, 3.293800115585327, 3.292099952697754, 3.280600070953369, 3.2746999263763428, 3.272900104522705, 3.2574000358581543, 3.2474000453948975, 3.240000009536743, 3.238800048828125, 3.2084999084472656, 3.1963000297546387, 3.1953999996185303, 3.1786999702453613, 3.175800085067749, 3.1691999435424805, 3.1410000324249268, 3.1386001110076904, 3.126800060272217, 3.119800090789795, 3.087100028991699, 3.0868000984191895, 3.0813000202178955, 3.0457000732421875, 3.028899908065796, 2.9832000732421875, 2.9807000160217285, 2.9430999755859375, 2.955199956893921, 2.870500087738037, 2.9798998832702637, 2.825200080871582, 2.5945000648498535, 2.804800033569336, 2.6268999576568604, 2.876699924468994, 2.4653000831604004, 2.6875, 2.65310001373291, 2.218100070953369, 2.488100051879883, 2.565700054168701, 1.847599983215332, 1.7024999856948853, 2.2207000255584717, 1.4951000213623047, 1.3210999965667725, 1.1991000175476074, 2.1221001148223877, 3.3654000759124756, 3.3461999893188477, 3.2802000045776367, 3.255500078201294, 3.245300054550171, 3.2348999977111816, 3.2193000316619873, 3.185800075531006, 3.160099983215332, 3.15910005569458, 3.158600091934204, 3.0725998878479004, 3.0459001064300537, 3.0388998985290527, 3.0095999240875244, 2.9398000240325928, 2.9354000091552734, 2.92930006980896, 2.9238998889923096, 2.915600061416626, 2.8935999870300293, 2.8798999786376953, 2.876499891281128, 2.8594000339508057, 2.8543999195098877, 2.851799964904785, 2.824700117111206, 2.809499979019165, 2.7985000610351562, 2.7844998836517334, 2.780400037765503, 2.6289000511169434, 2.7392001152038574, 2.6282999515533447, 2.603600025177002, 2.5146000385284424, 2.467099905014038, 2.4925999641418457, 2.5357000827789307, 2.569499969482422, 2.112299919128418, 2.27810001373291, 2.013200044631958, 2.501800060272217, 2.608599901199341, 1.8423999547958374, 2.110100030899048, 2.2699999809265137, 1.3150999546051025, 1.4672000408172607, 1.5205999612808228, 1.479699969291687, 1.4864000082015991, 1.1973999738693237, 1.6330000162124634, 3.454400062561035, 3.453900098800659, 3.4096999168395996, 3.3907999992370605, 3.379199981689453, 3.352799892425537, 3.3422999382019043, 3.3255999088287354, 3.3164000511169434, 3.311500072479248, 3.2923998832702637, 3.291300058364868, 3.2904999256134033, 3.266900062561035, 3.202399969100952, 3.176100015640259, 3.154599905014038, 3.1291000843048096, 3.1210999488830566, 3.115499973297119, 3.105600118637085, 3.0831000804901123, 3.0732998847961426, 3.065200090408325, 3.0629000663757324, 3.0380001068115234, 2.9804000854492188, 2.9783999919891357, 2.9746999740600586, 2.9539999961853027, 2.8924999237060547, 2.827699899673462, 2.806299924850464, 2.928800106048584, 2.805799961090088, 2.8143999576568604, 2.623199939727783, 2.6735000610351562, 2.5892999172210693, 2.807300090789795, 2.5035998821258545, 2.8306000232696533, 2.3025999069213867, 2.2792000770568848, 2.3345999717712402, 2.158799886703491, 2.112299919128418, 2.5304999351501465, 2.382699966430664, 2.3541998863220215, 1.769700050354004, 1.4979000091552734, 2.6217000484466553, 1.8623000383377075, 1.6535999774932861, 1.6269999742507935, 1.8361999988555908, 1.4401999711990356, 0.8820000290870667, 1.863800048828125, 1.0592999458312988, 1.5781999826431274, 1.6994999647140503, 3.736299991607666, 3.6914000511169434, 3.6879000663757324, 3.687299966812134, 3.669300079345703, 3.6654999256134033, 3.660599946975708, 3.658799886703491, 3.642699956893921, 3.6210999488830566, 3.610100030899048, 3.608299970626831, 3.6054999828338623, 3.5964999198913574, 3.5950000286102295, 3.5755999088287354, 3.5648999214172363, 3.561300039291382, 3.549299955368042, 3.54229998588562, 3.5422000885009766, 3.5297999382019043, 3.5239999294281006, 3.517899990081787, 3.504499912261963, 3.498300075531006, 3.4953999519348145, 3.484299898147583, 3.4832000732421875, 3.480600118637085, 3.4727001190185547, 3.4788999557495117, 3.425800085067749, 3.3812999725341797, 3.303499937057495, 3.364799976348877, 3.3931000232696533, 3.147900104522705, 2.982800006866455, 3.1157000064849854, 2.5492000579833984, 2.5673000812530518, 2.5764000415802, 2.4358999729156494, 2.6598000526428223, 2.755500078201294, 2.1050000190734863, 2.6970999240875244, 2.2383999824523926, 2.6991000175476074, 2.6256000995635986, 2.42930006980896, 1.6871000528335571, 2.196899890899658, 2.1321001052856445, 2.026400089263916, 2.446000099182129, 1.3981000185012817, 2.0046000480651855, 0.8791999816894531, 0.7718999981880188, 1.792799949645996, 1.5085999965667725, 1.8351000547409058, 1.9299999475479126, 0.6347000002861023, 4.07420015335083, 4.072299957275391, 4.0696001052856445, 4.068600177764893, 4.051300048828125, 4.0447998046875, 4.039400100708008, 4.000199794769287, 3.9865000247955322, 3.9667999744415283, 3.9565999507904053, 3.9382998943328857, 3.9326000213623047, 3.918299913406372, 3.874500036239624, 3.8740999698638916, 3.849400043487549, 3.841599941253662, 3.836899995803833, 3.817500114440918, 3.734499931335449, 3.7274999618530273, 3.7248001098632812, 3.7248001098632812, 3.724100112915039, 3.720099925994873, 3.7047998905181885, 3.7002999782562256, 3.699700117111206, 3.6854000091552734, 3.678100109100342, 3.6661999225616455, 3.656100034713745, 3.6528000831604004, 3.563800096511841, 3.5436999797821045, 3.60509991645813, 3.5754001140594482, 3.428100109100342, 3.547600030899048, 3.2386999130249023, 3.3261001110076904, 3.2497000694274902, 3.5292000770568848, 3.3287999629974365, 3.234999895095825, 3.2751998901367188, 3.272900104522705, 3.0460000038146973, 3.44950008392334, 3.2627999782562256, 2.7102999687194824, 2.8064000606536865, 2.89490008354187, 4.660699844360352, 4.651400089263916, 4.645899772644043, 4.624499797821045, 4.59089994430542, 4.570899963378906, 4.546000003814697, 4.477700233459473, 4.446599960327148, 4.432199954986572, 4.3867998123168945, 4.3846001625061035, 4.383299827575684, 4.350900173187256, 4.332600116729736, 4.252600193023682, 4.244999885559082, 4.2154998779296875, 4.207600116729736, 4.184599876403809, 4.084199905395508, 4.03879976272583, 4.03249979019165, 4.005099773406982, 3.9804000854492188, 3.9251999855041504, 3.888700008392334, 3.8733999729156494, 3.8731000423431396, 3.8090999126434326, 3.7980000972747803, 3.7453999519348145, 3.8066000938415527, 3.787600040435791, 3.5676000118255615, 3.341200113296509, 3.2495999336242676, 3.476599931716919, 3.7005999088287354, 2.5924999713897705, 2.836199998855591, 2.536900043487549, 2.765899896621704, 3.3736000061035156, 2.117300033569336, 2.2362000942230225, 2.84660005569458, 1.9742000102996826, 2.9202001094818115, 2.573699951171875, 0.8672999739646912, 2.0316998958587646, 0.30820000171661377, 1.8782999515533447, 1.6492999792099], \"logprob\": [30.0, 29.0, 28.0, 27.0, 26.0, 25.0, 24.0, 23.0, 22.0, 21.0, 20.0, 19.0, 18.0, 17.0, 16.0, 15.0, 14.0, 13.0, 12.0, 11.0, 10.0, 9.0, 8.0, 7.0, 6.0, 5.0, 4.0, 3.0, 2.0, 1.0, -4.133500099182129, -4.005499839782715, -4.36359977722168, -4.394899845123291, -4.932799816131592, -7.6579999923706055, -4.422900199890137, -4.543499946594238, -4.559999942779541, -5.0447998046875, -3.811800003051758, -3.4337000846862793, -7.900000095367432, -4.2779998779296875, -4.559500217437744, -4.55620002746582, -3.4137001037597656, -4.120699882507324, -5.554500102996826, -4.938300132751465, -4.178899765014648, -4.564000129699707, -3.714200019836426, -8.37969970703125, -5.022600173950195, -5.336599826812744, -5.030200004577637, -4.256899833679199, -4.181700229644775, -7.046299934387207, -4.224699974060059, -4.189599990844727, -3.6826999187469482, -3.918800115585327, -4.4328999519348145, -3.947000026702881, -4.229400157928467, -4.179800033569336, -4.210100173950195, -4.155799865722656, -4.423099994659424, -4.560299873352051, -5.115600109100342, -4.39769983291626, -4.27269983291626, -5.740799903869629, -6.754799842834473, -7.611100196838379, -6.126299858093262, -7.416399955749512, -4.910900115966797, -4.285299777984619, -4.991000175476074, -5.836599826812744, -5.217700004577637, -5.589200019836426, -7.94950008392334, -7.978000164031982, -5.028299808502197, -5.3871002197265625, -4.765999794006348, -6.612500190734863, -8.135199546813965, -6.558899879455566, -6.526800155639648, -8.31760025024414, -5.2789998054504395, -4.021100044250488, -5.402900218963623, -5.213500022888184, -5.25600004196167, -8.506400108337402, -4.921999931335449, -3.7651000022888184, -4.507699966430664, -4.888299942016602, -4.120800018310547, -3.93969988822937, -3.5322000980377197, -4.399600028991699, -4.073400020599365, -5.949999809265137, -4.918600082397461, -5.0920000076293945, -4.115900039672852, -4.342100143432617, -4.6184000968933105, -5.0295000076293945, -5.019400119781494, -4.641300201416016, -4.809100151062012, -4.905099868774414, -4.951700210571289, -4.997700214385986, -7.140699863433838, -5.44379997253418, -7.327099800109863, -5.8225998878479, -7.06279993057251, -4.901400089263916, -7.641499996185303, -5.354899883270264, -7.747099876403809, -7.7480998039245605, -4.793900012969971, -5.665200233459473, -7.894000053405762, -5.520299911499023, -5.430799961090088, -5.400100231170654, -5.431399822235107, -4.817800045013428, -8.260100364685059, -7.781199932098389, -5.674799919128418, -4.657299995422363, -5.503399848937988, -8.431099891662598, -8.430800437927246, -8.431900024414062, -8.343600273132324, -8.44260025024414, -4.151299953460693, -5.742599964141846, -3.75, -5.915200233459473, -5.32289981842041, -5.557799816131592, -5.623499870300293, -3.8076999187469482, -5.1143999099731445, -5.326399803161621, -5.284900188446045, -5.663000106811523, -4.972499847412109, -4.6595001220703125, -5.853899955749512, -4.902599811553955, -5.488100051879883, -5.097499847412109, -5.379899978637695, -5.144499778747559, -4.889999866485596, -4.738500118255615, -4.763400077819824, -4.888899803161621, -4.987100124359131, -5.000899791717529, -4.861499786376953, -5.024700164794922, -4.857100009918213, -5.087399959564209, -4.793000221252441, -4.895100116729736, -5.105599880218506, -5.06879997253418, -5.214900016784668, -5.195799827575684, -5.240499973297119, -5.210899829864502, -5.215199947357178, -5.543900012969971, -5.783100128173828, -5.91349983215332, -5.915900230407715, -4.9197998046875, -6.282100200653076, -5.100900173187256, -6.264900207519531, -6.581099987030029, -6.556600093841553, -5.81850004196167, -5.1203999519348145, -6.948800086975098, -5.501699924468994, -6.97160005569458, -5.091300010681152, -5.011899948120117, -7.291900157928467, -7.469299793243408, -7.472499847412109, -5.7855000495910645, -6.04449987411499, -4.7683000564575195, -5.181700229644775, -5.9552998542785645, -7.15749979019165, -7.686500072479248, -7.411300182342529, -7.606599807739258, -6.524700164794922, -7.1697001457214355, -4.702899932861328, -5.786499977111816, -4.5920000076293945, -5.911600112915039, -5.114099979400635, -5.872000217437744, -5.285999774932861, -4.291600227355957, -4.707600116729736, -4.605500221252441, -4.352499961853027, -4.764500141143799, -4.761300086975098, -5.827600002288818, -5.382900238037109, -5.120500087738037, -5.052000045776367, -5.446000099182129, -5.184599876403809, -5.408999919891357, -5.437600135803223, -4.712699890136719, -5.299699783325195, -5.320700168609619, -5.0833001136779785, -5.140900135040283, -5.2357001304626465, -5.249100208282471, -5.378699779510498, -5.328000068664551, -5.334000110626221, -4.521200180053711, -5.605400085449219, -5.507800102233887, -5.298299789428711, -6.363800048828125, -6.226200103759766, -6.176000118255615, -5.322000026702881, -7.039100170135498, -5.735599994659424, -5.841100215911865, -5.576000213623047, -7.373799800872803, -7.43149995803833, -6.680099964141846, -4.958700180053711, -4.828000068664551, -5.355899810791016, -4.910900115966797, -5.203100204467773, -7.302299976348877, -5.98960018157959, -5.6178998947143555, -7.855599880218506, -7.856400012969971, -6.404900074005127, -7.9253997802734375, -5.219600200653076, -5.296899795532227, -8.234999656677246, -5.057700157165527, -4.0960001945495605, -5.2555999755859375, -4.894000053405762, -5.192299842834473, -5.263599872589111, -5.920599937438965, -4.883699893951416, -4.867199897766113, -5.234600067138672, -5.336100101470947, -4.594799995422363, -4.65310001373291, -4.575500011444092, -4.6570000648498535, -4.821800231933594, -5.04449987411499, -5.0706000328063965, -4.70989990234375, -4.821899890899658, -4.8460001945495605, -4.826300144195557, -5.041900157928467, -4.685299873352051, -4.6504998207092285, -5.19950008392334, -5.051400184631348, -5.155399799346924, -5.2342000007629395, -6.067500114440918, -6.580399990081787, -6.846799850463867, -6.893899917602539, -7.022299766540527, -6.831699848175049, -7.264599800109863, -6.227200031280518, -6.379199981689453, -6.733500003814697, -6.786900043487549, -6.3078999519348145, -7.167099952697754, -6.209099769592285, -7.5106000900268555, -6.1315999031066895, -7.603899955749512, -7.603899955749512, -6.115300178527832, -7.6092000007629395, -6.893499851226807, -7.710999965667725, -7.660999774932861, -6.201000213623047, -7.7129998207092285, -7.252999782562256, -7.829999923706055, -7.8821001052856445, -7.882299900054932, -7.889100074768066, -6.232500076293945, -5.831099987030029, -6.518099784851074, -6.207300186157227, -5.788300037384033, -6.123000144958496, -6.623799800872803, -5.010700225830078, -5.999899864196777, -6.637800216674805, -5.4430999755859375, -5.09689998626709, -6.035399913787842, -6.162700176239014, -5.281799793243408, -4.421800136566162, -5.808499813079834, -4.392600059509277, -4.46150016784668, -5.534999847412109, -4.337399959564209, -5.470300197601318, -4.6244001388549805, -5.636600017547607, -4.816299915313721, -4.5121002197265625, -4.589099884033203, -5.08519983291626, -4.8403000831604, -5.388299942016602, -4.702700138092041, -4.92080020904541, -5.3221001625061035, -5.684500217437744, -5.794600009918213, -5.157599925994873, -5.249100208282471, -5.200799942016602, -5.500199794769287, -5.338699817657471, -5.616099834442139, -5.447400093078613, -5.626299858093262, -5.640399932861328, -6.69950008392334, -6.433899879455566, -7.018700122833252, -3.5076000690460205, -5.066299915313721, -7.332600116729736, -3.8336000442504883, -6.782800197601318, -3.587100028991699, -5.44789981842041, -4.55049991607666, -5.944499969482422, -6.2546000480651855, -6.052299976348877, -4.129899978637695, -6.073599815368652, -4.7245001792907715, -8.178000450134277, -6.24370002746582, -6.297900199890137, -6.855800151824951, -6.853700160980225, -6.571700096130371, -5.666600227355957, -5.065899848937988, -5.735300064086914, -7.221799850463867, -5.820799827575684, -5.409800052642822, -7.74429988861084, -5.502999782562256, -5.326200008392334, -5.38539981842041, -4.890200138092041, -5.835899829864502, -5.212399959564209, -5.06879997253418, -4.493000030517578, -5.8094000816345215, -4.665900230407715, -5.207600116729736, -5.006199836730957, -4.969200134277344, -5.086100101470947, -4.9197998046875, -4.658299922943115, -4.942999839782715, -5.31689977645874, -4.975599765777588, -4.882699966430664, -5.086400032043457, -4.9492998123168945, -5.093299865722656, -5.0218000411987305, -5.070700168609619, -5.144400119781494, -5.192999839782715, -5.161600112915039, -5.196800231933594, -6.323999881744385, -6.578499794006348, -6.595200061798096, -6.6128997802734375, -6.639599800109863, -6.2195000648498535, -6.198400020599365, -6.757299900054932, -6.790900230407715, -6.8902997970581055, -6.9822998046875, -7.104599952697754, -6.76609992980957, -7.14870023727417, -6.551599979400635, -5.568999767303467, -5.581900119781494, -6.928699970245361, -7.259799957275391, -6.167300224304199, -6.844699859619141, -7.263199806213379, -6.858500003814697, -6.614200115203857, -6.9319000244140625, -6.906099796295166, -7.404099941253662, -7.49370002746582, -7.097599983215332, -6.0671000480651855, -5.445700168609619, -5.44290018081665, -6.2368998527526855, -6.64169979095459, -6.146599769592285, -5.774600028991699, -5.539000034332275, -6.39109992980957, -6.604300022125244, -5.589300155639648, -6.302499771118164, -6.126800060272217, -4.594099998474121, -4.509300231933594, -5.541399955749512, -5.59060001373291, -5.400199890136719, -5.158999919891357, -6.16480016708374, -5.7906999588012695, -5.2683000564575195, -5.053400039672852, -5.600599765777588, -5.048799991607666, -5.4095001220703125, -5.580399990081787, -4.947299957275391, -5.033400058746338, -5.441400051116943, -5.271399974822998, -5.577400207519531, -5.269999980926514, -5.1819000244140625, -5.305799961090088, -5.577499866485596, -5.383800029754639, -5.350800037384033, -5.342800140380859, -5.445000171661377, -5.4222002029418945, -5.518499851226807, -5.5183000564575195, -5.522799968719482, -5.55019998550415, -5.351200103759766, -6.529300212860107, -6.702899932861328, -6.827400207519531, -7.088200092315674, -7.265100002288818, -7.265900135040283, -7.361299991607666, -7.478000164031982, -7.418799877166748, -7.031400203704834, -7.5868000984191895, -7.586900234222412, -7.589000225067139, -7.591300010681152, -7.597400188446045, -6.71120023727417, -6.921599864959717, -7.783899784088135, -7.787099838256836, -6.350299835205078, -6.711900234222412, -7.414999961853027, -7.179200172424316, -5.688199996948242, -7.951600074768066, -7.952000141143799, -7.9552998542785645, -7.956099987030029, -6.7241997718811035, -5.910600185394287, -5.4832000732421875, -5.50600004196167, -6.86269998550415, -6.409900188446045, -6.417300224304199, -5.884699821472168, -5.814799785614014, -6.751800060272217, -4.8403000831604, -7.000100135803223, -5.9644999504089355, -5.885900020599365, -5.101799964904785, -6.417300224304199, -5.581099987030029, -4.328000068664551, -4.754499912261963, -6.24560022354126, -5.99399995803833, -5.15369987487793, -4.915500164031982, -5.331699848175049, -4.737800121307373, -5.669899940490723, -5.232800006866455, -5.36959981918335, -5.547399997711182, -5.212699890136719, -4.710299968719482, -5.383800029754639, -5.039899826049805, -5.259099960327148, -4.559500217437744, -4.791600227355957, -5.553400039672852, -5.0391998291015625, -5.312099933624268, -5.144400119781494, -5.202099800109863, -5.4197998046875, -5.343599796295166, -5.406899929046631, -5.281799793243408, -5.258600234985352, -5.395699977874756, -5.361100196838379, -5.379700183868408, -5.394400119781494, -5.40500020980835, -5.8206000328063965, -6.886899948120117, -7.074900150299072, -7.141200065612793, -7.362100124359131, -7.544400215148926, -7.537799835205078, -6.44890022277832, -6.762700080871582, -7.85099983215332, -3.8557000160217285, -8.046799659729004, -8.046799659729004, -6.677800178527832, -3.9433000087738037, -5.021399974822998, -4.432600021362305, -4.545499801635742, -4.933899879455566, -5.0578999519348145, -6.688899993896484, -5.78380012512207, -5.734899997711182, -3.868499994277954, -4.12939977645874, -6.055200099945068, -4.040599822998047, -5.666399955749512, -6.920499801635742, -8.301799774169922, -4.035900115966797, -4.826900005340576, -3.9941999912261963, -4.797299861907959, -3.5992000102996826, -3.9184000492095947, -4.626699924468994, -5.0005998611450195, -4.826600074768066, -4.0746002197265625, -3.469599962234497, -4.629499912261963, -5.011899948120117, -4.144599914550781, -4.4741997718811035, -4.535600185394287, -5.2769999504089355, -4.964099884033203, -5.0619001388549805, -5.157700061798096, -4.901599884033203, -4.804100036621094, -6.014400005340576, -6.280200004577637, -5.3256001472473145, -5.151700019836426, -5.672599792480469, -6.642099857330322, -6.692399978637695, -6.72160005569458, -6.74429988861084, -6.03000020980835, -7.029900074005127, -7.095099925994873, -7.0960001945495605, -5.8454999923706055, -7.1579999923706055, -7.159900188446045, -4.648099899291992, -5.940800189971924, -6.762199878692627, -7.309899806976318, -6.452499866485596, -6.958000183105469, -5.279099941253662, -7.379899978637695, -7.319499969482422, -7.287199974060059, -7.4191999435424805, -5.979599952697754, -7.43120002746582, -7.48829984664917, -3.839200019836426, -5.485599994659424, -3.712100028991699, -3.819000005722046, -4.460299968719482, -4.262700080871582, -4.485099792480469, -4.2459001541137695, -4.518700122833252, -4.935800075531006, -4.502099990844727, -4.913599967956543, -4.213699817657471, -5.911399841308594, -4.587600231170654, -3.900099992752075, -5.0071001052856445, -4.982100009918213, -5.5680999755859375, -4.362400054931641, -4.673900127410889, -4.826099872589111, -4.806600093841553, -4.650899887084961, -5.529200077056885, -4.899799823760986, -5.149400234222412, -5.044099807739258, -5.386600017547607, -5.070499897003174, -5.146100044250488, -5.097099781036377, -5.276299953460693, -5.482900142669678, -4.597499847412109, -5.404200077056885, -7.098100185394287, -4.637899875640869, -3.9154000282287598, -4.709799766540527, -4.289400100708008, -4.837699890136719, -7.880499839782715, -7.884500026702881, -7.932300090789795, -4.355500221252441, -4.417900085449219, -6.117700099945068, -5.41949987411499, -4.226399898529053, -6.9857001304626465, -4.729400157928467, -7.847799777984619, -4.408899784088135, -4.792900085449219, -4.084400177001953, -8.6451997756958, -4.2153000831604, -4.460299968719482, -6.490900039672852, -5.360199928283691, -4.7758002281188965, -7.575399875640869, -4.54580020904541, -3.6565001010894775, -4.54610013961792, -4.234099864959717, -4.441800117492676, -4.079999923706055, -4.0954999923706055, -4.869900226593018, -5.1305999755859375, -4.591599941253662, -4.35099983215332, -4.626999855041504, -4.273200035095215, -4.372900009155273, -4.705900192260742, -4.376500129699707, -4.644899845123291, -4.515900135040283, -4.686699867248535, -5.821800231933594, -6.248499870300293, -6.646599769592285, -7.13100004196167, -7.176799774169922, -7.177999973297119, -6.073999881744385, -4.4415998458862305, -4.695899963378906, -7.444900035858154, -6.605999946594238, -7.072400093078613, -7.61269998550415, -7.6132001876831055, -7.613999843597412, -7.618500232696533, -7.622300148010254, -6.144599914550781, -7.578499794006348, -7.280700206756592, -7.813199996948242, -7.8140997886657715, -7.825200080871582, -5.387499809265137, -5.343900203704834, -5.2332000732421875, -6.139500141143799, -6.362299919128418, -7.4471001625061035, -5.210100173950195, -4.425899982452393, -6.300000190734863, -5.606599807739258, -5.606200218200684, -4.544899940490723, -5.400000095367432, -5.140500068664551, -5.518199920654297, -4.570799827575684, -4.524400234222412, -6.53980016708374, -4.752999782562256, -5.410200119018555, -4.695700168609619, -5.245500087738037, -3.6791999340057373, -4.902400016784668, -4.643599987030029, -5.1149001121521, -5.724800109863281, -4.90500020980835, -5.103799819946289, -5.099599838256836, -4.926700115203857, -4.778200149536133, -5.365600109100342, -4.665599822998047, -5.127500057220459, -5.032400131225586, -5.270899772644043, -5.262700080871582, -5.260499954223633, -5.298900127410889, -5.2829999923706055, -5.280300140380859, -5.389599800109863, -5.773799896240234, -5.436200141906738, -5.831999778747559, -5.4893999099731445, -5.910299777984619, -5.6803998947143555, -6.292200088500977, -6.439499855041504, -6.439599990844727, -5.4567999839782715, -6.531700134277344, -5.577700138092041, -6.593500137329102, -6.755000114440918, -5.023900032043457, -5.525599956512451, -5.486800193786621, -6.981299877166748, -7.091400146484375, -6.957600116729736, -7.216800212860107, -5.525100231170654, -6.048399925231934, -7.360400199890137, -5.811999797821045, -7.2891998291015625, -6.600900173187256, -5.70389986038208, -5.385499954223633, -5.497200012207031, -6.174300193786621, -6.299499988555908, -4.888500213623047, -4.4791998863220215, -4.798099994659424, -4.854800224304199, -4.862500190734863, -5.205599784851074, -4.531899929046631, -4.6545000076293945, -5.041100025177002, -4.704400062561035, -5.019199848175049, -5.090700149536133, -4.314899921417236, -4.412899971008301, -4.573800086975098, -5.0096001625061035, -4.79010009765625, -4.393499851226807, -4.891600131988525, -4.29040002822876, -4.709000110626221, -4.42549991607666, -4.518899917602539, -5.0472002029418945, -4.837100028991699, -4.651899814605713, -4.931099891662598, -4.937699794769287, -5.048500061035156, -4.917500019073486, -4.945700168609619, -3.393899917602539, -4.302999973297119, -5.210999965667725, -6.7368998527526855, -6.780799865722656, -3.355299949645996, -4.562300205230713, -4.847300052642822, -7.051799774169922, -5.920899868011475, -3.257999897003174, -6.42080020904541, -7.2270002365112305, -7.232500076293945, -3.7499001026153564, -7.418099880218506, -7.421800136566162, -7.48769998550415, -3.417099952697754, -6.370699882507324, -4.964600086212158, -4.866399765014648, -3.4581000804901123, -7.2204999923706055, -4.634300231933594, -7.803299903869629, -3.206899881362915, -4.5746002197265625, -7.005899906158447, -3.391400098800659, -4.08519983291626, -3.703700065612793, -4.03439998626709, -3.9781999588012695, -5.253499984741211, -3.9842000007629395, -3.6312999725341797, -4.800899982452393, -4.031799793243408, -5.212500095367432, -4.214300155639648, -4.917399883270264, -4.840400218963623, -4.2621002197265625, -4.751999855041504, -4.863900184631348, -4.321599960327148, -4.265200138092041, -4.644999980926514, -4.612500190734863, -4.578499794006348, -4.683000087738037, -4.780900001525879, -6.4670000076293945, -6.6269001960754395, -4.481500148773193, -6.645599842071533, -6.70419979095459, -7.272600173950195, -6.1082000732421875, -7.477499961853027, -7.57289981842041, -3.9440999031066895, -6.222899913787842, -7.8572998046875, -7.144899845123291, -6.808300018310547, -4.7281999588012695, -4.157899856567383, -6.2133002281188965, -5.41349983215332, -8.245499610900879, -6.1305999755859375, -7.488900184631348, -6.4166998863220215, -5.437900066375732, -3.7976999282836914, -7.711699962615967, -3.4530999660491943, -4.724100112915039, -4.536799907684326, -4.8979997634887695, -4.7093000411987305, -3.840100049972534, -3.2530999183654785, -5.120999813079834, -4.552299976348877, -5.007599830627441, -4.769999980926514, -4.624199867248535, -4.737500190734863, -5.046999931335449, -5.242599964141846, -4.023399829864502, -4.810800075531006, -4.302299976348877, -5.332099914550781, -5.651899814605713, -4.7505998611450195, -5.158699989318848, -5.3379998207092285, -4.559000015258789, -4.886499881744385, -4.947299957275391, -4.958799839019775, -4.982600212097168, -4.907199859619141, -5.102200031280518, -5.8119001388549805, -5.858399868011475, -6.383500099182129, -6.539400100708008, -6.627600193023682, -6.773799896240234, -6.877699851989746, -6.891499996185303, -5.569900035858154, -6.591800212860107, -7.145400047302246, -7.076499938964844, -7.154600143432617, -7.17080020904541, -7.519499778747559, -7.611299991607666, -5.532800197601318, -7.316800117492676, -5.711100101470947, -6.310100078582764, -7.695899963378906, -7.896100044250488, -4.5381999015808105, -5.158999919891357, -6.903600215911865, -6.226399898529053, -5.146500110626221, -4.755499839782715, -6.31850004196167, -6.043000221252441, -4.671999931335449, -4.421899795532227, -4.382199764251709, -5.841599941253662, -5.020500183105469, -5.249800205230713, -4.561299800872803, -4.894000053405762, -4.759099960327148, -5.541999816894531, -4.803299903869629, -5.738699913024902, -4.452899932861328, -4.5370001792907715, -4.7779998779296875, -4.512700080871582, -4.444399833679199, -5.235899925231934, -5.106200218200684, -5.074100017547607, -4.3993000984191895, -4.14169979095459, -5.520599842071533, -4.777599811553955, -4.661900043487549, -4.773200035095215, -5.054500102996826, -4.884799957275391, -4.768099784851074, -5.225100040435791, -5.076499938964844, -5.212100028991699, -5.221199989318848, -5.199100017547607, -5.854899883270264, -5.840000152587891, -5.905900001525879, -5.914400100708008, -6.164999961853027, -6.201000213623047, -6.144899845123291, -6.349699974060059, -6.503499984741211, -6.575200080871582, -6.085899829864502, -6.521100044250488, -5.542099952697754, -6.0335001945495605, -6.772799968719482, -6.828199863433838, -6.355000019073486, -6.251200199127197, -6.9380998611450195, -6.938600063323975, -5.35099983215332, -6.511199951171875, -5.58620023727417, -7.055300235748291, -6.067200183868408, -7.139400005340576, -5.856400012969971, -5.037399768829346, -5.54449987411499, -5.028900146484375, -6.135700225830078, -5.835599899291992, -5.62529993057251, -5.287099838256836, -5.6433000564575195, -5.940899848937988, -5.097799777984619, -5.267199993133545, -5.58489990234375, -4.578100204467773, -4.828499794006348, -4.983500003814697, -4.833600044250488, -5.118199825286865, -5.322999954223633, -4.841400146484375, -5.360499858856201, -5.0524001121521, -5.432799816131592, -5.40369987487793, -5.287199974060059, -4.940100193023682, -5.196300029754639, -5.188600063323975, -5.177199840545654, -5.415299892425537, -5.112800121307373, -5.28410005569458, -4.991099834442139, -5.110199928283691, -5.302199840545654, -5.2617998123168945, -5.3144001960754395, -5.343900203704834, -5.239299774169922, -5.417799949645996, -4.938899993896484, -5.260700225830078, -5.453800201416016, -5.677999973297119, -5.735199928283691, -5.780200004577637, -6.076900005340576, -6.18120002746582, -6.299900054931641, -4.220399856567383, -5.099599838256836, -6.4222002029418945, -3.9491000175476074, -6.7399001121521, -6.740499973297119, -4.044899940490723, -6.866799831390381, -6.163899898529053, -3.983099937438965, -5.1894001960754395, -4.943999767303467, -7.241199970245361, -7.241300106048584, -5.422699928283691, -7.255099773406982, -4.451900005340576, -5.2347002029418945, -3.6740000247955322, -7.29040002822876, -4.5619001388549805, -4.052700042724609, -4.080399990081787, -4.3028998374938965, -3.928299903869629, -4.250800132751465, -4.798699855804443, -4.754199981689453, -4.195400238037109, -4.716899871826172, -3.567199945449829, -3.9130001068115234, -3.9593000411987305, -4.7993998527526855, -4.365699768066406, -4.178800106048584, -4.26039981842041, -4.356900215148926, -4.137800216674805, -4.801799774169922, -4.6554999351501465, -4.493199825286865, -4.769199848175049, -4.868899822235107, -4.378600120544434, -4.541800022125244, -4.634500026702881, -4.913300037384033, -5.215099811553955, -5.418700218200684, -4.988399982452393, -5.971399784088135, -5.159599781036377, -6.171500205993652, -6.344799995422363, -6.352700233459473, -6.357100009918213, -4.676300048828125, -6.4604997634887695, -4.636899948120117, -5.939899921417236, -4.694699764251709, -5.809999942779541, -4.059500217437744, -5.383200168609619, -3.215399980545044, -4.945300102233887, -5.6875, -6.4770002365112305, -6.237400054931641, -7.110599994659424, -5.6427998542785645, -7.11870002746582, -5.185400009155273, -4.341899871826172, -3.801100015640259, -5.351600170135498, -5.3206000328063965, -4.204599857330322, -3.8229000568389893, -4.52839994430542, -5.127799987792969, -5.441199779510498, -4.229400157928467, -4.499199867248535, -4.321700096130371, -4.5954999923706055, -5.194499969482422, -4.56220006942749, -4.627600193023682, -5.0177998542785645, -4.810400009155273, -5.0971999168396, -5.0320000648498535, -4.901800155639648, -5.059599876403809, -5.04640007019043, -5.080900192260742, -5.081600189208984]}, \"token.table\": {\"Topic\": [5, 3, 5, 7, 8, 11, 12, 19, 14, 19, 2, 4, 5, 7, 8, 16, 17, 2, 4, 6, 7, 16, 17, 1, 8, 16, 17, 19, 3, 6, 8, 13, 13, 2, 7, 17, 2, 7, 10, 11, 19, 1, 2, 3, 5, 7, 9, 10, 13, 15, 19, 3, 4, 5, 8, 9, 11, 13, 19, 18, 19, 8, 11, 13, 19, 8, 19, 19, 15, 18, 17, 6, 19, 17, 14, 17, 16, 18, 13, 20, 17, 2, 4, 6, 8, 16, 17, 1, 2, 6, 7, 8, 11, 14, 12, 1, 4, 5, 11, 14, 17, 1, 2, 5, 6, 8, 14, 1, 4, 5, 6, 7, 8, 9, 11, 14, 15, 16, 17, 1, 2, 5, 6, 7, 8, 9, 14, 16, 17, 1, 5, 7, 8, 1, 5, 6, 7, 8, 9, 17, 1, 4, 5, 6, 7, 8, 9, 17, 8, 16, 4, 5, 6, 7, 10, 12, 14, 15, 16, 17, 20, 1, 6, 7, 9, 17, 9, 6, 9, 20, 9, 20, 8, 18, 7, 18, 9, 12, 18, 9, 17, 18, 9, 18, 18, 9, 18, 18, 9, 12, 6, 18, 2, 4, 8, 14, 4, 17, 4, 11, 17, 17, 20, 8, 10, 6, 1, 2, 4, 5, 6, 7, 8, 9, 10, 11, 14, 15, 17, 8, 6, 8, 14, 17, 20, 1, 5, 7, 12, 17, 8, 12, 17, 1, 6, 8, 11, 12, 14, 17, 1, 3, 6, 8, 12, 14, 17, 19, 2, 5, 17, 1, 3, 4, 5, 6, 7, 8, 9, 17, 4, 5, 6, 7, 8, 10, 16, 17, 6, 8, 13, 16, 2, 3, 4, 11, 6, 6, 6, 1, 2, 3, 4, 5, 6, 8, 9, 10, 11, 13, 17, 18, 19, 16, 4, 9, 20, 2, 3, 4, 5, 6, 7, 8, 9, 10, 11, 13, 14, 15, 16, 17, 5, 11, 13, 17, 5, 6, 7, 13, 17, 2, 3, 6, 8, 10, 8, 4, 6, 8, 2, 3, 4, 6, 8, 9, 11, 15, 16, 17, 18, 20, 8, 13, 17, 20, 3, 4, 6, 8, 14, 18, 3, 6, 10, 14, 18, 11, 3, 16, 1, 3, 4, 6, 8, 9, 10, 11, 14, 17, 4, 6, 8, 11, 18, 19, 3, 4, 6, 11, 14, 18, 2, 4, 6, 7, 10, 11, 6, 8, 17, 2, 4, 6, 8, 11, 2, 4, 6, 10, 11, 1, 2, 4, 6, 7, 8, 10, 11, 2, 8, 18, 1, 2, 4, 6, 7, 10, 11, 9, 13, 3, 13, 13, 16, 16, 19, 4, 17, 19, 17, 6, 16, 9, 17, 19, 9, 18, 1, 5, 6, 7, 8, 9, 12, 15, 16, 1, 2, 3, 4, 5, 6, 7, 8, 9, 11, 12, 13, 14, 15, 16, 17, 18, 19, 1, 3, 5, 6, 7, 8, 9, 14, 15, 16, 19, 20, 2, 9, 14, 9, 1, 3, 8, 11, 14, 15, 17, 2, 3, 5, 6, 8, 11, 12, 14, 15, 17, 20, 2, 16, 3, 4, 8, 9, 9, 9, 11, 16, 4, 6, 2, 3, 4, 6, 8, 9, 16, 18, 5, 2, 3, 4, 6, 11, 15, 16, 2, 8, 10, 13, 3, 5, 6, 16, 9, 9, 4, 9, 1, 8, 9, 11, 13, 9, 18, 4, 13, 11, 10, 18, 11, 10, 1, 2, 4, 5, 6, 8, 9, 10, 12, 13, 17, 1, 2, 3, 4, 5, 6, 7, 8, 9, 10, 13, 15, 18, 5, 7, 10, 14, 19, 2, 5, 6, 7, 10, 11, 13, 17, 19, 2, 3, 7, 9, 13, 14, 17, 19, 2, 4, 7, 9, 14, 16, 17, 19, 2, 7, 17, 19, 19, 4, 6, 7, 9, 17, 18, 19, 20, 1, 2, 4, 6, 7, 14, 5, 8, 11, 2, 6, 13, 1, 2, 3, 4, 5, 6, 9, 11, 13, 16, 17, 6, 14, 13, 18, 19, 18, 8, 5, 8, 18, 4, 14, 4, 8, 14, 1, 4, 5, 9, 4, 4, 5, 4, 7, 8, 4, 9, 13, 13, 5, 6, 7, 9, 12, 13, 15, 16, 18, 19, 6, 20, 6, 20, 13, 8, 13, 17, 20, 14, 20, 13, 20, 1, 3, 5, 6, 7, 8, 9, 10, 11, 13, 16, 1, 2, 3, 4, 6, 7, 8, 9, 10, 11, 14, 16, 17, 2, 5, 6, 5, 1, 2, 3, 4, 8, 10, 14, 15, 17, 11, 5, 4, 11, 5, 6, 8, 9, 16, 6, 8, 9, 16, 1, 3, 4, 5, 6, 7, 10, 11, 12, 13, 14, 15, 16, 18, 1, 3, 5, 6, 7, 9, 10, 12, 13, 14, 15, 16, 18, 6, 9, 3, 8, 3, 4, 6, 11, 1, 3, 6, 8, 9, 11, 18, 20, 1, 3, 6, 11, 14, 18, 6, 3, 8, 11, 1, 3, 8, 11, 3, 8, 11, 3, 8, 14, 3, 11, 18, 3, 11, 18, 9, 6, 8, 8, 6, 13, 14, 17, 6, 8, 1, 3, 5, 6, 7, 10, 11, 12, 13, 17, 1, 2, 3, 4, 5, 6, 7, 8, 9, 10, 12, 13, 14, 15, 16, 5, 6, 10, 12, 15, 17, 1, 3, 5, 6, 8, 12, 13, 15, 16, 18, 3, 4, 5, 6, 8, 12, 14, 16, 18, 1, 3, 4, 6, 8, 9, 14, 17, 1, 3, 4, 6, 8, 9, 11, 14, 1, 4, 6, 8, 9, 11, 4, 11, 6, 11, 19, 1, 4, 6, 9, 11, 12, 2, 4, 6, 11, 14, 17, 3, 5, 6, 7, 9, 10, 12, 13, 15, 9, 12, 1, 4, 5, 6, 7, 9, 10, 11, 12, 13, 16, 18, 19, 1, 3, 5, 6, 7, 10, 12, 13, 15, 16, 1, 2, 4, 5, 6, 7, 8, 9, 10, 12, 13, 18, 19, 17, 4, 17, 1, 2, 5, 6, 8, 11, 14, 16, 1, 2, 3, 4, 6, 8, 11, 14, 16, 17, 1, 4, 8, 14, 17, 19, 1, 5, 6, 7, 8, 13, 17, 1, 5, 8, 9, 11, 13, 17, 19, 1, 6, 8, 11, 17, 6, 6, 9, 6, 7, 2, 4, 12, 15, 1, 5, 6, 7, 8, 14, 15, 20, 1, 4, 5, 6, 7, 8, 14, 15, 1, 4, 5, 6, 7, 8, 12, 13, 14, 15, 19, 1, 2, 4, 6, 8, 9, 12, 13, 14, 5, 6, 9, 11, 18, 4, 5, 6, 9, 11, 12, 15, 17, 18, 19, 1, 3, 4, 5, 6, 8, 9, 17, 18, 19, 7, 8, 13, 3, 7, 17, 5, 7, 13, 17, 3, 5, 7, 10, 13, 18, 20, 3, 6, 7, 15, 8, 20, 6, 3, 6, 3, 18, 5, 7, 19, 7, 19, 2, 10, 13, 15, 19, 7, 9, 10, 11, 2, 11, 12, 14, 17, 6, 8, 12, 1, 2, 3, 8, 9, 11, 16, 17, 6, 8, 11, 12, 12, 18, 20, 3, 4, 6, 8, 10, 12, 18, 19, 1, 2, 3, 4, 5, 6, 7, 8, 10, 11, 12, 14, 16, 17, 18, 3, 10, 12, 18, 2, 20, 1, 2, 3, 4, 5, 6, 7, 8, 9, 10, 12, 13, 14, 17, 18, 20, 2, 3, 6, 7, 14, 15, 18, 19, 3, 2, 6, 2, 3, 4, 5, 6, 7, 8, 9, 13, 18, 1, 2, 3, 4, 5, 6, 9, 10, 12, 13, 15, 16, 18, 1, 2, 3, 4, 6, 8, 9, 10, 12, 13, 17, 1, 2, 3, 4, 5, 6, 7, 8, 9, 10, 11, 12, 13, 14, 18, 1, 2, 4, 5, 6, 7, 8, 10, 11, 12, 16, 6, 8, 11, 13, 18, 19, 6, 11, 17, 18, 20, 18, 17, 5, 6, 14, 14, 9, 11, 14, 1, 2, 3, 4, 5, 6, 7, 8, 9, 10, 11, 12, 13, 14, 15, 16, 17, 18, 1, 2, 3, 4, 5, 6, 7, 8, 9, 10, 11, 12, 13, 14, 16, 17, 20, 1, 2, 3, 4, 5, 6, 7, 8, 9, 10, 11, 12, 16, 17, 18, 1, 2, 3, 5, 6, 8, 9, 10, 12, 13, 17, 18, 1, 2, 3, 5, 6, 7, 8, 9, 10, 11, 12, 16, 17, 18, 1, 3, 4, 8, 12, 17, 18, 20, 1, 2, 3, 4, 5, 6, 7, 8, 10, 11, 12, 13, 14, 17, 18, 20, 3, 4, 6, 8, 3, 4, 8, 9, 3, 6, 8, 9, 20, 1, 2, 3, 4, 6, 8, 10, 17, 17, 8, 2, 4, 6, 8, 9, 11, 14, 16, 18, 1, 2, 3, 4, 5, 13, 14, 16, 1, 6, 8, 12, 14, 16, 19, 2, 4, 16, 2, 17, 1, 2, 4, 7, 10, 11, 13, 18, 20, 1, 2, 4, 6, 7, 10, 11, 13, 4, 5, 6, 9, 14, 16, 1, 2, 3, 4, 5, 6, 7, 8, 9, 10, 11, 13, 15, 17, 18, 7, 1, 3, 4, 5, 6, 8, 9, 11, 13, 16, 18, 19, 3, 4, 5, 6, 8, 9, 11, 13, 17, 3, 4, 6, 8, 11, 14, 17, 18, 14, 3, 8, 11, 14, 15, 11, 3, 4, 8, 11, 14, 11, 5, 20, 17, 20, 20, 10, 20, 20, 2, 9, 20, 5, 8, 12, 17, 1, 4, 7, 8, 12, 13, 17, 18, 1, 8, 12, 13, 16, 17, 18, 4, 14, 17, 6, 15, 20, 2, 6, 15, 2, 6, 7, 8, 15, 2, 3, 7, 8, 9, 11, 12, 2, 6, 14, 2, 6, 16, 2, 6, 8, 9, 13, 17, 17, 11, 8, 11, 1, 5, 7, 8, 14, 16, 17, 18, 1, 2, 3, 5, 8, 9, 11, 14, 18, 3, 11, 14, 18, 4, 17, 1, 2, 5, 8, 14, 1, 5, 8, 11, 14, 16, 4, 5, 10, 12, 13, 18, 4, 5, 18, 1, 4, 5, 6, 7, 8, 9, 13, 15, 16, 17, 1, 2, 8, 11, 14, 17, 1, 6, 11, 14, 17, 1, 4, 5, 7, 8, 10, 18, 1, 5, 6, 7, 8, 17, 19, 1, 5, 6, 8, 1, 5, 8, 9, 1, 2, 4, 5, 6, 7, 8, 9, 11, 13, 14, 17, 1, 18, 7, 18, 15, 7, 8, 11, 13, 18, 19, 3, 4, 5, 7, 8, 9, 11, 13, 18, 19, 8, 11, 13, 17, 18, 19, 5, 6, 8, 16, 1, 2, 3, 5, 6, 7, 8, 10, 13, 14, 16, 17, 19, 2, 11, 1, 4, 6, 11, 14, 1, 3, 5, 6, 7, 8, 15, 16, 18, 20, 5, 6, 8, 11, 13, 14, 2, 3, 4, 5, 6, 7, 8, 9, 10, 11, 13, 14, 15, 16, 17, 4, 6, 10, 11, 16, 1, 2, 4, 7, 16, 4, 5, 17, 20, 5, 9, 10, 12, 13, 18, 6, 8, 13, 17, 12, 8, 13, 18, 13, 2, 4, 9, 10, 14, 15, 16, 17, 1, 2, 3, 4, 6, 7, 8, 9, 10, 11, 14, 16, 17, 18, 3, 4, 6, 11, 16, 18, 1, 2, 3, 4, 5, 6, 7, 8, 9, 10, 11, 13, 14, 17, 1, 2, 3, 4, 6, 8, 9, 10, 11, 14, 16, 17, 18, 20, 3, 4, 5, 6, 8, 14, 17, 2, 3, 4, 5, 8, 9, 11, 13, 16, 18, 3, 5, 6, 10, 12, 13, 16, 17, 20, 14, 15, 15, 6, 8, 19, 6, 8, 1, 5, 8, 9, 11, 12, 20, 5, 6, 8, 9, 11, 12, 13, 18, 20, 5, 6, 9, 10, 12, 13, 20, 8, 3, 8, 5, 8, 8, 12, 5, 6, 10, 11, 12, 13, 15, 5, 10, 12, 13, 15, 1, 5, 6, 7, 8, 9, 13, 16, 18, 1, 4, 5, 6, 7, 8, 9, 13, 17, 18, 19, 1, 4, 5, 6, 7, 8, 9, 13, 16, 18, 20, 4, 5, 6, 7, 8, 9, 10, 12, 13, 16, 18, 20, 1, 3, 5, 6, 7, 8, 9, 13, 16, 18, 19, 20, 1, 2, 3, 4, 5, 6, 7, 8, 9, 10, 13, 17, 18, 20, 18, 1, 5, 6, 7, 8, 9, 12, 13, 16, 20, 1, 5, 6, 7, 8, 9, 12, 13, 20, 6, 8, 9, 12, 13, 17, 20, 9, 12, 17, 8, 9, 12, 17, 3, 7, 10, 12, 13, 14, 17, 18, 19, 7, 12, 17, 7, 12, 14, 17, 19, 1, 2, 3, 5, 6, 9, 14, 16, 18, 20, 1, 2, 3, 5, 9, 10, 17, 18, 2, 3, 9, 3, 5, 9, 14, 18, 1, 2, 3, 5, 6, 8, 9, 11, 14, 15, 16, 17, 1, 2, 3, 5, 6, 8, 9, 11, 14, 16, 17, 1, 2, 3, 5, 6, 8, 9, 11, 14, 16, 2, 3, 5, 7, 9, 10, 16, 18, 6, 8, 9, 12, 13, 17, 20, 2, 5, 10, 14, 16, 2, 3, 5, 14, 1, 2, 3, 4, 5, 8, 9, 11, 12, 14, 16, 17, 1, 2, 3, 5, 6, 7, 8, 9, 10, 11, 12, 13, 14, 16, 17, 3, 4, 8, 9, 11, 14, 15, 8, 11, 4, 5, 8, 9, 11, 18, 19, 4, 5, 6, 7, 8, 9, 11, 13, 19, 4, 5, 6, 7, 8, 9, 11, 13, 19, 20, 1, 5, 6, 8, 10, 11, 12, 13, 14, 16, 17, 18, 1, 3, 4, 5, 6, 8, 10, 11, 12, 16, 17, 18, 20, 1, 3, 4, 5, 6, 7, 8, 9, 12, 14, 16, 17, 18, 20, 3, 4, 5, 6, 10, 12, 13, 14, 2, 3, 4, 6, 7, 10, 11, 13, 15, 16, 17, 20, 2, 3, 4, 6, 7, 10, 13, 15, 1, 4, 5, 6, 7, 8, 18, 1, 5, 6, 7, 8, 18, 20, 1, 2, 3, 4, 5, 6, 7, 8, 9, 10, 12, 13, 17, 1, 2, 3, 4, 6, 8, 9, 10, 12, 13, 17, 19, 3, 13, 3, 8, 13, 3, 2, 4, 6, 8, 9, 17, 20, 7, 8, 9, 12, 14, 5, 1, 4, 5, 6, 7, 8, 10, 12, 13, 19, 20, 1, 3, 5, 8, 14, 17, 4, 11, 14, 17, 14, 14, 17, 14, 17, 19, 1, 6, 14, 14, 11, 14, 3, 6, 14, 19, 14, 17, 14, 14, 17, 1, 2, 4, 6, 10, 14, 2, 4, 7, 15, 2, 4, 7, 16, 1, 2, 4, 5, 6, 7, 15, 16, 9, 19, 7, 5, 7, 8, 17, 18, 1, 2, 3, 4, 6, 7, 8, 9, 10, 11, 14, 15, 16, 17, 18, 6, 7, 8, 13, 14, 2, 6, 7, 8, 9, 10, 13, 18, 1, 2, 4, 6, 7, 8, 9, 10, 13, 18, 1, 2, 3, 4, 6, 7, 8, 10, 11, 13, 18, 5, 6, 7, 8, 13, 18, 2, 4, 6, 7, 10, 13, 14, 18, 1, 2, 3, 5, 6, 7, 8, 9, 10, 12, 13, 16, 18, 3, 5, 6, 9, 10, 12, 20, 3, 5, 10, 12, 18, 20, 2, 3, 5, 8, 9, 10, 12, 15, 17, 8, 10, 13, 14, 17, 20, 5, 9, 12, 13, 17, 18, 9, 12, 13, 18, 9, 12, 13, 18, 5, 6, 7, 9, 12, 13, 17, 18, 1, 7, 8, 9, 10, 12, 13, 17, 20, 1, 5, 6, 7, 8, 12, 13, 17, 19, 1, 12, 13, 17, 20, 2, 4, 5, 8, 14, 16, 18, 4, 5, 8, 14, 4, 14, 17, 1, 2, 3, 4, 5, 7, 8, 9, 10, 12, 13, 16, 17, 18, 11, 1, 2, 3, 4, 6, 9, 10, 18, 4, 8, 9, 4, 6, 4, 6, 4, 4, 9, 16, 3, 4, 5, 6, 8, 9, 16, 18, 2, 3, 4, 7, 16, 2, 4, 5, 6, 4, 4, 1, 2, 3, 6, 7, 8, 9, 10, 11, 13, 3, 5, 7, 8, 9, 10, 12, 13, 17, 18, 19, 4, 5, 1, 18, 17, 20, 15, 10, 2, 9, 9, 4, 14, 1, 3, 6, 8, 9, 12, 13, 20, 1, 2, 4, 6, 8, 12, 13, 15, 2, 6, 8, 9, 15, 7, 6, 9, 10, 17, 1, 2, 3, 4, 5, 6, 7, 8, 9, 10, 11, 12, 13, 16, 17, 1, 2, 3, 4, 6, 7, 8, 9, 11, 12, 13, 16, 1, 2, 3, 4, 5, 6, 7, 8, 9, 12, 13, 16, 6, 17, 18, 18, 18, 18, 4, 5, 6, 7, 8, 9, 10, 13, 4, 8, 10, 13, 3, 6, 7, 13, 14, 5, 6, 9, 10, 16, 4, 6, 7, 9, 10, 15, 18, 1, 3, 5, 6, 7, 8, 9, 10, 1, 2, 3, 4, 5, 6, 7, 9, 10, 12, 13, 14, 15, 17, 20, 4, 11, 4, 6, 4, 6, 4, 6, 6, 4, 6, 4, 6, 4, 9, 10, 17, 20, 3, 8, 1, 10, 15, 18, 20, 8, 11, 14, 15, 17, 1, 2, 3, 5, 6, 7, 9, 10, 12, 13, 17, 18, 20, 1, 3, 5, 6, 7, 9, 10, 11, 13, 14, 16, 20, 1, 2, 3, 7, 9, 10, 12, 15, 1, 5, 7, 8, 12, 13, 15, 16, 18, 19, 1, 2, 3, 4, 5, 6, 7, 8, 9, 10, 11, 12, 15, 17, 20, 9, 15, 2, 3, 7, 9, 10, 12, 15, 16, 17, 2, 3, 4, 5, 6, 7, 10, 11, 12, 14, 15, 16, 17, 20, 1, 2, 3, 4, 5, 6, 7, 8, 9, 10, 15, 16, 4, 7, 8, 9, 10, 12, 15, 20, 1, 4, 5, 6, 7, 8, 9, 10, 12, 13, 16, 20, 4, 5, 6, 8, 10, 13, 4, 5, 6, 8, 10, 13, 2, 3, 4, 5, 6, 7, 8, 10, 11, 13, 5, 6, 7, 8, 9, 10, 13, 16, 18, 20, 5, 6, 7, 8, 9, 12, 13, 15, 16, 20, 1, 2, 4, 5, 6, 7, 8, 9, 10, 11, 14, 15, 16, 17, 18, 20, 6, 8, 14, 19, 1, 8, 14, 19, 4, 5, 6, 8, 9, 10, 13, 14, 16, 19, 8, 9, 11, 14, 19, 2, 4, 6, 8, 9, 11, 13, 15, 19, 6, 8, 10, 19, 5, 6, 8, 9, 19, 8, 19, 7, 8, 19, 6, 8, 9, 10, 13, 19, 20, 6, 8, 14, 19, 2, 12, 19, 4, 10, 4, 10, 19, 9, 10, 16, 9, 15, 4, 4, 2, 4, 8, 2, 4, 9, 14, 4, 4, 2, 4, 5, 7, 9, 8, 9, 18, 10, 13, 6, 9, 6, 7, 3, 1, 4, 20, 4, 5, 7, 11, 12, 13, 15, 18, 19, 3, 4, 5, 6, 7, 8, 9, 10, 11, 12, 13, 17, 19, 20, 4, 5, 6, 7, 9, 10, 14, 16, 17, 18, 1, 2, 3, 4, 5, 6, 7, 8, 9, 10, 11, 12, 13, 15, 16, 17, 18, 20, 2, 8, 9, 16, 1, 2, 3, 4, 5, 6, 7, 8, 9, 10, 12, 13, 16, 18, 1, 2, 3, 4, 5, 6, 8, 9, 14, 17, 3, 16, 20, 4, 9, 3, 6, 7, 10, 16, 10, 20, 6, 7, 10, 20, 1, 2, 3, 4, 10, 11, 15, 18, 1, 9, 12, 9, 7, 8, 9, 3, 4, 5, 6, 7, 9, 4, 6, 7, 9, 10, 2, 5, 6, 9, 10, 12, 13, 16, 17, 18, 5, 10, 12, 13, 16, 17, 4, 5, 10, 13, 17, 1, 2, 3, 4, 5, 6, 9, 10, 11, 14, 16, 1, 2, 3, 4, 6, 8, 9, 10, 14, 15, 16, 18, 2, 3, 4, 8, 10, 4, 16, 1, 2, 3, 4, 5, 8, 14, 16, 1, 2, 3, 16, 1, 2, 4, 8, 11, 18, 4, 9, 14, 18, 1, 3, 4, 5, 6, 7, 8, 9, 10, 12, 13, 14, 19, 2, 13, 3, 4, 7, 9, 14, 15, 4, 7, 8, 9, 14, 15, 16, 4, 5, 7, 8, 9, 15, 1, 2, 3, 4, 5, 6, 7, 8, 9, 10, 15, 16, 18, 19, 20, 1, 2, 4, 7, 14, 2, 4, 7, 15, 1, 2, 4, 2, 4, 7, 15, 2, 6, 7, 15, 2, 6, 7, 15, 11, 4, 11, 16, 1, 2, 3, 4, 5, 6, 7, 8, 9, 10, 12, 13, 16, 3, 4, 5, 6, 7, 8, 9, 10, 13, 14, 16, 17, 1, 3, 4, 5, 6, 7, 8, 9, 14, 18, 4, 5, 6, 7, 8, 14, 17, 1, 3, 4, 5, 6, 7, 8, 9, 10, 12, 13, 17, 1, 2, 5, 8, 9, 1, 2, 3, 5, 8, 9, 10, 1, 2, 3, 5, 6, 7, 8, 9, 10, 13, 15, 16, 17, 1, 4, 5, 6, 7, 8, 9, 13, 16, 17, 1, 2, 3, 4, 5, 6, 7, 8, 9, 10, 13, 17, 1, 2, 5, 7, 8, 11, 1, 5, 7, 8, 1, 2, 5, 6, 7, 8, 9, 10, 13, 18, 19, 20, 1, 5, 7, 8, 1, 2, 4, 5, 7, 8, 9, 10, 1, 3, 4, 14, 15, 16, 1, 3, 4, 8, 9, 11, 14, 16, 2, 3, 8, 14, 1, 3, 12, 14, 1, 2, 3, 6, 7, 8, 9, 10, 13, 14, 16, 18, 3, 6, 14, 3, 4, 6, 8, 3, 6, 7, 14, 16, 18, 1, 3, 6, 11, 16, 3, 14, 3, 9, 14, 1, 2, 3, 5, 7, 9, 10, 12, 13, 17, 20, 7, 12, 15, 19, 2, 7, 17, 2, 3, 6, 7, 8, 9, 15, 18, 19, 7, 8, 10, 19, 1, 2, 3, 5, 7, 9, 10, 11, 12, 15, 1, 4, 7, 8, 9, 16, 1, 5, 6, 7, 8, 9, 10, 13, 18, 20, 1, 2, 3, 4, 5, 7, 8, 9, 10, 15, 16, 17, 18, 20, 1, 3, 4, 5, 7, 8, 9, 10, 12, 14, 20, 1, 5, 7, 10, 11, 12, 20, 1, 2, 4, 7, 9, 10, 11, 15, 1, 2, 3, 4, 5, 6, 7, 9, 10, 13, 15, 16, 5, 10, 1, 7, 9, 10, 16, 7, 10, 16, 18, 1, 2, 4, 5, 6, 5, 18, 2, 4, 5, 1, 2, 3, 4, 5, 6, 8, 9, 10, 11, 14, 15, 17, 18, 1, 2, 3, 4, 5, 6, 8, 9, 10, 11, 14, 17, 1, 2, 3, 4, 5, 6, 8, 9, 10, 11, 14, 18, 20, 1, 2, 3, 4, 5, 6, 8, 9, 11, 14, 17, 18, 1, 2, 3, 4, 5, 6, 8, 9, 11, 14, 16, 18, 19, 20, 1, 2, 6, 7, 8, 9, 10, 1, 2, 6, 7, 8, 9, 10, 13, 14, 5, 7, 17, 1, 7, 17, 1, 5, 7, 17, 1, 5, 7, 17, 1, 5, 7, 9, 18, 1, 5, 7, 9, 18, 1, 5, 7, 8, 1, 5, 7, 1, 5, 6, 7, 9, 10, 12, 15, 17, 20, 6, 7, 9, 15, 1, 3, 6, 7, 8, 9, 15, 7, 9, 15, 1, 2, 3, 4, 5, 6, 7, 8, 9, 10, 12, 13, 14, 16, 17, 1, 2, 3, 4, 6, 7, 8, 9, 10, 11, 12, 14, 17, 1, 2, 3, 4, 6, 7, 8, 9, 10, 11, 12, 13, 14, 17, 18, 20, 10, 10, 10, 6, 7, 12, 15, 1, 2, 3, 4, 5, 6, 7, 8, 9, 12, 15, 16, 18, 1, 3, 5, 6, 7, 8, 9, 12, 13, 15, 18, 5, 6, 7, 8, 9, 10, 13, 15, 18, 19, 20, 1, 2, 3, 5, 7, 9, 10, 16, 17, 1, 2, 3, 6, 7, 9, 10, 17, 1, 2, 3, 4, 5, 6, 7, 8, 9, 10, 11, 14, 17, 2, 3, 6, 9, 10, 7, 10, 13, 1, 7, 10, 13, 1, 3, 5, 7, 9, 10, 13, 15, 17, 1, 2, 3, 4, 5, 6, 7, 8, 9, 10, 17, 20, 1, 2, 3, 4, 5, 6, 7, 8, 9, 10, 12, 13, 17, 18, 20, 1, 2, 3, 4, 6, 8, 9, 11, 14, 16, 17, 20, 1, 2, 3, 4, 6, 8, 9, 10, 11, 16, 17, 4, 7, 9, 11, 4, 7, 9, 1, 2, 3, 4, 5, 7, 9, 10, 11, 13, 14, 16, 17, 20, 1, 2, 3, 4, 5, 6, 8, 9, 10, 13, 17, 1, 2, 7, 9, 10, 15, 4, 7, 8, 10, 20, 1, 2, 3, 5, 7, 8, 9, 10, 17, 1, 2, 3, 5, 6, 7, 8, 9, 10, 13, 17, 18, 1, 5, 7, 15, 16, 1, 5, 7, 18, 2, 3, 5, 7, 9, 10, 13, 17, 1, 2, 3, 5, 6, 7, 8, 9, 10, 12, 13, 1, 2, 3, 5, 6, 7, 9, 10, 12, 13, 2, 3, 5, 7, 9, 10, 13, 3, 5, 7, 9, 10, 13, 16, 17, 1, 2, 3, 5, 7, 9, 10, 12, 13, 17, 1, 2, 3, 4, 6, 7, 8, 9, 10, 12, 13, 14, 15, 1, 2, 3, 4, 6, 7, 8, 9, 10, 12, 13, 20, 1, 6, 8, 9, 13, 20, 1, 3, 5, 6, 7, 8, 9, 13, 14, 16, 17, 18, 1, 3, 5, 6, 7, 8, 9, 13, 14, 16, 17, 18, 5, 6, 7, 8, 9, 13, 19, 20, 1, 2, 4, 5, 6, 7, 8, 9, 10, 13, 20, 2, 3, 7, 9, 10, 1, 3, 5, 7, 9, 12, 13, 1, 2, 3, 4, 5, 6, 7, 8, 9, 10, 11, 12, 13, 18, 1, 4, 5, 7, 8, 18, 1, 4, 5, 6, 7, 8, 13, 18, 20, 1, 4, 5, 6, 7, 8, 16, 17, 18, 20, 2, 3, 4, 10, 13, 14, 16, 17, 3, 4, 9, 13, 17, 3, 4, 5, 6, 10, 13, 14, 16, 17, 2, 3, 4, 5, 10, 13, 14, 16, 2, 3, 4, 6, 7, 9, 10, 13, 14, 15, 17, 1, 2, 3, 4, 5, 8, 10, 11, 14, 16, 2, 3, 4, 8, 11, 14, 2, 4, 6, 7, 9, 10, 11, 14, 7, 9, 13, 1, 2, 3, 7, 9, 10, 1, 2, 3, 7, 9, 10, 12, 18, 1, 2, 3, 4, 5, 6, 7, 10, 12, 1, 2, 3, 4, 6, 7, 8, 9, 12, 1, 14, 2, 3, 4, 6, 9, 10, 11, 12, 18, 1, 3, 5, 2, 5, 5, 7, 5, 1, 5, 7, 9, 13, 16, 1, 2, 3, 9, 17, 1, 2, 3, 4, 5, 6, 7, 8, 9, 10, 12, 13, 15, 16, 17, 18, 1, 2, 3, 4, 5, 6, 7, 9, 10, 11, 12, 13, 16, 17, 1, 6, 7, 9, 12, 13, 16, 18, 5, 6, 7, 9, 2, 6, 8, 9, 12, 13, 18, 1, 2, 3, 4, 5, 6, 7, 8, 9, 10, 11, 12, 13, 15, 19, 1, 2, 3, 4, 5, 6, 7, 8, 9, 10, 12, 13, 15, 5, 6, 9, 10, 13, 20, 1, 3, 5, 6, 7, 8, 9, 13, 17, 20, 3, 5, 7, 8, 9, 13, 20, 1, 2, 3, 4, 5, 7, 18, 5, 7, 3, 5, 7, 12, 5, 9, 16, 3, 5, 7, 5, 3, 5, 18, 5, 7, 12, 5, 5, 18, 1, 2, 7, 9, 13, 2, 3, 1, 2, 3, 4, 7, 9, 10, 11, 13, 2, 9, 10, 14, 2, 10, 13, 1, 2, 7, 9, 13, 2, 7, 17, 2, 4, 6, 7, 18, 20, 7, 19, 20, 5, 7, 9, 19, 5, 7, 8, 19, 5, 6, 7, 9, 13, 2, 6, 13, 2, 9, 13, 2, 4, 13, 2, 4, 13, 19, 1, 6, 7, 18, 3, 4, 5, 7, 9, 10, 13, 16, 17, 1, 3, 4, 5, 6, 7, 8, 9, 10, 12, 13, 16, 18, 20, 1, 2, 3, 4, 5, 6, 7, 8, 9, 10, 12, 13, 16, 20, 4, 9, 1, 2, 3, 4, 6, 7, 8, 9, 13, 17, 1, 2, 3, 5, 7, 8, 9, 1, 2, 3, 5, 7, 8, 9, 10, 17, 1, 7, 8, 9, 7, 7, 9, 19, 7, 9, 19, 1, 20, 13, 3, 6, 8, 9, 11, 13, 18, 19, 20, 9, 12, 14, 18, 6, 11, 20, 4, 13, 8, 1, 2, 3, 4, 5, 6, 7, 9, 10, 13, 14, 15, 16, 17, 4, 5, 11, 18, 6, 19, 11, 1, 8, 11, 20, 11, 18, 1, 11, 13, 2, 6, 6, 7, 11, 14, 13, 18, 6, 3, 4, 8, 14, 2, 3, 4, 8, 9, 10, 13, 14, 5, 4, 8, 20, 13, 6, 17, 14, 4, 8, 11, 17, 8, 9, 14, 3, 6, 8, 9, 11, 19, 1, 2, 3, 4, 5, 6, 7, 8, 10, 11, 12, 13, 14, 16, 4, 18, 3, 6, 17, 6, 11, 17, 1, 2, 6, 10, 12, 16, 18, 2, 6, 11, 1, 2, 2, 7, 8, 14, 2, 4, 6, 7, 9, 12, 15, 17, 2, 6, 7, 9, 14, 1, 2, 3, 6, 9, 14, 17, 20, 19, 17, 11, 2, 3, 7, 10, 11, 16, 12, 11, 11, 2, 20, 8, 8, 20, 11, 4, 8, 4, 6, 8, 4, 6, 8, 2, 8, 12, 15, 4, 4, 11, 1, 8, 6, 9, 2, 3, 6, 9, 11, 17, 18, 2, 3, 11, 18, 14, 6, 9, 3, 19, 3, 7, 5, 13, 1, 2, 3, 4, 6, 7, 8, 9, 10, 12, 13, 14, 18, 19, 1, 2, 3, 4, 6, 11, 14, 17, 1, 2, 3, 4, 6, 8, 11, 17, 1, 2, 4, 7, 10, 11, 16, 2, 3, 4, 6, 1, 2, 3, 4, 6, 11, 17, 18, 1, 2, 4, 5, 6, 9, 11, 14, 1, 2, 4, 6, 7, 8, 9, 10, 11, 4, 11, 1, 4, 8, 11, 14, 1, 3, 4, 8, 11, 14, 1, 4, 8, 11, 14, 1, 2, 3, 4, 6, 7, 8, 11, 1, 2, 4, 11, 2, 4, 7, 8, 11, 8, 8, 1, 2, 3, 4, 6, 8, 11, 12, 18, 1, 2, 4, 6, 9, 10, 11, 12, 13, 17, 1, 2, 4, 6, 8, 9, 11, 12, 13, 15, 17, 18, 6, 13, 2, 4, 5, 6, 9, 12, 13, 15, 2, 4, 5, 6, 7, 8, 9, 10, 11, 12, 13, 16, 9, 8, 19, 3, 8, 1, 2, 3, 4, 6, 7, 8, 9, 10, 11, 12, 13, 14, 16, 17, 18, 14, 19, 2, 4, 5, 6, 7, 8, 10, 12, 14, 16, 20, 2, 4, 5, 6, 7, 8, 9, 10, 11, 15, 16, 17, 20, 1, 2, 4, 5, 6, 7, 8, 10, 11, 15, 16, 18, 2, 13, 20, 10, 1, 2, 5, 6, 7, 8, 9, 11, 13, 16, 17, 8, 8, 6, 7, 20, 9, 18, 1, 2, 4, 5, 10, 11, 12, 14, 16, 19, 4, 8, 11, 12, 17, 4, 8, 13, 18, 20, 2, 4, 7, 10, 11, 12, 14, 16, 20, 1, 2, 3, 4, 6, 7, 8, 9, 11, 13, 14, 16, 17, 18, 9, 2, 8, 18, 18, 1, 2, 3, 4, 5, 7, 8, 9, 10, 11, 12, 13, 14, 16, 18, 20, 10, 17, 4, 17, 11, 9, 16, 11, 16, 1, 2, 3, 5, 7, 9, 10, 12, 13, 14, 15, 16, 1, 2, 3, 4, 5, 7, 9, 12, 15, 16, 17, 18, 2, 3, 4, 13, 16, 2, 3, 4, 6, 16, 14, 14, 18, 9, 5, 9, 12, 15, 8, 15, 9, 17, 15, 1, 2, 3, 4, 10, 14, 15, 16, 1, 2, 3, 4, 10, 14, 16, 17, 18, 5, 8, 1, 2, 3, 4, 5, 6, 10, 13, 16, 9, 9, 6, 8, 15, 6, 7, 8, 10, 11, 12, 14, 15, 19, 1, 2, 3, 4, 5, 6, 7, 8, 9, 12, 13, 15, 18, 19, 20, 1, 2, 4, 5, 6, 7, 8, 9, 11, 13, 14, 15, 18, 19, 20, 1, 2, 5, 6, 8, 10, 13, 19, 1, 2, 5, 6, 8, 12, 19, 1, 2, 4, 6, 7, 12, 17, 20, 1, 2, 4, 6, 7, 11, 12, 17, 20, 19, 19, 3, 6, 9, 11, 18, 19, 9, 10, 11, 18, 19, 4, 6, 8, 9, 11, 13, 16, 17, 8, 11, 18, 1, 2, 3, 4, 6, 7, 10, 12, 15, 17, 18, 1, 3, 4, 6, 7, 8, 9, 10, 11, 12, 13, 18, 3, 4, 8, 10, 12, 17, 18, 19, 1, 2, 4, 6, 9, 17, 20, 12, 2, 1, 2, 3, 5, 6, 7, 8, 9, 10, 13, 14, 16, 17, 1, 6, 8, 13, 14, 17, 1, 5, 6, 7, 8, 13, 17, 11, 13, 1, 2, 3, 4, 6, 7, 8, 9, 11, 12, 14, 16, 17, 18, 8, 10, 14, 14, 11, 16, 11, 6, 9, 4, 6, 7, 11, 1, 2, 4, 11, 17, 5, 7, 4, 8, 11, 1, 8, 4, 5, 8, 17, 18, 18, 6, 12, 17, 20, 3, 4, 5, 8, 9, 14, 18, 9, 17, 9, 5, 6, 8, 9, 12, 13, 18, 20, 20, 15, 16, 15, 19, 19, 19, 19, 19, 18, 2, 10, 14, 20, 9, 14, 15, 3, 9, 15, 3, 9, 19, 10, 10, 18, 19, 16, 15, 19, 9, 11, 16, 3, 15, 3, 12, 13, 4, 12, 19, 10, 6, 6, 14, 3, 4, 5, 6, 8, 9, 19, 5, 7, 11, 13, 15, 16, 19], \"Freq\": [0.8097751140594482, 0.09162910282611847, 0.1374436616897583, 0.18325820565223694, 0.01527151744812727, 0.12217213958501816, 0.1679866909980774, 0.2748873233795166, 0.3044210970401764, 0.6697263717651367, 0.137636199593544, 0.05004952475428581, 0.05004952475428581, 0.037537142634391785, 0.025024762377142906, 0.1751733422279358, 0.5255200266838074, 0.11295222491025925, 0.050200991332530975, 0.050200991332530975, 0.13805271685123444, 0.2008039653301239, 0.4267084300518036, 0.024202309548854828, 0.1694161593914032, 0.12101154774427414, 0.6292600631713867, 0.048404619097709656, 0.832129716873169, 0.11219224333763123, 0.16828836500644684, 0.6731534600257874, 0.7980259656906128, 0.24370171129703522, 0.7311051487922668, 0.022154701873660088, 0.05840270221233368, 0.24821148812770844, 0.02920135110616684, 0.04380202665925026, 0.6132283806800842, 0.008928288705646992, 0.008928288705646992, 0.008928288705646992, 0.008928288705646992, 0.13392433524131775, 0.16963748633861542, 0.4285578429698944, 0.06249802187085152, 0.044641442596912384, 0.1071394607424736, 0.072934590280056, 0.024311529472470284, 0.08509035408496857, 0.15802493691444397, 0.060778822749853134, 0.09724611788988113, 0.08509035408496857, 0.4132959842681885, 0.2955709397792816, 0.640403687953949, 0.03785397484898567, 0.11356192827224731, 0.18926987051963806, 0.6435175538063049, 0.29230567812919617, 0.6333289742469788, 0.8449589610099792, 0.8347975611686707, 0.9078361392021179, 0.8109952211380005, 0.8648393154144287, 0.0786217525601387, 0.8632643222808838, 0.9136973023414612, 0.8920677304267883, 0.14803923666477203, 0.740196168422699, 0.852324903011322, 0.07748408615589142, 0.7609571814537048, 0.1311366707086563, 0.026227334514260292, 0.052454669028520584, 0.052454669028520584, 0.07868200540542603, 0.6425697207450867, 0.1296323835849762, 0.5947838425636292, 0.022876301780343056, 0.1296323835849762, 0.038127169013023376, 0.022876301780343056, 0.06100347265601158, 0.4692469835281372, 0.7670839428901672, 0.015341678634285927, 0.030683357268571854, 0.06136671453714371, 0.09205007553100586, 0.015341678634285927, 0.7511215209960938, 0.026201913133263588, 0.026201913133263588, 0.034935884177684784, 0.052403826266527176, 0.10480765253305435, 0.6014876365661621, 0.0038556898944079876, 0.0771137923002243, 0.011567069217562675, 0.007711379788815975, 0.21206294000148773, 0.0038556898944079876, 0.007711379788815975, 0.019278448075056076, 0.011567069217562675, 0.0308455191552639, 0.0038556898944079876, 0.6917688250541687, 0.0026709220837801695, 0.0908113494515419, 0.008012766018509865, 0.024038299918174744, 0.16292625665664673, 0.0026709220837801695, 0.005341844167560339, 0.005341844167560339, 0.005341844167560339, 0.5917344093322754, 0.22625139355659485, 0.02175494097173214, 0.14793360233306885, 0.6561131477355957, 0.05467609316110611, 0.0026036235503852367, 0.00781087065115571, 0.24474060535430908, 0.0026036235503852367, 0.028639858588576317, 0.701940655708313, 0.014180619269609451, 0.07799340784549713, 0.007090309634804726, 0.010635464452207088, 0.15598681569099426, 0.007090309634804726, 0.021270928904414177, 0.8021562099456787, 0.1336926966905594, 0.10133499652147293, 0.10133499652147293, 0.08574499934911728, 0.0077949995175004005, 0.07794999331235886, 0.05456499755382538, 0.062359996140003204, 0.03897499665617943, 0.3585699796676636, 0.03897499665617943, 0.07015499472618103, 0.01361483708024025, 0.5173638463020325, 0.0272296741604805, 0.2722967565059662, 0.163378044962883, 0.8798670768737793, 0.05858168005943298, 0.5272351503372192, 0.4100717604160309, 0.7288697361946106, 0.18221743404865265, 0.17502444982528687, 0.7584392428398132, 0.0985574796795845, 0.788459837436676, 0.22356508672237396, 0.031937867403030396, 0.7345709800720215, 0.06509861350059509, 0.16274653375148773, 0.7486340403556824, 0.3180224597454071, 0.6360449194908142, 0.9364267587661743, 0.19439515471458435, 0.7775806188583374, 0.8443977236747742, 0.2798939347267151, 0.5597878694534302, 0.7736854553222656, 0.8099099397659302, 0.7409501075744629, 0.09562934190034866, 0.8606640696525574, 0.8727735280990601, 0.840584933757782, 0.960635244846344, 0.08490247279405594, 0.8490247130393982, 0.04245123639702797, 0.92965167760849, 0.631697952747345, 0.8569982051849365, 0.07141651958227158, 0.834687352180481, 0.23207668960094452, 0.053263504058122635, 0.038045357912778854, 0.026631752029061317, 0.13696329295635223, 0.1559859663248062, 0.019022678956389427, 0.015218143351376057, 0.030436286702752113, 0.18642225861549377, 0.019022678956389427, 0.003804535837844014, 0.0875043272972107, 0.7999698519706726, 0.24816980957984924, 0.04963396117091179, 0.512884259223938, 0.13235722482204437, 0.03308930620551109, 0.015924623236060143, 0.007962311618030071, 0.015924623236060143, 0.652909517288208, 0.30256783962249756, 0.030239267274737358, 0.5644662976264954, 0.393110454082489, 0.07172011584043503, 0.015368596650660038, 0.10758017748594284, 0.005122865550220013, 0.5020408034324646, 0.030737193301320076, 0.2561432719230652, 0.1489003598690033, 0.009926690720021725, 0.01985338144004345, 0.0248167272657156, 0.5658214092254639, 0.009926690720021725, 0.1886071264743805, 0.0248167272657156, 0.030013931915163994, 0.8103761672973633, 0.12005572766065598, 0.04093141481280327, 0.13098052144050598, 0.008186282590031624, 0.09004911035299301, 0.3110787570476532, 0.016372565180063248, 0.2210296392440796, 0.02455884963274002, 0.1555393785238266, 0.008795355446636677, 0.04397677630186081, 0.28145137429237366, 0.07915819436311722, 0.28145137429237366, 0.07036284357309341, 0.09674891084432602, 0.13193033635616302, 0.7802081108093262, 0.2127840369939804, 0.912439227104187, 0.4601973593235016, 0.015929991379380226, 0.6849896311759949, 0.04778997227549553, 0.23894986510276794, 0.8073564767837524, 0.9553011059761047, 0.8006526231765747, 0.004598234314471483, 0.03218764066696167, 0.09656292200088501, 0.07357174903154373, 0.02069205418229103, 0.2689967155456543, 0.08506733924150467, 0.2598002552986145, 0.011495585553348064, 0.011495585553348064, 0.05058057978749275, 0.011495585553348064, 0.05517881363630295, 0.02299117110669613, 0.8459755778312683, 0.14942720532417297, 0.7471359968185425, 0.5993295907974243, 0.01043637003749609, 0.005218185018748045, 0.10958188772201538, 0.32874566316604614, 0.15132737159729004, 0.08349096029996872, 0.01043637003749609, 0.07305458933115005, 0.005218185018748045, 0.04174548014998436, 0.03652729466557503, 0.026090925559401512, 0.03652729466557503, 0.005218185018748045, 0.07305458933115005, 0.7829853892326355, 0.02847219631075859, 0.07118049263954163, 0.09965268522500992, 0.710496187210083, 0.06232422590255737, 0.037394534796476364, 0.09971876442432404, 0.08725392073392868, 0.009216472506523132, 0.16589650511741638, 0.5990707278251648, 0.10138119757175446, 0.11059767007827759, 0.947333812713623, 0.09339214861392975, 0.09339214861392975, 0.7938332557678223, 0.03388766199350357, 0.06777532398700714, 0.008471915498375893, 0.03388766199350357, 0.03388766199350357, 0.06777532398700714, 0.533730685710907, 0.008471915498375893, 0.03388766199350357, 0.10166298598051071, 0.050831492990255356, 0.016943830996751785, 0.15684881806373596, 0.15684881806373596, 0.20913176238536835, 0.4182635247707367, 0.024833545088768005, 0.27316901087760925, 0.12416772544384003, 0.09933418035507202, 0.04966709017753601, 0.4470038115978241, 0.02538861520588398, 0.7870470881462097, 0.02538861520588398, 0.05077723041176796, 0.05077723041176796, 0.8959754109382629, 0.20949897170066833, 0.6284969449043274, 0.16988039016723633, 0.06606459617614746, 0.08494019508361816, 0.09437799453735352, 0.06606459617614746, 0.009437799453735352, 0.028313398361206055, 0.04718899726867676, 0.33976078033447266, 0.09437799453735352, 0.07272525876760483, 0.07272525876760483, 0.26181092858314514, 0.5090767741203308, 0.04363515228033066, 0.02909010276198387, 0.0268701184540987, 0.08956706523895264, 0.09852376580238342, 0.7613200545310974, 0.008956706151366234, 0.017913412302732468, 0.09841031581163406, 0.009372411295771599, 0.04217585176229477, 0.023431027308106422, 0.023431027308106422, 0.7966549396514893, 0.21145397424697876, 0.14096932113170624, 0.563877284526825, 0.035368867218494415, 0.12732791900634766, 0.04244264215230942, 0.014147547073662281, 0.7710413336753845, 0.09779489785432816, 0.05334267020225525, 0.008890445344150066, 0.06223311647772789, 0.7734687328338623, 0.07155741751194, 0.03788333758711815, 0.02946481853723526, 0.04209259897470474, 0.004209259990602732, 0.008418519981205463, 0.004209259990602732, 0.7955501079559326, 0.07915524393320084, 0.7123972177505493, 0.15831048786640167, 0.06022409722208977, 0.13926823437213898, 0.10162816941738129, 0.007528012152761221, 0.015056024305522442, 0.08280813694000244, 0.5909489989280701, 0.6896542906761169, 0.24630510807037354, 0.8255603313446045, 0.801500678062439, 0.7830663323402405, 0.15661326050758362, 0.7243409156799316, 0.8863796591758728, 0.06848236173391342, 0.616341233253479, 0.2739294469356537, 0.885613203048706, 0.1358788013458252, 0.8152728080749512, 0.054601121693849564, 0.054601121693849564, 0.8190168142318726, 0.2731086015701294, 0.6827715039253235, 0.021123800426721573, 0.014082533307373524, 0.07041266560554504, 0.19011420011520386, 0.014082533307373524, 0.007041266653686762, 0.021123800426721573, 0.5914664268493652, 0.07041266560554504, 0.042646098881959915, 0.0032804692164063454, 0.019682815298438072, 0.009841407649219036, 0.13777971267700195, 0.0032804692164063454, 0.19354768097400665, 0.052487507462501526, 0.042646098881959915, 0.016402345150709152, 0.006560938432812691, 0.0032804692164063454, 0.006560938432812691, 0.41333910822868347, 0.022963283583521843, 0.013121876865625381, 0.006560938432812691, 0.009841407649219036, 0.0708087906241417, 0.005057770758867264, 0.2225419133901596, 0.060693249106407166, 0.015173312276601791, 0.09103987365961075, 0.04046216607093811, 0.020231083035469055, 0.42485275864601135, 0.005057770758867264, 0.020231083035469055, 0.015173312276601791, 0.8588877320289612, 0.6878632307052612, 0.20635896921157837, 0.7590283155441284, 0.007716591469943523, 0.05401613935828209, 0.16976501047611237, 0.5555945634841919, 0.10031569004058838, 0.015433182939887047, 0.08488250523805618, 0.10592612624168396, 0.02648153156042099, 0.0066203828901052475, 0.0066203828901052475, 0.21185225248336792, 0.4899083375930786, 0.0066203828901052475, 0.08606497943401337, 0.0066203828901052475, 0.02648153156042099, 0.019861148670315742, 0.24529938399791718, 0.6132484674453735, 0.15166844427585602, 0.06500076502561569, 0.23833613097667694, 0.5200061202049255, 0.8924990296363831, 0.8901548385620117, 0.8155453205108643, 0.5948914885520935, 0.9057472944259644, 0.0905747264623642, 0.08060383796691895, 0.19703160226345062, 0.11642777174711227, 0.06269187480211258, 0.04477991163730621, 0.07164786010980606, 0.3671952784061432, 0.04477991163730621, 0.7742568850517273, 0.02622077614068985, 0.07866232842206955, 0.30153894424438477, 0.1048831045627594, 0.013110388070344925, 0.039331164211034775, 0.4195324182510376, 0.28472667932510376, 0.07118166983127594, 0.5694533586502075, 0.8019347786903381, 0.8996907472610474, 0.048455312848091125, 0.8721956610679626, 0.048455312848091125, 0.7840357422828674, 0.9610497951507568, 0.07794290035963058, 0.7794289588928223, 0.1926829069852829, 0.1284552663564682, 0.5459349155426025, 0.1284552663564682, 0.6185940504074097, 0.22172994911670685, 0.7390998005867004, 0.8490505814552307, 0.7401962876319885, 0.8028572201728821, 0.1052546501159668, 0.8420372009277344, 0.9478653073310852, 0.9245080351829529, 0.21361814439296722, 0.21361814439296722, 0.024274790659546852, 0.004854958038777113, 0.2524578273296356, 0.0631144568324089, 0.053404536098241806, 0.0339847058057785, 0.038839664310216904, 0.038839664310216904, 0.053404536098241806, 0.011606014333665371, 0.5996440649032593, 0.0502927303314209, 0.08511077612638474, 0.0038686715997755527, 0.12379749119281769, 0.027080701664090157, 0.04255538806319237, 0.0038686715997755527, 0.0038686715997755527, 0.027080701664090157, 0.0077373431995511055, 0.0077373431995511055, 0.03700382262468338, 0.03700382262468338, 0.22202293574810028, 0.09250956028699875, 0.6105630993843079, 0.09310665726661682, 0.011638332158327103, 0.011638332158327103, 0.10474498569965363, 0.10474498569965363, 0.03491499647498131, 0.06982999294996262, 0.011638332158327103, 0.5470016002655029, 0.10337962955236435, 0.031013887375593185, 0.09304166585206985, 0.02067592553794384, 0.01033796276897192, 0.02067592553794384, 0.08270370215177536, 0.6306157112121582, 0.015843896195292473, 0.031687792390584946, 0.015843896195292473, 0.04753168672323227, 0.015843896195292473, 0.031687792390584946, 0.12675116956233978, 0.7129753232002258, 0.016937296837568283, 0.033874593675136566, 0.13549837470054626, 0.779115617275238, 0.9261274337768555, 0.024864329025149345, 0.07459298521280289, 0.17405030131340027, 0.07459298521280289, 0.04972865805029869, 0.024864329025149345, 0.4972865879535675, 0.04972865805029869, 0.029683411121368408, 0.7049810290336609, 0.014841705560684204, 0.007420852780342102, 0.022262558341026306, 0.21520473062992096, 0.04181734099984169, 0.8363468050956726, 0.08363468199968338, 0.8337963819503784, 0.18155883252620697, 0.7262353301048279, 0.03553478419780731, 0.20432502031326294, 0.017767392098903656, 0.08883696049451828, 0.008883696049451828, 0.05330217629671097, 0.026651088148355484, 0.07995326817035675, 0.3731152415275574, 0.07106956839561462, 0.04441848024725914, 0.887294352054596, 0.9446423053741455, 0.618216335773468, 0.7886104583740234, 0.1314350813627243, 0.8709977269172668, 0.9186083674430847, 0.1745569109916687, 0.1745569109916687, 0.6284048557281494, 0.9582181572914124, 0.03229948878288269, 0.8724234700202942, 0.01677737571299076, 0.10066425055265427, 0.03299206122756004, 0.8907856941223145, 0.03299206122756004, 0.021994708105921745, 0.9776100516319275, 0.9520092010498047, 0.02572997845709324, 0.9335808157920837, 0.05115511268377304, 0.898445725440979, 0.12385006994009018, 0.06192503497004509, 0.8050254583358765, 0.7581167817115784, 0.10413400828838348, 0.009466728195548058, 0.056800369173288345, 0.06626709550619125, 0.4922698736190796, 0.009466728195548058, 0.03786691278219223, 0.04733363911509514, 0.14200091361999512, 0.009466728195548058, 0.5285543203353882, 0.4404619336128235, 0.3355875015258789, 0.5033812522888184, 0.7588136792182922, 0.24234075844287872, 0.18175557255744934, 0.12117037922143936, 0.3635111451148987, 0.4926319122314453, 0.43105292320251465, 0.33628273010253906, 0.5044240951538086, 0.02574380673468113, 0.02574380673468113, 0.45309099555015564, 0.015446284785866737, 0.02574380673468113, 0.07208266109228134, 0.05148761346936226, 0.010297522880136967, 0.04119009152054787, 0.19050417840480804, 0.07723142206668854, 0.22033129632472992, 0.05141063407063484, 0.23502004146575928, 0.13954314589500427, 0.022033128887414932, 0.0036721881479024887, 0.07711595296859741, 0.0036721881479024887, 0.011016564443707466, 0.16524846851825714, 0.014688752591609955, 0.011016564443707466, 0.040394071489572525, 0.7585552334785461, 0.06883618980646133, 0.8948704600334167, 0.7737487554550171, 0.16905716061592102, 0.19723334908485413, 0.05635238438844681, 0.42264288663864136, 0.04930833727121353, 0.007044048048555851, 0.042264290153980255, 0.042264290153980255, 0.014088096097111702, 0.8625442385673523, 0.7832087874412537, 0.06929510831832886, 0.8315412998199463, 0.18539820611476898, 0.05297091603279114, 0.1589127480983734, 0.02648545801639557, 0.5561946034431458, 0.08174686878919601, 0.2179916501045227, 0.10899582505226135, 0.5722280740737915, 0.066031813621521, 0.02870948426425457, 0.008612845093011856, 0.05741896852850914, 0.02870948426425457, 0.017225690186023712, 0.10335414111614227, 0.020096639171242714, 0.5024159550666809, 0.05741896852850914, 0.005741896573454142, 0.04019327834248543, 0.03158043324947357, 0.02870948426425457, 0.06861033290624619, 0.03430516645312309, 0.15192288160324097, 0.03920590505003929, 0.024503689259290695, 0.009801476262509823, 0.09801475703716278, 0.30874648690223694, 0.11761771142482758, 0.004900738131254911, 0.024503689259290695, 0.004900738131254911, 0.12251845002174377, 0.09599189460277557, 0.7679351568222046, 0.9022452235221863, 0.0820222944021225, 0.7900254726409912, 0.02926020324230194, 0.02926020324230194, 0.13167090713977814, 0.012852003797888756, 0.7582682371139526, 0.07068601995706558, 0.006426001898944378, 0.006426001898944378, 0.03855601325631142, 0.057834018021821976, 0.04498201608657837, 0.008274096995592117, 0.8522319793701172, 0.008274096995592117, 0.05791867524385452, 0.049644578248262405, 0.016548193991184235, 0.8438667058944702, 0.8809838891029358, 0.02381037548184395, 0.07143113017082214, 0.007742803078144789, 0.774280309677124, 0.193570077419281, 0.015485606156289577, 0.8627515435218811, 0.09377734363079071, 0.028133202344179153, 0.8178930282592773, 0.09814716130495071, 0.06543143838644028, 0.7214909195899963, 0.2244638353586197, 0.04809939116239548, 0.7444205284118652, 0.17866092920303345, 0.04466523230075836, 0.7611579895019531, 0.8675306439399719, 0.072294220328331, 0.8602292537689209, 0.6858376264572144, 0.026378370821475983, 0.18464858829975128, 0.07913511246442795, 0.8498848080635071, 0.0894615575671196, 0.02791021578013897, 0.02791021578013897, 0.07675309479236603, 0.05582043156027794, 0.02093266136944294, 0.0697755441069603, 0.02791021578013897, 0.5791369676589966, 0.09070820361375809, 0.006977553945034742, 0.031746815890073776, 0.003968351986259222, 0.027778461575508118, 0.031746815890073776, 0.09524044394493103, 0.06349363178014755, 0.019841758534312248, 0.003968351986259222, 0.011905055493116379, 0.051588572561740875, 0.44842374324798584, 0.04365186765789986, 0.051588572561740875, 0.039683517068624496, 0.07143033295869827, 0.06249415501952171, 0.04999532178044319, 0.04999532178044319, 0.7624286413192749, 0.012498830445110798, 0.04999532178044319, 0.04791826009750366, 0.05390804260969162, 0.197662815451622, 0.0718773901462555, 0.03593869507312775, 0.4791826009750366, 0.02994891256093979, 0.03593869507312775, 0.03593869507312775, 0.005989782512187958, 0.01420602947473526, 0.01420602947473526, 0.14916330575942993, 0.06392712891101837, 0.04261808842420578, 0.5540351271629333, 0.00710301473736763, 0.13495728373527527, 0.00710301473736763, 0.142548605799675, 0.09978402405977249, 0.028509721159934998, 0.45615553855895996, 0.1568034589290619, 0.014254860579967499, 0.0712743028998375, 0.014254860579967499, 0.11347202211618423, 0.022694405168294907, 0.06808321177959442, 0.5106241106987, 0.13616642355918884, 0.011347202584147453, 0.11347202211618423, 0.011347202584147453, 0.2157161682844162, 0.03806756064295769, 0.5329458117485046, 0.10151349008083344, 0.03806756064295769, 0.06344593316316605, 0.04950200393795967, 0.9405380487442017, 0.06385362893342972, 0.851381778717041, 0.06385362893342972, 0.027043089270591736, 0.05408617854118347, 0.05408617854118347, 0.027043089270591736, 0.7572064995765686, 0.06760772317647934, 0.10164465010166168, 0.05082232505083084, 0.03388155251741409, 0.7284533381462097, 0.07623349130153656, 0.008470388129353523, 0.008175563998520374, 0.024526692926883698, 0.0817556381225586, 0.024526692926883698, 0.008175563998520374, 0.057228948920965195, 0.7603274583816528, 0.008175563998520374, 0.024526692926883698, 0.06312002241611481, 0.8836802840232849, 0.07779698818922043, 0.007409237325191498, 0.166707843542099, 0.11113855987787247, 0.02963694930076599, 0.07779698818922043, 0.048160042613744736, 0.014818474650382996, 0.274141788482666, 0.08891084790229797, 0.07779698818922043, 0.018523093312978745, 0.003704618662595749, 0.05681000277400017, 0.02434714511036873, 0.20695072412490845, 0.11767786741256714, 0.09333071857690811, 0.05681000277400017, 0.20289286971092224, 0.09333071857690811, 0.00811571441590786, 0.13390929996967316, 0.058825477957725525, 0.00980424601584673, 0.07843396812677383, 0.1274552047252655, 0.00980424601584673, 0.03921698406338692, 0.00980424601584673, 0.058825477957725525, 0.08823821693658829, 0.029412738978862762, 0.28432315587997437, 0.19608493149280548, 0.00980424601584673, 0.9339924454689026, 0.8257818222045898, 0.17384880781173706, 0.8039979934692383, 0.023474393412470818, 0.02934299223124981, 0.02934299223124981, 0.02934299223124981, 0.017605794593691826, 0.05868598446249962, 0.005868598353117704, 0.7649885416030884, 0.03937441110610962, 0.01124983187764883, 0.01687474735081196, 0.050624240189790726, 0.03374949470162392, 0.02249966375529766, 0.01124983187764883, 0.02249966375529766, 0.02249966375529766, 0.8096765279769897, 0.005953504238277674, 0.05953504145145416, 0.05953504145145416, 0.04762803390622139, 0.005953504238277674, 0.8175649046897888, 0.004516933113336563, 0.036135464906692505, 0.004516933113336563, 0.07227092981338501, 0.054203201085329056, 0.009033866226673126, 0.2143537700176239, 0.0612439326941967, 0.2755976915359497, 0.015310983173549175, 0.015310983173549175, 0.03062196634709835, 0.3674635887145996, 0.015310983173549175, 0.15607677400112152, 0.15607677400112152, 0.15607677400112152, 0.08918672800064087, 0.4013402760028839, 0.8764618635177612, 0.8519141674041748, 0.07744674384593964, 0.7628468871116638, 0.1634671986103058, 0.06804125756025314, 0.013608251698315144, 0.027216503396630287, 0.8709281086921692, 0.04997812956571579, 0.06996937841176987, 0.019991250708699226, 0.014993438497185707, 0.034984689205884933, 0.17992126941680908, 0.5847440958023071, 0.03998250141739845, 0.02186639979481697, 0.04373279958963394, 0.09839879721403122, 0.05466599762439728, 0.010933199897408485, 0.2514635920524597, 0.10933199524879456, 0.40452840924263, 0.004697662778198719, 0.02348831482231617, 0.014092988334596157, 0.004697662778198719, 0.09865091741085052, 0.06106961891055107, 0.004697662778198719, 0.02348831482231617, 0.028185976669192314, 0.7046494483947754, 0.03288364037871361, 0.010127795860171318, 0.10127796232700348, 0.05063898116350174, 0.2531948983669281, 0.12153355032205582, 0.33421725034713745, 0.05063898116350174, 0.030383387580513954, 0.020255591720342636, 0.1255195140838623, 0.2091992050409317, 0.2091992050409317, 0.06275975704193115, 0.35563862323760986, 0.09315870702266693, 0.1304221898317337, 0.17700155079364777, 0.12110631912946701, 0.15836980938911438, 0.009315870702266693, 0.009315870702266693, 0.009315870702266693, 0.2608443796634674, 0.03726348280906677, 0.0666106566786766, 0.14273712038993835, 0.009515807963907719, 0.019031615927815437, 0.2188635915517807, 0.038063231855630875, 0.18080036342144012, 0.0666106566786766, 0.20934778451919556, 0.038063231855630875, 0.7718853950500488, 0.12187664210796356, 0.040625546127557755, 0.030787469819188118, 0.8312616348266602, 0.12314987927675247, 0.20068427920341492, 0.6946763396263123, 0.015437252819538116, 0.07718626409769058, 0.008655723184347153, 0.28563883900642395, 0.5539662837982178, 0.02596716769039631, 0.017311446368694305, 0.07790150493383408, 0.02596716769039631, 0.09774153679609299, 0.09774153679609299, 0.6841907501220703, 0.09774153679609299, 0.42033639550209045, 0.5254204869270325, 0.8118274211883545, 0.7382113337516785, 0.14764226973056793, 0.1866544634103775, 0.7932814955711365, 0.22705134749412537, 0.34725499153137207, 0.41403481364250183, 0.7959470152854919, 0.16582229733467102, 0.08067090809345245, 0.21512243151664734, 0.053780607879161835, 0.08067090809345245, 0.5646963715553284, 0.8932458162307739, 0.5923150181770325, 0.29615750908851624, 0.04230821877717972, 0.04178423807024956, 0.2924896776676178, 0.04178423807024956, 0.04178423807024956, 0.5431951284408569, 0.154330313205719, 0.7202081084251404, 0.0514434352517128, 0.1194429025053978, 0.028104212135076523, 0.14754711091518402, 0.04918237030506134, 0.27401605248451233, 0.3513026535511017, 0.007026053033769131, 0.014052106067538261, 0.018252214416861534, 0.6205753087997437, 0.3285398483276367, 0.03650442883372307, 0.651715099811554, 0.043447673320770264, 0.30413371324539185, 0.024726714938879013, 0.049453429877758026, 0.14836028218269348, 0.024726714938879013, 0.024726714938879013, 0.12363357096910477, 0.5192610025405884, 0.07418014109134674, 0.022368188947439194, 0.026096221059560776, 0.07083260267972946, 0.07828866690397263, 0.055920474231243134, 0.014912126585841179, 0.11929701268672943, 0.0037280316464602947, 0.16776143014431, 0.03728031739592552, 0.1864015758037567, 0.06710457056760788, 0.13420914113521576, 0.0037280316464602947, 0.014912126585841179, 0.10621510446071625, 0.026553776115179062, 0.8231670260429382, 0.053107552230358124, 0.17194542288780212, 0.6877816915512085, 0.11119034886360168, 0.0425543338060379, 0.14139020442962646, 0.0013727203477174044, 0.0425543338060379, 0.04667249321937561, 0.05216337367892265, 0.0068636019714176655, 0.1235448345541954, 0.3582800328731537, 0.030199848115444183, 0.008236322551965714, 0.0013727203477174044, 0.017845364287495613, 0.004118161275982857, 0.01235448382794857, 0.021144956350326538, 0.10572478175163269, 0.10572478175163269, 0.021144956350326538, 0.14801469445228577, 0.54976886510849, 0.042289912700653076, 0.7509328126907349, 0.7543569207191467, 0.08377423137426376, 0.8796294331550598, 0.15193597972393036, 0.15193597972393036, 0.009495998732745647, 0.06647199392318726, 0.1329439878463745, 0.009495998732745647, 0.15193597972393036, 0.1329439878463745, 0.028487997129559517, 0.1709279865026474, 0.0075763012282550335, 0.5429682731628418, 0.06313583999872208, 0.04040693864226341, 0.0025254336651414633, 0.2121364325284958, 0.02525433711707592, 0.022728903219103813, 0.010101734660565853, 0.04798324033617973, 0.0025254336651414633, 0.0050508673302829266, 0.01262716855853796, 0.0448235385119915, 0.6912261247634888, 0.002359133679419756, 0.05897834151983261, 0.06841487437486649, 0.04246440529823303, 0.004718267358839512, 0.002359133679419756, 0.05897834151983261, 0.0070774005725979805, 0.014154801145195961, 0.049074936658144, 0.43816906213760376, 0.014021409675478935, 0.08062310516834259, 0.003505352418869734, 0.16124621033668518, 0.003505352418869734, 0.038558878004550934, 0.017526762560009956, 0.08062310516834259, 0.003505352418869734, 0.045569583773612976, 0.024537468329072, 0.021032115444540977, 0.021032115444540977, 0.04900594428181648, 0.6344980001449585, 0.020634081214666367, 0.0077377804554998875, 0.15217635035514832, 0.028371863067150116, 0.0077377804554998875, 0.015475560910999775, 0.0077377804554998875, 0.05416446551680565, 0.018054822459816933, 0.0520273894071579, 0.06503423303365707, 0.7413902878761292, 0.06503423303365707, 0.013006847351789474, 0.0520273894071579, 0.025361455976963043, 0.8115665912628174, 0.050722911953926086, 0.07608436793088913, 0.9295105338096619, 0.9515198469161987, 0.8257453441619873, 0.0903082862496376, 0.0903082862496376, 0.7676204442977905, 0.9509122371673584, 0.045407526195049286, 0.045407526195049286, 0.8627429604530334, 0.020936133340001106, 0.013957422226667404, 0.004652474075555801, 0.006978711113333702, 0.09770195186138153, 0.06978710740804672, 0.018609896302223206, 0.004652474075555801, 0.013957422226667404, 0.06513463705778122, 0.009304948151111603, 0.03954602777957916, 0.020936133340001106, 0.009304948151111603, 0.10235442966222763, 0.425701379776001, 0.02791484445333481, 0.048850975930690765, 0.10792647302150726, 0.0029979576356709003, 0.03297753259539604, 0.02997957542538643, 0.1379060447216034, 0.017987744882702827, 0.047967322170734406, 0.02098570205271244, 0.005995915271341801, 0.07494893670082092, 0.0029979576356709003, 0.10492851585149765, 0.023983661085367203, 0.03297753259539604, 0.2518284320831299, 0.08394280821084976, 0.02098570205271244, 0.08694153279066086, 0.02898051217198372, 0.15577025711536407, 0.003622564021497965, 0.03260307386517525, 0.02898051217198372, 0.003622564021497965, 0.010867691598832607, 0.08331897109746933, 0.0796964094042778, 0.010867691598832607, 0.3441435694694519, 0.010867691598832607, 0.12316717207431793, 0.003622564021497965, 0.06638984382152557, 0.0039052849169820547, 0.18745367228984833, 0.05076870322227478, 0.01171585451811552, 0.007810569833964109, 0.12887440621852875, 0.02733699418604374, 0.33585450053215027, 0.02343170903623104, 0.14840082824230194, 0.0039052849169820547, 0.08367876708507538, 0.00929764099419117, 0.10537325590848923, 0.049587417393922806, 0.05578584223985672, 0.024793708696961403, 0.006198427174240351, 0.09917483478784561, 0.11467090249061584, 0.0030992135871201754, 0.26343315839767456, 0.0030992135871201754, 0.17355595529079437, 0.012396854348480701, 0.036674849689006805, 0.036674849689006805, 0.05134478956460953, 0.1320294588804245, 0.528117835521698, 0.17603927850723267, 0.014669939875602722, 0.014669939875602722, 0.012756365351378918, 0.006378182675689459, 0.03826909512281418, 0.1466982066631317, 0.012756365351378918, 0.01913454756140709, 0.006378182675689459, 0.006378182675689459, 0.025512730702757835, 0.006378182675689459, 0.42096006870269775, 0.07653819024562836, 0.006378182675689459, 0.1849672943353653, 0.012756365351378918, 0.006378182675689459, 0.7323201894760132, 0.05492401123046875, 0.0366160087287426, 0.16477203369140625, 0.7055104970932007, 0.011758508160710335, 0.2234116643667221, 0.035275526344776154, 0.775508463382721, 0.014361267909407616, 0.15797394514083862, 0.014361267909407616, 0.02872253581881523, 0.009769954718649387, 0.0781596377491951, 0.5715423226356506, 0.13189437985420227, 0.02442488633096218, 0.0732746571302414, 0.08792959153652191, 0.009769954718649387, 0.8877556324005127, 0.9045513868331909, 0.08401267230510712, 0.5565839409828186, 0.03150475025177002, 0.02100316807627678, 0.02100316807627678, 0.0525079183280468, 0.14702217280864716, 0.04200633615255356, 0.02100316807627678, 0.04868451878428459, 0.06328987330198288, 0.3018440306186676, 0.07789523154497147, 0.004868451971560717, 0.004868451971560717, 0.004868451971560717, 0.49171364307403564, 0.168413445353508, 0.042103361338377, 0.0701722651720047, 0.014034453779459, 0.4631369709968567, 0.084206722676754, 0.1543789952993393, 0.1651706099510193, 0.2202274650335312, 0.550568699836731, 0.8462380170822144, 0.11435648798942566, 0.041926559060811996, 0.09433475881814957, 0.010481639765202999, 0.5764901638031006, 0.11529803276062012, 0.07337147742509842, 0.041926559060811996, 0.010481639765202999, 0.041926559060811996, 0.007451837882399559, 0.13413308560848236, 0.037259187549352646, 0.08942205458879471, 0.5663396716117859, 0.09687389433383942, 0.05961470305919647, 0.007451837882399559, 0.014345500618219376, 0.114764004945755, 0.18649150431156158, 0.0573820024728775, 0.5738200545310974, 0.0573820024728775, 0.1305023431777954, 0.06776083260774612, 0.03262558579444885, 0.007528981659561396, 0.04015456885099411, 0.2710433304309845, 0.0777994766831398, 0.08532845973968506, 0.11293472349643707, 0.022586945444345474, 0.012548302300274372, 0.07278015464544296, 0.027606265619397163, 0.030115926638245583, 0.005019321106374264, 0.9004465341567993, 0.00802457332611084, 0.1203685998916626, 0.02407371997833252, 0.01604914665222168, 0.31295835971832275, 0.17654061317443848, 0.1604914665222168, 0.00802457332611084, 0.0802457332611084, 0.01604914665222168, 0.0401228666305542, 0.04814743995666504, 0.09948448091745377, 0.02210766263306141, 0.03316149488091469, 0.39793792366981506, 0.1105383113026619, 0.13264597952365875, 0.06632298976182938, 0.08843065053224564, 0.03316149488091469, 0.04231005907058716, 0.2855928838253021, 0.01057751476764679, 0.15866272151470184, 0.08462011814117432, 0.34905797243118286, 0.01057751476764679, 0.05288757383823395, 0.8818274140357971, 0.14642928540706635, 0.0418369397521019, 0.06275540590286255, 0.5857171416282654, 0.1673477590084076, 0.9050219655036926, 0.062231291085481644, 0.3111564517021179, 0.062231291085481644, 0.015557822771370411, 0.5289660096168518, 0.9702313542366028, 0.19276684522628784, 0.7710673809051514, 0.628148078918457, 0.9566896557807922, 0.9046697616577148, 0.3363887369632721, 0.6247219443321228, 0.9001629948616028, 0.18828566372394562, 0.14121423661708832, 0.611928403377533, 0.00913174357265234, 0.027395229786634445, 0.45658716559410095, 0.5022458434104919, 0.0171129759401083, 0.0171129759401083, 0.025669464841485023, 0.0342259518802166, 0.4449373781681061, 0.00855648797005415, 0.40215495228767395, 0.04278244078159332, 0.009670265018939972, 0.04835132509469986, 0.46417272090911865, 0.009670265018939972, 0.009670265018939972, 0.35779979825019836, 0.08703238517045975, 0.08046616613864899, 0.16093233227729797, 0.6437293291091919, 0.15424956381320953, 0.30849912762641907, 0.5141652226448059, 0.131879061460495, 0.021979844197630882, 0.8132542371749878, 0.08598024398088455, 0.06448518484830856, 0.042990121990442276, 0.06448518484830856, 0.7093369960784912, 0.03334539383649826, 0.36679932475090027, 0.011115130968391895, 0.35568419098854065, 0.0555756539106369, 0.14449669420719147, 0.011115130968391895, 0.25531062483787537, 0.6382765173912048, 0.07659318298101425, 0.09621604532003403, 0.7376563549041748, 0.09621604532003403, 0.08811122924089432, 0.6461489796638489, 0.05874081701040268, 0.05874081701040268, 0.02937040850520134, 0.05874081701040268, 0.8904255032539368, 0.8542056679725647, 0.8766602873802185, 0.07305502146482468, 0.1475583165884018, 0.4532148540019989, 0.19498778879642487, 0.02634970098733902, 0.09485892206430435, 0.010539880022406578, 0.03688957914710045, 0.021079760044813156, 0.06416698545217514, 0.02138899639248848, 0.6737533807754517, 0.01069449819624424, 0.06416698545217514, 0.01069449819624424, 0.06416698545217514, 0.02138899639248848, 0.07486148178577423, 0.6923829317092896, 0.1923285871744156, 0.0192328579723835, 0.076931431889534, 0.27639469504356384, 0.6909867525100708, 0.5969771146774292, 0.012183206155896187, 0.10355725139379501, 0.2680305242538452, 0.006091603077948093, 0.6359601616859436, 0.044517211616039276, 0.23530526459217072, 0.05723641440272331, 0.006359601393342018, 0.012719202786684036, 0.4952264726161957, 0.04369645565748215, 0.014565484598279, 0.04369645565748215, 0.116523876786232, 0.2621787190437317, 0.7834203839302063, 0.06912532448768616, 0.11520887911319733, 0.10920188575983047, 0.005460094194859266, 0.38220661878585815, 0.09282160550355911, 0.005460094194859266, 0.03822065889835358, 0.021840376779437065, 0.04368075355887413, 0.12558217346668243, 0.15834273397922516, 0.01638028211891651, 0.7666071057319641, 0.0412154346704483, 0.024729261174798012, 0.03297234699130058, 0.10716012865304947, 0.008243086747825146, 0.7501125335693359, 0.03571964427828789, 0.05953274294734001, 0.11906548589468002, 0.023813096806406975, 0.5596652626991272, 0.0027434572111815214, 0.2770891785621643, 0.02194765768945217, 0.13168594241142273, 0.0027434572111815214, 0.0027434572111815214, 0.6066674590110779, 0.06254303455352783, 0.003127151634544134, 0.015635758638381958, 0.272062212228775, 0.025017213076353073, 0.012508606538176537, 0.7697535157203674, 0.05003397911787033, 0.0115463025867939, 0.16549700498580933, 0.8564091324806213, 0.12322433292865753, 0.006161216646432877, 0.006161216646432877, 0.8877837061882019, 0.0037459228187799454, 0.0037459228187799454, 0.0037459228187799454, 0.011237768456339836, 0.0037459228187799454, 0.014983691275119781, 0.0037459228187799454, 0.007491845637559891, 0.007491845637559891, 0.037459228187799454, 0.011237768456339836, 0.11705908924341202, 0.8194136619567871, 0.18508458137512207, 0.7403383255004883, 0.6868143677711487, 0.0204864963889122, 0.0614594891667366, 0.348270446062088, 0.0409729927778244, 0.3277839422225952, 0.143405482172966, 0.021138984709978104, 0.010569492354989052, 0.010569492354989052, 0.04227796941995621, 0.10569492727518082, 0.031708478927612305, 0.28537628054618835, 0.07398644834756851, 0.29594579339027405, 0.12683391571044922, 0.12391843646764755, 0.3097960948944092, 0.09293882548809052, 0.04646941274404526, 0.3252858817577362, 0.0774490237236023, 0.14146003127098083, 0.21219004690647125, 0.07073001563549042, 0.5658401250839233, 0.7285615801811218, 0.007876341231167316, 0.035443536937236786, 0.007876341231167316, 0.06694889813661575, 0.031505364924669266, 0.03938170522451401, 0.015752682462334633, 0.027567194774746895, 0.019690852612257004, 0.003938170615583658, 0.007876341231167316, 0.007876341231167316, 0.03476206958293915, 0.9385758638381958, 0.07118964195251465, 0.017797410488128662, 0.035594820976257324, 0.8008834719657898, 0.07118964195251465, 0.015199525281786919, 0.007599762640893459, 0.16719478368759155, 0.022799288854002953, 0.03799881413578987, 0.045598577708005905, 0.6079810261726379, 0.022799288854002953, 0.030399050563573837, 0.030399050563573837, 0.07174915075302124, 0.17219796776771545, 0.05739932134747505, 0.014349830336868763, 0.10044881701469421, 0.5596433877944946, 0.3906078636646271, 0.04497908800840378, 0.13020262122154236, 0.04261176660656929, 0.023673204705119133, 0.13256993889808655, 0.0023673204705119133, 0.004734640941023827, 0.01420392282307148, 0.01657124236226082, 0.00710196141153574, 0.011836602352559566, 0.11599870026111603, 0.04497908800840378, 0.01657124236226082, 0.250959575176239, 0.02509595826268196, 0.1254797875881195, 0.15057575702667236, 0.42663130164146423, 0.13103564083576202, 0.13103564083576202, 0.32758909463882446, 0.016379455104470253, 0.37672746181488037, 0.05241677910089493, 0.10483355820178986, 0.5765845775604248, 0.26208391785621643, 0.13091552257537842, 0.052366212010383606, 0.026183106005191803, 0.10473242402076721, 0.6022114157676697, 0.07854931801557541, 0.10342343896627426, 0.025855859741568565, 0.6981081962585449, 0.1551351547241211, 0.8593343496322632, 0.18927985429763794, 0.7030394673347473, 0.08111993968486786, 0.9456502199172974, 0.2327132523059845, 0.1954791396856308, 0.11170236021280289, 0.04654265195131302, 0.037234120070934296, 0.04654265195131302, 0.25133031606674194, 0.08377677202224731, 0.0287054181098938, 0.12199802696704865, 0.13635073602199554, 0.16146798431873322, 0.0287054181098938, 0.003588177263736725, 0.017940886318683624, 0.0143527090549469, 0.00717635452747345, 0.0287054181098938, 0.05023448169231415, 0.2296433448791504, 0.15429162979125977, 0.0143527090549469, 0.33658885955810547, 0.04808412492275238, 0.03205608204007149, 0.12822432816028595, 0.40070104598999023, 0.03205608204007149, 0.02031342126429081, 0.010156710632145405, 0.01523506548255682, 0.07617532461881638, 0.2031342089176178, 0.03047013096511364, 0.2488393932580948, 0.025391776114702225, 0.03047013096511364, 0.010156710632145405, 0.005078355316072702, 0.06094026193022728, 0.2488393932580948, 0.010156710632145405, 0.06974203884601593, 0.18307285010814667, 0.22666162252426147, 0.1888846904039383, 0.017435509711503983, 0.029059182852506638, 0.026153264567255974, 0.0029059182852506638, 0.10170713812112808, 0.014529591426253319, 0.10170713812112808, 0.0029059182852506638, 0.011623673141002655, 0.020341427996754646, 0.01626380905508995, 0.01626380905508995, 0.0650552362203598, 0.1301104724407196, 0.11384665966033936, 0.5367056727409363, 0.11384665966033936, 0.11033537983894348, 0.06620122492313385, 0.04413415119051933, 0.022067075595259666, 0.11033537983894348, 0.06620122492313385, 0.022067075595259666, 0.11033537983894348, 0.06620122492313385, 0.33100613951683044, 0.061955101788043976, 0.1084214299917221, 0.18586531281471252, 0.030977550894021988, 0.015488775447010994, 0.23233163356781006, 0.07744388282299042, 0.04646632820367813, 0.23233163356781006, 0.7770137786865234, 0.11100196838378906, 0.9128872156143188, 0.7540793418884277, 0.16158843040466309, 0.053862810134887695, 0.09753011167049408, 0.8777710199356079, 0.1112198755145073, 0.2224397510290146, 0.02224397473037243, 0.02224397473037243, 0.08897589892148972, 0.13346384465694427, 0.400391548871994, 0.6038703322410583, 0.010064505971968174, 0.020129011943936348, 0.060387033969163895, 0.010064505971968174, 0.11070956289768219, 0.10064505785703659, 0.030193516984581947, 0.040258023887872696, 0.05066275596618652, 0.016887586563825607, 0.13510069251060486, 0.08443792909383774, 0.30397653579711914, 0.2533137798309326, 0.15198826789855957, 0.9448692202568054, 0.0944550409913063, 0.8500953316688538, 0.88233882188797, 0.06302420049905777, 0.42351123690605164, 0.5293890237808228, 0.1860562264919281, 0.050742607563734055, 0.01691420190036297, 0.15222781896591187, 0.541254460811615, 0.01691420190036297, 0.050742607563734055, 0.07046172022819519, 0.028184687718749046, 0.7609865665435791, 0.07046172022819519, 0.042277030646800995, 0.0379868745803833, 0.5270678997039795, 0.0759737491607666, 0.05223195254802704, 0.014245077967643738, 0.19943109154701233, 0.03323851525783539, 0.009496718645095825, 0.04273523390293121, 0.08131108433008194, 0.13009773194789886, 0.2059880793094635, 0.16804289817810059, 0.048786647617816925, 0.07589033991098404, 0.24393324553966522, 0.005420738831162453, 0.016262216493487358, 0.010841477662324905, 0.010841477662324905, 0.04362815245985985, 0.03490252420306206, 0.4319187104701996, 0.0828934907913208, 0.07416786253452301, 0.04362815245985985, 0.13961009681224823, 0.01745126210153103, 0.008725631050765514, 0.09161911904811859, 0.03490252420306206, 0.005435914266854525, 0.2772316038608551, 0.1032823696732521, 0.12502601742744446, 0.027179570868611336, 0.2065647393465042, 0.027179570868611336, 0.027179570868611336, 0.1032823696732521, 0.03805140033364296, 0.01087182853370905, 0.048923227936029434, 0.011908304877579212, 0.011908304877579212, 0.244120255112648, 0.07144983112812042, 0.16671627759933472, 0.017862457782030106, 0.20244118571281433, 0.0952664390206337, 0.005954152438789606, 0.023816609755158424, 0.023816609755158424, 0.11908305436372757, 0.016965607181191444, 0.005655202548950911, 0.005655202548950911, 0.08482804149389267, 0.05089682340621948, 0.2431737184524536, 0.13006965816020966, 0.07351763546466827, 0.16400088369846344, 0.011310405097901821, 0.06786242872476578, 0.03393121436238289, 0.10179364681243896, 0.005655202548950911, 0.810983419418335, 0.01228801067918539, 0.036864034831523895, 0.13516812026500702, 0.07372806966304779, 0.036864034831523895, 0.08601608127355576, 0.08601608127355576, 0.13516812026500702, 0.036864034831523895, 0.3809283375740051, 0.009173637256026268, 0.06421546638011932, 0.17429912090301514, 0.018347274512052536, 0.009173637256026268, 0.06421546638011932, 0.03669454902410507, 0.09173637628555298, 0.5137237310409546, 0.06160338595509529, 0.04620254039764404, 0.21561184525489807, 0.18481016159057617, 0.13860762119293213, 0.04620254039764404, 0.3234177827835083, 0.05485304072499275, 0.4113978147506714, 0.49367737770080566, 0.0618673712015152, 0.20622457563877106, 0.22684703767299652, 0.4949389696121216, 0.005768821574747562, 0.005768821574747562, 0.02307528629899025, 0.7787908911705017, 0.011537643149495125, 0.011537643149495125, 0.14422054588794708, 0.005768821574747562, 0.011537643149495125, 0.07298395782709122, 0.802823543548584, 0.10947594046592712, 0.025019068270921707, 0.8506483435630798, 0.050038136541843414, 0.050038136541843414, 0.012509534135460854, 0.0625896081328392, 0.054765909910202026, 0.46159836649894714, 0.17212142050266266, 0.0312948040664196, 0.039118506014347076, 0.0156474020332098, 0.0156474020332098, 0.13300292193889618, 0.0078237010166049, 0.009356895461678505, 0.05614137277007103, 0.4772016704082489, 0.0842120572924614, 0.09356895834207535, 0.03742758184671402, 0.07485516369342804, 0.15906722843647003, 0.07832232117652893, 0.8419649600982666, 0.0587417408823967, 0.6011242866516113, 0.11600644141435623, 0.02109208144247532, 0.1370985209941864, 0.10546040534973145, 0.022308118641376495, 0.009914719499647617, 0.7237745523452759, 0.029744159430265427, 0.004957359749823809, 0.022308118641376495, 0.017350759357213974, 0.06692435592412949, 0.04461623728275299, 0.009914719499647617, 0.03470151871442795, 0.014872079715132713, 0.04441513493657112, 0.017272552475333214, 0.6785646080970764, 0.039480119943618774, 0.004935014992952347, 0.012337538413703442, 0.0320775993168354, 0.06909020990133286, 0.04441513493657112, 0.05181765928864479, 0.0024675074964761734, 0.04106318950653076, 0.00746603449806571, 0.7279383540153503, 0.03733017295598984, 0.00746603449806571, 0.00746603449806571, 0.026131121441721916, 0.07092732936143875, 0.0634612962603569, 0.00746603449806571, 0.1050480529665947, 0.0323224775493145, 0.1050480529665947, 0.1696930080652237, 0.0404030978679657, 0.2504991888999939, 0.008080619387328625, 0.2909022867679596, 0.03251146525144577, 0.03251146525144577, 0.2113245129585266, 0.17881305515766144, 0.03251146525144577, 0.48767197132110596, 0.016255732625722885, 0.12156759202480316, 0.17222075164318085, 0.10130632668733597, 0.587576687335968, 0.010130632668733597, 0.019914129748940468, 0.4580250084400177, 0.029871195554733276, 0.4779391288757324, 0.031301889568567276, 0.09912265092134476, 0.2504151165485382, 0.026084907352924347, 0.031301889568567276, 0.005216981749981642, 0.052169814705848694, 0.005216981749981642, 0.010433963499963284, 0.3547547459602356, 0.09390567243099213, 0.041735853999853134, 0.09229978919029236, 0.11537473648786545, 0.3807366192340851, 0.011537473648786545, 0.011537473648786545, 0.011537473648786545, 0.011537473648786545, 0.06345610320568085, 0.057687368243932724, 0.0519186295568943, 0.028843684121966362, 0.02307494729757309, 0.011537473648786545, 0.07499358057975769, 0.057687368243932724, 0.6266734004020691, 0.04915085434913635, 0.1105894222855568, 0.036863140761852264, 0.036863140761852264, 0.1105894222855568, 0.012287713587284088, 0.5809215903282166, 0.38728106021881104, 0.013017398305237293, 0.10413918644189835, 0.19526097178459167, 0.39052194356918335, 0.10413918644189835, 0.039052195847034454, 0.15620878338813782, 0.036327067762613297, 0.6417782306671143, 0.09687218070030212, 0.012109022587537766, 0.08476316183805466, 0.04843609035015106, 0.012109022587537766, 0.036327067762613297, 0.02421804517507553, 0.007486768998205662, 0.02246030606329441, 0.08984122425317764, 0.02246030606329441, 0.15722215175628662, 0.14224860072135925, 0.014973537996411324, 0.4566929042339325, 0.029947075992822647, 0.04492061212658882, 0.03534494340419769, 0.18177399039268494, 0.03534494340419769, 0.015147832222282887, 0.055542051792144775, 0.005049277562648058, 0.015147832222282887, 0.010098555125296116, 0.005049277562648058, 0.5352234244346619, 0.055542051792144775, 0.055542051792144775, 0.031480614095926285, 0.06296122819185257, 0.01888836733996868, 0.1951798051595688, 0.01888836733996868, 0.012592244893312454, 0.012592244893312454, 0.05036897957324982, 0.4344324469566345, 0.08814571797847748, 0.031480614095926285, 0.031480614095926285, 0.012592244893312454, 0.10932016372680664, 0.03123433142900467, 0.0039042914286255836, 0.09760728478431702, 0.03123433142900467, 0.0039042914286255836, 0.0039042914286255836, 0.0039042914286255836, 0.4489935338497162, 0.09760728478431702, 0.042947206646203995, 0.07808583229780197, 0.019521458074450493, 0.02733004093170166, 0.07456833124160767, 0.018642082810401917, 0.027963124215602875, 0.018642082810401917, 0.21438395977020264, 0.531299352645874, 0.06524728983640671, 0.04660520702600479, 0.09271617978811264, 0.012643115594983101, 0.1264311522245407, 0.05900120735168457, 0.2612910568714142, 0.11800241470336914, 0.050572462379932404, 0.016857488080859184, 0.16436050832271576, 0.004214372020214796, 0.08007306605577469, 0.012643115594983101, 0.11654863506555557, 0.041624512523412704, 0.14984823763370514, 0.049949415028095245, 0.41624513268470764, 0.16649805009365082, 0.041624512523412704, 0.016649805009365082, 0.14828701317310333, 0.0044935462065041065, 0.5077707171440125, 0.017974184826016426, 0.2830933928489685, 0.017974184826016426, 0.017974184826016426, 0.1518923044204712, 0.43117818236351013, 0.019599007442593575, 0.3429826498031616, 0.03919801488518715, 0.009799503721296787, 0.004899751860648394, 0.03538937494158745, 0.2791828513145447, 0.0747109055519104, 0.00393215287476778, 0.00393215287476778, 0.33816513419151306, 0.00393215287476778, 0.00393215287476778, 0.10223597288131714, 0.00393215287476778, 0.09437166899442673, 0.01572861149907112, 0.04325368255376816, 0.13862860202789307, 0.17697268724441528, 0.008848634548485279, 0.011798178777098656, 0.377541720867157, 0.02359635755419731, 0.06488998234272003, 0.002949544694274664, 0.08848634362220764, 0.05604134872555733, 0.04129362851381302, 0.008848634548485279, 0.279634952545166, 0.699087381362915, 0.18585734069347382, 0.12390489131212234, 0.6195244789123535, 0.9298158288002014, 0.016285322606563568, 0.24427983164787292, 0.016285322606563568, 0.4234183728694916, 0.048855967819690704, 0.16285322606563568, 0.08142661303281784, 0.08180391788482666, 0.061352942138910294, 0.061352942138910294, 0.6135293841362, 0.16360783576965332, 0.9502845406532288, 0.006690497510135174, 0.020071493461728096, 0.14719094336032867, 0.026761990040540695, 0.21409592032432556, 0.14050045609474182, 0.020071493461728096, 0.013380995020270348, 0.3679773807525635, 0.006690497510135174, 0.04014298692345619, 0.8724830150604248, 0.018563468009233475, 0.018563468009233475, 0.027845202013850212, 0.046408671885728836, 0.009281734004616737, 0.025579169392585754, 0.07673750817775726, 0.8441125750541687, 0.025579169392585754, 0.9357177019119263, 0.903144359588623, 0.041052017360925674, 0.7530234456062317, 0.03274014964699745, 0.16370075941085815, 0.039816759526729584, 0.07963351905345917, 0.8361518979072571, 0.9365366101264954, 0.15894238650798798, 0.7152407765388489, 0.05085233226418495, 0.05085233226418495, 0.7627849578857422, 0.1017046645283699, 0.7895532250404358, 0.13159219920635223, 0.9471244812011719, 0.8391380310058594, 0.08391380310058594, 0.10473791509866714, 0.7462576627731323, 0.013092239387333393, 0.07855343818664551, 0.013092239387333393, 0.039276719093322754, 0.9239343404769897, 0.015748880803585052, 0.04724664241075516, 0.005249626934528351, 0.9356010556221008, 0.00599744264036417, 0.02398977056145668, 0.029987214133143425, 0.009778877720236778, 0.8507623672485352, 0.009778877720236778, 0.014668316580355167, 0.009778877720236778, 0.04400495067238808, 0.009778877720236778, 0.04400495067238808, 0.05316625162959099, 0.9038262963294983, 0.9224572777748108, 0.22545769810676575, 0.613745927810669, 0.025050856173038483, 0.08767799288034439, 0.037576284259557724, 0.08362860232591629, 0.1013680025935173, 0.007602600380778313, 0.1621887981891632, 0.0101367998868227, 0.243283212184906, 0.002534199971705675, 0.025342000648379326, 0.04308140277862549, 0.03294460102915764, 0.04308140277862549, 0.16979140043258667, 0.035478800535202026, 0.027876200154423714, 0.015205200761556625, 0.0230474341660738, 0.8220251202583313, 0.030729912221431732, 0.08450725674629211, 0.038412388414144516, 0.00590231129899621, 0.00590231129899621, 0.8942001461982727, 0.008853467181324959, 0.002951155649498105, 0.002951155649498105, 0.06787657737731934, 0.002951155649498105, 0.008978934958577156, 0.038908716291189194, 0.0029929783195257187, 0.005985956639051437, 0.83803391456604, 0.011971913278102875, 0.0029929783195257187, 0.029929783195257187, 0.0478876531124115, 0.008978934958577156, 0.007760811131447554, 0.015521622262895107, 0.003880405565723777, 0.003880405565723777, 0.023282432928681374, 0.8498088121414185, 0.042684461921453476, 0.003880405565723777, 0.003880405565723777, 0.031043244525790215, 0.015521622262895107, 0.05242884159088135, 0.013107210397720337, 0.6029316782951355, 0.13107210397720337, 0.1048576831817627, 0.09175047278404236, 0.06299415230751038, 0.014537111856043339, 0.004845703952014446, 0.7898497581481934, 0.009691407904028893, 0.04361133649945259, 0.053302742540836334, 0.014537111856043339, 0.02402663603425026, 0.003432376543059945, 0.07894466072320938, 0.037756141275167465, 0.003432376543059945, 0.030891388654708862, 0.003432376543059945, 0.07207991182804108, 0.5285859704017639, 0.18191595375537872, 0.00686475308611989, 0.020594259724020958, 0.003432376543059945, 0.1282643973827362, 0.037724822759628296, 0.007544964551925659, 0.08299461007118225, 0.5055126547813416, 0.2037140429019928, 0.022634893655776978, 0.03784983605146408, 0.007569967303425074, 0.6737270951271057, 0.22709901630878448, 0.022709902375936508, 0.022709902375936508, 0.006741103250533342, 0.24942082166671753, 0.013482206501066685, 0.006741103250533342, 0.02696441300213337, 0.39772507548332214, 0.26290303468704224, 0.013482206501066685, 0.02696441300213337, 0.024687955155968666, 0.04937591031193733, 0.09875182062387466, 0.12343978136777878, 0.04937591031193733, 0.5925109386444092, 0.029377693310379982, 0.07834051549434662, 0.3917025923728943, 0.41128772497177124, 0.048962824046611786, 0.019585128873586655, 0.012600808404386044, 0.5040323734283447, 0.42842748761177063, 0.037802428007125854, 0.06482130289077759, 0.4375437796115875, 0.4861597418785095, 0.016205325722694397, 0.06575112789869308, 0.01643778197467327, 0.008218890987336636, 0.02465667389333248, 0.3780689835548401, 0.42738234996795654, 0.03287556394934654, 0.04931334778666496, 0.0236805509775877, 0.01184027548879385, 0.017760412767529488, 0.005920137744396925, 0.005920137744396925, 0.5860936045646667, 0.029600687325000763, 0.2900867462158203, 0.017760412767529488, 0.011143257841467857, 0.005571628920733929, 0.01671488583087921, 0.011143257841467857, 0.011143257841467857, 0.557162880897522, 0.05571628734469414, 0.2952963411808014, 0.02785814367234707, 0.02410879172384739, 0.6991549730300903, 0.0642901062965393, 0.16876153647899628, 0.03214505314826965, 0.014150843024253845, 0.09905590116977692, 0.08490505814552307, 0.21226264536380768, 0.48112866282463074, 0.02830168604850769, 0.07075421512126923, 0.048658259212970734, 0.12975536286830902, 0.17841361463069916, 0.6163379549980164, 0.07201894372701645, 0.7561988830566406, 0.10802841186523438, 0.033049728721380234, 0.008262432180345058, 0.09088674932718277, 0.057837024331092834, 0.0247872956097126, 0.14046134054660797, 0.10741161555051804, 0.04131216183304787, 0.033049728721380234, 0.18177349865436554, 0.0247872956097126, 0.0495745912194252, 0.0495745912194252, 0.14046134054660797, 0.8173907399177551, 0.006976687349379063, 0.22325399518013, 0.23720736801624298, 0.3906944990158081, 0.03488343581557274, 0.020930061116814613, 0.04186012223362923, 0.03488343581557274, 0.8713311553001404, 0.10102390497922897, 0.025255976244807243, 0.8907155990600586, 0.09375953674316406, 0.9256364703178406, 0.05142424628138542, 0.9847903847694397, 0.9266312122344971, 0.03706524893641472, 0.01853262446820736, 0.21968133747577667, 0.03138304874300957, 0.039228811860084534, 0.05492033436894417, 0.0235372856259346, 0.0235372856259346, 0.5805863738059998, 0.015691524371504784, 0.05045108497142792, 0.2186213582754135, 0.18498730659484863, 0.03363405540585518, 0.4708767831325531, 0.09668652713298798, 0.7976638078689575, 0.024171631783246994, 0.04834326356649399, 0.9177192449569702, 0.9647539258003235, 0.015252646058797836, 0.030505292117595673, 0.07626323401927948, 0.022878969088196754, 0.015252646058797836, 0.12202116847038269, 0.13727381825447083, 0.4041951298713684, 0.12964749336242676, 0.053384263068437576, 0.030398212373256683, 0.045597318559885025, 0.1063937395811081, 0.007599553093314171, 0.30398210883140564, 0.2811834514141083, 0.07599552720785141, 0.09119463711977005, 0.022798659279942513, 0.030398212373256683, 0.007599553093314171, 0.11154382675886154, 0.7808067798614502, 0.16173434257507324, 0.7547602653503418, 0.38818320631980896, 0.38818320631980896, 0.7922950983047485, 0.7452773451805115, 0.7897287011146545, 0.17549526691436768, 0.8133680820465088, 0.8112392425537109, 0.09013769030570984, 0.0271286740899086, 0.009042891673743725, 0.6420453190803528, 0.01808578334748745, 0.2712867558002472, 0.01808578334748745, 0.009042891673743725, 0.009042891673743725, 0.003171167802065611, 0.6500893831253052, 0.06659452617168427, 0.16172955930233002, 0.003171167802065611, 0.06025218591094017, 0.003171167802065611, 0.04439634829759598, 0.17096666991710663, 0.07327143102884293, 0.04884761944413185, 0.07327143102884293, 0.6105952262878418, 0.9095987677574158, 0.3097699284553528, 0.06195398420095444, 0.6195398569107056, 0.6369946599006653, 0.12205235660076141, 0.2049558460712433, 0.05066324397921562, 0.0023028745781630278, 0.006908623967319727, 0.3200995922088623, 0.029937371611595154, 0.011514373123645782, 0.05987474322319031, 0.0023028745781630278, 0.0023028745781630278, 0.11514373123645782, 0.011514373123645782, 0.023028746247291565, 0.036845993250608444, 0.07097738981246948, 0.16652387380599976, 0.06005778908729553, 0.013649498112499714, 0.3603467345237732, 0.005459798965603113, 0.013649498112499714, 0.136494979262352, 0.0027298994828015566, 0.15014447271823883, 0.005459798965603113, 0.010919597931206226, 0.14244692027568817, 0.19199366867542267, 0.04645008221268654, 0.0030966722406446934, 0.0030966722406446934, 0.3220539093017578, 0.0030966722406446934, 0.006193344481289387, 0.12386688590049744, 0.12386688590049744, 0.0030966722406446934, 0.027870049700140953, 0.22320620715618134, 0.6696186065673828, 0.6934210658073425, 0.750391960144043, 0.8088439106941223, 0.8469029664993286, 0.009219846688210964, 0.01843969337642193, 0.055319081991910934, 0.027659540995955467, 0.22127632796764374, 0.027659540995955467, 0.07375877350568771, 0.5531908273696899, 0.08851255476474762, 0.08851255476474762, 0.17702510952949524, 0.6195878982543945, 0.01372573059052229, 0.6313835978507996, 0.1921602338552475, 0.09608011692762375, 0.04117719084024429, 0.026342058554291725, 0.39513087272644043, 0.4214729368686676, 0.1053682342171669, 0.03951308876276016, 0.2455953061580658, 0.02455953136086464, 0.4502580761909485, 0.10642463713884354, 0.008186510764062405, 0.13917067646980286, 0.01637302152812481, 0.014490366913378239, 0.17968055605888367, 0.011592293158173561, 0.06085954234004021, 0.06085954234004021, 0.026082661002874374, 0.1593940407037735, 0.483978271484375, 0.06648949533700943, 0.006233390420675278, 0.12466780841350555, 0.01038898341357708, 0.018700171262025833, 0.02077796682715416, 0.05194491893053055, 0.1599903553724289, 0.47581547498703003, 0.006233390420675278, 0.0020777967292815447, 0.0020777967292815447, 0.012466780841350555, 0.018700171262025833, 0.02077796682715416, 0.04775940626859665, 0.9074286818504333, 0.11051732301712036, 0.8472995162010193, 0.1083766371011734, 0.8670130968093872, 0.11605466157197952, 0.8510675430297852, 0.9602402448654175, 0.1827801764011383, 0.7676767110824585, 0.08078549802303314, 0.848247766494751, 0.03413194790482521, 0.23892363905906677, 0.23892363905906677, 0.20479169487953186, 0.2730555832386017, 0.7246255874633789, 0.8745017647743225, 0.019438428804278374, 0.21382272243499756, 0.7192218899726868, 0.019438428804278374, 0.019438428804278374, 0.20505058765411377, 0.17087548971176147, 0.034175097942352295, 0.06835019588470459, 0.5126264691352844, 0.02283705212175846, 0.01826964132487774, 0.03653928264975548, 0.01826964132487774, 0.01826964132487774, 0.01826964132487774, 0.054808925837278366, 0.06851115822792053, 0.40193212032318115, 0.05937633663415909, 0.24207274615764618, 0.02283705212175846, 0.01826964132487774, 0.08675054460763931, 0.08675054460763931, 0.13778027892112732, 0.04592675715684891, 0.07654459774494171, 0.10716243833303452, 0.31638434529304504, 0.015308919362723827, 0.010205946862697601, 0.015308919362723827, 0.08675054460763931, 0.010205946862697601, 0.04027116671204567, 0.016108466312289238, 0.008054233156144619, 0.016108466312289238, 0.10470503568649292, 0.555742084980011, 0.02416270039975643, 0.21746429800987244, 0.006824882235378027, 0.013649764470756054, 0.12284787744283676, 0.020474646240472794, 0.013649764470756054, 0.006824882235378027, 0.7643868327140808, 0.006824882235378027, 0.013649764470756054, 0.027299528941512108, 0.11659591645002365, 0.0029148978646844625, 0.06995754688978195, 0.0029148978646844625, 0.01165959145873785, 0.03789367154240608, 0.0932767316699028, 0.008744693361222744, 0.11368101835250854, 0.38768142461776733, 0.0029148978646844625, 0.005829795729368925, 0.1370002031326294, 0.0029148978646844625, 0.005829795729368925, 0.06694424152374268, 0.87027508020401, 0.04666663333773613, 0.02799997851252556, 0.04666663333773613, 0.22399982810020447, 0.5226662755012512, 0.04666663333773613, 0.037333305925130844, 0.018666652962565422, 0.018666652962565422, 0.13590015470981598, 0.008493759669363499, 0.012740639969706535, 0.033975038677453995, 0.033975038677453995, 0.31426912546157837, 0.15713456273078918, 0.02123440057039261, 0.03822191804647446, 0.02548127993941307, 0.13165327906608582, 0.0552094392478466, 0.016987519338726997, 0.016987519338726997, 0.04653867334127426, 0.03807709738612175, 0.042307883501052856, 0.05500024929642677, 0.016923153772950172, 0.025384729728102684, 0.304616779088974, 0.004230788443237543, 0.042307883501052856, 0.11423128843307495, 0.2834628224372864, 0.025384729728102684, 0.09126511961221695, 0.1434166133403778, 0.03911362215876579, 0.02607574686408043, 0.05215149372816086, 0.013037873432040215, 0.5084770917892456, 0.11734086275100708, 0.025389883667230606, 0.004231647122651339, 0.13541270792484283, 0.07193800061941147, 0.29621532559394836, 0.07193800061941147, 0.059243060648441315, 0.11425447463989258, 0.07193800061941147, 0.008463294245302677, 0.11002282798290253, 0.025389883667230606, 0.011907569132745266, 0.059537846595048904, 0.07144542038440704, 0.03572271019220352, 0.023815138265490532, 0.7978071570396423, 0.015314579010009766, 0.12251663208007812, 0.015314579010009766, 0.03062915802001953, 0.015314579010009766, 0.7963581085205078, 0.018936673179268837, 0.009468336589634418, 0.009468336589634418, 0.20830340683460236, 0.009468336589634418, 0.11362003535032272, 0.0662783533334732, 0.08521503210067749, 0.009468336589634418, 0.46394848823547363, 0.07545527070760727, 0.15091054141521454, 0.01676783710718155, 0.04191959276795387, 0.15091054141521454, 0.01676783710718155, 0.10060703009366989, 0.10060703009366989, 0.08383918553590775, 0.25151756405830383, 0.17385481297969818, 0.08071830868721008, 0.006209100596606731, 0.012418201193213463, 0.42221882939338684, 0.012418201193213463, 0.13039110600948334, 0.03725460171699524, 0.031045502051711082, 0.08692740648984909, 0.007932344451546669, 0.023797033354640007, 0.1070866510272026, 0.0039661722257733345, 0.1269175112247467, 0.4481774568557739, 0.007932344451546669, 0.031729377806186676, 0.011898516677320004, 0.06345875561237335, 0.047594066709280014, 0.019830862060189247, 0.035695549100637436, 0.011898516677320004, 0.023797033354640007, 0.023797033354640007, 0.06299074739217758, 0.2834583818912506, 0.09448612481355667, 0.5354213714599609, 0.03795453906059265, 0.43015143275260925, 0.26568177342414856, 0.2530302405357361, 0.008769350126385689, 0.017538700252771378, 0.1841563582420349, 0.1140015572309494, 0.008769350126385689, 0.008769350126385689, 0.10523220896720886, 0.1140015572309494, 0.026308052241802216, 0.403390109539032, 0.42471393942832947, 0.013272310607135296, 0.053089242428541183, 0.013272310607135296, 0.47780317068099976, 0.02343815565109253, 0.017578616738319397, 0.10547170042991638, 0.2871173918247223, 0.035157233476638794, 0.02929769456386566, 0.08789308369159698, 0.005859538912773132, 0.398448646068573, 0.04458165541291237, 0.28235048055648804, 0.04458165541291237, 0.6092826128005981, 0.01739971712231636, 0.06959886848926544, 0.13919773697853088, 0.05219915136694908, 0.7307881116867065, 0.5703594088554382, 0.4099458158016205, 0.09834518283605576, 0.2458629608154297, 0.6146574020385742, 0.09405597299337387, 0.2052130252122879, 0.034202173352241516, 0.008550543338060379, 0.2907184660434723, 0.3249206244945526, 0.025651628151535988, 0.02262267842888832, 0.15835875272750854, 0.15835875272750854, 0.6334350109100342, 0.8969866633415222, 0.059799112379550934, 0.059799112379550934, 0.3112463355064392, 0.6224926710128784, 0.1403036266565323, 0.7716699242591858, 0.07015181332826614, 0.0769888311624527, 0.1539776623249054, 0.6928994655609131, 0.8258684277534485, 0.1179812029004097, 0.962378203868866, 0.8822669982910156, 0.08179403096437454, 0.8724696636199951, 0.054529353976249695, 0.09224100410938263, 0.7481770515441895, 0.040996003895998, 0.10249000787734985, 0.9698482751846313, 0.9842461347579956, 0.03583358973264694, 0.8958397507667542, 0.01194453053176403, 0.03583358973264694, 0.01194453053176403, 0.05298120155930519, 0.7682274580001831, 0.15894360840320587, 0.18164189159870148, 0.7265675663948059, 0.8748810291290283, 0.10936012864112854, 0.07352855801582336, 0.8088141679763794, 0.8630983233451843, 0.06068550795316696, 0.87993985414505, 0.03034275397658348, 0.03908107802271843, 0.019540539011359215, 0.058621615171432495, 0.04885134473443031, 0.586216151714325, 0.09770268946886063, 0.1074729636311531, 0.009770269505679607, 0.019540539011359215, 0.013567009940743446, 0.020350515842437744, 0.027134019881486893, 0.006783504970371723, 0.054268039762973785, 0.07461855560541153, 0.1695876270532608, 0.027134019881486893, 0.013567009940743446, 0.4137938320636749, 0.12210309505462646, 0.006783504970371723, 0.04070103168487549, 0.006783504970371723, 0.031106874346733093, 0.04666031152009964, 0.09332062304019928, 0.04666031152009964, 0.05443703010678291, 0.04666031152009964, 0.1166507750749588, 0.2955152988433838, 0.18664124608039856, 0.062213748693466187, 0.007991821505129337, 0.023975463584065437, 0.06193661689758301, 0.003995910752564669, 0.2097853124141693, 0.0419570617377758, 0.11588141322135925, 0.009989776648581028, 0.14185482263565063, 0.03995910659432411, 0.0019979553762823343, 0.003995910752564669, 0.28570762276649475, 0.0019979553762823343, 0.03196728602051735, 0.005993865896016359, 0.0019979553762823343, 0.005993865896016359, 0.1830008178949356, 0.0610002726316452, 0.1220005452632904, 0.549002468585968, 0.048228416591882706, 0.006028552073985338, 0.24717064201831818, 0.042199864983558655, 0.018085656687617302, 0.12057104706764221, 0.012057104147970676, 0.024114208295941353, 0.22908498346805573, 0.14468525350093842, 0.024114208295941353, 0.024114208295941353, 0.042199864983558655, 0.012057104147970676, 0.012307412922382355, 0.10666424036026001, 0.3815297782421112, 0.11897165328264236, 0.008204941637814045, 0.028717296198010445, 0.18050871789455414, 0.05743459239602089, 0.053332120180130005, 0.04922965168952942, 0.1620648354291916, 0.10804322361946106, 0.7022809386253357, 0.8461400270462036, 0.09401555359363556, 0.023501714691519737, 0.09400685876607895, 0.7050514221191406, 0.047003429383039474, 0.11750857532024384, 0.779512345790863, 0.17988745868206024, 0.05017619580030441, 0.22579286992549896, 0.6522905230522156, 0.05017619580030441, 0.020230717957019806, 0.20230717957019806, 0.06069215387105942, 0.556344747543335, 0.050576794892549515, 0.010115358978509903, 0.050576794892549515, 0.03034607693552971, 0.09922439604997635, 0.7144156098365784, 0.1786039024591446, 0.9719401001930237, 0.18199649453163147, 0.0808873325586319, 0.7077641487121582, 0.19489620625972748, 0.024362025782465935, 0.07308607548475266, 0.024362025782465935, 0.12181013077497482, 0.5359645485877991, 0.03236798197031021, 0.12947192788124084, 0.03236798197031021, 0.7444636225700378, 0.06473596394062042, 0.017182607203722, 0.07732173800468445, 0.07732173800468445, 0.017182607203722, 0.008591303601861, 0.19759999215602875, 0.06013912707567215, 0.008591303601861, 0.48970431089401245, 0.04295651987195015, 0.059285834431648254, 0.014821458607912064, 0.17785750329494476, 0.11857166886329651, 0.029642917215824127, 0.578036904335022, 0.10978827625513077, 0.08783062547445297, 0.021957656368613243, 0.17566125094890594, 0.5708990693092346, 0.014139992184937, 0.0070699960924685, 0.5090397000312805, 0.07069995999336243, 0.028279984369874, 0.0070699960924685, 0.04948997125029564, 0.08483995497226715, 0.06362996250391006, 0.0070699960924685, 0.15553991496562958, 0.043568722903728485, 0.06535308063030243, 0.6244850158691406, 0.021784361451864243, 0.029045814648270607, 0.03630726784467697, 0.014522907324135303, 0.08713744580745697, 0.007261453662067652, 0.014522907324135303, 0.029045814648270607, 0.029045814648270607, 0.011932809837162495, 0.7159686088562012, 0.15512652695178986, 0.02386561967432499, 0.07159686088562012, 0.9469238519668579, 0.8347228169441223, 0.05828709527850151, 0.151546448469162, 0.17486128211021423, 0.05828709527850151, 0.011657419614493847, 0.011657419614493847, 0.023314839228987694, 0.5012690424919128, 0.015239343978464603, 0.030478687956929207, 0.1066754087805748, 0.8076852560043335, 0.11215376853942871, 0.011215376667678356, 0.5944149494171143, 0.13458451628684998, 0.011215376667678356, 0.13458451628684998, 0.7805042862892151, 0.08672269433736801, 0.021680673584342003, 0.08672269433736801, 0.006469618529081345, 0.0582265667617321, 0.02587847411632538, 0.03234809264540672, 0.019408855587244034, 0.10351389646530151, 0.019408855587244034, 0.29760244488716125, 0.16821007430553436, 0.07116580009460449, 0.05175694823265076, 0.08410503715276718, 0.0582265667617321, 0.7942894697189331, 0.16721883416175842, 0.018092162907123566, 0.1628294736146927, 0.2713824510574341, 0.06332257390022278, 0.09950689971446991, 0.3708893656730652, 0.13985387980937958, 0.16316285729408264, 0.011654489673674107, 0.011654489673674107, 0.19812633097171783, 0.4428706169128418, 0.034963469952344894, 0.1823875457048416, 0.013027681969106197, 0.24752594530582428, 0.03908304497599602, 0.03908304497599602, 0.45596885681152344, 0.01348705030977726, 0.10115288197994232, 0.020230576395988464, 0.10115288197994232, 0.00674352515488863, 0.06069172918796539, 0.01348705030977726, 0.01348705030977726, 0.00674352515488863, 0.22927986085414886, 0.06069172918796539, 0.15510107576847076, 0.18881870806217194, 0.00674352515488863, 0.020230576395988464, 0.018359137699007988, 0.8536999225616455, 0.027538707479834557, 0.036718275398015976, 0.06425698101520538, 0.8455245494842529, 0.049158405512571335, 0.009831680916249752, 0.08848512917757034, 0.012755615636706352, 0.9694268107414246, 0.012755615636706352, 0.7232627868652344, 0.023584656417369843, 0.17295414209365845, 0.07075396925210953, 0.758253276348114, 0.023695414885878563, 0.15402019023895264, 0.047390829771757126, 0.7411450743675232, 0.022458940744400024, 0.15721258521080017, 0.06737682223320007, 0.8759651780128479, 0.11524197459220886, 0.7145002484321594, 0.16133876144886017, 0.015976086258888245, 0.0053253620862960815, 0.0053253620862960815, 0.010650724172592163, 0.0053253620862960815, 0.10650724172592163, 0.12248332798480988, 0.0053253620862960815, 0.250292032957077, 0.07988043129444122, 0.22366520762443542, 0.10118187963962555, 0.07455506920814514, 0.006147714797407389, 0.024590859189629555, 0.2889426052570343, 0.030738575384020805, 0.12910200655460358, 0.006147714797407389, 0.3012380301952362, 0.07377257943153381, 0.024590859189629555, 0.04303400591015816, 0.06147715076804161, 0.006147714797407389, 0.06992030143737793, 0.04195218160748482, 0.06992030143737793, 0.09788842499256134, 0.3426094949245453, 0.07691233605146408, 0.13984060287475586, 0.1328485757112503, 0.01398406084626913, 0.01398406084626913, 0.047327619045972824, 0.03786209598183632, 0.5111383199691772, 0.09465523809194565, 0.2177070528268814, 0.028396572917699814, 0.05679314583539963, 0.06313741952180862, 0.0042091612704098225, 0.17257560789585114, 0.06734658032655716, 0.2778046429157257, 0.23571301996707916, 0.046300772577524185, 0.06734658032655716, 0.02525496669113636, 0.01262748334556818, 0.021045805886387825, 0.0042091612704098225, 0.9094681739807129, 0.01740608923137188, 0.01740608923137188, 0.04786674678325653, 0.00435152230784297, 0.8756963610649109, 0.021756431087851524, 0.005439107771962881, 0.010878215543925762, 0.03263464570045471, 0.04351286217570305, 0.005439107771962881, 0.7083934545516968, 0.007119532208889723, 0.03559766337275505, 0.04983672499656677, 0.0035597661044448614, 0.007119532208889723, 0.014239064417779446, 0.017798831686377525, 0.014239064417779446, 0.1032332181930542, 0.017798831686377525, 0.01067929808050394, 0.007119532208889723, 0.8476102352142334, 0.002943091094493866, 0.020601637661457062, 0.005886182188987732, 0.023544728755950928, 0.041203275322914124, 0.011772364377975464, 0.01471545547246933, 0.008829273283481598, 0.020601637661457062, 0.8401536345481873, 0.005986843258142471, 0.0019956142641603947, 0.0019956142641603947, 0.025942986831068993, 0.003991228528320789, 0.0558772012591362, 0.015964914113283157, 0.00997807178646326, 0.017960529774427414, 0.0019956142641603947, 0.017960529774427414, 0.7372335195541382, 0.008673335425555706, 0.12142669409513474, 0.026020005345344543, 0.08673335611820221, 0.017346670851111412, 0.6764733791351318, 0.14597582817077637, 0.028483089059591293, 0.14597582817077637, 0.5414236783981323, 0.013205455616116524, 0.11004546284675598, 0.026410911232233047, 0.052821822464466095, 0.1452600061893463, 0.022009093314409256, 0.013205455616116524, 0.03521454706788063, 0.022009093314409256, 0.013205455616116524, 0.004401818383485079, 0.7004874348640442, 0.022596368566155434, 0.08586619794368744, 0.17625167965888977, 0.7627425789833069, 0.0023985616862773895, 0.0023985616862773895, 0.0455726720392704, 0.08634822070598602, 0.08155109733343124, 0.007195685058832169, 0.007195685058832169, 0.01470493245869875, 0.5587874054908752, 0.007352466229349375, 0.3896807134151459, 0.007352466229349375, 0.01470493245869875, 0.019183749333024025, 0.5467368364334106, 0.019183749333024025, 0.009591874666512012, 0.03836749866604805, 0.009591874666512012, 0.3548993766307831, 0.009591874666512012, 0.0086513701826334, 0.49312809109687805, 0.0086513701826334, 0.47582533955574036, 0.01109492126852274, 0.5214613080024719, 0.033284761011600494, 0.42160698771476746, 0.011990888975560665, 0.12590433657169342, 0.5515809059143066, 0.02398177795112133, 0.0059954444877803326, 0.0059954444877803326, 0.08393622189760208, 0.0059954444877803326, 0.04796355590224266, 0.0059954444877803326, 0.07794077694416046, 0.05395900085568428, 0.7905946969985962, 0.07058881223201752, 0.12705986201763153, 0.7662869691848755, 0.035641252994537354, 0.10692375898361206, 0.08910313248634338, 0.7102999687194824, 0.07576532661914825, 0.009470665827393532, 0.09470666199922562, 0.03788266330957413, 0.06629466265439987, 0.01654845103621483, 0.8936163783073425, 0.03309690207242966, 0.01654845103621483, 0.01654845103621483, 0.8646332621574402, 0.11723840981721878, 0.7178654670715332, 0.021753499284386635, 0.21753498911857605, 0.007135719060897827, 0.02854287624359131, 0.007135719060897827, 0.08562862873077393, 0.02854287624359131, 0.04995003342628479, 0.10703578591346741, 0.5137717723846436, 0.1569858193397522, 0.007135719060897827, 0.007135719060897827, 0.24221858382225037, 0.042744457721710205, 0.25646674633026123, 0.4416927099227905, 0.08280161023139954, 0.8832172155380249, 0.027600537985563278, 0.053807441145181656, 0.043045952916145325, 0.010761488229036331, 0.33360612392425537, 0.010761488229036331, 0.10761488229036331, 0.010761488229036331, 0.010761488229036331, 0.39817506074905396, 0.35276666283607483, 0.050395235419273376, 0.025197617709636688, 0.554347574710846, 0.04419359937310219, 0.011048399843275547, 0.12705659866333008, 0.022096799686551094, 0.12153240293264389, 0.12153240293264389, 0.45298442244529724, 0.04419359937310219, 0.02762100100517273, 0.02762100100517273, 0.008451331406831741, 0.11831864714622498, 0.7606198787689209, 0.008451331406831741, 0.06761065125465393, 0.033805325627326965, 0.019901162013411522, 0.06965406984090805, 0.08955523371696472, 0.11940697580575943, 0.1691598743200302, 0.07960464805364609, 0.009950581006705761, 0.25871512293815613, 0.009950581006705761, 0.14925871789455414, 0.0728963166475296, 0.08147235214710236, 0.04716820269823074, 0.004288018681108952, 0.13721659779548645, 0.407361775636673, 0.017152074724435806, 0.05145622417330742, 0.021440092474222183, 0.008576037362217903, 0.042880184948444366, 0.04716820269823074, 0.021440092474222183, 0.030016129836440086, 0.07456851750612259, 0.011472079902887344, 0.0516243577003479, 0.1032487154006958, 0.3900507092475891, 0.040152277797460556, 0.04588831961154938, 0.03441623970866203, 0.07456851750612259, 0.10898476094007492, 0.06309644132852554, 0.09191267937421799, 0.1531878113746643, 0.3982882797718048, 0.010212520137429237, 0.09191267937421799, 0.09191267937421799, 0.14297528564929962, 0.08806789666414261, 0.14677982032299042, 0.24071891605854034, 0.3698851466178894, 0.035227157175540924, 0.005871193017810583, 0.058711931109428406, 0.052840735763311386, 0.030999520793557167, 0.29139548540115356, 0.04959923401474953, 0.08369870483875275, 0.02169966511428356, 0.012399808503687382, 0.22319655120372772, 0.006199904251843691, 0.03409947454929352, 0.0030999521259218454, 0.1952969878911972, 0.04959923401474953, 0.03690280392765999, 0.9225701093673706, 0.020463265478610992, 0.22509591281414032, 0.040926530957221985, 0.5934346914291382, 0.10231632739305496, 0.09507831186056137, 0.6417785882949829, 0.14261746406555176, 0.09507831186056137, 0.06776174902915955, 0.009680249728262424, 0.0387209989130497, 0.8518619537353516, 0.0290407482534647, 0.8849064111709595, 0.07584912329912186, 0.008197317831218243, 0.008197317831218243, 0.975480854511261, 0.03001406602561474, 0.013339584693312645, 0.36350369453430176, 0.02334427274763584, 0.0066697923466563225, 0.020009377971291542, 0.06669792532920837, 0.12005626410245895, 0.0066697923466563225, 0.036683857440948486, 0.2334427386522293, 0.0066697923466563225, 0.05002344399690628, 0.02667916938662529, 0.02648179419338703, 0.03530905768275261, 0.41046780347824097, 0.008827264420688152, 0.03530905768275261, 0.004413632210344076, 0.030895426869392395, 0.10151354223489761, 0.013240897096693516, 0.017654528841376305, 0.27805882692337036, 0.03530905768275261, 0.013217451050877571, 0.026434902101755142, 0.3744944632053375, 0.01762326806783676, 0.01762326806783676, 0.00440581701695919, 0.044058170169591904, 0.18063849210739136, 0.00881163403391838, 0.00881163403391838, 0.24231994152069092, 0.057275623083114624, 0.013217451050877571, 0.03261076658964157, 0.03261076658964157, 0.33426034450531006, 0.02445807307958603, 0.016305383294820786, 0.008152691647410393, 0.044839803129434586, 0.1589774787425995, 0.004076345823705196, 0.24865707755088806, 0.044839803129434586, 0.05299249291419983, 0.004768072627484798, 0.061984945088624954, 0.32899701595306396, 0.014304217882454395, 0.11920181661844254, 0.014304217882454395, 0.06675301492214203, 0.10012952238321304, 0.033376507461071014, 0.17641869187355042, 0.004768072627484798, 0.061984945088624954, 0.004768072627484798, 0.009536145254969597, 0.03234901651740074, 0.7440274357795715, 0.03234901651740074, 0.07548104226589203, 0.053915031254291534, 0.04313202574849129, 0.010783006437122822, 0.03649420291185379, 0.7531076669692993, 0.07298840582370758, 0.0033176548313349485, 0.0033176548313349485, 0.029858894646167755, 0.03317654877901077, 0.04976482316851616, 0.019905930384993553, 0.12452743947505951, 0.7264100909233093, 0.12452743947505951, 0.019130656495690346, 0.8417488932609558, 0.13391458988189697, 0.12167182564735413, 0.06083591282367706, 0.608359158039093, 0.202786386013031, 0.08595199882984161, 0.10744000226259232, 0.6446400284767151, 0.15041600167751312, 0.041469164192676544, 0.8293832540512085, 0.041469164192676544, 0.055292218923568726, 0.013823054730892181, 0.041744232177734375, 0.8453206419944763, 0.05218028649687767, 0.020872116088867188, 0.020872116088867188, 0.14688235521316528, 0.787823498249054, 0.02670588158071041, 0.013352940790355206, 0.03322581946849823, 0.8527960181236267, 0.09967745840549469, 0.01745736040174961, 0.01745736040174961, 0.0034914722200483084, 0.1675906628370285, 0.038406193256378174, 0.041897665709257126, 0.006982944440096617, 0.6738541126251221, 0.010474416427314281, 0.020948832854628563, 0.0055085523054003716, 0.08813683688640594, 0.022034209221601486, 0.8813683390617371, 0.00876549817621708, 0.01753099635243416, 0.00876549817621708, 0.13148248195648193, 0.00438274908810854, 0.021913746371865273, 0.8020431399345398, 0.13023316860198975, 0.025044839829206467, 0.8314886689186096, 0.13150052726268768, 0.10091900080442429, 0.0611630342900753, 0.18043094873428345, 0.03975597023963928, 0.003058151574805379, 0.19572170078754425, 0.03058151714503765, 0.06727933883666992, 0.03975597023963928, 0.02446521259844303, 0.03363966941833496, 0.003058151574805379, 0.015290758572518826, 0.06727933883666992, 0.04522261768579483, 0.2562614977359772, 0.04522261768579483, 0.0783858671784401, 0.16883109509944916, 0.009044523350894451, 0.12360848486423492, 0.13265301287174225, 0.012059364467859268, 0.003014841116964817, 0.02713356912136078, 0.09044523537158966, 0.006029682233929634, 0.08811595290899277, 0.325762003660202, 0.0961264967918396, 0.045393068343400955, 0.162881001830101, 0.01869126223027706, 0.08010540902614594, 0.016021082177758217, 0.002670180518180132, 0.005340361036360264, 0.045393068343400955, 0.04272288829088211, 0.03471234440803528, 0.016021082177758217, 0.005340361036360264, 0.008010541088879108, 0.7384737133979797, 0.9475811123847961, 0.8692623376846313, 0.043911147862672806, 0.23419280350208282, 0.029274100437760353, 0.6733043193817139, 0.03426198288798332, 0.003806886961683631, 0.01142066065222025, 0.04948953166604042, 0.0228413213044405, 0.003806886961683631, 0.19415123760700226, 0.01142066065222025, 0.026648208498954773, 0.003806886961683631, 0.6091018915176392, 0.003806886961683631, 0.01142066065222025, 0.04281248897314072, 0.006116069853305817, 0.0366964191198349, 0.024464279413223267, 0.12232139706611633, 0.09785711765289307, 0.05504462867975235, 0.01834820955991745, 0.01834820955991745, 0.5443302392959595, 0.024464279413223267, 0.0516427680850029, 0.07746415585279465, 0.06713560223579407, 0.13427120447158813, 0.07746415585279465, 0.01549283042550087, 0.09295698255300522, 0.3614993691444397, 0.01032855361700058, 0.03614993765950203, 0.07229987531900406, 0.07075241208076477, 0.01664762571454048, 0.19560961425304413, 0.10404766350984573, 0.05410478636622429, 0.14150482416152954, 0.3745715916156769, 0.012485720217227936, 0.020809533074498177, 0.14624425768852234, 0.012187021784484386, 0.10968319326639175, 0.024374043568968773, 0.030467553064227104, 0.158431276679039, 0.4996678829193115, 0.012187021784484386, 0.13768266141414642, 0.04465383663773537, 0.27908647060394287, 0.003721152897924185, 0.026048069819808006, 0.01488461159169674, 0.011163459159433842, 0.0334903746843338, 0.14140380918979645, 0.25675955414772034, 0.011163459159433842, 0.022326918318867683, 0.01860576495528221, 0.05059177801012993, 0.06323972344398499, 0.05059177801012993, 0.12647944688796997, 0.6956369280815125, 0.3160782754421234, 0.11493755131959915, 0.5459533929824829, 0.029622236266732216, 0.23697789013385773, 0.11848894506692886, 0.6220669746398926, 0.003592743305489421, 0.039520177990198135, 0.014370973221957684, 0.046705663204193115, 0.19760088622570038, 0.628730058670044, 0.017963716760277748, 0.010778229683637619, 0.03233468905091286, 0.03695223852992058, 0.015396765433251858, 0.07390447705984116, 0.012317412532866001, 0.049269650131464005, 0.01847611926496029, 0.095459945499897, 0.012317412532866001, 0.2309514880180359, 0.43726813793182373, 0.012317412532866001, 0.0030793531332165003, 0.06892091035842896, 0.026802577078342438, 0.022973638027906418, 0.0382893942296505, 0.01914469711482525, 0.061263032257556915, 0.022973638027906418, 0.011486819013953209, 0.28334152698516846, 0.3675782084465027, 0.015315758064389229, 0.011486819013953209, 0.003828939516097307, 0.026802577078342438, 0.01914469711482525, 0.1269008219242096, 0.09990065544843674, 0.25920170545578003, 0.19440126419067383, 0.037800248712301254, 0.15120099484920502, 0.02430015802383423, 0.03510022908449173, 0.005400035064667463, 0.032400213181972504, 0.02970019355416298, 0.005400035064667463, 0.12646369636058807, 0.19270658493041992, 0.20475074648857117, 0.22883906960487366, 0.057209767401218414, 0.06624288856983185, 0.02408832311630249, 0.0030110403895378113, 0.009033121168613434, 0.02408832311630249, 0.06323184818029404, 0.16628402471542358, 0.7649065256118774, 0.03325680270791054, 0.03325680270791054, 0.15059277415275574, 0.7529639005661011, 0.07529638707637787, 0.008367057889699936, 0.07948704808950424, 0.03765175864100456, 0.22591055929660797, 0.054385874420404434, 0.033468231558799744, 0.26356232166290283, 0.1380564570426941, 0.004183528944849968, 0.004183528944849968, 0.004183528944849968, 0.13387292623519897, 0.004183528944849968, 0.012550586834549904, 0.03112458810210228, 0.18674753606319427, 0.36904868483543396, 0.19119389355182648, 0.004446369595825672, 0.08003465831279755, 0.053356438875198364, 0.03557095676660538, 0.004446369595825672, 0.004446369595825672, 0.03557095676660538, 0.016732892021536827, 0.025099338963627815, 0.04183223098516464, 0.26772627234458923, 0.5605518817901611, 0.06693156808614731, 0.11807680875062943, 0.5903840661048889, 0.03935893625020981, 0.07871787250041962, 0.15743574500083923, 0.6463271975517273, 0.016239376738667488, 0.0584617555141449, 0.012991501949727535, 0.016239376738667488, 0.003247875487431884, 0.08444476127624512, 0.12666714191436768, 0.032478753477334976, 0.6894449591636658, 0.050447192043066025, 0.07777275890111923, 0.014713765121996403, 0.008407865650951862, 0.016815731301903725, 0.01891769841313362, 0.08197668939828873, 0.025223596021533012, 0.0021019664127379656, 0.008407865650951862, 0.0021019664127379656, 0.21357779204845428, 0.6763296723365784, 0.08305802941322327, 0.011865432374179363, 0.011865432374179363, 0.17177799344062805, 0.7515287399291992, 0.053680624812841415, 0.010736124590039253, 0.004347041714936495, 0.026082251220941544, 0.021735209971666336, 0.04781746119260788, 0.11302308738231659, 0.7694264054298401, 0.004347041714936495, 0.013041125610470772, 0.004523042123764753, 0.013569126836955547, 0.013569126836955547, 0.16282951831817627, 0.009046084247529507, 0.004523042123764753, 0.004523042123764753, 0.0995069295167923, 0.6106107234954834, 0.004523042123764753, 0.07236867398023605, 0.04527045413851738, 0.004115495830774307, 0.04527045413851738, 0.037039462476968765, 0.004115495830774307, 0.06173243746161461, 0.14404235780239105, 0.6049779057502747, 0.004115495830774307, 0.04527045413851738, 0.013844042085111141, 0.013844042085111141, 0.020766062662005424, 0.03461010381579399, 0.20766063034534454, 0.692202091217041, 0.006922021042555571, 0.039479199796915054, 0.08773155510425568, 0.02193288877606392, 0.07018524408340454, 0.7106255888938904, 0.052638933062553406, 0.004386577755212784, 0.013159733265638351, 0.04685639217495918, 0.007809399161487818, 0.08199869096279144, 0.05466579273343086, 0.05466579273343086, 0.14837858080863953, 0.5778955221176147, 0.007809399161487818, 0.003904699580743909, 0.011714098043739796, 0.1044086441397667, 0.5518742799758911, 0.007457760162651539, 0.05966208130121231, 0.14468054473400116, 0.03878035396337509, 0.010440864600241184, 0.0059662084095180035, 0.0059662084095180035, 0.03430569916963577, 0.019390176981687546, 0.008949312381446362, 0.007457760162651539, 0.06673242151737213, 0.45822930335998535, 0.035590626299381256, 0.05783476680517197, 0.1735043078660965, 0.02001972682774067, 0.011122070252895355, 0.05783476680517197, 0.04003945365548134, 0.033366210758686066, 0.031141797080636024, 0.008897656574845314, 0.024741262197494507, 0.09896504878997803, 0.2639068067073822, 0.107212133705616, 0.48657816648483276, 0.008247087709605694, 0.13851527869701385, 0.04298750311136246, 0.4967444837093353, 0.03821111470460892, 0.023881945759058, 0.11463333666324615, 0.05731666833162308, 0.023881945759058, 0.004776389338076115, 0.004776389338076115, 0.01432916708290577, 0.03821111470460892, 0.03542931005358696, 0.04723908007144928, 0.5196298956871033, 0.03542931005358696, 0.02361954003572464, 0.12400259077548981, 0.0590488500893116, 0.04133419692516327, 0.00590488500893116, 0.01771465502679348, 0.04723908007144928, 0.03542931005358696, 0.04151308909058571, 0.22832199931144714, 0.031134817749261856, 0.20756545662879944, 0.05189136415719986, 0.3632395565509796, 0.031134817749261856, 0.04151308909058571, 0.044905927032232285, 0.05239024758338928, 0.007484321016818285, 0.43409061431884766, 0.022452963516116142, 0.09729617089033127, 0.20207667350769043, 0.05239024758338928, 0.007484321016818285, 0.06735888868570328, 0.01496864203363657, 0.022268787026405334, 0.04453757405281067, 0.17815029621124268, 0.066806361079216, 0.6680636405944824, 0.15112632513046265, 0.19835330545902252, 0.03778158128261566, 0.07556316256523132, 0.3116980493068695, 0.09445396065711975, 0.1227901428937912, 0.12113682925701141, 0.015142103657126427, 0.12113682925701141, 0.022713154554367065, 0.022713154554367065, 0.007571051828563213, 0.09085261821746826, 0.007571051828563213, 0.3936946988105774, 0.10599472373723984, 0.007571051828563213, 0.04542630910873413, 0.022713154554367065, 0.007571051828563213, 0.1928512305021286, 0.008035467937588692, 0.5705182552337646, 0.016070935875177383, 0.12856748700141907, 0.08035468310117722, 0.25921565294265747, 0.004984916653484106, 0.5184313058853149, 0.009969833306968212, 0.04486424848437309, 0.09969832748174667, 0.004984916653484106, 0.034894414246082306, 0.02492458187043667, 0.21173712611198425, 0.006830229889601469, 0.4849463105201721, 0.013660459779202938, 0.04098137840628624, 0.13660459220409393, 0.013660459779202938, 0.006830229889601469, 0.02049068920314312, 0.06147206947207451, 0.04915521666407585, 0.16221220791339874, 0.5996936559677124, 0.03932417184114456, 0.01474656444042921, 0.09339491277933121, 0.01966208592057228, 0.00983104296028614, 0.11439530551433563, 0.7936174273490906, 0.028598826378583908, 0.007149706594645977, 0.04289824143052101, 0.15455521643161774, 0.5595964789390564, 0.06395388394594193, 0.01065898034721613, 0.07994235306978226, 0.01065898034721613, 0.08527184277772903, 0.005329490173608065, 0.026647450402379036, 0.005521209444850683, 0.14907266199588776, 0.574205756187439, 0.06625451147556305, 0.04969088360667229, 0.027606047689914703, 0.09938176721334457, 0.016563627868890762, 0.22812411189079285, 0.10064299404621124, 0.48979589343070984, 0.0067095328122377396, 0.04025719687342644, 0.0067095328122377396, 0.013419065624475479, 0.013419065624475479, 0.04025719687342644, 0.026838131248950958, 0.03354766592383385, 0.059808503836393356, 0.12559786438941956, 0.17942550778388977, 0.46650633215904236, 0.011961701326072216, 0.035885103046894073, 0.011961701326072216, 0.011961701326072216, 0.05382765457034111, 0.029904251918196678, 0.18146367371082306, 0.10722853988409042, 0.3216856122016907, 0.04124174639582634, 0.008248348720371723, 0.3299339711666107, 0.16384407877922058, 0.1583826094865799, 0.010922938585281372, 0.04369175434112549, 0.005461469292640686, 0.005461469292640686, 0.5406854748725891, 0.0764605700969696, 0.722335159778595, 0.05159537121653557, 0.1547861099243164, 0.012297010980546474, 0.012297010980546474, 0.02459402196109295, 0.1967521756887436, 0.0983760878443718, 0.651741623878479, 0.04447677731513977, 0.08005820214748383, 0.07116284966468811, 0.15122105181217194, 0.09784891456365585, 0.4981399178504944, 0.017790712416172028, 0.035581424832344055, 0.022682055830955505, 0.1474333554506302, 0.03402308374643326, 0.022682055830955505, 0.022682055830955505, 0.011341027915477753, 0.18145644664764404, 0.48766419291496277, 0.07938719540834427, 0.10623148083686829, 0.20656120777130127, 0.0619683638215065, 0.005901748780161142, 0.36295756697654724, 0.014754372648894787, 0.011803497560322285, 0.07082098722457886, 0.15639634430408478, 0.7633699178695679, 0.854947030544281, 0.1178545355796814, 0.2357090711593628, 0.18519999086856842, 0.033672723919153214, 0.016836361959576607, 0.033672723919153214, 0.06734544783830643, 0.033672723919153214, 0.2693817913532257, 0.1223796084523201, 0.1223796084523201, 0.7098017334938049, 0.0407654233276844, 0.9376047849655151, 0.8118048310279846, 0.13530080020427704, 0.8957720398902893, 0.11081254482269287, 0.5817658305168152, 0.08310940861701965, 0.03462892025709152, 0.055406272411346436, 0.12466411292552948, 0.015012841671705246, 0.060051366686820984, 0.7206164002418518, 0.10508988797664642, 0.09007705003023148, 0.054923538118600845, 0.03553875908255577, 0.10661628097295761, 0.019384779036045074, 0.07430831342935562, 0.029077166691422462, 0.2487713247537613, 0.003230796428397298, 0.15184742212295532, 0.04200035333633423, 0.10015469044446945, 0.019384779036045074, 0.003230796428397298, 0.06784672290086746, 0.012923185713589191, 0.03230796381831169, 0.10515663027763367, 0.013144578784704208, 0.006572289392352104, 0.013144578784704208, 0.052578315138816833, 0.052578315138816833, 0.19059640169143677, 0.170879527926445, 0.013144578784704208, 0.013144578784704208, 0.0854397639632225, 0.039433736354112625, 0.07886747270822525, 0.16430723667144775, 0.03167496994137764, 0.08710616081953049, 0.27715596556663513, 0.32466843724250793, 0.04751245304942131, 0.12669987976551056, 0.08710616081953049, 0.01583748497068882, 0.02362206019461155, 0.02362206019461155, 0.3307088613510132, 0.6141735911369324, 0.09273210912942886, 0.10818745940923691, 0.2781963348388672, 0.061821404844522476, 0.015455351211130619, 0.4172945022583008, 0.015455351211130619, 0.05916663631796837, 0.1806139498949051, 0.02802630141377449, 0.018684200942516327, 0.003114033490419388, 0.04671050235629082, 0.14013150334358215, 0.024912267923355103, 0.049824535846710205, 0.07162277400493622, 0.006228066980838776, 0.1806139498949051, 0.16504377126693726, 0.015570167452096939, 0.006228066980838776, 0.016070740297436714, 0.08035370707511902, 0.005356913898140192, 0.021427655592560768, 0.03214148059487343, 0.03214148059487343, 0.026784569025039673, 0.042855311185121536, 0.08571062237024307, 0.06428296118974686, 0.2357041984796524, 0.2571318447589874, 0.09106753021478653, 0.14104513823986053, 0.00940300989896059, 0.13164213299751282, 0.06582106649875641, 0.6394046545028687, 0.01880601979792118, 0.04962305724620819, 0.028356032446026802, 0.588387668132782, 0.0070890081115067005, 0.11342412978410721, 0.028356032446026802, 0.07797908782958984, 0.08506809920072556, 0.0070890081115067005, 0.02126702480018139, 0.0247352235019207, 0.5689101219177246, 0.1154310405254364, 0.0577155202627182, 0.1071859672665596, 0.1154310405254364, 0.01649014838039875, 0.03353734686970711, 0.011179115623235703, 0.13414938747882843, 0.04471646249294281, 0.6819260716438293, 0.022358231246471405, 0.07825380563735962, 0.9502435326576233, 0.02159644290804863, 0.016295572742819786, 0.8473697304725647, 0.11406900733709335, 0.03259114548563957, 0.9102862477302551, 0.017175212502479553, 0.05152563750743866, 0.01746263913810253, 0.9604451060295105, 0.01746263913810253, 0.9649023413658142, 0.10337600857019424, 0.827008068561554, 0.06202560290694237, 0.8816285133361816, 0.04300626739859581, 0.04300626739859581, 0.9603710770606995, 0.8982923626899719, 0.08421491086483002, 0.011026931926608086, 0.4631311297416687, 0.08821545541286469, 0.05513465777039528, 0.3749156892299652, 0.7988405227661133, 0.1409718543291092, 0.030401939526200294, 0.5107525587081909, 0.11552736908197403, 0.018241163343191147, 0.04864310100674629, 0.06080387905240059, 0.12768813967704773, 0.0060803876258432865, 0.07296465337276459, 0.872009813785553, 0.03114320896565914, 0.03114320896565914, 0.06228641793131828, 0.3295416831970215, 0.06937719136476517, 0.5723618268966675, 0.061426639556884766, 0.8476876020431519, 0.04914131015539169, 0.024570655077695847, 0.012285327538847923, 0.2522328197956085, 0.6894363760948181, 0.05044656619429588, 0.17031064629554749, 0.011354043148458004, 0.045416172593832016, 0.7266587615013123, 0.022708086296916008, 0.022708086296916008, 0.09233871102333069, 0.8079637289047241, 0.06925403326749802, 0.057923637330532074, 0.20273274183273315, 0.11584727466106415, 0.5792363882064819, 0.1074594035744667, 0.2955133616924286, 0.026864850893616676, 0.5372970104217529, 0.022047193720936775, 0.022047193720936775, 0.3527550995349884, 0.46299105882644653, 0.11023596674203873, 0.3894678056240082, 0.0819932222366333, 0.5124576687812805, 0.2270580530166626, 0.0681174173951149, 0.6811741590499878, 0.34840673208236694, 0.023227116093039513, 0.6039050221443176, 0.12996932864189148, 0.08664622157812119, 0.6715081930160522, 0.08664622157812119, 0.8663357496261597, 0.11919219046831131, 0.754883885383606, 0.11919219046831131, 0.007541687693446875, 0.022625062614679337, 0.248875692486763, 0.12066700309515, 0.07541687786579132, 0.09804194420576096, 0.3092091977596283, 0.10558363050222397, 0.007541687693446875, 0.030050000175833702, 0.0801333338022232, 0.0100166667252779, 0.10016666352748871, 0.0801333338022232, 0.0100166667252779, 0.00500833336263895, 0.17028333246707916, 0.07011666893959045, 0.21035000681877136, 0.1452416628599167, 0.060100000351667404, 0.0100166667252779, 0.00500833336263895, 0.021861284971237183, 0.005465321242809296, 0.10384110361337662, 0.016395963728427887, 0.1202370673418045, 0.05465321242809296, 0.043722569942474365, 0.005465321242809296, 0.1311677098274231, 0.04918789118528366, 0.22407816350460052, 0.15849430859088898, 0.043722569942474365, 0.010930642485618591, 0.14698071777820587, 0.7349036335945129, 0.781603991985321, 0.025807680562138557, 0.07742303609848022, 0.0036868113093078136, 0.014747245237231255, 0.007373622618615627, 0.03686811402440071, 0.007373622618615627, 0.014747245237231255, 0.02949449047446251, 0.8801956176757812, 0.010604767128825188, 0.010604767128825188, 0.010604767128825188, 0.05832621827721596, 0.005302383564412594, 0.015907149761915207, 0.7047739624977112, 0.007379831746220589, 0.014759663492441177, 0.007379831746220589, 0.018449580296874046, 0.20294538140296936, 0.0036899158731102943, 0.0036899158731102943, 0.03320924565196037, 0.8497604727745056, 0.060697175562381744, 0.05058097839355469, 0.030348587781190872, 0.7952304482460022, 0.04871845617890358, 0.6820583939552307, 0.2435922771692276, 0.259864866733551, 0.6236756443977356, 0.10394594073295593, 0.385263592004776, 0.385263592004776, 0.8011661767959595, 0.13953812420368195, 0.008721132762730122, 0.17442265152931213, 0.09593245387077332, 0.10465358942747116, 0.06104792654514313, 0.17442265152931213, 0.23547057807445526, 0.5974330902099609, 0.7217351198196411, 0.08019278943538666, 0.08019278943538666, 0.08019278943538666, 0.12537164986133575, 0.8358110189437866, 0.7840713858604431, 0.8092017769813538, 0.8046322464942932, 0.9261149168014526, 0.020209290087223053, 0.013472859747707844, 0.35703080892562866, 0.01684107445180416, 0.07073251903057098, 0.020209290087223053, 0.03031393513083458, 0.12125574052333832, 0.14146503806114197, 0.003368214936926961, 0.10778287798166275, 0.006736429873853922, 0.08083716034889221, 0.006736429873853922, 0.1058419942855835, 0.1058419942855835, 0.05292099714279175, 0.6879729628562927, 0.14302125573158264, 0.7151063084602356, 0.905587375164032, 0.03769844397902489, 0.11309532821178436, 0.7916672825813293, 0.03769844397902489, 0.9560927748680115, 0.809304416179657, 0.6824392676353455, 0.1240798681974411, 0.1240798681974411, 0.9024611115455627, 0.8621038794517517, 0.8970484733581543, 0.7619160413742065, 0.1385301947593689, 0.7724915742874146, 0.6166955232620239, 0.2055651694536209, 0.9379222393035889, 0.09706073999404907, 0.7522207498550415, 0.024265184998512268, 0.1091933324933052, 0.010468799620866776, 0.17796958982944489, 0.5862528085708618, 0.0418751984834671, 0.03140639886260033, 0.10468799620866776, 0.03140639886260033, 0.010468799620866776, 0.9623112082481384, 0.11731164157390594, 0.8211814761161804, 0.8956515789031982, 0.8069590330123901, 0.8008145689964294, 0.5882952809333801, 0.8816609382629395, 0.02198890782892704, 0.8135895729064941, 0.02198890782892704, 0.10994453728199005, 0.03916380554437637, 0.11749140918254852, 0.7832760810852051, 0.07028929144144058, 0.1305372565984726, 0.3213224709033966, 0.08033061772584915, 0.3313637971878052, 0.050206638872623444, 0.0959257185459137, 0.22162148356437683, 0.0926179364323616, 0.07938680052757263, 0.05623231828212738, 0.0231544841080904, 0.22162148356437683, 0.013231133110821247, 0.04300118237733841, 0.0033077832777053118, 0.0463089682161808, 0.059540100395679474, 0.016538916155695915, 0.026462266221642494, 0.12077011168003082, 0.845390796661377, 0.11538136005401611, 0.1538418084383011, 0.6922881603240967, 0.09384863823652267, 0.04692431911826134, 0.7977133989334106, 0.021813850849866867, 0.7198570370674133, 0.021813850849866867, 0.08725540339946747, 0.08725540339946747, 0.021813850849866867, 0.043627701699733734, 0.8118053078651428, 0.15033432841300964, 0.03006686456501484, 0.06642670929431915, 0.9078317284584045, 0.8122029900550842, 0.11202799528837204, 0.014003499411046505, 0.04201049730181694, 0.5999594926834106, 0.07825558632612228, 0.013042597100138664, 0.10434077680110931, 0.01956389658153057, 0.01956389658153057, 0.06521298736333847, 0.0912981852889061, 0.827613115310669, 0.01760878972709179, 0.03521757945418358, 0.05282636731863022, 0.05282636731863022, 0.009783710353076458, 0.8120479583740234, 0.009783710353076458, 0.0587022639811039, 0.009783710353076458, 0.009783710353076458, 0.02935113199055195, 0.06848597526550293, 0.8352075815200806, 0.9329362511634827, 0.8946720361709595, 0.08566243201494217, 0.07138536125421524, 0.1570477932691574, 0.042831216007471085, 0.12849365174770355, 0.4996975064277649, 0.5931257009506226, 0.8670786023139954, 0.898073136806488, 0.0897146463394165, 0.8074318170547485, 0.9628168344497681, 0.9162758588790894, 0.9416417479515076, 0.7587536573410034, 0.1071886196732521, 0.8575089573860168, 0.07937196642160416, 0.026457322761416435, 0.8730916380882263, 0.0666876882314682, 0.08891692012548447, 0.8224815130233765, 0.05252569913864136, 0.8929368853569031, 0.12763740122318268, 0.8296430706977844, 0.9472907185554504, 0.9504128098487854, 0.8610159158706665, 0.845626175403595, 0.8242930769920349, 0.8102074861526489, 0.15191391110420227, 0.02466004528105259, 0.012330022640526295, 0.012330022640526295, 0.13563024997711182, 0.653491199016571, 0.1233002245426178, 0.03699006885290146, 0.04926562309265137, 0.17242968082427979, 0.7389843463897705, 0.024632811546325684, 0.9547067284584045, 0.8044716715812683, 0.8661177158355713, 0.7956616282463074, 0.746387779712677, 0.20612820982933044, 0.7558034658432007, 0.19788795709609985, 0.7915518283843994, 0.01782073825597763, 0.10692443698644638, 0.01188049279153347, 0.01782073825597763, 0.02376098558306694, 0.14256590604782104, 0.01188049279153347, 0.05346221849322319, 0.0594024620950222, 0.0297012310475111, 0.01782073825597763, 0.368295282125473, 0.07722320407629013, 0.0594024620950222, 0.1172928437590599, 0.1475619673728943, 0.011350920423865318, 0.6318678855895996, 0.011350920423865318, 0.04162004217505455, 0.015134560875594616, 0.015134560875594616, 0.006017698440700769, 0.1323893666267395, 0.018053095787763596, 0.7461946606636047, 0.03008849360048771, 0.024070793762803078, 0.006017698440700769, 0.024070793762803078, 0.03334422409534454, 0.3534487783908844, 0.4534814655780792, 0.04001307114958763, 0.0600196048617363, 0.0066688451915979385, 0.04001307114958763, 0.3280397653579712, 0.005964359268546104, 0.6560795307159424, 0.005964359268546104, 0.10765499621629715, 0.11774764955043793, 0.12111186981201172, 0.528182327747345, 0.03027796745300293, 0.07064858824014664, 0.01682109199464321, 0.003364218631759286, 0.02549636922776699, 0.10198547691106796, 0.07648910582065582, 0.02549636922776699, 0.05099273845553398, 0.012748184613883495, 0.6629055738449097, 0.03824455291032791, 0.00920306146144867, 0.06442143023014069, 0.1472489833831787, 0.13804592192173004, 0.00920306146144867, 0.01840612292289734, 0.00920306146144867, 0.02760918438434601, 0.5705898404121399, 0.04152049124240875, 0.9342110753059387, 0.01383140217512846, 0.15214543044567108, 0.02766280435025692, 0.22130243480205536, 0.5809189081192017, 0.02977876365184784, 0.00744469091296196, 0.16378319263458252, 0.02233407273888588, 0.4317920506000519, 0.34245577454566956, 0.018559971824288368, 0.102079838514328, 0.06495989859104156, 0.4175993502140045, 0.3897593915462494, 0.1444893330335617, 0.05099623277783394, 0.016998745501041412, 0.033997491002082825, 0.016998745501041412, 0.008499372750520706, 0.05099623277783394, 0.6714504361152649, 0.05447705462574959, 0.16343116760253906, 0.0786890760064125, 0.6960957050323486, 0.034421052783727646, 0.05736842378973961, 0.034421052783727646, 0.011473684571683407, 0.8490526676177979, 0.8912689685821533, 0.9322358965873718, 0.07022953778505325, 0.6972789764404297, 0.05016395449638367, 0.005016395356506109, 0.03009837307035923, 0.03009837307035923, 0.040131162852048874, 0.055180348455905914, 0.015049186535179615, 0.06504088640213013, 0.5398393869400024, 0.0065040891058743, 0.24065129458904266, 0.0065040891058743, 0.019512265920639038, 0.0260163564234972, 0.0065040891058743, 0.07154497504234314, 0.0065040891058743, 0.03922019526362419, 0.39873865246772766, 0.006536699365824461, 0.24839457869529724, 0.058830294758081436, 0.03922019526362419, 0.006536699365824461, 0.09151379019021988, 0.026146797463297844, 0.013073398731648922, 0.03268349543213844, 0.03922019526362419, 0.8102227449417114, 0.1543281376361847, 0.01839047484099865, 0.0367809496819973, 0.01839047484099865, 0.5884951949119568, 0.1103428453207016, 0.1287333220243454, 0.01839047484099865, 0.0551714226603508, 0.024018848314881325, 0.006004712078720331, 0.04803769662976265, 0.01801413670182228, 0.10208010673522949, 0.01801413670182228, 0.15612252056598663, 0.042032986879348755, 0.012009424157440662, 0.32425445318222046, 0.16813194751739502, 0.07806126028299332, 0.7605252265930176, 0.8014522790908813, 0.10018153488636017, 0.2633243203163147, 0.7021982073783875, 0.04596608132123947, 0.020893672481179237, 0.3217625617980957, 0.020893672481179237, 0.0041787344962358475, 0.029251141473650932, 0.008357468992471695, 0.1587919145822525, 0.13789823651313782, 0.037608612328767776, 0.037608612328767776, 0.0041787344962358475, 0.01671493798494339, 0.14207696914672852, 0.012536203488707542, 0.012536203488707542, 0.8377731442451477, 0.8721123337745667, 0.024707062169909477, 0.012353531084954739, 0.16059589385986328, 0.09265147894620895, 0.11735854297876358, 0.13588884472846985, 0.08029794692993164, 0.09265147894620895, 0.10500501096248627, 0.06176765263080597, 0.11118178069591522, 0.019372351467609406, 0.05811705440282822, 0.006457450333982706, 0.14852136373519897, 0.19372351467609406, 0.05811705440282822, 0.019372351467609406, 0.012914900667965412, 0.006457450333982706, 0.25829800963401794, 0.17435117065906525, 0.006457450333982706, 0.04520215466618538, 0.031102700158953667, 0.006220540031790733, 0.012441080063581467, 0.0746464803814888, 0.09330809861421585, 0.2301599681377411, 0.08086701482534409, 0.0186616200953722, 0.006220540031790733, 0.28614482283592224, 0.13685187697410583, 0.0186616200953722, 0.7454818487167358, 0.2908879816532135, 0.581775963306427, 0.7149275541305542, 0.12347310036420822, 0.007263123523443937, 0.007263123523443937, 0.13073623180389404, 0.014526247046887875, 0.27599871158599854, 0.0871574804186821, 0.290524959564209, 0.04357874020934105, 0.007263123523443937, 0.007263123523443937, 0.9110730290412903, 0.8602319359779358, 0.8767125010490417, 0.22578144073486328, 0.45156288146972656, 0.7592960000038147, 0.8913090825080872, 0.1437506377696991, 0.15681888163089752, 0.013068239204585552, 0.013068239204585552, 0.03920472040772438, 0.15681888163089752, 0.13068239390850067, 0.03920472040772438, 0.3005695044994354, 0.9458856582641602, 0.07733866572380066, 0.03866933286190033, 0.8507253527641296, 0.45961323380470276, 0.3064088225364685, 0.8868446946144104, 0.30942216515541077, 0.6188443303108215, 0.6607906222343445, 0.293684720993042, 0.14779788255691528, 0.03694947063922882, 0.024632979184389114, 0.04926595836877823, 0.1847473531961441, 0.012316489592194557, 0.012316489592194557, 0.5172925591468811, 0.012316489592194557, 0.07103762030601501, 0.05683009698987007, 0.19416950643062592, 0.16575445234775543, 0.009471682831645012, 0.018943365663290024, 0.1278677135705948, 0.04735841602087021, 0.023679208010435104, 0.009471682831645012, 0.04262257367372513, 0.19416950643062592, 0.023679208010435104, 0.009471682831645012, 0.8477804064750671, 0.14182913303375244, 0.7800602316856384, 0.8600137829780579, 0.6931248903274536, 0.02999996393918991, 0.23769201338291168, 0.22153818607330322, 0.1361536830663681, 0.06692299246788025, 0.03230765461921692, 0.03461534157395363, 0.00230768951587379, 0.039230722934007645, 0.00230768951587379, 0.006923068314790726, 0.01846151612699032, 0.00461537903174758, 0.11307678371667862, 0.04384610056877136, 0.006923068314790726, 0.3111456036567688, 0.6667405962944031, 0.8848161101341248, 0.6641060709953308, 0.8161546587944031, 0.12943923473358154, 0.7766353487968445, 0.14589042961597443, 0.8023973703384399, 0.03783063590526581, 0.18915317952632904, 0.13240721821784973, 0.009457658976316452, 0.018915317952632904, 0.028372976928949356, 0.04728829488158226, 0.04728829488158226, 0.08511892706155777, 0.009457658976316452, 0.009457658976316452, 0.3783063590526581, 0.007101030554622412, 0.12426803261041641, 0.20237937569618225, 0.035505153238773346, 0.003550515277311206, 0.010651545599102974, 0.021303091198205948, 0.035505153238773346, 0.003550515277311206, 0.5290267467498779, 0.003550515277311206, 0.021303091198205948, 0.023665716871619225, 0.16566000878810883, 0.03944285959005356, 0.03944285959005356, 0.7178600430488586, 0.04023478925228119, 0.4023478925228119, 0.020117394626140594, 0.020117394626140594, 0.512993574142456, 0.8818942308425903, 0.7752106189727783, 0.21142107248306274, 0.864831268787384, 0.14979995787143707, 0.7489997744560242, 0.1804104894399643, 0.7216419577598572, 0.10255428403615952, 0.8204342722892761, 0.12972326576709747, 0.7783396244049072, 0.7897972464561462, 0.014879670925438404, 0.11903736740350723, 0.029759341850876808, 0.07439835369586945, 0.014879670925438404, 0.07439835369586945, 0.029759341850876808, 0.6249461770057678, 0.012741891667246819, 0.2420959323644638, 0.06370945274829865, 0.1274189054965973, 0.025483783334493637, 0.050967566668987274, 0.38225674629211426, 0.025483783334493637, 0.07645134627819061, 0.815751314163208, 0.8762884140014648, 0.04261302575469017, 0.1874973177909851, 0.14488428831100464, 0.13636168837547302, 0.008522605523467064, 0.008522605523467064, 0.025567814707756042, 0.017045211046934128, 0.4261302649974823, 0.757712721824646, 0.757704496383667, 0.0835990384221077, 0.06687923520803452, 0.8359903693199158, 0.05292092636227608, 0.05292092636227608, 0.01323023159056902, 0.03969069570302963, 0.03969069570302963, 0.09261162579059601, 0.03969069570302963, 0.6482813358306885, 0.01323023159056902, 0.02367757260799408, 0.004735514521598816, 0.004735514521598816, 0.004735514521598816, 0.014206544496119022, 0.004735514521598816, 0.08050374686717987, 0.04261963069438934, 0.014206544496119022, 0.004735514521598816, 0.028413088992238045, 0.7387402653694153, 0.009471029043197632, 0.009471029043197632, 0.004735514521598816, 0.005880169104784727, 0.005880169104784727, 0.02352067641913891, 0.0411611832678318, 0.0411611832678318, 0.03528101369738579, 0.09408270567655563, 0.09408270567655563, 0.005880169104784727, 0.05880168825387955, 0.0411611832678318, 0.5174548625946045, 0.02352067641913891, 0.005880169104784727, 0.005880169104784727, 0.2146834135055542, 0.03220251202583313, 0.6225818991661072, 0.05367085337638855, 0.02146834135055542, 0.02146834135055542, 0.02146834135055542, 0.01073417067527771, 0.22793808579444885, 0.016281291842460632, 0.6675329804420471, 0.02442193776369095, 0.02442193776369095, 0.016281291842460632, 0.008140645921230316, 0.15080614387989044, 0.069602832198143, 0.08120331168174744, 0.2088085114955902, 0.046401891857385635, 0.08120331168174744, 0.32481324672698975, 0.0348014160990715, 0.1965353637933731, 0.0436745248734951, 0.0655117854475975, 0.02183726243674755, 0.2183726280927658, 0.03275589272379875, 0.05459315702319145, 0.3057216703891754, 0.0436745248734951, 0.9174918532371521, 0.9508634209632874, 0.01991618238389492, 0.17924563586711884, 0.21907800436019897, 0.23899418115615845, 0.3186589181423187, 0.01991618238389492, 0.07794032990932465, 0.03897016495466232, 0.1948508322238922, 0.5066121220588684, 0.11691049486398697, 0.0574735626578331, 0.21073639392852783, 0.37357816100120544, 0.019157852977514267, 0.19157853722572327, 0.04789463430643082, 0.04789463430643082, 0.04789463430643082, 0.6921902298927307, 0.17945672571659088, 0.10254669934511185, 0.029990294948220253, 0.24592041969299316, 0.4018699526786804, 0.0059980591759085655, 0.059980589896440506, 0.023992236703634262, 0.10796506702899933, 0.017994176596403122, 0.047984473407268524, 0.059980589896440506, 0.0059980591759085655, 0.0056246197782456875, 0.07312005758285522, 0.028123099356889725, 0.0056246197782456875, 0.039372339844703674, 0.061870817095041275, 0.050621576607227325, 0.25873249769210815, 0.011249239556491375, 0.3656002879142761, 0.07312005758285522, 0.02249847911298275, 0.04216780513525009, 0.12650340795516968, 0.16867122054100037, 0.1159614622592926, 0.3057165741920471, 0.010541951283812523, 0.20029707252979279, 0.010541951283812523, 0.007321767508983612, 0.2928707003593445, 0.44662782549858093, 0.06589590758085251, 0.04393060505390167, 0.11714828014373779, 0.021965302526950836, 0.8667471408843994, 0.8616333603858948, 0.7913523316383362, 0.02398037351667881, 0.0036892881616950035, 0.01106786448508501, 0.0018446440808475018, 0.02213572897017002, 0.02213572897017002, 0.0018446440808475018, 0.01106786448508501, 0.005533932242542505, 0.009223220869898796, 0.02398037351667881, 0.07194112241268158, 0.8600296378135681, 0.011026021093130112, 0.04961709305644035, 0.005513010546565056, 0.005513010546565056, 0.05513010546565056, 0.8494612574577332, 0.012492077425122261, 0.024984154850244522, 0.0062460387125611305, 0.0062460387125611305, 0.0062460387125611305, 0.08744454383850098, 0.7852242588996887, 0.623461902141571, 0.14055010676383972, 0.13507412374019623, 0.16975530982017517, 0.20078586041927338, 0.010951955802738667, 0.0018253260059282184, 0.06936238706111908, 0.0018253260059282184, 0.08579032123088837, 0.0073013040237128735, 0.0018253260059282184, 0.040157172828912735, 0.1314234733581543, 0.005475977901369333, 0.1613646000623703, 0.8068230152130127, 0.7179127335548401, 0.8309842944145203, 0.1729474812746048, 0.6917899250984192, 0.8152767419815063, 0.1563776284456253, 0.7818881273269653, 0.14486710727214813, 0.06898433715105057, 0.006898433435708284, 0.7657260894775391, 0.00491907587274909, 0.0885433629155159, 0.07378613948822021, 0.8214856386184692, 0.00983815174549818, 0.15843886137008667, 0.6337554454803467, 0.9154737591743469, 0.9165971279144287, 0.053917478770017624, 0.09606320410966873, 0.864568829536438, 0.06524290889501572, 0.03262145444750786, 0.6198076605796814, 0.03262145444750786, 0.2283501923084259, 0.9394633173942566, 0.3539322316646576, 0.03539322316646576, 0.2831457853317261, 0.2831457853317261, 0.23246009647846222, 0.010106961242854595, 0.04042784497141838, 0.1718183308839798, 0.04042784497141838, 0.46492019295692444, 0.02021392248570919, 0.8789014220237732, 0.10986267775297165, 0.7643183469772339, 0.14946095645427704, 0.049820318818092346, 0.06227539852261543, 0.12455079704523087, 0.09964063763618469, 0.1868261843919754, 0.2989219129085541, 0.012455079704523087, 0.5940588116645813, 0.6839009523391724, 0.7121796011924744, 0.5918458700180054, 0.2959229350090027, 0.7925037145614624, 0.8150846362113953, 0.7926920652389526, 0.750969409942627, 0.8509522676467896, 0.27967754006385803, 0.5593550801277161, 0.66822749376297, 0.8485753536224365, 0.8662468791007996, 0.8675099611282349, 0.7925244569778442, 0.8248356580734253, 0.7616788148880005, 0.7946764826774597, 0.8710799813270569, 0.887917697429657, 0.8706230521202087, 0.829635500907898, 0.8296353816986084, 0.848139226436615, 0.7583985328674316, 0.8322246670722961, 0.6025543212890625, 0.2008514404296875, 0.7590792775154114, 0.2516961395740509, 0.5033922791481018, 0.7950276732444763, 0.6961060762405396, 0.8251055479049683, 0.8567818999290466, 0.7047556042671204, 0.21826885640621185, 0.6548065543174744, 0.7579214572906494, 0.799614667892456, 0.8072243928909302, 0.8335663676261902, 0.8766160607337952, 0.009036906063556671, 0.027110718190670013, 0.18073812127113342, 0.14459049701690674, 0.18073812127113342, 0.009036906063556671, 0.4337714910507202, 0.6956838965415955, 0.16054244339466095, 0.04204683005809784, 0.003822439117357135, 0.05351414531469345, 0.03440194949507713, 0.003822439117357135], \"Term\": [\"10133\", \"15036\", \"15036\", \"15036\", \"15036\", \"15036\", \"15036\", \"15036\", \"15044D\", \"15044D\", \"15056BL\", \"15056BL\", \"15056BL\", \"15056BL\", \"15056BL\", \"15056BL\", \"15056BL\", \"15056N\", \"15056N\", \"15056N\", \"15056N\", \"15056N\", \"15056N\", \"15056P\", \"15056P\", \"15056P\", \"15056P\", \"15056P\", \"15058B\", \"16011\", \"16011\", \"16011\", \"16012\", \"16156S\", \"16156S\", \"16156S\", \"16161P\", \"16161P\", \"16161P\", \"16161P\", \"16161P\", \"16169E\", \"16169E\", \"16169E\", \"16169E\", \"16169E\", \"16169E\", \"16169E\", \"16169E\", \"16169E\", \"16169E\", \"17003\", \"17003\", \"17003\", \"17003\", \"17003\", \"17003\", \"17003\", \"17003\", \"17012B\", \"17012B\", \"17012D\", \"17012D\", \"17012D\", \"17012D\", \"17012F\", \"17012F\", \"17084P\", \"17174\", \"18097C\", \"20619\", \"20652\", \"20652\", \"20657\", \"20659\", \"20661\", \"20665\", \"20665\", \"20669\", \"20669\", \"20670\", \"20679\", \"20679\", \"20679\", \"20679\", \"20679\", \"20679\", \"20685\", \"20685\", \"20685\", \"20685\", \"20685\", \"20685\", \"20685\", \"20694\", \"20711\", \"20711\", \"20711\", \"20711\", \"20711\", \"20711\", \"20713\", \"20713\", \"20713\", \"20713\", \"20713\", \"20713\", \"20724\", \"20724\", \"20724\", \"20724\", \"20724\", \"20724\", \"20724\", \"20724\", \"20724\", \"20724\", \"20724\", \"20724\", \"20725\", \"20725\", \"20725\", \"20725\", \"20725\", \"20725\", \"20725\", \"20725\", \"20725\", \"20725\", \"20726\", \"20726\", \"20726\", \"20726\", \"20727\", \"20727\", \"20727\", \"20727\", \"20727\", \"20727\", \"20727\", \"20728\", \"20728\", \"20728\", \"20728\", \"20728\", \"20728\", \"20728\", \"20728\", \"20735\", \"20735\", \"20749\", \"20749\", \"20749\", \"20749\", \"20749\", \"20749\", \"20749\", \"20749\", \"20749\", \"20749\", \"20749\", \"20751\", \"20751\", \"20751\", \"20751\", \"20751\", \"20756\", \"20757\", \"20757\", \"20757\", \"20760\", \"20760\", \"20761\", \"20761\", \"20763\", \"20763\", \"20764\", \"20764\", \"20764\", \"20765\", \"20765\", \"20765\", \"20766\", \"20766\", \"20767\", \"20768\", \"20768\", \"20770\", \"20775\", \"20775\", \"20794\", \"20795\", \"20796\", \"20819\", \"20819\", \"20831\", \"20836\", \"20838\", \"20839\", \"20839\", \"20839\", \"20840\", \"20847\", \"20886\", \"20886\", \"20893\", \"20914\", \"20914\", \"20914\", \"20914\", \"20914\", \"20914\", \"20914\", \"20914\", \"20914\", \"20914\", \"20914\", \"20914\", \"20914\", \"20932\", \"20961\", \"20961\", \"20961\", \"20961\", \"20961\", \"20969\", \"20969\", \"20969\", \"20969\", \"20969\", \"20970\", \"20970\", \"20970\", \"20971\", \"20971\", \"20971\", \"20971\", \"20971\", \"20971\", \"20971\", \"20972\", \"20972\", \"20972\", \"20972\", \"20972\", \"20972\", \"20972\", \"20972\", \"20977\", \"20977\", \"20977\", \"20982\", \"20982\", \"20982\", \"20982\", \"20982\", \"20982\", \"20982\", \"20982\", \"20982\", \"20983\", \"20983\", \"20983\", \"20983\", \"20983\", \"20983\", \"20983\", \"20983\", \"20986\", \"20986\", \"21001\", \"21003\", \"21015\", \"21015\", \"21015\", \"21015\", \"21025\", \"21026\", \"21031\", \"21034\", \"21034\", \"21034\", \"21034\", \"21034\", \"21034\", \"21034\", \"21034\", \"21034\", \"21034\", \"21034\", \"21034\", \"21034\", \"21034\", \"21051\", \"21065\", \"21065\", \"21067\", \"21080\", \"21080\", \"21080\", \"21080\", \"21080\", \"21080\", \"21080\", \"21080\", \"21080\", \"21080\", \"21080\", \"21080\", \"21080\", \"21080\", \"21080\", \"21086\", \"21086\", \"21086\", \"21086\", \"21094\", \"21094\", \"21094\", \"21094\", \"21094\", \"21098\", \"21098\", \"21098\", \"21098\", \"21098\", \"21106\", \"21107\", \"21107\", \"21107\", \"21108\", \"21108\", \"21108\", \"21108\", \"21108\", \"21108\", \"21108\", \"21108\", \"21108\", \"21108\", \"21108\", \"21108\", \"21110\", \"21110\", \"21110\", \"21110\", \"21114\", \"21114\", \"21114\", \"21114\", \"21114\", \"21114\", \"21116\", \"21116\", \"21116\", \"21116\", \"21116\", \"21128\", \"21131\", \"21131\", \"21155\", \"21155\", \"21155\", \"21155\", \"21155\", \"21155\", \"21155\", \"21155\", \"21155\", \"21155\", \"21162\", \"21162\", \"21162\", \"21162\", \"21162\", \"21162\", \"21165\", \"21165\", \"21165\", \"21165\", \"21165\", \"21165\", \"21166\", \"21166\", \"21166\", \"21166\", \"21166\", \"21166\", \"21167\", \"21167\", \"21167\", \"21169\", \"21169\", \"21169\", \"21169\", \"21169\", \"21174\", \"21174\", \"21174\", \"21174\", \"21174\", \"21175\", \"21175\", \"21175\", \"21175\", \"21175\", \"21175\", \"21175\", \"21175\", \"21179\", \"21179\", \"21179\", \"21181\", \"21181\", \"21181\", \"21181\", \"21181\", \"21181\", \"21181\", \"21191\", \"21191\", \"21196\", \"21197\", \"21198\", \"21198\", \"21199\", \"21200\", \"21201\", \"21201\", \"21201\", \"21202\", \"21205\", \"21205\", \"21208\", \"21208\", \"21208\", \"21209\", \"21209\", \"21210\", \"21210\", \"21210\", \"21210\", \"21210\", \"21210\", \"21210\", \"21210\", \"21210\", \"21212\", \"21212\", \"21212\", \"21212\", \"21212\", \"21212\", \"21212\", \"21212\", \"21212\", \"21212\", \"21212\", \"21212\", \"21212\", \"21212\", \"21212\", \"21212\", \"21212\", \"21212\", \"21213\", \"21213\", \"21213\", \"21213\", \"21213\", \"21213\", \"21213\", \"21213\", \"21213\", \"21213\", \"21213\", \"21213\", \"21221\", \"21222\", \"21222\", \"21226\", \"21231\", \"21231\", \"21231\", \"21231\", \"21231\", \"21231\", \"21231\", \"21232\", \"21232\", \"21232\", \"21232\", \"21232\", \"21232\", \"21232\", \"21232\", \"21232\", \"21232\", \"21232\", \"21244\", \"21244\", \"21262\", \"21262\", \"21262\", \"21262\", \"21265\", \"21269\", \"21277\", \"21286\", \"21294\", \"21294\", \"21326\", \"21326\", \"21326\", \"21326\", \"21326\", \"21326\", \"21326\", \"21326\", \"21331\", \"21340\", \"21340\", \"21340\", \"21340\", \"21340\", \"21340\", \"21340\", \"21351\", \"21351\", \"21351\", \"21363\", \"21364\", \"21367\", \"21367\", \"21367\", \"21369\", \"21371\", \"21372\", \"21372\", \"21373\", \"21373\", \"21373\", \"21373\", \"21376\", \"21386\", \"21386\", \"21417\", \"21424\", \"21426\", \"21441\", \"21441\", \"21454\", \"21455\", \"21479\", \"21479\", \"21479\", \"21479\", \"21479\", \"21479\", \"21479\", \"21479\", \"21479\", \"21479\", \"21479\", \"21485\", \"21485\", \"21485\", \"21485\", \"21485\", \"21485\", \"21485\", \"21485\", \"21485\", \"21485\", \"21485\", \"21485\", \"21485\", \"21495\", \"21495\", \"21495\", \"21495\", \"21495\", \"21497\", \"21497\", \"21497\", \"21497\", \"21497\", \"21497\", \"21497\", \"21497\", \"21497\", \"21498\", \"21498\", \"21498\", \"21498\", \"21498\", \"21498\", \"21498\", \"21498\", \"21499\", \"21499\", \"21499\", \"21499\", \"21499\", \"21499\", \"21499\", \"21499\", \"21500\", \"21500\", \"21500\", \"21500\", \"21503\", \"21504\", \"21504\", \"21504\", \"21504\", \"21504\", \"21504\", \"21504\", \"21504\", \"21523\", \"21523\", \"21523\", \"21523\", \"21523\", \"21523\", \"21564\", \"21564\", \"21564\", \"21586\", \"21613\", \"21613\", \"21621\", \"21621\", \"21621\", \"21621\", \"21621\", \"21621\", \"21621\", \"21621\", \"21621\", \"21621\", \"21621\", \"21626\", \"21629\", \"21634\", \"21641\", \"21641\", \"21643\", \"21647\", \"21650\", \"21650\", \"21650\", \"21668\", \"21668\", \"21669\", \"21669\", \"21669\", \"21670\", \"21670\", \"21670\", \"21670\", \"21671\", \"21672\", \"21672\", \"21673\", \"21673\", \"21678\", \"21683\", \"21683\", \"21683\", \"21689\", \"21704\", \"21704\", \"21704\", \"21704\", \"21704\", \"21704\", \"21704\", \"21704\", \"21704\", \"21704\", \"21708\", \"21708\", \"21709\", \"21709\", \"21711\", \"21716\", \"21716\", \"21716\", \"21716\", \"21718\", \"21718\", \"21719\", \"21719\", \"21731\", \"21731\", \"21731\", \"21731\", \"21731\", \"21731\", \"21731\", \"21731\", \"21731\", \"21731\", \"21731\", \"21733\", \"21733\", \"21733\", \"21733\", \"21733\", \"21733\", \"21733\", \"21733\", \"21733\", \"21733\", \"21733\", \"21733\", \"21733\", \"21735\", \"21741\", \"21741\", \"21747\", \"21755\", \"21755\", \"21755\", \"21755\", \"21755\", \"21755\", \"21755\", \"21755\", \"21755\", \"21758\", \"21761\", \"21773\", \"21773\", \"21788\", \"21788\", \"21788\", \"21788\", \"21788\", \"21789\", \"21789\", \"21789\", \"21789\", \"21790\", \"21790\", \"21790\", \"21790\", \"21790\", \"21790\", \"21790\", \"21790\", \"21790\", \"21790\", \"21790\", \"21790\", \"21790\", \"21790\", \"21791\", \"21791\", \"21791\", \"21791\", \"21791\", \"21791\", \"21791\", \"21791\", \"21791\", \"21791\", \"21791\", \"21791\", \"21791\", \"21801\", \"21801\", \"21808\", \"21808\", \"21809\", \"21809\", \"21809\", \"21809\", \"21810\", \"21810\", \"21810\", \"21810\", \"21810\", \"21810\", \"21810\", \"21810\", \"21811\", \"21811\", \"21811\", \"21811\", \"21811\", \"21811\", \"21815\", \"21817\", \"21817\", \"21817\", \"21818\", \"21818\", \"21818\", \"21818\", \"21819\", \"21819\", \"21819\", \"21822\", \"21822\", \"21822\", \"21823\", \"21823\", \"21823\", \"21824\", \"21824\", \"21824\", \"21847\", \"21849\", \"21849\", \"21851\", \"21866\", \"21866\", \"21866\", \"21866\", \"21878\", \"21878\", \"21888\", \"21888\", \"21888\", \"21888\", \"21888\", \"21888\", \"21888\", \"21888\", \"21888\", \"21888\", \"21889\", \"21889\", \"21889\", \"21889\", \"21889\", \"21889\", \"21889\", \"21889\", \"21889\", \"21889\", \"21889\", \"21889\", \"21889\", \"21889\", \"21889\", \"21890\", \"21890\", \"21890\", \"21890\", \"21890\", \"21890\", \"21891\", \"21891\", \"21891\", \"21891\", \"21891\", \"21891\", \"21891\", \"21891\", \"21891\", \"21891\", \"21892\", \"21892\", \"21892\", \"21892\", \"21892\", \"21892\", \"21892\", \"21892\", \"21892\", \"21899\", \"21899\", \"21899\", \"21899\", \"21899\", \"21899\", \"21899\", \"21899\", \"21900\", \"21900\", \"21900\", \"21900\", \"21900\", \"21900\", \"21900\", \"21900\", \"21901\", \"21901\", \"21901\", \"21901\", \"21901\", \"21901\", \"21903\", \"21903\", \"21905\", \"21905\", \"21905\", \"21907\", \"21907\", \"21907\", \"21907\", \"21907\", \"21907\", \"21908\", \"21908\", \"21908\", \"21908\", \"21908\", \"21908\", \"21912\", \"21912\", \"21912\", \"21912\", \"21912\", \"21912\", \"21912\", \"21912\", \"21912\", \"21913\", \"21913\", \"21914\", \"21914\", \"21914\", \"21914\", \"21914\", \"21914\", \"21914\", \"21914\", \"21914\", \"21914\", \"21914\", \"21914\", \"21914\", \"21915\", \"21915\", \"21915\", \"21915\", \"21915\", \"21915\", \"21915\", \"21915\", \"21915\", \"21915\", \"21918\", \"21918\", \"21918\", \"21918\", \"21918\", \"21918\", \"21918\", \"21918\", \"21918\", \"21918\", \"21918\", \"21918\", \"21918\", \"21925\", \"21927\", \"21927\", \"21928\", \"21928\", \"21928\", \"21928\", \"21928\", \"21928\", \"21928\", \"21928\", \"21929\", \"21929\", \"21929\", \"21929\", \"21929\", \"21929\", \"21929\", \"21929\", \"21929\", \"21929\", \"21930\", \"21930\", \"21930\", \"21930\", \"21930\", \"21930\", \"21931\", \"21931\", \"21931\", \"21931\", \"21931\", \"21931\", \"21931\", \"21932\", \"21932\", \"21932\", \"21932\", \"21932\", \"21932\", \"21932\", \"21932\", \"21933\", \"21933\", \"21933\", \"21933\", \"21933\", \"21943\", \"21944\", \"21944\", \"21945\", \"21945\", \"21974\", \"21974\", \"21974\", \"21974\", \"21975\", \"21975\", \"21975\", \"21975\", \"21975\", \"21975\", \"21975\", \"21975\", \"21976\", \"21976\", \"21976\", \"21976\", \"21976\", \"21976\", \"21976\", \"21976\", \"21977\", \"21977\", \"21977\", \"21977\", \"21977\", \"21977\", \"21977\", \"21977\", \"21977\", \"21977\", \"21977\", \"21985\", \"21985\", \"21985\", \"21985\", \"21985\", \"21985\", \"21985\", \"21985\", \"21985\", \"21991\", \"21991\", \"21991\", \"21991\", \"21991\", \"21992\", \"21992\", \"21992\", \"21992\", \"21992\", \"21992\", \"21992\", \"21992\", \"21992\", \"21992\", \"21993\", \"21993\", \"21993\", \"21993\", \"21993\", \"21993\", \"21993\", \"21993\", \"21993\", \"21993\", \"22023\", \"22023\", \"22023\", \"22026\", \"22026\", \"22026\", \"22027\", \"22027\", \"22027\", \"22027\", \"22029\", \"22029\", \"22029\", \"22029\", \"22029\", \"22029\", \"22029\", \"22032\", \"22032\", \"22032\", \"22032\", \"22035\", \"22035\", \"22038\", \"22040\", \"22040\", \"22044\", \"22044\", \"22045\", \"22045\", \"22045\", \"22046\", \"22046\", \"22047\", \"22047\", \"22047\", \"22047\", \"22047\", \"22048\", \"22049\", \"22049\", \"22049\", \"22061\", \"22061\", \"22061\", \"22061\", \"22061\", \"22062\", \"22062\", \"22062\", \"22065\", \"22065\", \"22065\", \"22065\", \"22065\", \"22065\", \"22065\", \"22065\", \"22066\", \"22066\", \"22066\", \"22066\", \"22072\", \"22072\", \"22072\", \"22076\", \"22076\", \"22076\", \"22076\", \"22076\", \"22076\", \"22076\", \"22076\", \"22077\", \"22077\", \"22077\", \"22077\", \"22077\", \"22077\", \"22077\", \"22077\", \"22077\", \"22077\", \"22077\", \"22077\", \"22077\", \"22077\", \"22077\", \"22081\", \"22081\", \"22081\", \"22081\", \"22084\", \"22084\", \"22086\", \"22086\", \"22086\", \"22086\", \"22086\", \"22086\", \"22086\", \"22086\", \"22086\", \"22086\", \"22086\", \"22086\", \"22086\", \"22086\", \"22086\", \"22086\", \"22087\", \"22087\", \"22087\", \"22087\", \"22087\", \"22087\", \"22087\", \"22105\", \"22106\", \"22107\", \"22107\", \"22110\", \"22110\", \"22110\", \"22110\", \"22110\", \"22110\", \"22110\", \"22110\", \"22110\", \"22110\", \"22111\", \"22111\", \"22111\", \"22111\", \"22111\", \"22111\", \"22111\", \"22111\", \"22111\", \"22111\", \"22111\", \"22111\", \"22111\", \"22112\", \"22112\", \"22112\", \"22112\", \"22112\", \"22112\", \"22112\", \"22112\", \"22112\", \"22112\", \"22112\", \"22113\", \"22113\", \"22113\", \"22113\", \"22113\", \"22113\", \"22113\", \"22113\", \"22113\", \"22113\", \"22113\", \"22113\", \"22113\", \"22113\", \"22113\", \"22114\", \"22114\", \"22114\", \"22114\", \"22114\", \"22114\", \"22114\", \"22114\", \"22114\", \"22114\", \"22114\", \"22115\", \"22115\", \"22115\", \"22115\", \"22115\", \"22115\", \"22116\", \"22116\", \"22116\", \"22116\", \"22117\", \"22124\", \"22129\", \"22132\", \"22132\", \"22132\", \"22134\", \"22135\", \"22135\", \"22135\", \"22138\", \"22138\", \"22138\", \"22138\", \"22138\", \"22138\", \"22138\", \"22138\", \"22138\", \"22138\", \"22138\", \"22138\", \"22138\", \"22138\", \"22138\", \"22138\", \"22138\", \"22138\", \"22139\", \"22139\", \"22139\", \"22139\", \"22139\", \"22139\", \"22139\", \"22139\", \"22139\", \"22139\", \"22139\", \"22139\", \"22139\", \"22139\", \"22139\", \"22139\", \"22139\", \"22141\", \"22141\", \"22141\", \"22141\", \"22141\", \"22141\", \"22141\", \"22141\", \"22141\", \"22141\", \"22141\", \"22141\", \"22141\", \"22141\", \"22141\", \"22142\", \"22142\", \"22142\", \"22142\", \"22142\", \"22142\", \"22142\", \"22142\", \"22142\", \"22142\", \"22142\", \"22142\", \"22144\", \"22144\", \"22144\", \"22144\", \"22144\", \"22144\", \"22144\", \"22144\", \"22144\", \"22144\", \"22144\", \"22144\", \"22144\", \"22144\", \"22147\", \"22147\", \"22147\", \"22147\", \"22147\", \"22147\", \"22147\", \"22147\", \"22150\", \"22150\", \"22150\", \"22150\", \"22150\", \"22150\", \"22150\", \"22150\", \"22150\", \"22150\", \"22150\", \"22150\", \"22150\", \"22150\", \"22150\", \"22150\", \"22153\", \"22153\", \"22153\", \"22153\", \"22154\", \"22154\", \"22154\", \"22154\", \"22155\", \"22155\", \"22155\", \"22155\", \"22155\", \"22158\", \"22158\", \"22158\", \"22158\", \"22158\", \"22158\", \"22158\", \"22158\", \"22164\", \"22165\", \"22173\", \"22173\", \"22173\", \"22173\", \"22173\", \"22173\", \"22173\", \"22173\", \"22173\", \"22178\", \"22178\", \"22178\", \"22178\", \"22178\", \"22178\", \"22178\", \"22178\", \"22179\", \"22179\", \"22179\", \"22179\", \"22179\", \"22179\", \"22179\", \"22182\", \"22182\", \"22182\", \"22188\", \"22188\", \"22192\", \"22192\", \"22192\", \"22192\", \"22192\", \"22192\", \"22192\", \"22192\", \"22192\", \"22193\", \"22193\", \"22193\", \"22193\", \"22193\", \"22193\", \"22193\", \"22193\", \"22196\", \"22196\", \"22196\", \"22196\", \"22196\", \"22196\", \"22197\", \"22197\", \"22197\", \"22197\", \"22197\", \"22197\", \"22197\", \"22197\", \"22197\", \"22197\", \"22197\", \"22197\", \"22197\", \"22197\", \"22197\", \"22204\", \"22208\", \"22208\", \"22208\", \"22208\", \"22208\", \"22208\", \"22208\", \"22208\", \"22208\", \"22208\", \"22208\", \"22208\", \"22210\", \"22210\", \"22210\", \"22210\", \"22210\", \"22210\", \"22210\", \"22210\", \"22210\", \"22212\", \"22212\", \"22212\", \"22212\", \"22212\", \"22212\", \"22212\", \"22212\", \"22221\", \"22222\", \"22222\", \"22222\", \"22222\", \"22222\", \"22223\", \"22227\", \"22227\", \"22227\", \"22227\", \"22227\", \"22229\", \"22246\", \"22246\", \"22251\", \"22260\", \"22261\", \"22262\", \"22262\", \"22263\", \"22266\", \"22266\", \"22266\", \"22271\", \"22271\", \"22271\", \"22271\", \"22273\", \"22273\", \"22273\", \"22273\", \"22273\", \"22273\", \"22273\", \"22273\", \"22274\", \"22274\", \"22274\", \"22274\", \"22274\", \"22274\", \"22274\", \"22276\", \"22276\", \"22276\", \"22286\", \"22286\", \"22286\", \"22300\", \"22300\", \"22300\", \"22301\", \"22301\", \"22301\", \"22301\", \"22301\", \"22306\", \"22306\", \"22306\", \"22306\", \"22306\", \"22306\", \"22306\", \"22311\", \"22311\", \"22311\", \"22312\", \"22312\", \"22312\", \"22314\", \"22314\", \"22314\", \"22314\", \"22314\", \"22314\", \"22316\", \"22317\", \"22324\", \"22324\", \"22326\", \"22326\", \"22326\", \"22326\", \"22326\", \"22326\", \"22326\", \"22326\", \"22338\", \"22338\", \"22338\", \"22338\", \"22338\", \"22338\", \"22338\", \"22338\", \"22338\", \"22339\", \"22339\", \"22339\", \"22339\", \"22341\", \"22341\", \"22355\", \"22355\", \"22355\", \"22355\", \"22355\", \"22356\", \"22356\", \"22356\", \"22356\", \"22356\", \"22356\", \"22360\", \"22360\", \"22360\", \"22360\", \"22360\", \"22360\", \"22361\", \"22361\", \"22361\", \"22367\", \"22367\", \"22367\", \"22367\", \"22367\", \"22367\", \"22367\", \"22367\", \"22367\", \"22367\", \"22367\", \"22379\", \"22379\", \"22379\", \"22379\", \"22379\", \"22379\", \"22381\", \"22381\", \"22381\", \"22381\", \"22381\", \"22382\", \"22382\", \"22382\", \"22382\", \"22382\", \"22382\", \"22382\", \"22383\", \"22383\", \"22383\", \"22383\", \"22383\", \"22383\", \"22383\", \"22384\", \"22384\", \"22384\", \"22384\", \"22385\", \"22385\", \"22385\", \"22385\", \"22386\", \"22386\", \"22386\", \"22386\", \"22386\", \"22386\", \"22386\", \"22386\", \"22386\", \"22386\", \"22386\", \"22386\", \"22389\", \"22389\", \"22390\", \"22390\", \"22391\", \"22396\", \"22396\", \"22396\", \"22396\", \"22396\", \"22396\", \"22398\", \"22398\", \"22398\", \"22398\", \"22398\", \"22398\", \"22398\", \"22398\", \"22398\", \"22398\", \"22402\", \"22402\", \"22402\", \"22402\", \"22402\", \"22402\", \"22409\", \"22409\", \"22409\", \"22409\", \"22411\", \"22411\", \"22411\", \"22411\", \"22411\", \"22411\", \"22411\", \"22411\", \"22411\", \"22411\", \"22411\", \"22411\", \"22411\", \"22412\", \"22412\", \"22413\", \"22413\", \"22413\", \"22413\", \"22413\", \"22417\", \"22417\", \"22417\", \"22417\", \"22417\", \"22417\", \"22417\", \"22417\", \"22417\", \"22417\", \"22419\", \"22419\", \"22419\", \"22419\", \"22419\", \"22419\", \"22423\", \"22423\", \"22423\", \"22423\", \"22423\", \"22423\", \"22423\", \"22423\", \"22423\", \"22423\", \"22423\", \"22423\", \"22423\", \"22423\", \"22423\", \"22426\", \"22426\", \"22426\", \"22426\", \"22426\", \"22427\", \"22427\", \"22427\", \"22427\", \"22427\", \"22432\", \"22432\", \"22432\", \"22432\", \"22434\", \"22434\", \"22434\", \"22434\", \"22434\", \"22434\", \"22440\", \"22440\", \"22440\", \"22440\", \"22447\", \"22449\", \"22449\", \"22449\", \"22450\", \"22456\", \"22456\", \"22456\", \"22456\", \"22456\", \"22456\", \"22456\", \"22456\", \"22457\", \"22457\", \"22457\", \"22457\", \"22457\", \"22457\", \"22457\", \"22457\", \"22457\", \"22457\", \"22457\", \"22457\", \"22457\", \"22457\", \"22460\", \"22460\", \"22460\", \"22460\", \"22460\", \"22460\", \"22467\", \"22467\", \"22467\", \"22467\", \"22467\", \"22467\", \"22467\", \"22467\", \"22467\", \"22467\", \"22467\", \"22467\", \"22467\", \"22467\", \"22469\", \"22469\", \"22469\", \"22469\", \"22469\", \"22469\", \"22469\", \"22469\", \"22469\", \"22469\", \"22469\", \"22469\", \"22469\", \"22469\", \"22475\", \"22475\", \"22475\", \"22475\", \"22475\", \"22475\", \"22475\", \"22483\", \"22483\", \"22483\", \"22483\", \"22483\", \"22483\", \"22483\", \"22483\", \"22483\", \"22483\", \"22493\", \"22493\", \"22493\", \"22493\", \"22493\", \"22493\", \"22493\", \"22493\", \"22493\", \"22501\", \"22501\", \"22502\", \"22513\", \"22513\", \"22513\", \"22517\", \"22517\", \"22533\", \"22533\", \"22533\", \"22533\", \"22533\", \"22533\", \"22533\", \"22534\", \"22534\", \"22534\", \"22534\", \"22534\", \"22534\", \"22534\", \"22534\", \"22534\", \"22536\", \"22536\", \"22536\", \"22536\", \"22536\", \"22536\", \"22536\", \"22538\", \"22540\", \"22540\", \"22545\", \"22545\", \"22547\", \"22547\", \"22548\", \"22548\", \"22548\", \"22548\", \"22548\", \"22548\", \"22548\", \"22550\", \"22550\", \"22550\", \"22550\", \"22550\", \"22551\", \"22551\", \"22551\", \"22551\", \"22551\", \"22551\", \"22551\", \"22551\", \"22551\", \"22553\", \"22553\", \"22553\", \"22553\", \"22553\", \"22553\", \"22553\", \"22553\", \"22553\", \"22553\", \"22553\", \"22554\", \"22554\", \"22554\", \"22554\", \"22554\", \"22554\", \"22554\", \"22554\", \"22554\", \"22554\", \"22554\", \"22555\", \"22555\", \"22555\", \"22555\", \"22555\", \"22555\", \"22555\", \"22555\", \"22555\", \"22555\", \"22555\", \"22555\", \"22556\", \"22556\", \"22556\", \"22556\", \"22556\", \"22556\", \"22556\", \"22556\", \"22556\", \"22556\", \"22556\", \"22556\", \"22557\", \"22557\", \"22557\", \"22557\", \"22557\", \"22557\", \"22557\", \"22557\", \"22557\", \"22557\", \"22557\", \"22557\", \"22557\", \"22557\", \"22559\", \"22562\", \"22562\", \"22562\", \"22562\", \"22562\", \"22562\", \"22562\", \"22562\", \"22562\", \"22562\", \"22563\", \"22563\", \"22563\", \"22563\", \"22563\", \"22563\", \"22563\", \"22563\", \"22563\", \"22564\", \"22564\", \"22564\", \"22564\", \"22564\", \"22564\", \"22564\", \"22565\", \"22565\", \"22565\", \"22566\", \"22566\", \"22566\", \"22566\", \"22568\", \"22568\", \"22568\", \"22568\", \"22568\", \"22568\", \"22568\", \"22568\", \"22568\", \"22569\", \"22569\", \"22569\", \"22570\", \"22570\", \"22570\", \"22570\", \"22570\", \"22571\", \"22571\", \"22571\", \"22571\", \"22571\", \"22571\", \"22571\", \"22571\", \"22571\", \"22571\", \"22572\", \"22572\", \"22572\", \"22572\", \"22572\", \"22572\", \"22572\", \"22572\", \"22575\", \"22575\", \"22575\", \"22576\", \"22576\", \"22576\", \"22576\", \"22576\", \"22577\", \"22577\", \"22577\", \"22577\", \"22577\", \"22577\", \"22577\", \"22577\", \"22577\", \"22577\", \"22577\", \"22577\", \"22578\", \"22578\", \"22578\", \"22578\", \"22578\", \"22578\", \"22578\", \"22578\", \"22578\", \"22578\", \"22578\", \"22579\", \"22579\", \"22579\", \"22579\", \"22579\", \"22579\", \"22579\", \"22579\", \"22579\", \"22579\", \"22585\", \"22585\", \"22585\", \"22585\", \"22585\", \"22585\", \"22585\", \"22585\", \"22587\", \"22587\", \"22587\", \"22587\", \"22587\", \"22587\", \"22587\", \"22593\", \"22593\", \"22593\", \"22593\", \"22593\", \"22594\", \"22594\", \"22594\", \"22594\", \"22595\", \"22595\", \"22595\", \"22595\", \"22595\", \"22595\", \"22595\", \"22595\", \"22595\", \"22595\", \"22595\", \"22595\", \"22596\", \"22596\", \"22596\", \"22596\", \"22596\", \"22596\", \"22596\", \"22596\", \"22596\", \"22596\", \"22596\", \"22596\", \"22596\", \"22596\", \"22596\", \"22597\", \"22597\", \"22597\", \"22597\", \"22597\", \"22597\", \"22597\", \"22608\", \"22608\", \"22610\", \"22610\", \"22610\", \"22610\", \"22610\", \"22610\", \"22610\", \"22614\", \"22614\", \"22614\", \"22614\", \"22614\", \"22614\", \"22614\", \"22614\", \"22614\", \"22616\", \"22616\", \"22616\", \"22616\", \"22616\", \"22616\", \"22616\", \"22616\", \"22616\", \"22616\", \"22617\", \"22617\", \"22617\", \"22617\", \"22617\", \"22617\", \"22617\", \"22617\", \"22617\", \"22617\", \"22617\", \"22617\", \"22620\", \"22620\", \"22620\", \"22620\", \"22620\", \"22620\", \"22620\", \"22620\", \"22620\", \"22620\", \"22620\", \"22620\", \"22620\", \"22621\", \"22621\", \"22621\", \"22621\", \"22621\", \"22621\", \"22621\", \"22621\", \"22621\", \"22621\", \"22621\", \"22621\", \"22621\", \"22621\", \"22623\", \"22623\", \"22623\", \"22623\", \"22623\", \"22623\", \"22623\", \"22623\", \"22624\", \"22624\", \"22624\", \"22624\", \"22624\", \"22624\", \"22624\", \"22624\", \"22624\", \"22624\", \"22624\", \"22624\", \"22627\", \"22627\", \"22627\", \"22627\", \"22627\", \"22627\", \"22627\", \"22627\", \"22629\", \"22629\", \"22629\", \"22629\", \"22629\", \"22629\", \"22629\", \"22630\", \"22630\", \"22630\", \"22630\", \"22630\", \"22630\", \"22630\", \"22632\", \"22632\", \"22632\", \"22632\", \"22632\", \"22632\", \"22632\", \"22632\", \"22632\", \"22632\", \"22632\", \"22632\", \"22632\", \"22633\", \"22633\", \"22633\", \"22633\", \"22633\", \"22633\", \"22633\", \"22633\", \"22633\", \"22633\", \"22633\", \"22633\", \"22640\", \"22640\", \"22641\", \"22641\", \"22641\", \"22643\", \"22645\", \"22645\", \"22645\", \"22645\", \"22645\", \"22645\", \"22645\", \"22653\", \"22653\", \"22653\", \"22653\", \"22653\", \"22655\", \"22659\", \"22659\", \"22659\", \"22659\", \"22659\", \"22659\", \"22659\", \"22659\", \"22659\", \"22659\", \"22659\", \"22663\", \"22663\", \"22663\", \"22663\", \"22663\", \"22663\", \"22676\", \"22676\", \"22676\", \"22676\", \"22677\", \"22678\", \"22678\", \"22679\", \"22679\", \"22679\", \"22680\", \"22680\", \"22680\", \"22681\", \"22682\", \"22682\", \"22683\", \"22683\", \"22683\", \"22683\", \"22684\", \"22684\", \"22685\", \"22686\", \"22686\", \"22690\", \"22690\", \"22690\", \"22690\", \"22690\", \"22690\", \"22697\", \"22697\", \"22697\", \"22697\", \"22698\", \"22698\", \"22698\", \"22698\", \"22699\", \"22699\", \"22699\", \"22699\", \"22699\", \"22699\", \"22699\", \"22699\", \"22707\", \"22707\", \"22709\", \"22712\", \"22712\", \"22712\", \"22712\", \"22712\", \"22720\", \"22720\", \"22720\", \"22720\", \"22720\", \"22720\", \"22720\", \"22720\", \"22720\", \"22720\", \"22720\", \"22720\", \"22720\", \"22720\", \"22720\", \"22725\", \"22725\", \"22725\", \"22725\", \"22725\", \"22726\", \"22726\", \"22726\", \"22726\", \"22726\", \"22726\", \"22726\", \"22726\", \"22727\", \"22727\", \"22727\", \"22727\", \"22727\", \"22727\", \"22727\", \"22727\", \"22727\", \"22727\", \"22728\", \"22728\", \"22728\", \"22728\", \"22728\", \"22728\", \"22728\", \"22728\", \"22728\", \"22728\", \"22728\", \"22729\", \"22729\", \"22729\", \"22729\", \"22729\", \"22729\", \"22730\", \"22730\", \"22730\", \"22730\", \"22730\", \"22730\", \"22730\", \"22730\", \"22734\", \"22734\", \"22734\", \"22734\", \"22734\", \"22734\", \"22734\", \"22734\", \"22734\", \"22734\", \"22734\", \"22734\", \"22734\", \"22736\", \"22736\", \"22736\", \"22736\", \"22736\", \"22736\", \"22736\", \"22738\", \"22738\", \"22738\", \"22738\", \"22738\", \"22738\", \"22739\", \"22739\", \"22739\", \"22739\", \"22739\", \"22739\", \"22739\", \"22739\", \"22739\", \"22742\", \"22742\", \"22742\", \"22742\", \"22742\", \"22742\", \"22745\", \"22745\", \"22745\", \"22745\", \"22745\", \"22745\", \"22746\", \"22746\", \"22746\", \"22746\", \"22747\", \"22747\", \"22747\", \"22747\", \"22748\", \"22748\", \"22748\", \"22748\", \"22748\", \"22748\", \"22748\", \"22748\", \"22749\", \"22749\", \"22749\", \"22749\", \"22749\", \"22749\", \"22749\", \"22749\", \"22749\", \"22750\", \"22750\", \"22750\", \"22750\", \"22750\", \"22750\", \"22750\", \"22750\", \"22750\", \"22751\", \"22751\", \"22751\", \"22751\", \"22751\", \"22754\", \"22754\", \"22754\", \"22754\", \"22754\", \"22754\", \"22754\", \"22755\", \"22755\", \"22755\", \"22755\", \"22758\", \"22758\", \"22758\", \"22759\", \"22759\", \"22759\", \"22759\", \"22759\", \"22759\", \"22759\", \"22759\", \"22759\", \"22759\", \"22759\", \"22759\", \"22759\", \"22759\", \"22761\", \"22766\", \"22766\", \"22766\", \"22766\", \"22766\", \"22766\", \"22766\", \"22766\", \"22771\", \"22771\", \"22771\", \"22772\", \"22772\", \"22773\", \"22773\", \"22774\", \"22775\", \"22775\", \"22775\", \"22791\", \"22791\", \"22791\", \"22791\", \"22791\", \"22791\", \"22791\", \"22791\", \"22792\", \"22792\", \"22792\", \"22792\", \"22792\", \"22794\", \"22794\", \"22794\", \"22794\", \"22797\", \"22805\", \"22809\", \"22809\", \"22809\", \"22809\", \"22809\", \"22809\", \"22809\", \"22809\", \"22809\", \"22809\", \"22816\", \"22816\", \"22816\", \"22816\", \"22816\", \"22816\", \"22816\", \"22816\", \"22816\", \"22816\", \"22816\", \"22820\", \"22820\", \"22821\", \"22821\", \"22823\", \"22823\", \"22824\", \"22825\", \"22826\", \"22826\", \"22827\", \"22832\", \"22832\", \"22834\", \"22834\", \"22834\", \"22834\", \"22834\", \"22834\", \"22834\", \"22834\", \"22835\", \"22835\", \"22835\", \"22835\", \"22835\", \"22835\", \"22835\", \"22835\", \"22842\", \"22842\", \"22842\", \"22842\", \"22842\", \"22848\", \"22853\", \"22853\", \"22853\", \"22856\", \"22865\", \"22865\", \"22865\", \"22865\", \"22865\", \"22865\", \"22865\", \"22865\", \"22865\", \"22865\", \"22865\", \"22865\", \"22865\", \"22865\", \"22865\", \"22866\", \"22866\", \"22866\", \"22866\", \"22866\", \"22866\", \"22866\", \"22866\", \"22866\", \"22866\", \"22866\", \"22866\", \"22867\", \"22867\", \"22867\", \"22867\", \"22867\", \"22867\", \"22867\", \"22867\", \"22867\", \"22867\", \"22867\", \"22867\", \"22869\", \"22869\", \"22885\", \"22886\", \"22888\", \"22889\", \"22900\", \"22900\", \"22900\", \"22900\", \"22900\", \"22900\", \"22900\", \"22900\", \"22902\", \"22902\", \"22902\", \"22902\", \"22904\", \"22904\", \"22904\", \"22904\", \"22904\", \"22906\", \"22906\", \"22906\", \"22906\", \"22906\", \"22907\", \"22907\", \"22907\", \"22907\", \"22907\", \"22907\", \"22907\", \"22909\", \"22909\", \"22909\", \"22909\", \"22909\", \"22909\", \"22909\", \"22909\", \"22910\", \"22910\", \"22910\", \"22910\", \"22910\", \"22910\", \"22910\", \"22910\", \"22910\", \"22910\", \"22910\", \"22910\", \"22910\", \"22910\", \"22910\", \"22913\", \"22913\", \"22916\", \"22916\", \"22917\", \"22917\", \"22918\", \"22918\", \"22919\", \"22920\", \"22920\", \"22921\", \"22921\", \"22925\", \"22925\", \"22925\", \"22925\", \"22925\", \"22934\", \"22936\", \"22938\", \"22938\", \"22938\", \"22938\", \"22938\", \"22939\", \"22939\", \"22939\", \"22939\", \"22939\", \"22940\", \"22940\", \"22940\", \"22940\", \"22940\", \"22940\", \"22940\", \"22940\", \"22940\", \"22940\", \"22940\", \"22940\", \"22940\", \"22941\", \"22941\", \"22941\", \"22941\", \"22941\", \"22941\", \"22941\", \"22941\", \"22941\", \"22941\", \"22941\", \"22941\", \"22950\", \"22950\", \"22950\", \"22950\", \"22950\", \"22950\", \"22950\", \"22950\", \"22951\", \"22951\", \"22951\", \"22951\", \"22951\", \"22951\", \"22951\", \"22951\", \"22951\", \"22951\", \"22952\", \"22952\", \"22952\", \"22952\", \"22952\", \"22952\", \"22952\", \"22952\", \"22952\", \"22952\", \"22952\", \"22952\", \"22952\", \"22952\", \"22952\", \"22956\", \"22956\", \"22959\", \"22959\", \"22959\", \"22959\", \"22959\", \"22959\", \"22959\", \"22959\", \"22959\", \"22960\", \"22960\", \"22960\", \"22960\", \"22960\", \"22960\", \"22960\", \"22960\", \"22960\", \"22960\", \"22960\", \"22960\", \"22960\", \"22960\", \"22961\", \"22961\", \"22961\", \"22961\", \"22961\", \"22961\", \"22961\", \"22961\", \"22961\", \"22961\", \"22961\", \"22961\", \"22965\", \"22965\", \"22965\", \"22965\", \"22965\", \"22965\", \"22965\", \"22965\", \"22966\", \"22966\", \"22966\", \"22966\", \"22966\", \"22966\", \"22966\", \"22966\", \"22966\", \"22966\", \"22966\", \"22966\", \"22970\", \"22970\", \"22970\", \"22970\", \"22970\", \"22970\", \"22971\", \"22971\", \"22971\", \"22971\", \"22971\", \"22971\", \"22988\", \"22988\", \"22988\", \"22988\", \"22988\", \"22988\", \"22988\", \"22988\", \"22988\", \"22988\", \"22991\", \"22991\", \"22991\", \"22991\", \"22991\", \"22991\", \"22991\", \"22991\", \"22991\", \"22991\", \"22992\", \"22992\", \"22992\", \"22992\", \"22992\", \"22992\", \"22992\", \"22992\", \"22992\", \"22992\", \"22993\", \"22993\", \"22993\", \"22993\", \"22993\", \"22993\", \"22993\", \"22993\", \"22993\", \"22993\", \"22993\", \"22993\", \"22993\", \"22993\", \"22993\", \"22993\", \"22994\", \"22994\", \"22994\", \"22994\", \"22995\", \"22995\", \"22995\", \"22995\", \"22996\", \"22996\", \"22996\", \"22996\", \"22996\", \"22996\", \"22996\", \"22996\", \"22996\", \"22996\", \"22997\", \"22997\", \"22997\", \"22997\", \"22997\", \"22998\", \"22998\", \"22998\", \"22998\", \"22998\", \"22998\", \"22998\", \"22998\", \"22998\", \"22999\", \"22999\", \"22999\", \"22999\", \"23000\", \"23000\", \"23000\", \"23000\", \"23000\", \"23002\", \"23002\", \"23004\", \"23004\", \"23004\", \"23005\", \"23005\", \"23005\", \"23005\", \"23005\", \"23005\", \"23005\", \"23006\", \"23006\", \"23006\", \"23006\", \"23016\", \"23016\", \"23016\", \"23017\", \"23017\", \"23019\", \"23019\", \"23019\", \"23021\", \"23021\", \"23021\", \"23023\", \"23023\", \"23026\", \"23027\", \"23028\", \"23028\", \"23028\", \"23032\", \"23032\", \"23032\", \"23032\", \"23033\", \"23034\", \"23035\", \"23035\", \"23035\", \"23035\", \"23035\", \"23041\", \"23041\", \"23041\", \"23045\", \"23045\", \"23053\", \"23053\", \"23054\", \"23054\", \"23064\", \"23067\", \"23067\", \"23067\", \"23076\", \"23076\", \"23076\", \"23076\", \"23076\", \"23076\", \"23076\", \"23076\", \"23076\", \"23077\", \"23077\", \"23077\", \"23077\", \"23077\", \"23077\", \"23077\", \"23077\", \"23077\", \"23077\", \"23077\", \"23077\", \"23077\", \"23077\", \"23080\", \"23080\", \"23080\", \"23080\", \"23080\", \"23080\", \"23080\", \"23080\", \"23080\", \"23080\", \"23084\", \"23084\", \"23084\", \"23084\", \"23084\", \"23084\", \"23084\", \"23084\", \"23084\", \"23084\", \"23084\", \"23084\", \"23084\", \"23084\", \"23084\", \"23084\", \"23084\", \"23084\", \"23086\", \"23086\", \"23086\", \"23086\", \"23100\", \"23100\", \"23100\", \"23100\", \"23100\", \"23100\", \"23100\", \"23100\", \"23100\", \"23100\", \"23100\", \"23100\", \"23100\", \"23100\", \"23103\", \"23103\", \"23103\", \"23103\", \"23103\", \"23103\", \"23103\", \"23103\", \"23103\", \"23103\", \"23104\", \"23104\", \"23104\", \"23107\", \"23107\", \"23113\", \"23113\", \"23113\", \"23113\", \"23113\", \"23116\", \"23116\", \"23117\", \"23117\", \"23117\", \"23117\", \"23118\", \"23118\", \"23118\", \"23118\", \"23118\", \"23118\", \"23118\", \"23118\", \"23119\", \"23119\", \"23119\", \"23120\", \"23121\", \"23121\", \"23121\", \"23122\", \"23122\", \"23122\", \"23122\", \"23122\", \"23122\", \"23123\", \"23123\", \"23123\", \"23123\", \"23123\", \"23126\", \"23126\", \"23126\", \"23126\", \"23126\", \"23126\", \"23126\", \"23126\", \"23126\", \"23126\", \"23127\", \"23127\", \"23127\", \"23127\", \"23127\", \"23127\", \"23128\", \"23128\", \"23128\", \"23128\", \"23128\", \"23129\", \"23129\", \"23129\", \"23129\", \"23129\", \"23129\", \"23129\", \"23129\", \"23129\", \"23129\", \"23129\", \"23130\", \"23130\", \"23130\", \"23130\", \"23130\", \"23130\", \"23130\", \"23130\", \"23130\", \"23130\", \"23130\", \"23130\", \"23131\", \"23131\", \"23131\", \"23131\", \"23131\", \"23136\", \"23142\", \"23144\", \"23144\", \"23144\", \"23144\", \"23144\", \"23144\", \"23144\", \"23144\", \"23145\", \"23145\", \"23145\", \"23145\", \"23147\", \"23147\", \"23147\", \"23147\", \"23147\", \"23147\", \"23152\", \"23152\", \"23152\", \"23152\", \"23157\", \"23157\", \"23157\", \"23157\", \"23157\", \"23157\", \"23157\", \"23157\", \"23157\", \"23157\", \"23157\", \"23157\", \"23157\", \"23161\", \"23161\", \"23165\", \"23165\", \"23165\", \"23165\", \"23165\", \"23165\", \"23166\", \"23166\", \"23166\", \"23166\", \"23166\", \"23166\", \"23166\", \"23167\", \"23167\", \"23167\", \"23167\", \"23167\", \"23167\", \"23169\", \"23169\", \"23169\", \"23169\", \"23169\", \"23169\", \"23169\", \"23169\", \"23169\", \"23169\", \"23169\", \"23169\", \"23169\", \"23169\", \"23169\", \"23170\", \"23170\", \"23170\", \"23170\", \"23170\", \"23171\", \"23171\", \"23171\", \"23171\", \"23172\", \"23172\", \"23172\", \"23173\", \"23173\", \"23173\", \"23173\", \"23174\", \"23174\", \"23174\", \"23174\", \"23175\", \"23175\", \"23175\", \"23175\", \"23180\", \"23186\", \"23186\", \"23186\", \"23188\", \"23188\", \"23188\", \"23188\", \"23188\", \"23188\", \"23188\", \"23188\", \"23188\", \"23188\", \"23188\", \"23188\", \"23188\", \"23192\", \"23192\", \"23192\", \"23192\", \"23192\", \"23192\", \"23192\", \"23192\", \"23192\", \"23192\", \"23192\", \"23192\", \"23196\", \"23196\", \"23196\", \"23196\", \"23196\", \"23196\", \"23196\", \"23196\", \"23196\", \"23196\", \"23197\", \"23197\", \"23197\", \"23197\", \"23197\", \"23197\", \"23197\", \"23198\", \"23198\", \"23198\", \"23198\", \"23198\", \"23198\", \"23198\", \"23198\", \"23198\", \"23198\", \"23198\", \"23198\", \"23199\", \"23199\", \"23199\", \"23199\", \"23199\", \"23200\", \"23200\", \"23200\", \"23200\", \"23200\", \"23200\", \"23200\", \"23201\", \"23201\", \"23201\", \"23201\", \"23201\", \"23201\", \"23201\", \"23201\", \"23201\", \"23201\", \"23201\", \"23201\", \"23201\", \"23202\", \"23202\", \"23202\", \"23202\", \"23202\", \"23202\", \"23202\", \"23202\", \"23202\", \"23202\", \"23203\", \"23203\", \"23203\", \"23203\", \"23203\", \"23203\", \"23203\", \"23203\", \"23203\", \"23203\", \"23203\", \"23203\", \"23204\", \"23204\", \"23204\", \"23204\", \"23204\", \"23204\", \"23206\", \"23206\", \"23206\", \"23206\", \"23207\", \"23207\", \"23207\", \"23207\", \"23207\", \"23207\", \"23207\", \"23207\", \"23207\", \"23207\", \"23207\", \"23207\", \"23208\", \"23208\", \"23208\", \"23208\", \"23209\", \"23209\", \"23209\", \"23209\", \"23209\", \"23209\", \"23209\", \"23209\", \"23210\", \"23210\", \"23210\", \"23210\", \"23210\", \"23210\", \"23211\", \"23211\", \"23211\", \"23211\", \"23211\", \"23211\", \"23211\", \"23211\", \"23212\", \"23212\", \"23212\", \"23212\", \"23213\", \"23213\", \"23213\", \"23213\", \"23215\", \"23215\", \"23215\", \"23215\", \"23215\", \"23215\", \"23215\", \"23215\", \"23215\", \"23215\", \"23215\", \"23215\", \"23217\", \"23217\", \"23217\", \"23219\", \"23219\", \"23219\", \"23219\", \"23221\", \"23221\", \"23221\", \"23221\", \"23221\", \"23221\", \"23222\", \"23222\", \"23222\", \"23222\", \"23222\", \"23223\", \"23223\", \"23224\", \"23224\", \"23224\", \"23229\", \"23229\", \"23229\", \"23229\", \"23229\", \"23229\", \"23229\", \"23229\", \"23229\", \"23229\", \"23229\", \"23230\", \"23230\", \"23230\", \"23230\", \"23231\", \"23231\", \"23231\", \"23232\", \"23232\", \"23232\", \"23232\", \"23232\", \"23232\", \"23232\", \"23232\", \"23232\", \"23233\", \"23233\", \"23233\", \"23233\", \"23234\", \"23234\", \"23234\", \"23234\", \"23234\", \"23234\", \"23234\", \"23234\", \"23234\", \"23234\", \"23236\", \"23236\", \"23236\", \"23236\", \"23236\", \"23236\", \"23238\", \"23238\", \"23238\", \"23238\", \"23238\", \"23238\", \"23238\", \"23238\", \"23238\", \"23238\", \"23240\", \"23240\", \"23240\", \"23240\", \"23240\", \"23240\", \"23240\", \"23240\", \"23240\", \"23240\", \"23240\", \"23240\", \"23240\", \"23240\", \"23241\", \"23241\", \"23241\", \"23241\", \"23241\", \"23241\", \"23241\", \"23241\", \"23241\", \"23241\", \"23241\", \"23242\", \"23242\", \"23242\", \"23242\", \"23242\", \"23242\", \"23242\", \"23243\", \"23243\", \"23243\", \"23243\", \"23243\", \"23243\", \"23243\", \"23243\", \"23245\", \"23245\", \"23245\", \"23245\", \"23245\", \"23245\", \"23245\", \"23245\", \"23245\", \"23245\", \"23245\", \"23245\", \"23249\", \"23249\", \"23250\", \"23250\", \"23250\", \"23250\", \"23250\", \"23251\", \"23251\", \"23251\", \"23251\", \"23254\", \"23254\", \"23254\", \"23254\", \"23254\", \"23255\", \"23255\", \"23256\", \"23256\", \"23256\", \"23263\", \"23263\", \"23263\", \"23263\", \"23263\", \"23263\", \"23263\", \"23263\", \"23263\", \"23263\", \"23263\", \"23263\", \"23263\", \"23263\", \"23264\", \"23264\", \"23264\", \"23264\", \"23264\", \"23264\", \"23264\", \"23264\", \"23264\", \"23264\", \"23264\", \"23264\", \"23265\", \"23265\", \"23265\", \"23265\", \"23265\", \"23265\", \"23265\", \"23265\", \"23265\", \"23265\", \"23265\", \"23265\", \"23265\", \"23266\", \"23266\", \"23266\", \"23266\", \"23266\", \"23266\", \"23266\", \"23266\", \"23266\", \"23266\", \"23266\", \"23266\", \"23275\", \"23275\", \"23275\", \"23275\", \"23275\", \"23275\", \"23275\", \"23275\", \"23275\", \"23275\", \"23275\", \"23275\", \"23275\", \"23275\", \"23283\", \"23283\", \"23283\", \"23283\", \"23283\", \"23283\", \"23283\", \"23284\", \"23284\", \"23284\", \"23284\", \"23284\", \"23284\", \"23284\", \"23284\", \"23284\", \"23285\", \"23285\", \"23285\", \"23286\", \"23286\", \"23286\", \"23287\", \"23287\", \"23287\", \"23287\", \"23288\", \"23288\", \"23288\", \"23288\", \"23289\", \"23289\", \"23289\", \"23289\", \"23289\", \"23290\", \"23290\", \"23290\", \"23290\", \"23290\", \"23291\", \"23291\", \"23291\", \"23291\", \"23292\", \"23292\", \"23292\", \"23293\", \"23293\", \"23293\", \"23293\", \"23293\", \"23293\", \"23293\", \"23293\", \"23293\", \"23293\", \"23294\", \"23294\", \"23294\", \"23294\", \"23295\", \"23295\", \"23295\", \"23295\", \"23295\", \"23295\", \"23295\", \"23296\", \"23296\", \"23296\", \"23298\", \"23298\", \"23298\", \"23298\", \"23298\", \"23298\", \"23298\", \"23298\", \"23298\", \"23298\", \"23298\", \"23298\", \"23298\", \"23298\", \"23298\", \"23300\", \"23300\", \"23300\", \"23300\", \"23300\", \"23300\", \"23300\", \"23300\", \"23300\", \"23300\", \"23300\", \"23300\", \"23300\", \"23301\", \"23301\", \"23301\", \"23301\", \"23301\", \"23301\", \"23301\", \"23301\", \"23301\", \"23301\", \"23301\", \"23301\", \"23301\", \"23301\", \"23301\", \"23301\", \"23303\", \"23304\", \"23305\", \"23306\", \"23306\", \"23306\", \"23306\", \"23307\", \"23307\", \"23307\", \"23307\", \"23307\", \"23307\", \"23307\", \"23307\", \"23307\", \"23307\", \"23307\", \"23307\", \"23307\", \"23308\", \"23308\", \"23308\", \"23308\", \"23308\", \"23308\", \"23308\", \"23308\", \"23308\", \"23308\", \"23308\", \"23309\", \"23309\", \"23309\", \"23309\", \"23309\", \"23309\", \"23309\", \"23309\", \"23309\", \"23309\", \"23309\", \"23311\", \"23311\", \"23311\", \"23311\", \"23311\", \"23311\", \"23311\", \"23311\", \"23311\", \"23312\", \"23312\", \"23312\", \"23312\", \"23312\", \"23312\", \"23312\", \"23312\", \"23313\", \"23313\", \"23313\", \"23313\", \"23313\", \"23313\", \"23313\", \"23313\", \"23313\", \"23313\", \"23313\", \"23313\", \"23313\", \"23314\", \"23314\", \"23314\", \"23314\", \"23314\", \"23315\", \"23315\", \"23315\", \"23317\", \"23317\", \"23317\", \"23317\", \"23318\", \"23318\", \"23318\", \"23318\", \"23318\", \"23318\", \"23318\", \"23318\", \"23318\", \"23319\", \"23319\", \"23319\", \"23319\", \"23319\", \"23319\", \"23319\", \"23319\", \"23319\", \"23319\", \"23319\", \"23319\", \"23320\", \"23320\", \"23320\", \"23320\", \"23320\", \"23320\", \"23320\", \"23320\", \"23320\", \"23320\", \"23320\", \"23320\", \"23320\", \"23320\", \"23320\", \"23321\", \"23321\", \"23321\", \"23321\", \"23321\", \"23321\", \"23321\", \"23321\", \"23321\", \"23321\", \"23321\", \"23321\", \"23322\", \"23322\", \"23322\", \"23322\", \"23322\", \"23322\", \"23322\", \"23322\", \"23322\", \"23322\", \"23322\", \"23324\", \"23324\", \"23324\", \"23324\", \"23325\", \"23325\", \"23325\", \"23328\", \"23328\", \"23328\", \"23328\", \"23328\", \"23328\", \"23328\", \"23328\", \"23328\", \"23328\", \"23328\", \"23328\", \"23328\", \"23328\", \"23332\", \"23332\", \"23332\", \"23332\", \"23332\", \"23332\", \"23332\", \"23332\", \"23332\", \"23332\", \"23332\", \"23340\", \"23340\", \"23340\", \"23340\", \"23340\", \"23340\", \"23341\", \"23341\", \"23341\", \"23341\", \"23341\", \"23343\", \"23343\", \"23343\", \"23343\", \"23343\", \"23343\", \"23343\", \"23343\", \"23343\", \"23344\", \"23344\", \"23344\", \"23344\", \"23344\", \"23344\", \"23344\", \"23344\", \"23344\", \"23344\", \"23344\", \"23344\", \"23345\", \"23345\", \"23345\", \"23345\", \"23345\", \"23346\", \"23346\", \"23346\", \"23346\", \"23349\", \"23349\", \"23349\", \"23349\", \"23349\", \"23349\", \"23349\", \"23349\", \"23350\", \"23350\", \"23350\", \"23350\", \"23350\", \"23350\", \"23350\", \"23350\", \"23350\", \"23350\", \"23350\", \"23351\", \"23351\", \"23351\", \"23351\", \"23351\", \"23351\", \"23351\", \"23351\", \"23351\", \"23351\", \"23352\", \"23352\", \"23352\", \"23352\", \"23352\", \"23352\", \"23352\", \"23353\", \"23353\", \"23353\", \"23353\", \"23353\", \"23353\", \"23353\", \"23353\", \"23354\", \"23354\", \"23354\", \"23354\", \"23354\", \"23354\", \"23354\", \"23354\", \"23354\", \"23354\", \"23355\", \"23355\", \"23355\", \"23355\", \"23355\", \"23355\", \"23355\", \"23355\", \"23355\", \"23355\", \"23355\", \"23355\", \"23355\", \"23356\", \"23356\", \"23356\", \"23356\", \"23356\", \"23356\", \"23356\", \"23356\", \"23356\", \"23356\", \"23356\", \"23356\", \"23365\", \"23365\", \"23365\", \"23365\", \"23365\", \"23365\", \"23367\", \"23367\", \"23367\", \"23367\", \"23367\", \"23367\", \"23367\", \"23367\", \"23367\", \"23367\", \"23367\", \"23367\", \"23368\", \"23368\", \"23368\", \"23368\", \"23368\", \"23368\", \"23368\", \"23368\", \"23368\", \"23368\", \"23368\", \"23368\", \"23369\", \"23369\", \"23369\", \"23369\", \"23369\", \"23369\", \"23369\", \"23369\", \"23371\", \"23371\", \"23371\", \"23371\", \"23371\", \"23371\", \"23371\", \"23371\", \"23371\", \"23371\", \"23371\", \"23373\", \"23373\", \"23373\", \"23373\", \"23373\", \"23376\", \"23376\", \"23376\", \"23376\", \"23376\", \"23376\", \"23376\", \"23378\", \"23378\", \"23378\", \"23378\", \"23378\", \"23378\", \"23378\", \"23378\", \"23378\", \"23378\", \"23378\", \"23378\", \"23378\", \"23378\", \"23388\", \"23388\", \"23388\", \"23388\", \"23388\", \"23388\", \"23389\", \"23389\", \"23389\", \"23389\", \"23389\", \"23389\", \"23389\", \"23389\", \"23389\", \"23390\", \"23390\", \"23390\", \"23390\", \"23390\", \"23390\", \"23390\", \"23390\", \"23390\", \"23390\", \"23393\", \"23393\", \"23393\", \"23393\", \"23393\", \"23393\", \"23393\", \"23393\", \"23394\", \"23394\", \"23394\", \"23394\", \"23394\", \"23395\", \"23395\", \"23395\", \"23395\", \"23395\", \"23395\", \"23395\", \"23395\", \"23395\", \"23396\", \"23396\", \"23396\", \"23396\", \"23396\", \"23396\", \"23396\", \"23396\", \"23397\", \"23397\", \"23397\", \"23397\", \"23397\", \"23397\", \"23397\", \"23397\", \"23397\", \"23397\", \"23397\", \"23399\", \"23399\", \"23399\", \"23399\", \"23399\", \"23399\", \"23399\", \"23399\", \"23399\", \"23399\", \"23403\", \"23403\", \"23403\", \"23403\", \"23403\", \"23403\", \"23426\", \"23426\", \"23426\", \"23426\", \"23426\", \"23426\", \"23426\", \"23426\", \"23428\", \"23428\", \"23428\", \"23436\", \"23436\", \"23436\", \"23436\", \"23436\", \"23436\", \"23437\", \"23437\", \"23437\", \"23437\", \"23437\", \"23437\", \"23437\", \"23437\", \"23438\", \"23438\", \"23438\", \"23438\", \"23438\", \"23438\", \"23438\", \"23438\", \"23438\", \"23439\", \"23439\", \"23439\", \"23439\", \"23439\", \"23439\", \"23439\", \"23439\", \"23439\", \"23440\", \"23463\", \"23469\", \"23469\", \"23469\", \"23469\", \"23469\", \"23469\", \"23469\", \"23469\", \"23469\", \"23473\", \"23473\", \"23473\", \"23474\", \"23474\", \"23476\", \"23476\", \"23477\", \"23480\", \"23480\", \"23480\", \"23480\", \"23480\", \"23480\", \"23491\", \"23491\", \"23491\", \"23491\", \"23491\", \"23493\", \"23493\", \"23493\", \"23493\", \"23493\", \"23493\", \"23493\", \"23493\", \"23493\", \"23493\", \"23493\", \"23493\", \"23493\", \"23493\", \"23493\", \"23493\", \"23494\", \"23494\", \"23494\", \"23494\", \"23494\", \"23494\", \"23494\", \"23494\", \"23494\", \"23494\", \"23494\", \"23494\", \"23494\", \"23494\", \"23497\", \"23497\", \"23497\", \"23497\", \"23497\", \"23497\", \"23497\", \"23497\", \"23498\", \"23498\", \"23498\", \"23498\", \"23501\", \"23501\", \"23501\", \"23501\", \"23501\", \"23501\", \"23501\", \"23503\", \"23503\", \"23503\", \"23503\", \"23503\", \"23503\", \"23503\", \"23503\", \"23503\", \"23503\", \"23503\", \"23503\", \"23503\", \"23503\", \"23503\", \"23504\", \"23504\", \"23504\", \"23504\", \"23504\", \"23504\", \"23504\", \"23504\", \"23504\", \"23504\", \"23504\", \"23504\", \"23504\", \"23505\", \"23505\", \"23505\", \"23505\", \"23505\", \"23505\", \"23506\", \"23506\", \"23506\", \"23506\", \"23506\", \"23506\", \"23506\", \"23506\", \"23506\", \"23506\", \"23508\", \"23508\", \"23508\", \"23508\", \"23508\", \"23508\", \"23508\", \"23511\", \"23511\", \"23511\", \"23511\", \"23511\", \"23511\", \"23511\", \"23512\", \"23512\", \"23513\", \"23513\", \"23513\", \"23513\", \"23514\", \"23514\", \"23514\", \"23515\", \"23515\", \"23515\", \"23516\", \"23517\", \"23517\", \"23517\", \"23518\", \"23518\", \"23518\", \"23519\", \"23520\", \"23520\", \"23531\", \"23531\", \"23531\", \"23531\", \"23531\", \"23532\", \"23532\", \"23534\", \"23534\", \"23534\", \"23534\", \"23534\", \"23534\", \"23534\", \"23534\", \"23534\", \"23539\", \"23539\", \"23539\", \"23539\", \"23542\", \"23542\", \"23542\", \"23543\", \"23543\", \"23543\", \"23543\", \"23543\", \"23545\", \"23545\", \"23545\", \"23546\", \"23546\", \"23546\", \"23546\", \"23546\", \"23546\", \"23547\", \"23547\", \"23547\", \"23549\", \"23549\", \"23549\", \"23549\", \"23550\", \"23550\", \"23550\", \"23550\", \"23552\", \"23552\", \"23552\", \"23552\", \"23552\", \"23554\", \"23554\", \"23554\", \"23555\", \"23555\", \"23555\", \"23556\", \"23556\", \"23556\", \"23558\", \"23558\", \"23558\", \"23558\", \"23561\", \"23568\", \"23568\", \"23568\", \"23569\", \"23569\", \"23569\", \"23569\", \"23569\", \"23569\", \"23569\", \"23569\", \"23569\", \"23570\", \"23570\", \"23570\", \"23570\", \"23570\", \"23570\", \"23570\", \"23570\", \"23570\", \"23570\", \"23570\", \"23570\", \"23570\", \"23570\", \"23571\", \"23571\", \"23571\", \"23571\", \"23571\", \"23571\", \"23571\", \"23571\", \"23571\", \"23571\", \"23571\", \"23571\", \"23571\", \"23571\", \"23574\", \"23574\", \"23581\", \"23581\", \"23581\", \"23581\", \"23581\", \"23581\", \"23581\", \"23581\", \"23581\", \"23581\", \"23582\", \"23582\", \"23582\", \"23582\", \"23582\", \"23582\", \"23582\", \"23583\", \"23583\", \"23583\", \"23583\", \"23583\", \"23583\", \"23583\", \"23583\", \"23583\", \"23681\", \"23681\", \"23681\", \"23681\", \"23692\", \"23694\", \"23694\", \"23694\", \"23695\", \"23695\", \"23695\", \"35400\", \"35400\", \"35443\", \"35471D\", \"35471D\", \"35471D\", \"35471D\", \"35471D\", \"35471D\", \"35471D\", \"35471D\", \"35591T\", \"35598D\", \"35598D\", \"35598D\", \"35598D\", \"35646\", \"35646\", \"35815P\", \"35819P\", \"35914\", \"35968\", \"35970\", \"35970\", \"35970\", \"35970\", \"35970\", \"35970\", \"35970\", \"35970\", \"35970\", \"35970\", \"35970\", \"35970\", \"35970\", \"35970\", \"35971\", \"35971\", \"35971\", \"35971\", \"37327\", \"37327\", \"37447\", \"37448\", \"37448\", \"37448\", \"37448\", \"37450\", \"37468\", \"37475\", \"37475\", \"37475\", \"37479P\", \"37489A\", \"37489D\", \"37495\", \"37495\", \"40016\", \"44092C\", \"44092C\", \"44234\", \"46000M\", \"46000M\", \"46000M\", \"46000M\", \"46000S\", \"46000S\", \"46000S\", \"46000S\", \"46000S\", \"46000S\", \"46000S\", \"46000S\", \"46000U\", \"46118\", \"46118\", \"46775D\", \"46776E\", \"47341B\", \"47369A\", \"47420\", \"47421\", \"47421\", \"47421\", \"47421\", \"47422\", \"47422\", \"47422\", \"47503A\", \"47503A\", \"47503A\", \"47503A\", \"47503A\", \"47503A\", \"47566\", \"47566\", \"47566\", \"47566\", \"47566\", \"47566\", \"47566\", \"47566\", \"47566\", \"47566\", \"47566\", \"47566\", \"47566\", \"47566\", \"47578A\", \"47578A\", \"47599A\", \"47599A\", \"47599A\", \"47599B\", \"47599B\", \"47599B\", \"48111\", \"48111\", \"48111\", \"48111\", \"48111\", \"48111\", \"48111\", \"48138\", \"48138\", \"48138\", \"48173C\", \"48173C\", \"48184\", \"48184\", \"48184\", \"48184\", \"48187\", \"48187\", \"48187\", \"48187\", \"48187\", \"48187\", \"48187\", \"48187\", \"48188\", \"48188\", \"48188\", \"48188\", \"48188\", \"48194\", \"48194\", \"48194\", \"48194\", \"48194\", \"48194\", \"48194\", \"48194\", \"51008\", \"71101E\", \"71279\", \"71459\", \"71459\", \"71459\", \"71459\", \"71459\", \"71459\", \"71495B\", \"71496B\", \"71510\", \"72127\", \"72127\", \"72128\", \"72130\", \"72131\", \"72225C\", \"72349B\", \"72349B\", \"72351A\", \"72351A\", \"72351A\", \"72351B\", \"72351B\", \"72351B\", \"72799E\", \"72799E\", \"72799F\", \"72799F\", \"72800B\", \"72800D\", \"72801D\", \"72801G\", \"72802A\", \"72807A\", \"72807A\", \"72817\", \"72817\", \"72817\", \"72817\", \"72817\", \"72817\", \"72817\", \"72818\", \"72818\", \"72818\", \"72818\", \"78124\", \"79063C\", \"79063D\", \"79149B\", \"79157V\", \"79190A\", \"79190A\", \"79191B\", \"79191B\", \"79321\", \"79321\", \"79321\", \"79321\", \"79321\", \"79321\", \"79321\", \"79321\", \"79321\", \"79321\", \"79321\", \"79321\", \"79321\", \"79321\", \"82482\", \"82482\", \"82482\", \"82482\", \"82482\", \"82482\", \"82482\", \"82482\", \"82483\", \"82483\", \"82483\", \"82483\", \"82483\", \"82483\", \"82483\", \"82483\", \"82484\", \"82484\", \"82484\", \"82484\", \"82484\", \"82484\", \"82484\", \"82486\", \"82486\", \"82486\", \"82486\", \"82494L\", \"82494L\", \"82494L\", \"82494L\", \"82494L\", \"82494L\", \"82494L\", \"82494L\", \"82551\", \"82551\", \"82551\", \"82551\", \"82551\", \"82551\", \"82551\", \"82551\", \"82552\", \"82552\", \"82552\", \"82552\", \"82552\", \"82552\", \"82552\", \"82552\", \"82552\", \"82567\", \"82567\", \"82578\", \"82578\", \"82578\", \"82578\", \"82578\", \"82580\", \"82580\", \"82580\", \"82580\", \"82580\", \"82580\", \"82581\", \"82581\", \"82581\", \"82581\", \"82581\", \"82582\", \"82582\", \"82582\", \"82582\", \"82582\", \"82582\", \"82582\", \"82582\", \"82583\", \"82583\", \"82583\", \"82583\", \"82600\", \"82600\", \"82600\", \"82600\", \"82600\", \"82613C\", \"82613D\", \"84029E\", \"84029E\", \"84029E\", \"84029E\", \"84029E\", \"84029E\", \"84029E\", \"84029E\", \"84029E\", \"84029G\", \"84029G\", \"84029G\", \"84029G\", \"84029G\", \"84029G\", \"84029G\", \"84029G\", \"84029G\", \"84029G\", \"84030E\", \"84030E\", \"84030E\", \"84030E\", \"84030E\", \"84030E\", \"84030E\", \"84030E\", \"84030E\", \"84030E\", \"84030E\", \"84030E\", \"84031A\", \"84031A\", \"84032A\", \"84032A\", \"84032A\", \"84032A\", \"84032A\", \"84032A\", \"84032A\", \"84032A\", \"84077\", \"84077\", \"84077\", \"84077\", \"84077\", \"84077\", \"84077\", \"84077\", \"84077\", \"84077\", \"84077\", \"84077\", \"84086B\", \"84192\", \"84192\", \"84199\", \"84199\", \"84347\", \"84347\", \"84347\", \"84347\", \"84347\", \"84347\", \"84347\", \"84347\", \"84347\", \"84347\", \"84347\", \"84347\", \"84347\", \"84347\", \"84347\", \"84347\", \"84356\", \"84360\", \"84375\", \"84375\", \"84375\", \"84375\", \"84375\", \"84375\", \"84375\", \"84375\", \"84375\", \"84375\", \"84375\", \"84378\", \"84378\", \"84378\", \"84378\", \"84378\", \"84378\", \"84378\", \"84378\", \"84378\", \"84378\", \"84378\", \"84378\", \"84378\", \"84380\", \"84380\", \"84380\", \"84380\", \"84380\", \"84380\", \"84380\", \"84380\", \"84380\", \"84380\", \"84380\", \"84380\", \"84429A\", \"84510E\", \"84510E\", \"84592\", \"84596B\", \"84596B\", \"84596B\", \"84596B\", \"84596B\", \"84596B\", \"84596B\", \"84596B\", \"84596B\", \"84596B\", \"84596B\", \"84596L\", \"84661B\", \"84673A\", \"84707B\", \"84707B\", \"84711B\", \"84725\", \"84755\", \"84755\", \"84755\", \"84755\", \"84755\", \"84755\", \"84755\", \"84755\", \"84755\", \"84806B\", \"84818\", \"84818\", \"84818\", \"84819\", \"84819\", \"84821\", \"84826\", \"84826\", \"84828\", \"84828\", \"84832\", \"84832\", \"84832\", \"84832\", \"84832\", \"84832\", \"84832\", \"84832\", \"84832\", \"84836\", \"84836\", \"84836\", \"84836\", \"84836\", \"84836\", \"84836\", \"84836\", \"84836\", \"84836\", \"84836\", \"84836\", \"84836\", \"84836\", \"84859B\", \"84859C\", \"84859C\", \"84870C\", \"84877D\", \"84879\", \"84879\", \"84879\", \"84879\", \"84879\", \"84879\", \"84879\", \"84879\", \"84879\", \"84879\", \"84879\", \"84879\", \"84879\", \"84879\", \"84879\", \"84879\", \"84912B\", \"84912B\", \"84913B\", \"84915\", \"84924A\", \"84931A\", \"84931A\", \"84931B\", \"84931B\", \"84945\", \"84945\", \"84945\", \"84945\", \"84945\", \"84945\", \"84945\", \"84945\", \"84945\", \"84945\", \"84945\", \"84945\", \"84946\", \"84946\", \"84946\", \"84946\", \"84946\", \"84946\", \"84946\", \"84946\", \"84946\", \"84946\", \"84946\", \"84946\", \"84947\", \"84947\", \"84947\", \"84947\", \"84947\", \"84949\", \"84949\", \"84949\", \"84949\", \"84949\", \"84951A\", \"84951B\", \"84951B\", \"84952B\", \"84968A\", \"84968A\", \"84968C\", \"84968C\", \"84968D\", \"84968D\", \"84968E\", \"84968E\", \"84968F\", \"84970L\", \"84970L\", \"84970L\", \"84970L\", \"84970L\", \"84970L\", \"84970L\", \"84970L\", \"84970S\", \"84970S\", \"84970S\", \"84970S\", \"84970S\", \"84970S\", \"84970S\", \"84970S\", \"84970S\", \"84974\", \"84976\", \"84978\", \"84978\", \"84978\", \"84978\", \"84978\", \"84978\", \"84978\", \"84978\", \"84978\", \"84984A\", \"84984B\", \"84987\", \"84987\", \"84987\", \"84988\", \"84988\", \"84988\", \"84988\", \"84988\", \"84988\", \"84988\", \"84988\", \"84988\", \"84991\", \"84991\", \"84991\", \"84991\", \"84991\", \"84991\", \"84991\", \"84991\", \"84991\", \"84991\", \"84991\", \"84991\", \"84991\", \"84991\", \"84991\", \"84992\", \"84992\", \"84992\", \"84992\", \"84992\", \"84992\", \"84992\", \"84992\", \"84992\", \"84992\", \"84992\", \"84992\", \"84992\", \"84992\", \"84992\", \"84997C\", \"84997C\", \"84997C\", \"84997C\", \"84997C\", \"84997C\", \"84997C\", \"84997C\", \"84997D\", \"84997D\", \"84997D\", \"84997D\", \"84997D\", \"84997D\", \"84997D\", \"85014A\", \"85014A\", \"85014A\", \"85014A\", \"85014A\", \"85014A\", \"85014A\", \"85014A\", \"85014B\", \"85014B\", \"85014B\", \"85014B\", \"85014B\", \"85014B\", \"85014B\", \"85014B\", \"85014B\", \"85019A\", \"85019B\", \"85032C\", \"85032C\", \"85032C\", \"85032C\", \"85032C\", \"85032C\", \"85032D\", \"85032D\", \"85032D\", \"85032D\", \"85032D\", \"85034C\", \"85034C\", \"85034C\", \"85034C\", \"85034C\", \"85034C\", \"85034C\", \"85034C\", \"85038\", \"85038\", \"85038\", \"85048\", \"85048\", \"85048\", \"85048\", \"85048\", \"85048\", \"85048\", \"85048\", \"85048\", \"85048\", \"85048\", \"85049A\", \"85049A\", \"85049A\", \"85049A\", \"85049A\", \"85049A\", \"85049A\", \"85049A\", \"85049A\", \"85049A\", \"85049A\", \"85049A\", \"85049G\", \"85049G\", \"85049G\", \"85049G\", \"85049G\", \"85049G\", \"85049G\", \"85049G\", \"85066\", \"85066\", \"85066\", \"85066\", \"85066\", \"85066\", \"85066\", \"85088\", \"85089\", \"85099B\", \"85099B\", \"85099B\", \"85099B\", \"85099B\", \"85099B\", \"85099B\", \"85099B\", \"85099B\", \"85099B\", \"85099B\", \"85099B\", \"85099B\", \"85099C\", \"85099C\", \"85099C\", \"85099C\", \"85099C\", \"85099C\", \"85099F\", \"85099F\", \"85099F\", \"85099F\", \"85099F\", \"85099F\", \"85099F\", \"85104\", \"85106\", \"85123A\", \"85123A\", \"85123A\", \"85123A\", \"85123A\", \"85123A\", \"85123A\", \"85123A\", \"85123A\", \"85123A\", \"85123A\", \"85123A\", \"85123A\", \"85123A\", \"85125\", \"85125\", \"85129C\", \"85131B\", \"85131C\", \"85131C\", \"85131D\", \"85136C\", \"85136C\", \"85150\", \"85150\", \"85150\", \"85150\", \"85152\", \"85152\", \"85152\", \"85152\", \"85152\", \"85169D\", \"85169D\", \"85170B\", \"85173\", \"85173\", \"85174\", \"85174\", \"85175\", \"85175\", \"85175\", \"85175\", \"85175\", \"85179C\", \"85185B\", \"85185B\", \"85185B\", \"85185B\", \"85199S\", \"85199S\", \"85199S\", \"85199S\", \"85199S\", \"85199S\", \"85199S\", \"85202\", \"85202\", \"85211\", \"85227\", \"85227\", \"85227\", \"85227\", \"85227\", \"85227\", \"85227\", \"85227\", \"90000A\", \"90010E\", \"90013C\", \"90018A\", \"90018A\", \"90030A\", \"90030B\", \"90030C\", \"90031\", \"90058A\", \"90081A\", \"90081A\", \"90086\", \"90098\", \"90114\", \"90119\", \"90120C\", \"90124C\", \"90129B\", \"90129F\", \"90145\", \"90158\", \"90160D\", \"90162C\", \"90162D\", \"90164B\", \"90177D\", \"90178A\", \"90183A\", \"90183A\", \"90186B\", \"90191\", \"90191\", \"90192\", \"90194\", \"90196A\", \"90198A\", \"90200B\", \"90200E\", \"90200E\", \"90201B\", \"90206C\", \"90214A\", \"BANK CHARGES\", \"DOT\", \"M\", \"M\", \"M\", \"M\", \"M\", \"M\", \"M\", \"POST\", \"POST\", \"POST\", \"POST\", \"POST\", \"POST\", \"POST\"]}, \"R\": 30, \"lambda.step\": 0.01, \"plot.opts\": {\"xlab\": \"PC1\", \"ylab\": \"PC2\"}, \"topic.order\": [11, 10, 12, 16, 5, 2, 7, 3, 15, 19, 17, 20, 14, 13, 1, 4, 9, 8, 6, 18]};\n",
       "\n",
       "function LDAvis_load_lib(url, callback){\n",
       "  var s = document.createElement('script');\n",
       "  s.src = url;\n",
       "  s.async = true;\n",
       "  s.onreadystatechange = s.onload = callback;\n",
       "  s.onerror = function(){console.warn(\"failed to load library \" + url);};\n",
       "  document.getElementsByTagName(\"head\")[0].appendChild(s);\n",
       "}\n",
       "\n",
       "if(typeof(LDAvis) !== \"undefined\"){\n",
       "   // already loaded: just create the visualization\n",
       "   !function(LDAvis){\n",
       "       new LDAvis(\"#\" + \"ldavis_el175522621000503112401101723\", ldavis_el175522621000503112401101723_data);\n",
       "   }(LDAvis);\n",
       "}else if(typeof define === \"function\" && define.amd){\n",
       "   // require.js is available: use it to load d3/LDAvis\n",
       "   require.config({paths: {d3: \"https://cdnjs.cloudflare.com/ajax/libs/d3/3.5.5/d3.min\"}});\n",
       "   require([\"d3\"], function(d3){\n",
       "      window.d3 = d3;\n",
       "      LDAvis_load_lib(\"https://cdn.rawgit.com/bmabey/pyLDAvis/files/ldavis.v1.0.0.js\", function(){\n",
       "        new LDAvis(\"#\" + \"ldavis_el175522621000503112401101723\", ldavis_el175522621000503112401101723_data);\n",
       "      });\n",
       "    });\n",
       "}else{\n",
       "    // require.js not available: dynamically load d3 & LDAvis\n",
       "    LDAvis_load_lib(\"https://cdnjs.cloudflare.com/ajax/libs/d3/3.5.5/d3.min.js\", function(){\n",
       "         LDAvis_load_lib(\"https://cdn.rawgit.com/bmabey/pyLDAvis/files/ldavis.v1.0.0.js\", function(){\n",
       "                 new LDAvis(\"#\" + \"ldavis_el175522621000503112401101723\", ldavis_el175522621000503112401101723_data);\n",
       "            })\n",
       "         });\n",
       "}\n",
       "</script>"
      ],
      "text/plain": [
       "PreparedData(topic_coordinates=              x         y  topics  cluster      Freq\n",
       "topic                                               \n",
       "10     0.032139  0.020898       1        1  8.457977\n",
       "9      0.159164  0.151524       2        1  8.206010\n",
       "11     0.162220  0.112225       3        1  8.043681\n",
       "15     0.207673  0.071748       4        1  7.930923\n",
       "4     -0.176232 -0.044011       5        1  7.098545\n",
       "1      0.016781 -0.039227       6        1  6.903248\n",
       "6     -0.143876  0.062143       7        1  6.565436\n",
       "2      0.056516 -0.169388       8        1  5.565540\n",
       "14    -0.065299  0.054917       9        1  5.554163\n",
       "18    -0.096973  0.197693      10        1  5.436208\n",
       "16     0.226592 -0.132887      11        1  5.028546\n",
       "19    -0.164653  0.088360      12        1  4.403188\n",
       "13    -0.178533 -0.031858      13        1  3.680425\n",
       "12     0.176260 -0.047783      14        1  3.301718\n",
       "0     -0.075134  0.029745      15        1  3.085628\n",
       "3      0.034919  0.120401      16        1  3.063332\n",
       "8      0.022743  0.010518      17        1  2.944748\n",
       "7      0.006485 -0.100867      18        1  2.271202\n",
       "5     -0.055536 -0.326836      19        1  1.562263\n",
       "17    -0.145256 -0.027316      20        1  0.897221, topic_info=    Category        Freq    Term       Total  loglift  logprob\n",
       "424  Default  501.000000   23203  501.000000  30.0000  30.0000\n",
       "331  Default  542.000000  85099B  542.000000  29.0000  29.0000\n",
       "23   Default  338.000000   22726  338.000000  28.0000  28.0000\n",
       "96   Default  286.000000   23293  286.000000  27.0000  27.0000\n",
       "98   Default  228.000000   23295  228.000000  26.0000  26.0000\n",
       "..       ...         ...     ...         ...      ...      ...\n",
       "603  Topic20   10.279674   22910  481.279022   0.8673  -4.9018\n",
       "335  Topic20    8.778773   20749  128.287369   2.0317  -5.0596\n",
       "594  Topic20    8.895153   22086  728.480469   0.3082  -5.0464\n",
       "308  Topic20    8.594003   23390  146.407959   1.8783  -5.0809\n",
       "73   Topic20    8.587943   22555  183.961700   1.6493  -5.0816\n",
       "\n",
       "[1238 rows x 6 columns], token_table=      Topic      Freq   Term\n",
       "term                        \n",
       "2630      5  0.809775  10133\n",
       "888       3  0.091629  15036\n",
       "888       5  0.137444  15036\n",
       "888       7  0.183258  15036\n",
       "888       8  0.015272  15036\n",
       "...     ...       ...    ...\n",
       "49       11  0.042047   POST\n",
       "49       13  0.003822   POST\n",
       "49       15  0.053514   POST\n",
       "49       16  0.034402   POST\n",
       "49       19  0.003822   POST\n",
       "\n",
       "[5519 rows x 3 columns], R=30, lambda_step=0.01, plot_opts={'xlab': 'PC1', 'ylab': 'PC2'}, topic_order=[11, 10, 12, 16, 5, 2, 7, 3, 15, 19, 17, 20, 14, 13, 1, 4, 9, 8, 6, 18])"
      ]
     },
     "execution_count": 22,
     "metadata": {},
     "output_type": "execute_result"
    }
   ],
   "source": [
    "pyLDAvis.enable_notebook()\n",
    "vis = pyLDAvis.gensim.prepare(ldamodel, corpus, id2word)\n",
    "vis"
   ]
  },
  {
   "cell_type": "markdown",
   "metadata": {},
   "source": [
    "## 02. LDA를 활용한 추천"
   ]
  },
  {
   "cell_type": "markdown",
   "metadata": {},
   "source": [
    "### 유저 Topic 분포 중 확률이 높은 Topic을 이용한 추천\n",
    "- 유저의 Topic 분포를 확인하고 가장 확률이 높은 Topic을 선택\n",
    "- 해당 Topic에 속한 Top N개 아이템을 추천\n",
    "- (예) 12682번 유저, N: 20"
   ]
  },
  {
   "cell_type": "code",
   "execution_count": 23,
   "metadata": {},
   "outputs": [
    {
     "data": {
      "text/plain": [
       "[(4, 0.5287927),\n",
       " (10, 0.18053775),\n",
       " (6, 0.124395534),\n",
       " (8, 0.10749814),\n",
       " (15, 0.040018767),\n",
       " (5, 0.013791497),\n",
       " (0, 0.00035468693),\n",
       " (1, 0.0003546869),\n",
       " (2, 0.0003546869),\n",
       " (3, 0.0003546869),\n",
       " (7, 0.0003546869),\n",
       " (9, 0.0003546869),\n",
       " (11, 0.0003546869),\n",
       " (12, 0.0003546869),\n",
       " (13, 0.0003546869),\n",
       " (14, 0.0003546869),\n",
       " (16, 0.0003546869),\n",
       " (17, 0.0003546869),\n",
       " (18, 0.0003546869),\n",
       " (19, 0.0003546869)]"
      ]
     },
     "execution_count": 23,
     "metadata": {},
     "output_type": "execute_result"
    }
   ],
   "source": [
    "topn = 20\n",
    "user_id = 12682\n",
    "user_topics = user_topic_dict[user_id]\n",
    "user_topics = sorted(user_topics, key=lambda x: (x[1]), reverse=True)\n",
    "user_topics"
   ]
  },
  {
   "cell_type": "code",
   "execution_count": 24,
   "metadata": {},
   "outputs": [
    {
     "data": {
      "text/plain": [
       "4"
      ]
     },
     "execution_count": 24,
     "metadata": {},
     "output_type": "execute_result"
    }
   ],
   "source": [
    "user_topic = user_topics[0][0]\n",
    "user_topic"
   ]
  },
  {
   "cell_type": "code",
   "execution_count": 25,
   "metadata": {},
   "outputs": [
    {
     "data": {
      "text/plain": [
       "['POST',\n",
       " '23256',\n",
       " '22629',\n",
       " '22551',\n",
       " '23084',\n",
       " '23389',\n",
       " '23367',\n",
       " '22382',\n",
       " '22554',\n",
       " '23368',\n",
       " '21731',\n",
       " '22630',\n",
       " '23254',\n",
       " '22326',\n",
       " '23480',\n",
       " '23506',\n",
       " '84997D',\n",
       " '23290',\n",
       " '23292',\n",
       " '23390']"
      ]
     },
     "execution_count": 25,
     "metadata": {},
     "output_type": "execute_result"
    }
   ],
   "source": [
    "recommend = ldamodel.show_topic(topicid = user_topic, topn=topn)\n",
    "recommend = [item for item, score in recommend]\n",
    "recommend"
   ]
  },
  {
   "cell_type": "markdown",
   "metadata": {},
   "source": [
    "#### 실제 12682번 유저가 test 데이터에서 구매한 아이템"
   ]
  },
  {
   "cell_type": "code",
   "execution_count": 26,
   "metadata": {},
   "outputs": [
    {
     "data": {
      "text/plain": [
       "['20750',\n",
       " '21931',\n",
       " '85099B',\n",
       " '22423',\n",
       " '21242',\n",
       " '21243',\n",
       " '21239',\n",
       " '21240',\n",
       " '23040',\n",
       " '22596',\n",
       " '22456',\n",
       " '48185',\n",
       " '21770',\n",
       " '21977',\n",
       " '21212',\n",
       " '84375',\n",
       " '23163',\n",
       " '84378',\n",
       " '23020',\n",
       " '22966',\n",
       " '23084',\n",
       " '22556',\n",
       " '22551',\n",
       " '22555',\n",
       " '47566',\n",
       " '23192',\n",
       " '22139',\n",
       " '22138',\n",
       " '22467',\n",
       " 'POST']"
      ]
     },
     "execution_count": 26,
     "metadata": {},
     "output_type": "execute_result"
    }
   ],
   "source": [
    "relevant = test_df[test_df['CustomerID'] == user_id]['StockCode'].unique()\n",
    "list(relevant)"
   ]
  },
  {
   "cell_type": "markdown",
   "metadata": {},
   "source": [
    "#### 성능지표 확인"
   ]
  },
  {
   "cell_type": "code",
   "execution_count": 27,
   "metadata": {},
   "outputs": [
    {
     "name": "stdout",
     "output_type": "stream",
     "text": [
      "Preicision: 0.15\n"
     ]
    }
   ],
   "source": [
    "def get_precision(relevant, recommend):\n",
    "    _intersection = set(recommend).intersection(set(relevant))\n",
    "    return len(_intersection) / len(recommend)\n",
    "\n",
    "print(\"Preicision: {}\".format(get_precision(relevant, recommend)))"
   ]
  },
  {
   "cell_type": "code",
   "execution_count": 28,
   "metadata": {},
   "outputs": [
    {
     "name": "stdout",
     "output_type": "stream",
     "text": [
      "Recall: 0.1\n"
     ]
    }
   ],
   "source": [
    "def get_recall(relevant, recommend):\n",
    "    _intersection = set(recommend).intersection(set(relevant))\n",
    "    return len(_intersection) / len(relevant)\n",
    "\n",
    "print(\"Recall: {}\".format(get_recall(relevant, recommend)))"
   ]
  },
  {
   "cell_type": "markdown",
   "metadata": {},
   "source": [
    "### Top N 추천 성능 평가\n",
    "- 모든 유저별로 추천하여 전체 성능 확인"
   ]
  },
  {
   "cell_type": "code",
   "execution_count": 29,
   "metadata": {},
   "outputs": [
    {
     "name": "stdout",
     "output_type": "stream",
     "text": [
      "precision@k: 0.10658536585365856\n",
      "recall@k: 0.12250385424018778\n"
     ]
    }
   ],
   "source": [
    "train_user_ids = train_df['CustomerID'].unique()\n",
    "test_user_ids  = test_df['CustomerID'].unique()\n",
    "topn = 20\n",
    "\n",
    "default_recommend = list(train_df.groupby('StockCode')['Quantity'].count().sort_values(ascending=False)[:topn].index)\n",
    "\n",
    "precisions = []\n",
    "recalls = []\n",
    "\n",
    "for user_id in test_user_ids:\n",
    "    if user_id in train_user_ids:\n",
    "        user_topics = user_topic_dict[user_id]\n",
    "        user_topics = sorted(user_topics, key=lambda x: (x[1]), reverse=True)\n",
    "        user_topic  = user_topics[0][0]\n",
    "        recommend = [item for item, score in ldamodel.show_topic(topicid = user_topic, topn=topn)]\n",
    "    else:\n",
    "        recommend = default_recommend\n",
    "        \n",
    "    relevant = test_df[test_df['CustomerID'] == user_id]['StockCode'].unique()\n",
    "    precisions.append(get_precision(relevant, recommend))\n",
    "    recalls.append(get_recall(relevant, recommend))\n",
    "    \n",
    "print(\"precision@k:\", np.mean(np.asarray(precisions)))\n",
    "print(\"recall@k:\", np.mean(np.asarray(recalls)))"
   ]
  },
  {
   "cell_type": "markdown",
   "metadata": {},
   "source": [
    "## 03. Item2Vec 기반 추천"
   ]
  },
  {
   "cell_type": "markdown",
   "metadata": {},
   "source": [
    "### 03-00. 환경설정"
   ]
  },
  {
   "cell_type": "code",
   "execution_count": 10,
   "metadata": {},
   "outputs": [],
   "source": [
    "import seaborn as sns\n",
    "\n",
    "from sklearn.model_selection import train_test_split"
   ]
  },
  {
   "cell_type": "markdown",
   "metadata": {},
   "source": [
    "### 03-01. MovieLens 데이터\n",
    "- 유저 혹은 세션 단위로 비슷한 의도를 가지고 아이템을 소비한 로그 데이터"
   ]
  },
  {
   "cell_type": "code",
   "execution_count": 4,
   "metadata": {},
   "outputs": [],
   "source": [
    "movies_df = pd.read_csv(\"../data/MovieLens/movies.csv\")\n",
    "ratings_df = pd.read_csv(\"../data/MovieLens/ratings.csv\")\n",
    "\n",
    "movie_id_to_name = pd.Series(movies_df.title.values, index = movies_df.movieId.values).to_dict()\n",
    "name_to_movie_id = pd.Series(movies_df.movieId.values, index = movies_df.title).to_dict()"
   ]
  },
  {
   "cell_type": "code",
   "execution_count": 7,
   "metadata": {},
   "outputs": [
    {
     "data": {
      "image/png": "[encoded data removed]",
      "text/plain": [
       "<Figure size 432x288 with 1 Axes>"
      ]
     },
     "metadata": {
      "needs_background": "light"
     },
     "output_type": "display_data"
    }
   ],
   "source": [
    "sns.distplot(ratings_df['rating'])\n",
    "plt.show()"
   ]
  },
  {
   "cell_type": "markdown",
   "metadata": {},
   "source": [
    "#### 평점이 4점 이상일 경우 영화를 선호(1)하는 경우로 가정"
   ]
  },
  {
   "cell_type": "code",
   "execution_count": 11,
   "metadata": {},
   "outputs": [],
   "source": [
    "ratings_df['liked'] = np.where(ratings_df['rating'] >= 4, 1, 0)\n",
    "ratings_df['movieId'] = ratings_df['movieId'].astype(\"str\")"
   ]
  },
  {
   "cell_type": "markdown",
   "metadata": {},
   "source": [
    "#### userId를 기준으로 train/test셋 분리"
   ]
  },
  {
   "cell_type": "code",
   "execution_count": null,
   "metadata": {},
   "outputs": [],
   "source": [
    "train_df, test_df = train_test_split(ratings_df, stratify = ratings_df['userId'], random_state=100, test_size=0.2)"
   ]
  },
  {
   "cell_type": "code",
   "execution_count": 12,
   "metadata": {},
   "outputs": [
    {
     "data": {
      "text/html": [
       "<div>\n",
       "<style scoped>\n",
       "    .dataframe tbody tr th:only-of-type {\n",
       "        vertical-align: middle;\n",
       "    }\n",
       "\n",
       "    .dataframe tbody tr th {\n",
       "        vertical-align: top;\n",
       "    }\n",
       "\n",
       "    .dataframe thead th {\n",
       "        text-align: right;\n",
       "    }\n",
       "</style>\n",
       "<table border=\"1\" class=\"dataframe\">\n",
       "  <thead>\n",
       "    <tr style=\"text-align: right;\">\n",
       "      <th></th>\n",
       "      <th>userId</th>\n",
       "      <th>movieId</th>\n",
       "      <th>rating</th>\n",
       "      <th>timestamp</th>\n",
       "      <th>liked</th>\n",
       "    </tr>\n",
       "  </thead>\n",
       "  <tbody>\n",
       "    <tr>\n",
       "      <th>78097</th>\n",
       "      <td>484</td>\n",
       "      <td>3911</td>\n",
       "      <td>4.0</td>\n",
       "      <td>1342294787</td>\n",
       "      <td>1</td>\n",
       "    </tr>\n",
       "    <tr>\n",
       "      <th>34543</th>\n",
       "      <td>232</td>\n",
       "      <td>48877</td>\n",
       "      <td>3.5</td>\n",
       "      <td>1163024515</td>\n",
       "      <td>0</td>\n",
       "    </tr>\n",
       "    <tr>\n",
       "      <th>94410</th>\n",
       "      <td>599</td>\n",
       "      <td>26940</td>\n",
       "      <td>2.5</td>\n",
       "      <td>1519346264</td>\n",
       "      <td>0</td>\n",
       "    </tr>\n",
       "    <tr>\n",
       "      <th>85385</th>\n",
       "      <td>555</td>\n",
       "      <td>724</td>\n",
       "      <td>5.0</td>\n",
       "      <td>978745225</td>\n",
       "      <td>1</td>\n",
       "    </tr>\n",
       "    <tr>\n",
       "      <th>78341</th>\n",
       "      <td>487</td>\n",
       "      <td>31658</td>\n",
       "      <td>3.5</td>\n",
       "      <td>1428574498</td>\n",
       "      <td>0</td>\n",
       "    </tr>\n",
       "  </tbody>\n",
       "</table>\n",
       "</div>"
      ],
      "text/plain": [
       "       userId movieId  rating   timestamp  liked\n",
       "78097     484    3911     4.0  1342294787      1\n",
       "34543     232   48877     3.5  1163024515      0\n",
       "94410     599   26940     2.5  1519346264      0\n",
       "85385     555     724     5.0   978745225      1\n",
       "78341     487   31658     3.5  1428574498      0"
      ]
     },
     "execution_count": 12,
     "metadata": {},
     "output_type": "execute_result"
    }
   ],
   "source": [
    "train_df.head()"
   ]
  },
  {
   "cell_type": "code",
   "execution_count": 13,
   "metadata": {},
   "outputs": [
    {
     "data": {
      "text/html": [
       "<div>\n",
       "<style scoped>\n",
       "    .dataframe tbody tr th:only-of-type {\n",
       "        vertical-align: middle;\n",
       "    }\n",
       "\n",
       "    .dataframe tbody tr th {\n",
       "        vertical-align: top;\n",
       "    }\n",
       "\n",
       "    .dataframe thead th {\n",
       "        text-align: right;\n",
       "    }\n",
       "</style>\n",
       "<table border=\"1\" class=\"dataframe\">\n",
       "  <thead>\n",
       "    <tr style=\"text-align: right;\">\n",
       "      <th></th>\n",
       "      <th>userId</th>\n",
       "      <th>movieId</th>\n",
       "      <th>rating</th>\n",
       "      <th>timestamp</th>\n",
       "      <th>liked</th>\n",
       "    </tr>\n",
       "  </thead>\n",
       "  <tbody>\n",
       "    <tr>\n",
       "      <th>35693</th>\n",
       "      <td>240</td>\n",
       "      <td>595</td>\n",
       "      <td>3.0</td>\n",
       "      <td>849122129</td>\n",
       "      <td>0</td>\n",
       "    </tr>\n",
       "    <tr>\n",
       "      <th>31304</th>\n",
       "      <td>217</td>\n",
       "      <td>2381</td>\n",
       "      <td>3.0</td>\n",
       "      <td>955945401</td>\n",
       "      <td>0</td>\n",
       "    </tr>\n",
       "    <tr>\n",
       "      <th>73090</th>\n",
       "      <td>473</td>\n",
       "      <td>48322</td>\n",
       "      <td>3.5</td>\n",
       "      <td>1169351800</td>\n",
       "      <td>0</td>\n",
       "    </tr>\n",
       "    <tr>\n",
       "      <th>80405</th>\n",
       "      <td>509</td>\n",
       "      <td>838</td>\n",
       "      <td>3.5</td>\n",
       "      <td>1436031723</td>\n",
       "      <td>0</td>\n",
       "    </tr>\n",
       "    <tr>\n",
       "      <th>41059</th>\n",
       "      <td>278</td>\n",
       "      <td>2427</td>\n",
       "      <td>4.5</td>\n",
       "      <td>1193753136</td>\n",
       "      <td>1</td>\n",
       "    </tr>\n",
       "  </tbody>\n",
       "</table>\n",
       "</div>"
      ],
      "text/plain": [
       "       userId movieId  rating   timestamp  liked\n",
       "35693     240     595     3.0   849122129      0\n",
       "31304     217    2381     3.0   955945401      0\n",
       "73090     473   48322     3.5  1169351800      0\n",
       "80405     509     838     3.5  1436031723      0\n",
       "41059     278    2427     4.5  1193753136      1"
      ]
     },
     "execution_count": 13,
     "metadata": {},
     "output_type": "execute_result"
    }
   ],
   "source": [
    "test_df.head()"
   ]
  },
  {
   "cell_type": "code",
   "execution_count": 14,
   "metadata": {},
   "outputs": [
    {
     "name": "stdout",
     "output_type": "stream",
     "text": [
      "number of train data: 80668\n",
      "number of test  data: 20168\n"
     ]
    }
   ],
   "source": [
    "print(\"number of train data:\", len(train_df))\n",
    "print(\"number of test  data:\", len(test_df))"
   ]
  },
  {
   "cell_type": "markdown",
   "metadata": {},
   "source": [
    "#### 한 명의 user를 기준으로 평점 4점 이상인 영화와 4점 미만으로 평가한 영화를 나누어 각각 Item2Vec 임베딩에 사용"
   ]
  },
  {
   "cell_type": "code",
   "execution_count": 15,
   "metadata": {},
   "outputs": [],
   "source": [
    "user_grouped = train_df.groupby(['liked', 'userId'])\n",
    "user_movie_list = [user_grouped.get_group(gp)['movieId'].tolist() for gp in user_grouped.groups]"
   ]
  },
  {
   "cell_type": "markdown",
   "metadata": {},
   "source": [
    "- (예) 0번 유저 학습데이터"
   ]
  },
  {
   "cell_type": "code",
   "execution_count": 16,
   "metadata": {},
   "outputs": [
    {
     "data": {
      "text/plain": [
       "['673',\n",
       " '3176',\n",
       " '423',\n",
       " '223',\n",
       " '70',\n",
       " '2617',\n",
       " '2414',\n",
       " '1219',\n",
       " '2338',\n",
       " '2253',\n",
       " '2389',\n",
       " '3243',\n",
       " '1445',\n",
       " '1644',\n",
       " '2528',\n",
       " '3247',\n",
       " '1408',\n",
       " '1030',\n",
       " '500',\n",
       " '2093',\n",
       " '1676',\n",
       " '1377',\n",
       " '736',\n",
       " '316']"
      ]
     },
     "execution_count": 16,
     "metadata": {},
     "output_type": "execute_result"
    }
   ],
   "source": [
    "user_movie_list[0]"
   ]
  },
  {
   "cell_type": "markdown",
   "metadata": {},
   "source": [
    "- 학습에 사용되는 유저: 1215명"
   ]
  },
  {
   "cell_type": "code",
   "execution_count": 17,
   "metadata": {},
   "outputs": [
    {
     "data": {
      "text/plain": [
       "1215"
      ]
     },
     "execution_count": 17,
     "metadata": {},
     "output_type": "execute_result"
    }
   ],
   "source": [
    "len(user_movie_list)"
   ]
  },
  {
   "cell_type": "markdown",
   "metadata": {},
   "source": [
    "### 03-02. Gensim 패키지를 활용한 Item2Vec 임베딩\n",
    "- [models.word2vec - Word2vec embeddings](https://radimrehurek.com/gensim/models/word2vec.html)"
   ]
  },
  {
   "cell_type": "code",
   "execution_count": 18,
   "metadata": {},
   "outputs": [],
   "source": [
    "from gensim.models.word2vec import Word2Vec\n",
    "\n",
    "model = Word2Vec(sentences = user_movie_list,\n",
    "                 epochs = 5,\n",
    "                 vector_size = 100,\n",
    "                 min_count = 3,     # 단어가 최소 3회 이상 등장해야 학습되고 모델에 저장됨 \n",
    "                 workers = 4,\n",
    "                 sg = 1,            # skip-gram을 사용한다면 1\n",
    "                 hs = 0,            # negative sampling을 사용한다면 0 (hierarchical softmax)\n",
    "                 negative = 5,      # 1개의 positive sample 당 negative sample의 개수\n",
    "                 window = 9999999   # Window를 크게 잡는 이유는 문장 내 모든 아이템끼리 학습이 되어야 하기 때문\n",
    "                )\n",
    "\n",
    "word_vectors = model.wv"
   ]
  },
  {
   "cell_type": "markdown",
   "metadata": {},
   "source": [
    "#### 임베딩된 아이템의 결과 - (예) 30793"
   ]
  },
  {
   "cell_type": "code",
   "execution_count": 19,
   "metadata": {},
   "outputs": [
    {
     "data": {
      "text/plain": [
       "array([-0.01744325,  0.08125577,  0.18903896,  0.11664012,  0.2714088 ,\n",
       "        0.14623685,  0.12377597, -0.0587979 ,  0.03206313, -0.01576859,\n",
       "        0.11863975,  0.19497389, -0.05112956,  0.00434615,  0.23034671,\n",
       "        0.11031938, -0.2170089 , -0.15399076, -0.2953926 , -0.07981212,\n",
       "        0.34707573,  0.19277492,  0.16233066, -0.13425882, -0.25216034,\n",
       "        0.20503443, -0.0575765 ,  0.11880486, -0.37460202, -0.04001546,\n",
       "        0.31542915,  0.14041017,  0.30797255,  0.2091136 ,  0.28465226,\n",
       "       -0.16445017,  0.04560117,  0.08365401, -0.07953838, -0.20544879,\n",
       "       -0.15094332,  0.00298955,  0.04422513, -0.27350244,  0.14118843,\n",
       "       -0.56635976, -0.2145646 ,  0.14701265,  0.02652693, -0.03586416,\n",
       "        0.23299031, -0.29511413,  0.04784491,  0.0143843 , -0.18328175,\n",
       "        0.05197632, -0.12598038, -0.11479893,  0.03020596, -0.13311692,\n",
       "        0.2373667 , -0.00090552,  0.27393687, -0.00957653, -0.07691379,\n",
       "        0.20747848,  0.20110992,  0.0815099 , -0.07781699,  0.24076849,\n",
       "       -0.05046317,  0.3606518 ,  0.4209528 , -0.01210878, -0.24448058,\n",
       "        0.125935  ,  0.17604323, -0.1303244 , -0.15522772, -0.22294788,\n",
       "       -0.02213501,  0.04268305, -0.20479487,  0.03424134,  0.17745045,\n",
       "        0.22903155,  0.17817447,  0.2455519 ,  0.2722327 ,  0.30753982,\n",
       "        0.29788563, -0.06636852,  0.04724386,  0.1375261 , -0.14164679,\n",
       "        0.4846673 , -0.12373028, -0.29704124, -0.08761643,  0.02400026],\n",
       "      dtype=float32)"
      ]
     },
     "execution_count": 19,
     "metadata": {},
     "output_type": "execute_result"
    }
   ],
   "source": [
    "word_vectors['30793']"
   ]
  },
  {
   "cell_type": "markdown",
   "metadata": {},
   "source": [
    "- **`vector_size=100`**이므로 100차원으로 임베딩"
   ]
  },
  {
   "cell_type": "code",
   "execution_count": 20,
   "metadata": {},
   "outputs": [
    {
     "data": {
      "text/plain": [
       "100"
      ]
     },
     "execution_count": 20,
     "metadata": {},
     "output_type": "execute_result"
    }
   ],
   "source": [
    "len(word_vectors['30793'])"
   ]
  },
  {
   "cell_type": "markdown",
   "metadata": {},
   "source": [
    "### 03-03. Item2Vec 결과 확인"
   ]
  },
  {
   "cell_type": "markdown",
   "metadata": {},
   "source": [
    "#### 예시: 30793(찰리와 초콜릿 공장)"
   ]
  },
  {
   "cell_type": "code",
   "execution_count": 21,
   "metadata": {},
   "outputs": [
    {
     "data": {
      "text/html": [
       "<div>\n",
       "<style scoped>\n",
       "    .dataframe tbody tr th:only-of-type {\n",
       "        vertical-align: middle;\n",
       "    }\n",
       "\n",
       "    .dataframe tbody tr th {\n",
       "        vertical-align: top;\n",
       "    }\n",
       "\n",
       "    .dataframe thead th {\n",
       "        text-align: right;\n",
       "    }\n",
       "</style>\n",
       "<table border=\"1\" class=\"dataframe\">\n",
       "  <thead>\n",
       "    <tr style=\"text-align: right;\">\n",
       "      <th></th>\n",
       "      <th>movieId</th>\n",
       "      <th>title</th>\n",
       "      <th>genres</th>\n",
       "    </tr>\n",
       "  </thead>\n",
       "  <tbody>\n",
       "    <tr>\n",
       "      <th>5735</th>\n",
       "      <td>30793</td>\n",
       "      <td>Charlie and the Chocolate Factory (2005)</td>\n",
       "      <td>Adventure|Children|Comedy|Fantasy|IMAX</td>\n",
       "    </tr>\n",
       "  </tbody>\n",
       "</table>\n",
       "</div>"
      ],
      "text/plain": [
       "      movieId                                     title  \\\n",
       "5735    30793  Charlie and the Chocolate Factory (2005)   \n",
       "\n",
       "                                      genres  \n",
       "5735  Adventure|Children|Comedy|Fantasy|IMAX  "
      ]
     },
     "execution_count": 21,
     "metadata": {},
     "output_type": "execute_result"
    }
   ],
   "source": [
    "movies_df[movies_df.movieId==30793]"
   ]
  },
  {
   "cell_type": "markdown",
   "metadata": {},
   "source": [
    "#### 30793과 코사인 유사도가 가장 높은 10개의 아이템 생성\n",
    "- **`model.wv.most_similar()`**"
   ]
  },
  {
   "cell_type": "code",
   "execution_count": 22,
   "metadata": {},
   "outputs": [
    {
     "data": {
      "text/html": [
       "<div>\n",
       "<style scoped>\n",
       "    .dataframe tbody tr th:only-of-type {\n",
       "        vertical-align: middle;\n",
       "    }\n",
       "\n",
       "    .dataframe tbody tr th {\n",
       "        vertical-align: top;\n",
       "    }\n",
       "\n",
       "    .dataframe thead th {\n",
       "        text-align: right;\n",
       "    }\n",
       "</style>\n",
       "<table border=\"1\" class=\"dataframe\">\n",
       "  <thead>\n",
       "    <tr style=\"text-align: right;\">\n",
       "      <th></th>\n",
       "      <th>movieId</th>\n",
       "      <th>title</th>\n",
       "      <th>genres</th>\n",
       "    </tr>\n",
       "  </thead>\n",
       "  <tbody>\n",
       "    <tr>\n",
       "      <th>905</th>\n",
       "      <td>1203</td>\n",
       "      <td>12 Angry Men (1957)</td>\n",
       "      <td>Drama</td>\n",
       "    </tr>\n",
       "    <tr>\n",
       "      <th>4356</th>\n",
       "      <td>6373</td>\n",
       "      <td>Bruce Almighty (2003)</td>\n",
       "      <td>Comedy|Drama|Fantasy|Romance</td>\n",
       "    </tr>\n",
       "    <tr>\n",
       "      <th>5173</th>\n",
       "      <td>8376</td>\n",
       "      <td>Napoleon Dynamite (2004)</td>\n",
       "      <td>Comedy</td>\n",
       "    </tr>\n",
       "    <tr>\n",
       "      <th>5265</th>\n",
       "      <td>8644</td>\n",
       "      <td>I, Robot (2004)</td>\n",
       "      <td>Action|Adventure|Sci-Fi|Thriller</td>\n",
       "    </tr>\n",
       "    <tr>\n",
       "      <th>6112</th>\n",
       "      <td>42734</td>\n",
       "      <td>Hoodwinked! (2005)</td>\n",
       "      <td>Animation|Children|Comedy</td>\n",
       "    </tr>\n",
       "    <tr>\n",
       "      <th>6149</th>\n",
       "      <td>44022</td>\n",
       "      <td>Ice Age 2: The Meltdown (2006)</td>\n",
       "      <td>Adventure|Animation|Children|Comedy</td>\n",
       "    </tr>\n",
       "    <tr>\n",
       "      <th>6208</th>\n",
       "      <td>45447</td>\n",
       "      <td>Da Vinci Code, The (2006)</td>\n",
       "      <td>Drama|Mystery|Thriller</td>\n",
       "    </tr>\n",
       "    <tr>\n",
       "      <th>6530</th>\n",
       "      <td>54272</td>\n",
       "      <td>Simpsons Movie, The (2007)</td>\n",
       "      <td>Animation|Comedy</td>\n",
       "    </tr>\n",
       "    <tr>\n",
       "      <th>7144</th>\n",
       "      <td>71462</td>\n",
       "      <td>Cove, The (2009)</td>\n",
       "      <td>Documentary</td>\n",
       "    </tr>\n",
       "    <tr>\n",
       "      <th>7742</th>\n",
       "      <td>90888</td>\n",
       "      <td>Immortals (2011)</td>\n",
       "      <td>Action|Drama|Fantasy</td>\n",
       "    </tr>\n",
       "  </tbody>\n",
       "</table>\n",
       "</div>"
      ],
      "text/plain": [
       "      movieId                           title  \\\n",
       "905      1203             12 Angry Men (1957)   \n",
       "4356     6373           Bruce Almighty (2003)   \n",
       "5173     8376        Napoleon Dynamite (2004)   \n",
       "5265     8644                 I, Robot (2004)   \n",
       "6112    42734              Hoodwinked! (2005)   \n",
       "6149    44022  Ice Age 2: The Meltdown (2006)   \n",
       "6208    45447       Da Vinci Code, The (2006)   \n",
       "6530    54272      Simpsons Movie, The (2007)   \n",
       "7144    71462                Cove, The (2009)   \n",
       "7742    90888                Immortals (2011)   \n",
       "\n",
       "                                   genres  \n",
       "905                                 Drama  \n",
       "4356         Comedy|Drama|Fantasy|Romance  \n",
       "5173                               Comedy  \n",
       "5265     Action|Adventure|Sci-Fi|Thriller  \n",
       "6112            Animation|Children|Comedy  \n",
       "6149  Adventure|Animation|Children|Comedy  \n",
       "6208               Drama|Mystery|Thriller  \n",
       "6530                     Animation|Comedy  \n",
       "7144                          Documentary  \n",
       "7742                 Action|Drama|Fantasy  "
      ]
     },
     "execution_count": 22,
     "metadata": {},
     "output_type": "execute_result"
    }
   ],
   "source": [
    "topn = 10\n",
    "positive_list = ['30793']\n",
    "similar_movies = model.wv.most_similar(positive=positive_list, topn=topn)\n",
    "similar_movie_list = [movie_id for movie_id, score in similar_movies]\n",
    "movies_df[movies_df['movieId'].isin(similar_movie_list)]"
   ]
  },
  {
   "cell_type": "markdown",
   "metadata": {},
   "source": [
    "#### 2개 이상의 아이템에 대해서는 해당 아이템 벡터들의 element-wise 평균을 구하여 코사인 유사도 계산"
   ]
  },
  {
   "cell_type": "code",
   "execution_count": 23,
   "metadata": {},
   "outputs": [
    {
     "data": {
      "text/html": [
       "<div>\n",
       "<style scoped>\n",
       "    .dataframe tbody tr th:only-of-type {\n",
       "        vertical-align: middle;\n",
       "    }\n",
       "\n",
       "    .dataframe tbody tr th {\n",
       "        vertical-align: top;\n",
       "    }\n",
       "\n",
       "    .dataframe thead th {\n",
       "        text-align: right;\n",
       "    }\n",
       "</style>\n",
       "<table border=\"1\" class=\"dataframe\">\n",
       "  <thead>\n",
       "    <tr style=\"text-align: right;\">\n",
       "      <th></th>\n",
       "      <th>movieId</th>\n",
       "      <th>title</th>\n",
       "      <th>genres</th>\n",
       "    </tr>\n",
       "  </thead>\n",
       "  <tbody>\n",
       "    <tr>\n",
       "      <th>6406</th>\n",
       "      <td>50912</td>\n",
       "      <td>Paris, I Love You (Paris, je t'aime) (2006)</td>\n",
       "      <td>Romance</td>\n",
       "    </tr>\n",
       "    <tr>\n",
       "      <th>6657</th>\n",
       "      <td>56941</td>\n",
       "      <td>P.S. I Love You (2007)</td>\n",
       "      <td>Comedy|Drama|Romance</td>\n",
       "    </tr>\n",
       "  </tbody>\n",
       "</table>\n",
       "</div>"
      ],
      "text/plain": [
       "      movieId                                        title  \\\n",
       "6406    50912  Paris, I Love You (Paris, je t'aime) (2006)   \n",
       "6657    56941                       P.S. I Love You (2007)   \n",
       "\n",
       "                    genres  \n",
       "6406               Romance  \n",
       "6657  Comedy|Drama|Romance  "
      ]
     },
     "execution_count": 23,
     "metadata": {},
     "output_type": "execute_result"
    }
   ],
   "source": [
    "movies_df[movies_df['movieId'].isin([50912, 56941])]"
   ]
  },
  {
   "cell_type": "code",
   "execution_count": 24,
   "metadata": {},
   "outputs": [
    {
     "data": {
      "text/html": [
       "<div>\n",
       "<style scoped>\n",
       "    .dataframe tbody tr th:only-of-type {\n",
       "        vertical-align: middle;\n",
       "    }\n",
       "\n",
       "    .dataframe tbody tr th {\n",
       "        vertical-align: top;\n",
       "    }\n",
       "\n",
       "    .dataframe thead th {\n",
       "        text-align: right;\n",
       "    }\n",
       "</style>\n",
       "<table border=\"1\" class=\"dataframe\">\n",
       "  <thead>\n",
       "    <tr style=\"text-align: right;\">\n",
       "      <th></th>\n",
       "      <th>movieId</th>\n",
       "      <th>title</th>\n",
       "      <th>genres</th>\n",
       "    </tr>\n",
       "  </thead>\n",
       "  <tbody>\n",
       "    <tr>\n",
       "      <th>3159</th>\n",
       "      <td>4248</td>\n",
       "      <td>Josie and the Pussycats (2001)</td>\n",
       "      <td>Comedy</td>\n",
       "    </tr>\n",
       "    <tr>\n",
       "      <th>6217</th>\n",
       "      <td>45666</td>\n",
       "      <td>Nacho Libre (2006)</td>\n",
       "      <td>Comedy</td>\n",
       "    </tr>\n",
       "    <tr>\n",
       "      <th>6457</th>\n",
       "      <td>52319</td>\n",
       "      <td>Inglorious Bastards (Quel maledetto treno blin...</td>\n",
       "      <td>Action|Adventure|Drama|War</td>\n",
       "    </tr>\n",
       "    <tr>\n",
       "      <th>6756</th>\n",
       "      <td>59725</td>\n",
       "      <td>Sex and the City (2008)</td>\n",
       "      <td>Comedy|Romance</td>\n",
       "    </tr>\n",
       "    <tr>\n",
       "      <th>7188</th>\n",
       "      <td>72407</td>\n",
       "      <td>Twilight Saga: New Moon, The (2009)</td>\n",
       "      <td>Drama|Fantasy|Horror|Romance|Thriller</td>\n",
       "    </tr>\n",
       "    <tr>\n",
       "      <th>7351</th>\n",
       "      <td>78316</td>\n",
       "      <td>Letters to Juliet (2010)</td>\n",
       "      <td>Drama|Romance</td>\n",
       "    </tr>\n",
       "    <tr>\n",
       "      <th>7716</th>\n",
       "      <td>90376</td>\n",
       "      <td>We Need to Talk About Kevin (2011)</td>\n",
       "      <td>Drama|Thriller</td>\n",
       "    </tr>\n",
       "    <tr>\n",
       "      <th>7988</th>\n",
       "      <td>96821</td>\n",
       "      <td>Perks of Being a Wallflower, The (2012)</td>\n",
       "      <td>Drama|Romance</td>\n",
       "    </tr>\n",
       "    <tr>\n",
       "      <th>8994</th>\n",
       "      <td>139642</td>\n",
       "      <td>Southpaw (2015)</td>\n",
       "      <td>Action|Drama</td>\n",
       "    </tr>\n",
       "    <tr>\n",
       "      <th>9009</th>\n",
       "      <td>140174</td>\n",
       "      <td>Room (2015)</td>\n",
       "      <td>Drama</td>\n",
       "    </tr>\n",
       "  </tbody>\n",
       "</table>\n",
       "</div>"
      ],
      "text/plain": [
       "      movieId                                              title  \\\n",
       "3159     4248                     Josie and the Pussycats (2001)   \n",
       "6217    45666                                 Nacho Libre (2006)   \n",
       "6457    52319  Inglorious Bastards (Quel maledetto treno blin...   \n",
       "6756    59725                            Sex and the City (2008)   \n",
       "7188    72407                Twilight Saga: New Moon, The (2009)   \n",
       "7351    78316                           Letters to Juliet (2010)   \n",
       "7716    90376                 We Need to Talk About Kevin (2011)   \n",
       "7988    96821            Perks of Being a Wallflower, The (2012)   \n",
       "8994   139642                                    Southpaw (2015)   \n",
       "9009   140174                                        Room (2015)   \n",
       "\n",
       "                                     genres  \n",
       "3159                                 Comedy  \n",
       "6217                                 Comedy  \n",
       "6457             Action|Adventure|Drama|War  \n",
       "6756                         Comedy|Romance  \n",
       "7188  Drama|Fantasy|Horror|Romance|Thriller  \n",
       "7351                          Drama|Romance  \n",
       "7716                         Drama|Thriller  \n",
       "7988                          Drama|Romance  \n",
       "8994                           Action|Drama  \n",
       "9009                                  Drama  "
      ]
     },
     "execution_count": 24,
     "metadata": {},
     "output_type": "execute_result"
    }
   ],
   "source": [
    "topn = 10\n",
    "positive_list = ['50912', '56941']\n",
    "similar_movie_list = [movie_id for movie_id, score in model.wv.most_similar(positive=positive_list, topn=topn)]\n",
    "movies_df[movies_df['movieId'].isin(similar_movie_list)]"
   ]
  },
  {
   "cell_type": "markdown",
   "metadata": {},
   "source": [
    "### 03-04. Item2Vec 기반 추천\n",
    "- 유저에게 추천을 수행할 때는 유저가 선호했던 아이템을 positive_list로 사용\n",
    "- 이 때 모델 하이퍼파라미터와 min_count로 인해 word2vec 모델이 학습되지 않은 아이템은 제외"
   ]
  },
  {
   "cell_type": "code",
   "execution_count": 25,
   "metadata": {},
   "outputs": [],
   "source": [
    "_df = train_df[train_df['liked'] == 1]\n",
    "_df = _df[_df.movieId.isin(model.wv.index_to_key)]\n",
    "user_liked_train_movies = _df.groupby('userId').agg({'movieId': lambda x: x.tolist()})['movieId'].to_dict()"
   ]
  },
  {
   "cell_type": "code",
   "execution_count": 26,
   "metadata": {},
   "outputs": [],
   "source": [
    "_df = test_df[test_df['liked'] == 1]\n",
    "user_liked_test_movies = _df.groupby('userId').agg({'movieId': lambda x: x.tolist()})['movieId'].to_dict()"
   ]
  },
  {
   "cell_type": "markdown",
   "metadata": {},
   "source": [
    "#### 전체 유저에 대해 Item2Vec 기반 영화 추천"
   ]
  },
  {
   "cell_type": "code",
   "execution_count": 27,
   "metadata": {},
   "outputs": [
    {
     "name": "stdout",
     "output_type": "stream",
     "text": [
      "precision@k: 0.0661397670549085\n",
      "recall@k: 0.15092190184832857\n",
      "cold_start_user: 0\n"
     ]
    }
   ],
   "source": [
    "topn = 20\n",
    "precisions = []\n",
    "recalls = []\n",
    "cold_start = 0\n",
    "\n",
    "for user_id, liked_items in user_liked_test_movies.items():\n",
    "    \n",
    "    if user_id in user_liked_train_movies:\n",
    "        # test 데이터에서 선호한 아이템\n",
    "        relevant = liked_items\n",
    "        \n",
    "        # train 데이터에서 선호한 아이템 리스트를 사용하여\n",
    "        # Item2Vec 모델을 통해 추천 아이템을 생성합니다.\n",
    "        \n",
    "        train_liked_items = user_liked_train_movies[user_id]\n",
    "        recommend = [movie_id for movie_id, score in model.wv.most_similar(positive = train_liked_items, topn=topn)]\n",
    "    \n",
    "    # test 데이터의 유저가 train에 없는 경우에는 건너뜁니다.\n",
    "    else:\n",
    "        cold_start += 1\n",
    "        continue\n",
    "        \n",
    "    intersect = set(relevant).intersection(set(recommend))\n",
    "    precision = len(intersect) / len(recommend)\n",
    "    recall = len(intersect) / len(relevant)\n",
    "    \n",
    "    precisions.append(precision)\n",
    "    recalls.append(recall)\n",
    "    \n",
    "print(\"precision@k:\", np.mean(np.asarray(precisions)))\n",
    "print(\"recall@k:\", np.mean(np.asarray(recalls)))\n",
    "print(\"cold_start_user:\", cold_start)"
   ]
  },
  {
   "cell_type": "markdown",
   "metadata": {},
   "source": [
    "#### 예시 - 610번 유저"
   ]
  },
  {
   "cell_type": "code",
   "execution_count": 29,
   "metadata": {},
   "outputs": [
    {
     "name": "stdout",
     "output_type": "stream",
     "text": [
      "610\n"
     ]
    }
   ],
   "source": [
    "print(user_id)"
   ]
  },
  {
   "cell_type": "markdown",
   "metadata": {},
   "source": [
    "- **`train_liked_items`**: 610번 유저가 train셋에서 선호했던 영화"
   ]
  },
  {
   "cell_type": "code",
   "execution_count": 34,
   "metadata": {},
   "outputs": [
    {
     "name": "stdout",
     "output_type": "stream",
     "text": [
      "410\n"
     ]
    }
   ],
   "source": [
    "print(len(train_liked_items))"
   ]
  },
  {
   "cell_type": "code",
   "execution_count": 35,
   "metadata": {},
   "outputs": [
    {
     "name": "stdout",
     "output_type": "stream",
     "text": [
      "['78039', '102123', '38095', '106766', '72226', '4776', '55820', '5669', '2076', '3925', '89753', '70', '168250', '5577', '152081', '464', '60766', '55118', '2985', '112', '3911', '57504', '58559', '44828', '115210', '3016', '6731', '68157', '57669', '40278', '4902', '69481', '48774', '59022', '110', '4896', '1358', '110102', '112290', '593', '1', '93838', '68358', '130634', '54503', '3481', '1197', '592', '1214', '61024', '4553', '97938', '116823', '1276', '139644', '1241', '5349', '74458', '4725', '112623', '34323', '3468', '5502', '95875', '58998', '4437', '55280', '92420', '5909', '114935', '7153', '6807', '1213', '51662', '139385', '3328', '61132', '66097', '102125', '166528', '81932', '103341', '168248', '38038', '6620', '1300', '55290', '103772', '95088', '4848', '96079', '111781', '8366', '106487', '377', '1273', '480', '56367', '8636', '164179', '88163', '3300', '7981', '1258', '135133', '27317', '116799', '5630', '128360', '46578', '52241', '7451', '5064', '166534', '923', '96811', '51255', '112175', '48082', '107406', '5139', '784', '608', '106918', '1127', '8914', '1982', '50872', '3424', '6539', '4886', '91658', '4262', '2517', '71899', '5679', '96610', '148626', '104879', '4821', '1997', '111362', '48516', '3681', '4467', '6874', '3967', '4720', '102716', '1265', '1221', '3246', '3425', '2403', '2901', '81834', '133771', '6283', '104374', '1047', '3972', '4878', '52281', '112515', '8961', '48394', '1840', '7361', '3994', '115149', '111759', '1196', '3865', '5418', '68205', '3996', '95654', '161634', '1247', '5673', '407', '7373', '1198', '127198', '7438', '2028', '750', '1676', '293', '5816', '1199', '48043', '1270', '4011', '72011', '119145', '6', '2879', '1261', '5574', '6502', '71745', '5049', '8641', '91630', '86833', '4226', '60333', '296', '6377', '1097', '7147', '858', '2944', '7360', '106782', '3521', '97304', '56782', '6440', '137857', '3671', '5902', '4816', '6755', '1291', '27722', '42723', '69122', '2880', '5026', '109374', '95873', '46976', '34048', '7419', '106916', '48780', '52328', '27801', '7445', '1210', '44199', '3740', '924', '108932', '48385', '968', '82667', '1953', '2571', '1968', '111', '3265', '903', '26585', '4993', '8949', '2968', '7235', '1884', '62336', '49932', '69844', '16', '6966', '27397', '5528', '156726', '5618', '86644', '122920', '31364', '70946', '3578', '3917', '103228', '32587', '45186', '6016', '3298', '72998', '57368', '4378', '46970', '215', '1084', '89745', '1227', '87232', '2959', '168252', '2288', '34437', '97913', '6333', '4873', '2391', '2951', '1394', '3896', '5225', '67087', '3039', '1228', '57640', '2474', '471', '88744', '65514', '40732', '91529', '5954', '77800', '69275', '121231', '1080', '6957', '2762', '78499', '161582', '8368', '1663', '260', '904', '95377', '157296', '57274', '44761', '4533', '60069', '5294', '89864', '99114', '6001', '1274', '6711', '50', '70994', '6820', '31878', '909', '7007', '7387', '106100', '4963', '101525', '741', '68237', '27773', '45210', '134368', '103688', '112138', '33794', '32', '55269', '53953', '34162', '6867', '6214', '115617', '53000', '8874', '4979', '3897', '1208', '7482', '2924', '589', '1784', '49272', '6863', '99117', '42632', '8665', '97921', '71464', '6947', '37733', '541', '30810', '1732', '2976', '70286', '3362', '4105', '52973', '1036', '27790', '3527', '778', '1209', '1200', '83134', '112556', '785', '63082', '79132', '6978', '1682', '61240', '35836', '33493', '3948', '81562', '68848', '3727', '80489', '6003']\n"
     ]
    }
   ],
   "source": [
    "print(train_liked_items)"
   ]
  },
  {
   "cell_type": "markdown",
   "metadata": {},
   "source": [
    "- **`relevant`**: 610번 유저가 test셋에서 선호했던 영화"
   ]
  },
  {
   "cell_type": "code",
   "execution_count": 37,
   "metadata": {},
   "outputs": [
    {
     "name": "stdout",
     "output_type": "stream",
     "text": [
      "125\n"
     ]
    }
   ],
   "source": [
    "print(len(relevant))"
   ]
  },
  {
   "cell_type": "code",
   "execution_count": 38,
   "metadata": {},
   "outputs": [
    {
     "name": "stdout",
     "output_type": "stream",
     "text": [
      "['26603', '26612', '457', '1279', '94959', '4794', '68952', '88129', '102760', '47465', '5952', '91500', '140174', '79091', '76093', '95858', '5445', '3726', '1967', '5254', '3751', '1089', '1527', '122892', '54259', '6365', '79702', '77893', '71264', '3535', '8917', '5833', '143859', '8042', '380', '143385', '5010', '74228', '51540', '59727', '1218', '54001', '1201', '47', '78836', '6063', '4973', '4027', '39381', '27584', '1222', '56174', '82459', '1249', '70208', '152077', '103685', '108729', '3018', '106920', '27592', '34450', '1129', '194', '112183', '3108', '1215', '147657', '59315', '5617', '93840', '91077', '6296', '8142', '86142', '2716', '112852', '735', '2916', '44597', '97188', '5110', '8950', '122886', '30812', '51709', '160527', '88125', '2161', '52952', '47404', '27563', '7022', '122882', '89118', '1923', '95441', '115727', '54286', '104457', '231', '1090', '1240', '64839', '1136', '115569', '129313', '3114', '142598', '8798', '81132', '441', '73876', '2000', '158238', '8807', '56145', '3703', '6618', '110501', '38061', '1245', '26169', '53972', '3174']\n"
     ]
    }
   ],
   "source": [
    "print(relevant)"
   ]
  },
  {
   "cell_type": "markdown",
   "metadata": {},
   "source": [
    "- **`recommend`**: Item2Vec 기반 추천 영화"
   ]
  },
  {
   "cell_type": "code",
   "execution_count": 40,
   "metadata": {},
   "outputs": [
    {
     "name": "stdout",
     "output_type": "stream",
     "text": [
      "20\n"
     ]
    }
   ],
   "source": [
    "print(len(recommend))"
   ]
  },
  {
   "cell_type": "code",
   "execution_count": 41,
   "metadata": {},
   "outputs": [
    {
     "name": "stdout",
     "output_type": "stream",
     "text": [
      "['102993', '38304', '187541', '96432', '99813', '103372', '96020', '73319', '86347', '112421', '98124', '63113', '2495', '106642', '5120', '152970', '27728', '90376', '93831', '62250']\n"
     ]
    }
   ],
   "source": [
    "print(recommend)"
   ]
  },
  {
   "cell_type": "markdown",
   "metadata": {},
   "source": [
    "- 추천 결과가 테스트 데이터에 속해있지 않음"
   ]
  },
  {
   "cell_type": "code",
   "execution_count": 43,
   "metadata": {},
   "outputs": [
    {
     "data": {
      "text/plain": [
       "set()"
      ]
     },
     "execution_count": 43,
     "metadata": {},
     "output_type": "execute_result"
    }
   ],
   "source": [
    "set(relevant) & set(recommend)"
   ]
  }
 ],
 "metadata": {
  "kernelspec": {
   "display_name": "Python 3",
   "language": "python",
   "name": "python3"
  },
  "language_info": {
   "codemirror_mode": {
    "name": "ipython",
    "version": 3
   },
   "file_extension": ".py",
   "mimetype": "text/x-python",
   "name": "python",
   "nbconvert_exporter": "python",
   "pygments_lexer": "ipython3",
   "version": "3.7.6"
  },
  "toc": {
   "base_numbering": 1,
   "nav_menu": {},
   "number_sections": false,
   "sideBar": true,
   "skip_h1_title": false,
   "title_cell": "Table of Contents",
   "title_sidebar": "Contents",
   "toc_cell": false,
   "toc_position": {},
   "toc_section_display": true,
   "toc_window_display": false
  },
  "varInspector": {
   "cols": {
    "lenName": 16,
    "lenType": 16,
    "lenVar": 40
   },
   "kernels_config": {
    "python": {
     "delete_cmd_postfix": "",
     "delete_cmd_prefix": "del ",
     "library": "var_list.py",
     "varRefreshCmd": "print(var_dic_list())"
    },
    "r": {
     "delete_cmd_postfix": ") ",
     "delete_cmd_prefix": "rm(",
     "library": "var_list.r",
     "varRefreshCmd": "cat(var_dic_list()) "
    }
   },
   "types_to_exclude": [
    "module",
    "function",
    "builtin_function_or_method",
    "instance",
    "_Feature"
   ],
   "window_display": false
  }
 },
 "nbformat": 4,
 "nbformat_minor": 2
}
