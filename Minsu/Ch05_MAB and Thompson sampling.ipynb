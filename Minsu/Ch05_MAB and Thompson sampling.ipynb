{
 "cells": [
  {
   "cell_type": "markdown",
   "metadata": {},
   "source": [
    "# 가짜연구소 4기 - 추천시스템 톺아보기\n",
    "## MAB(Multi-Armed Bandint) & Thompson sampling을 활용한 추천\n",
    "- 작성자: 김민수(kimminsu.ds@gmail.com)\n",
    "- 데이터 출처: "
   ]
  },
  {
   "cell_type": "markdown",
   "metadata": {},
   "source": [
    "## 00. 환경설정"
   ]
  },
  {
   "cell_type": "markdown",
   "metadata": {},
   "source": [
    "### 00-01. 패키지"
   ]
  },
  {
   "cell_type": "code",
   "execution_count": 1,
   "metadata": {},
   "outputs": [],
   "source": [
    "import random\n",
    "import numpy   as np\n",
    "import pandas  as pd\n",
    "import seaborn as sns\n",
    "\n",
    "from matplotlib import pyplot as plt\n",
    "from datetime import datetime\n",
    "from tqdm.notebook import tqdm\n",
    "from scipy.stats import beta\n",
    "\n",
    "import warnings\n",
    "warnings.filterwarnings(\"ignore\")"
   ]
  },
  {
   "cell_type": "markdown",
   "metadata": {},
   "source": [
    "### 00-02. Avazu ctr prediction 데이터"
   ]
  },
  {
   "cell_type": "code",
   "execution_count": 3,
   "metadata": {},
   "outputs": [
    {
     "data": {
      "text/html": [
       "<div>\n",
       "<style scoped>\n",
       "    .dataframe tbody tr th:only-of-type {\n",
       "        vertical-align: middle;\n",
       "    }\n",
       "\n",
       "    .dataframe tbody tr th {\n",
       "        vertical-align: top;\n",
       "    }\n",
       "\n",
       "    .dataframe thead th {\n",
       "        text-align: right;\n",
       "    }\n",
       "</style>\n",
       "<table border=\"1\" class=\"dataframe\">\n",
       "  <thead>\n",
       "    <tr style=\"text-align: right;\">\n",
       "      <th></th>\n",
       "      <th>id</th>\n",
       "      <th>click</th>\n",
       "      <th>datetime</th>\n",
       "      <th>C1</th>\n",
       "      <th>banner_pos</th>\n",
       "      <th>site_id</th>\n",
       "      <th>site_domain</th>\n",
       "      <th>site_category</th>\n",
       "      <th>app_id</th>\n",
       "      <th>app_domain</th>\n",
       "      <th>...</th>\n",
       "      <th>device_type</th>\n",
       "      <th>device_conn_type</th>\n",
       "      <th>C14</th>\n",
       "      <th>C15</th>\n",
       "      <th>C16</th>\n",
       "      <th>C17</th>\n",
       "      <th>C18</th>\n",
       "      <th>C19</th>\n",
       "      <th>C20</th>\n",
       "      <th>C21</th>\n",
       "    </tr>\n",
       "  </thead>\n",
       "  <tbody>\n",
       "    <tr>\n",
       "      <th>0</th>\n",
       "      <td>10010804179216291475</td>\n",
       "      <td>0</td>\n",
       "      <td>2014-10-21</td>\n",
       "      <td>1005</td>\n",
       "      <td>0</td>\n",
       "      <td>1fbe01fe</td>\n",
       "      <td>f3845767</td>\n",
       "      <td>28905ebd</td>\n",
       "      <td>ecad2386</td>\n",
       "      <td>7801e8d9</td>\n",
       "      <td>...</td>\n",
       "      <td>1</td>\n",
       "      <td>0</td>\n",
       "      <td>15704</td>\n",
       "      <td>320</td>\n",
       "      <td>50</td>\n",
       "      <td>1722</td>\n",
       "      <td>0</td>\n",
       "      <td>35</td>\n",
       "      <td>-1</td>\n",
       "      <td>79</td>\n",
       "    </tr>\n",
       "    <tr>\n",
       "      <th>1</th>\n",
       "      <td>10013076841337920650</td>\n",
       "      <td>0</td>\n",
       "      <td>2014-10-21</td>\n",
       "      <td>1005</td>\n",
       "      <td>0</td>\n",
       "      <td>1fbe01fe</td>\n",
       "      <td>f3845767</td>\n",
       "      <td>28905ebd</td>\n",
       "      <td>ecad2386</td>\n",
       "      <td>7801e8d9</td>\n",
       "      <td>...</td>\n",
       "      <td>1</td>\n",
       "      <td>0</td>\n",
       "      <td>15702</td>\n",
       "      <td>320</td>\n",
       "      <td>50</td>\n",
       "      <td>1722</td>\n",
       "      <td>0</td>\n",
       "      <td>35</td>\n",
       "      <td>-1</td>\n",
       "      <td>79</td>\n",
       "    </tr>\n",
       "    <tr>\n",
       "      <th>2</th>\n",
       "      <td>100156980486870304</td>\n",
       "      <td>0</td>\n",
       "      <td>2014-10-21</td>\n",
       "      <td>1005</td>\n",
       "      <td>0</td>\n",
       "      <td>1fbe01fe</td>\n",
       "      <td>f3845767</td>\n",
       "      <td>28905ebd</td>\n",
       "      <td>ecad2386</td>\n",
       "      <td>7801e8d9</td>\n",
       "      <td>...</td>\n",
       "      <td>1</td>\n",
       "      <td>0</td>\n",
       "      <td>15706</td>\n",
       "      <td>320</td>\n",
       "      <td>50</td>\n",
       "      <td>1722</td>\n",
       "      <td>0</td>\n",
       "      <td>35</td>\n",
       "      <td>-1</td>\n",
       "      <td>79</td>\n",
       "    </tr>\n",
       "    <tr>\n",
       "      <th>3</th>\n",
       "      <td>10036789730923212176</td>\n",
       "      <td>1</td>\n",
       "      <td>2014-10-21</td>\n",
       "      <td>1005</td>\n",
       "      <td>0</td>\n",
       "      <td>1fbe01fe</td>\n",
       "      <td>f3845767</td>\n",
       "      <td>28905ebd</td>\n",
       "      <td>ecad2386</td>\n",
       "      <td>7801e8d9</td>\n",
       "      <td>...</td>\n",
       "      <td>1</td>\n",
       "      <td>2</td>\n",
       "      <td>15703</td>\n",
       "      <td>320</td>\n",
       "      <td>50</td>\n",
       "      <td>1722</td>\n",
       "      <td>0</td>\n",
       "      <td>35</td>\n",
       "      <td>-1</td>\n",
       "      <td>79</td>\n",
       "    </tr>\n",
       "    <tr>\n",
       "      <th>4</th>\n",
       "      <td>10050938058905541797</td>\n",
       "      <td>1</td>\n",
       "      <td>2014-10-21</td>\n",
       "      <td>1005</td>\n",
       "      <td>0</td>\n",
       "      <td>1fbe01fe</td>\n",
       "      <td>f3845767</td>\n",
       "      <td>28905ebd</td>\n",
       "      <td>ecad2386</td>\n",
       "      <td>7801e8d9</td>\n",
       "      <td>...</td>\n",
       "      <td>1</td>\n",
       "      <td>2</td>\n",
       "      <td>15707</td>\n",
       "      <td>320</td>\n",
       "      <td>50</td>\n",
       "      <td>1722</td>\n",
       "      <td>0</td>\n",
       "      <td>35</td>\n",
       "      <td>-1</td>\n",
       "      <td>79</td>\n",
       "    </tr>\n",
       "  </tbody>\n",
       "</table>\n",
       "<p>5 rows × 24 columns</p>\n",
       "</div>"
      ],
      "text/plain": [
       "                     id  click   datetime    C1  banner_pos   site_id  \\\n",
       "0  10010804179216291475      0 2014-10-21  1005           0  1fbe01fe   \n",
       "1  10013076841337920650      0 2014-10-21  1005           0  1fbe01fe   \n",
       "2    100156980486870304      0 2014-10-21  1005           0  1fbe01fe   \n",
       "3  10036789730923212176      1 2014-10-21  1005           0  1fbe01fe   \n",
       "4  10050938058905541797      1 2014-10-21  1005           0  1fbe01fe   \n",
       "\n",
       "  site_domain site_category    app_id app_domain  ... device_type  \\\n",
       "0    f3845767      28905ebd  ecad2386   7801e8d9  ...           1   \n",
       "1    f3845767      28905ebd  ecad2386   7801e8d9  ...           1   \n",
       "2    f3845767      28905ebd  ecad2386   7801e8d9  ...           1   \n",
       "3    f3845767      28905ebd  ecad2386   7801e8d9  ...           1   \n",
       "4    f3845767      28905ebd  ecad2386   7801e8d9  ...           1   \n",
       "\n",
       "  device_conn_type    C14  C15  C16   C17  C18  C19  C20  C21  \n",
       "0                0  15704  320   50  1722    0   35   -1   79  \n",
       "1                0  15702  320   50  1722    0   35   -1   79  \n",
       "2                0  15706  320   50  1722    0   35   -1   79  \n",
       "3                2  15703  320   50  1722    0   35   -1   79  \n",
       "4                2  15707  320   50  1722    0   35   -1   79  \n",
       "\n",
       "[5 rows x 24 columns]"
      ]
     },
     "execution_count": 3,
     "metadata": {},
     "output_type": "execute_result"
    }
   ],
   "source": [
    "parse_date = lambda x: datetime.strptime(x, '%y%m%d%H')\n",
    "ad_df = pd.read_csv(\"../data/mab_ad_click.csv\", parse_dates = ['datetime'], date_parser = parse_date, header=0)\n",
    "ad_df.head()"
   ]
  },
  {
   "cell_type": "markdown",
   "metadata": {},
   "source": [
    "### 00-03. 데이터 살펴보기\n",
    "- MAB 문제에서 자주 사용되는 데이터(광고 노출/클릭 데이터)\n",
    "- 주어진 Context에서 어떤 광고를 보여줄지 선택하는 것을 Policy\n",
    "- 특정 광고를 보여주는 것이 action에 해당하고 노출 이후에 클릭이 일어나면 **`reward=1`** 그렇지 않다면 **`reward=0`**"
   ]
  },
  {
   "cell_type": "markdown",
   "metadata": {},
   "source": [
    "#### C14 컬럼이 광고의 소재 ID"
   ]
  },
  {
   "cell_type": "code",
   "execution_count": 4,
   "metadata": {},
   "outputs": [
    {
     "data": {
      "text/plain": [
       "id                  160297\n",
       "device_ip            64217\n",
       "device_model          1026\n",
       "C14                    362\n",
       "datetime               240\n",
       "C20                     93\n",
       "C17                     88\n",
       "C21                     32\n",
       "C19                     32\n",
       "C18                      4\n",
       "device_conn_type         2\n",
       "C15                      2\n",
       "C16                      2\n",
       "click                    2\n",
       "device_type              1\n",
       "app_category             1\n",
       "app_domain               1\n",
       "app_id                   1\n",
       "site_category            1\n",
       "site_domain              1\n",
       "site_id                  1\n",
       "banner_pos               1\n",
       "C1                       1\n",
       "device_id                1\n",
       "dtype: int64"
      ]
     },
     "execution_count": 4,
     "metadata": {},
     "output_type": "execute_result"
    }
   ],
   "source": [
    "ad_df.apply(lambda x: len(x.unique())).sort_values(ascending=False)"
   ]
  },
  {
   "cell_type": "markdown",
   "metadata": {},
   "source": [
    "#### 광고 노출 시간과 광고 소재의 ID를 활용"
   ]
  },
  {
   "cell_type": "code",
   "execution_count": 5,
   "metadata": {},
   "outputs": [
    {
     "data": {
      "text/html": [
       "<div>\n",
       "<style scoped>\n",
       "    .dataframe tbody tr th:only-of-type {\n",
       "        vertical-align: middle;\n",
       "    }\n",
       "\n",
       "    .dataframe tbody tr th {\n",
       "        vertical-align: top;\n",
       "    }\n",
       "\n",
       "    .dataframe thead th {\n",
       "        text-align: right;\n",
       "    }\n",
       "</style>\n",
       "<table border=\"1\" class=\"dataframe\">\n",
       "  <thead>\n",
       "    <tr style=\"text-align: right;\">\n",
       "      <th></th>\n",
       "      <th>id</th>\n",
       "      <th>ad</th>\n",
       "      <th>datetime</th>\n",
       "      <th>click</th>\n",
       "    </tr>\n",
       "  </thead>\n",
       "  <tbody>\n",
       "    <tr>\n",
       "      <th>0</th>\n",
       "      <td>10010804179216291475</td>\n",
       "      <td>15704</td>\n",
       "      <td>2014-10-21 00:00:00</td>\n",
       "      <td>0</td>\n",
       "    </tr>\n",
       "    <tr>\n",
       "      <th>1</th>\n",
       "      <td>10013076841337920650</td>\n",
       "      <td>15702</td>\n",
       "      <td>2014-10-21 00:00:00</td>\n",
       "      <td>0</td>\n",
       "    </tr>\n",
       "    <tr>\n",
       "      <th>2</th>\n",
       "      <td>100156980486870304</td>\n",
       "      <td>15706</td>\n",
       "      <td>2014-10-21 00:00:00</td>\n",
       "      <td>0</td>\n",
       "    </tr>\n",
       "    <tr>\n",
       "      <th>3</th>\n",
       "      <td>10036789730923212176</td>\n",
       "      <td>15703</td>\n",
       "      <td>2014-10-21 00:00:00</td>\n",
       "      <td>1</td>\n",
       "    </tr>\n",
       "    <tr>\n",
       "      <th>4</th>\n",
       "      <td>10050938058905541797</td>\n",
       "      <td>15707</td>\n",
       "      <td>2014-10-21 00:00:00</td>\n",
       "      <td>1</td>\n",
       "    </tr>\n",
       "    <tr>\n",
       "      <th>...</th>\n",
       "      <td>...</td>\n",
       "      <td>...</td>\n",
       "      <td>...</td>\n",
       "      <td>...</td>\n",
       "    </tr>\n",
       "    <tr>\n",
       "      <th>160292</th>\n",
       "      <td>9899837143248831576</td>\n",
       "      <td>22257</td>\n",
       "      <td>2014-10-30 23:00:00</td>\n",
       "      <td>1</td>\n",
       "    </tr>\n",
       "    <tr>\n",
       "      <th>160293</th>\n",
       "      <td>9905100583305466044</td>\n",
       "      <td>15706</td>\n",
       "      <td>2014-10-30 23:00:00</td>\n",
       "      <td>0</td>\n",
       "    </tr>\n",
       "    <tr>\n",
       "      <th>160294</th>\n",
       "      <td>9962540383484110617</td>\n",
       "      <td>22261</td>\n",
       "      <td>2014-10-30 23:00:00</td>\n",
       "      <td>0</td>\n",
       "    </tr>\n",
       "    <tr>\n",
       "      <th>160295</th>\n",
       "      <td>9964318073950212472</td>\n",
       "      <td>22676</td>\n",
       "      <td>2014-10-30 23:00:00</td>\n",
       "      <td>0</td>\n",
       "    </tr>\n",
       "    <tr>\n",
       "      <th>160296</th>\n",
       "      <td>9999746639881208566</td>\n",
       "      <td>22257</td>\n",
       "      <td>2014-10-30 23:00:00</td>\n",
       "      <td>0</td>\n",
       "    </tr>\n",
       "  </tbody>\n",
       "</table>\n",
       "<p>160297 rows × 4 columns</p>\n",
       "</div>"
      ],
      "text/plain": [
       "                          id     ad            datetime  click\n",
       "0       10010804179216291475  15704 2014-10-21 00:00:00      0\n",
       "1       10013076841337920650  15702 2014-10-21 00:00:00      0\n",
       "2         100156980486870304  15706 2014-10-21 00:00:00      0\n",
       "3       10036789730923212176  15703 2014-10-21 00:00:00      1\n",
       "4       10050938058905541797  15707 2014-10-21 00:00:00      1\n",
       "...                      ...    ...                 ...    ...\n",
       "160292   9899837143248831576  22257 2014-10-30 23:00:00      1\n",
       "160293   9905100583305466044  15706 2014-10-30 23:00:00      0\n",
       "160294   9962540383484110617  22261 2014-10-30 23:00:00      0\n",
       "160295   9964318073950212472  22676 2014-10-30 23:00:00      0\n",
       "160296   9999746639881208566  22257 2014-10-30 23:00:00      0\n",
       "\n",
       "[160297 rows x 4 columns]"
      ]
     },
     "execution_count": 5,
     "metadata": {},
     "output_type": "execute_result"
    }
   ],
   "source": [
    "mab_df = ad_df[['id', 'C14', 'datetime', 'click']]\n",
    "mab_df = mab_df.rename(columns={'C14': 'ad'}, inplace=False)\n",
    "mab_df"
   ]
  },
  {
   "cell_type": "markdown",
   "metadata": {},
   "source": [
    "- 노출 가능한 광고는 362개"
   ]
  },
  {
   "cell_type": "code",
   "execution_count": 6,
   "metadata": {},
   "outputs": [
    {
     "data": {
      "text/plain": [
       "362"
      ]
     },
     "execution_count": 6,
     "metadata": {},
     "output_type": "execute_result"
    }
   ],
   "source": [
    "mab_df['ad'].nunique()"
   ]
  },
  {
   "cell_type": "code",
   "execution_count": 7,
   "metadata": {},
   "outputs": [
    {
     "data": {
      "text/plain": [
       "0    15704\n",
       "1    15702\n",
       "2    15706\n",
       "3    15703\n",
       "4    15707\n",
       "Name: ad, dtype: int64"
      ]
     },
     "execution_count": 7,
     "metadata": {},
     "output_type": "execute_result"
    }
   ],
   "source": [
    "mab_df['ad'].head()"
   ]
  },
  {
   "cell_type": "markdown",
   "metadata": {},
   "source": [
    "#### 광고별 평균 CTR(Y)"
   ]
  },
  {
   "cell_type": "code",
   "execution_count": 9,
   "metadata": {},
   "outputs": [
    {
     "data": {
      "text/html": [
       "<div>\n",
       "<style scoped>\n",
       "    .dataframe tbody tr th:only-of-type {\n",
       "        vertical-align: middle;\n",
       "    }\n",
       "\n",
       "    .dataframe tbody tr th {\n",
       "        vertical-align: top;\n",
       "    }\n",
       "\n",
       "    .dataframe thead th {\n",
       "        text-align: right;\n",
       "    }\n",
       "</style>\n",
       "<table border=\"1\" class=\"dataframe\">\n",
       "  <thead>\n",
       "    <tr style=\"text-align: right;\">\n",
       "      <th></th>\n",
       "      <th>ad</th>\n",
       "      <th>imp</th>\n",
       "      <th>click</th>\n",
       "      <th>ctr</th>\n",
       "    </tr>\n",
       "  </thead>\n",
       "  <tbody>\n",
       "    <tr>\n",
       "      <th>0</th>\n",
       "      <td>6616</td>\n",
       "      <td>637</td>\n",
       "      <td>76</td>\n",
       "      <td>0.119309</td>\n",
       "    </tr>\n",
       "    <tr>\n",
       "      <th>1</th>\n",
       "      <td>8330</td>\n",
       "      <td>579</td>\n",
       "      <td>80</td>\n",
       "      <td>0.138169</td>\n",
       "    </tr>\n",
       "    <tr>\n",
       "      <th>2</th>\n",
       "      <td>9248</td>\n",
       "      <td>1</td>\n",
       "      <td>0</td>\n",
       "      <td>0.000000</td>\n",
       "    </tr>\n",
       "    <tr>\n",
       "      <th>3</th>\n",
       "      <td>9436</td>\n",
       "      <td>4</td>\n",
       "      <td>0</td>\n",
       "      <td>0.000000</td>\n",
       "    </tr>\n",
       "    <tr>\n",
       "      <th>4</th>\n",
       "      <td>9438</td>\n",
       "      <td>6</td>\n",
       "      <td>0</td>\n",
       "      <td>0.000000</td>\n",
       "    </tr>\n",
       "  </tbody>\n",
       "</table>\n",
       "</div>"
      ],
      "text/plain": [
       "     ad  imp  click       ctr\n",
       "0  6616  637     76  0.119309\n",
       "1  8330  579     80  0.138169\n",
       "2  9248    1      0  0.000000\n",
       "3  9436    4      0  0.000000\n",
       "4  9438    6      0  0.000000"
      ]
     },
     "execution_count": 9,
     "metadata": {},
     "output_type": "execute_result"
    }
   ],
   "source": [
    "ad_statistics = pd.DataFrame({\n",
    "    'imp'   : mab_df.groupby('ad')['id'].nunique(),\n",
    "    'click' : mab_df.groupby('ad')['click'].sum(),\n",
    "    'ctr'   : mab_df.groupby('ad')['click'].mean()    \n",
    "}).reset_index()\n",
    "\n",
    "ad_statistics.head()"
   ]
  },
  {
   "cell_type": "code",
   "execution_count": 11,
   "metadata": {},
   "outputs": [
    {
     "data": {
      "image/png": "[encoded data removed]",
      "text/plain": [
       "<Figure size 432x288 with 1 Axes>"
      ]
     },
     "metadata": {
      "needs_background": "light"
     },
     "output_type": "display_data"
    }
   ],
   "source": [
    "sns.distplot(ad_statistics['ctr'])\n",
    "plt.show()"
   ]
  },
  {
   "cell_type": "markdown",
   "metadata": {},
   "source": [
    "#### 노출 수가 너무 적은 ad의 경우 Policy에 대한 신뢰도가 낮음\n",
    "- 데이터가 아주 적을 때 Bandit이 exploration을 해주긴 하지만 실제 추천을 수행할 때는 너무 적은 데이터가 쌓인 아이템은 policy를 사용하지 않음"
   ]
  },
  {
   "cell_type": "code",
   "execution_count": 12,
   "metadata": {},
   "outputs": [
    {
     "data": {
      "text/html": [
       "<div>\n",
       "<style scoped>\n",
       "    .dataframe tbody tr th:only-of-type {\n",
       "        vertical-align: middle;\n",
       "    }\n",
       "\n",
       "    .dataframe tbody tr th {\n",
       "        vertical-align: top;\n",
       "    }\n",
       "\n",
       "    .dataframe thead th {\n",
       "        text-align: right;\n",
       "    }\n",
       "</style>\n",
       "<table border=\"1\" class=\"dataframe\">\n",
       "  <thead>\n",
       "    <tr style=\"text-align: right;\">\n",
       "      <th></th>\n",
       "      <th>ad</th>\n",
       "      <th>imp</th>\n",
       "      <th>click</th>\n",
       "      <th>ctr</th>\n",
       "    </tr>\n",
       "  </thead>\n",
       "  <tbody>\n",
       "    <tr>\n",
       "      <th>303</th>\n",
       "      <td>23222</td>\n",
       "      <td>1</td>\n",
       "      <td>1</td>\n",
       "      <td>1.000000</td>\n",
       "    </tr>\n",
       "    <tr>\n",
       "      <th>24</th>\n",
       "      <td>18496</td>\n",
       "      <td>1</td>\n",
       "      <td>1</td>\n",
       "      <td>1.000000</td>\n",
       "    </tr>\n",
       "    <tr>\n",
       "      <th>139</th>\n",
       "      <td>22288</td>\n",
       "      <td>3</td>\n",
       "      <td>2</td>\n",
       "      <td>0.666667</td>\n",
       "    </tr>\n",
       "    <tr>\n",
       "      <th>250</th>\n",
       "      <td>23015</td>\n",
       "      <td>2</td>\n",
       "      <td>1</td>\n",
       "      <td>0.500000</td>\n",
       "    </tr>\n",
       "    <tr>\n",
       "      <th>209</th>\n",
       "      <td>22818</td>\n",
       "      <td>2</td>\n",
       "      <td>1</td>\n",
       "      <td>0.500000</td>\n",
       "    </tr>\n",
       "    <tr>\n",
       "      <th>308</th>\n",
       "      <td>23445</td>\n",
       "      <td>2</td>\n",
       "      <td>1</td>\n",
       "      <td>0.500000</td>\n",
       "    </tr>\n",
       "    <tr>\n",
       "      <th>154</th>\n",
       "      <td>22745</td>\n",
       "      <td>2</td>\n",
       "      <td>1</td>\n",
       "      <td>0.500000</td>\n",
       "    </tr>\n",
       "    <tr>\n",
       "      <th>251</th>\n",
       "      <td>23016</td>\n",
       "      <td>2</td>\n",
       "      <td>1</td>\n",
       "      <td>0.500000</td>\n",
       "    </tr>\n",
       "    <tr>\n",
       "      <th>175</th>\n",
       "      <td>22774</td>\n",
       "      <td>4</td>\n",
       "      <td>2</td>\n",
       "      <td>0.500000</td>\n",
       "    </tr>\n",
       "    <tr>\n",
       "      <th>276</th>\n",
       "      <td>23153</td>\n",
       "      <td>11</td>\n",
       "      <td>5</td>\n",
       "      <td>0.454545</td>\n",
       "    </tr>\n",
       "    <tr>\n",
       "      <th>311</th>\n",
       "      <td>23536</td>\n",
       "      <td>5</td>\n",
       "      <td>2</td>\n",
       "      <td>0.400000</td>\n",
       "    </tr>\n",
       "    <tr>\n",
       "      <th>137</th>\n",
       "      <td>22267</td>\n",
       "      <td>5</td>\n",
       "      <td>2</td>\n",
       "      <td>0.400000</td>\n",
       "    </tr>\n",
       "    <tr>\n",
       "      <th>138</th>\n",
       "      <td>22268</td>\n",
       "      <td>10</td>\n",
       "      <td>4</td>\n",
       "      <td>0.400000</td>\n",
       "    </tr>\n",
       "    <tr>\n",
       "      <th>273</th>\n",
       "      <td>23150</td>\n",
       "      <td>11</td>\n",
       "      <td>4</td>\n",
       "      <td>0.363636</td>\n",
       "    </tr>\n",
       "    <tr>\n",
       "      <th>291</th>\n",
       "      <td>23191</td>\n",
       "      <td>52</td>\n",
       "      <td>18</td>\n",
       "      <td>0.346154</td>\n",
       "    </tr>\n",
       "    <tr>\n",
       "      <th>327</th>\n",
       "      <td>23756</td>\n",
       "      <td>99</td>\n",
       "      <td>34</td>\n",
       "      <td>0.343434</td>\n",
       "    </tr>\n",
       "    <tr>\n",
       "      <th>152</th>\n",
       "      <td>22743</td>\n",
       "      <td>9</td>\n",
       "      <td>3</td>\n",
       "      <td>0.333333</td>\n",
       "    </tr>\n",
       "    <tr>\n",
       "      <th>106</th>\n",
       "      <td>21851</td>\n",
       "      <td>6</td>\n",
       "      <td>2</td>\n",
       "      <td>0.333333</td>\n",
       "    </tr>\n",
       "    <tr>\n",
       "      <th>270</th>\n",
       "      <td>23146</td>\n",
       "      <td>9</td>\n",
       "      <td>3</td>\n",
       "      <td>0.333333</td>\n",
       "    </tr>\n",
       "    <tr>\n",
       "      <th>156</th>\n",
       "      <td>22747</td>\n",
       "      <td>13</td>\n",
       "      <td>4</td>\n",
       "      <td>0.307692</td>\n",
       "    </tr>\n",
       "  </tbody>\n",
       "</table>\n",
       "</div>"
      ],
      "text/plain": [
       "        ad  imp  click       ctr\n",
       "303  23222    1      1  1.000000\n",
       "24   18496    1      1  1.000000\n",
       "139  22288    3      2  0.666667\n",
       "250  23015    2      1  0.500000\n",
       "209  22818    2      1  0.500000\n",
       "308  23445    2      1  0.500000\n",
       "154  22745    2      1  0.500000\n",
       "251  23016    2      1  0.500000\n",
       "175  22774    4      2  0.500000\n",
       "276  23153   11      5  0.454545\n",
       "311  23536    5      2  0.400000\n",
       "137  22267    5      2  0.400000\n",
       "138  22268   10      4  0.400000\n",
       "273  23150   11      4  0.363636\n",
       "291  23191   52     18  0.346154\n",
       "327  23756   99     34  0.343434\n",
       "152  22743    9      3  0.333333\n",
       "106  21851    6      2  0.333333\n",
       "270  23146    9      3  0.333333\n",
       "156  22747   13      4  0.307692"
      ]
     },
     "execution_count": 12,
     "metadata": {},
     "output_type": "execute_result"
    }
   ],
   "source": [
    "ad_statistics.sort_values(by='ctr', ascending=False)[:20]"
   ]
  },
  {
   "cell_type": "markdown",
   "metadata": {},
   "source": [
    "## 01. MAB을 활용한 추천시스템 구현"
   ]
  },
  {
   "cell_type": "markdown",
   "metadata": {},
   "source": [
    "### 01-01. Offline evaluation\n",
    "- 기존 추천시스템의 경우 데이터를 train/test로 나누어 모델 구축 후 test 데이터로 성능 평가\n",
    "- MAB의 경우 전체 데이터를 시간 순서대로 정렬한 뒤 batch 단위로 policy를 업데이트 후 다음 batch에서 policy를 평가"
   ]
  },
  {
   "cell_type": "markdown",
   "metadata": {},
   "source": [
    "#### 평가 방식\n",
    "1. 시간 순서대로 정렬된 데이터를 N개 단위의 batch로 분할\n",
    "2. 각 batch마다 현재 policy에 맞는 아이템을 추천\n",
    "3. 추천된 결과와 해당 결과의 실제 reward를 비교하여 cumulative rewards를 업데이트\n",
    "    - 추천된 아이템과 실제 노출된 아이템이 같지 않다면 cumulative rewards를 업데이트 하지 않음\n",
    "    - 추천된 아이템과 실제 노출된 아이템이 같다면 cumulative rewards를 업데이트\n",
    "4. cumulative rewards를 업데이트 후 해당 batch의 데이터를 가지고 policy를 업데이트\n",
    "5. 다음 batch에서 2~4를 반복 수행"
   ]
  },
  {
   "cell_type": "markdown",
   "metadata": {},
   "source": [
    "#### 광고 노출/클릭 데이터를 시간 순서대로 정렬"
   ]
  },
  {
   "cell_type": "code",
   "execution_count": 13,
   "metadata": {},
   "outputs": [
    {
     "data": {
      "text/html": [
       "<div>\n",
       "<style scoped>\n",
       "    .dataframe tbody tr th:only-of-type {\n",
       "        vertical-align: middle;\n",
       "    }\n",
       "\n",
       "    .dataframe tbody tr th {\n",
       "        vertical-align: top;\n",
       "    }\n",
       "\n",
       "    .dataframe thead th {\n",
       "        text-align: right;\n",
       "    }\n",
       "</style>\n",
       "<table border=\"1\" class=\"dataframe\">\n",
       "  <thead>\n",
       "    <tr style=\"text-align: right;\">\n",
       "      <th></th>\n",
       "      <th>id</th>\n",
       "      <th>ad</th>\n",
       "      <th>datetime</th>\n",
       "      <th>click</th>\n",
       "      <th>imp</th>\n",
       "    </tr>\n",
       "  </thead>\n",
       "  <tbody>\n",
       "    <tr>\n",
       "      <th>0</th>\n",
       "      <td>10010804179216291475</td>\n",
       "      <td>15704</td>\n",
       "      <td>2014-10-21 00:00:00</td>\n",
       "      <td>0</td>\n",
       "      <td>1</td>\n",
       "    </tr>\n",
       "    <tr>\n",
       "      <th>696</th>\n",
       "      <td>4251691006404076570</td>\n",
       "      <td>15707</td>\n",
       "      <td>2014-10-21 00:00:00</td>\n",
       "      <td>0</td>\n",
       "      <td>1</td>\n",
       "    </tr>\n",
       "    <tr>\n",
       "      <th>697</th>\n",
       "      <td>4256548079061461216</td>\n",
       "      <td>15704</td>\n",
       "      <td>2014-10-21 00:00:00</td>\n",
       "      <td>0</td>\n",
       "      <td>1</td>\n",
       "    </tr>\n",
       "    <tr>\n",
       "      <th>698</th>\n",
       "      <td>4256814970000693395</td>\n",
       "      <td>15705</td>\n",
       "      <td>2014-10-21 00:00:00</td>\n",
       "      <td>0</td>\n",
       "      <td>1</td>\n",
       "    </tr>\n",
       "    <tr>\n",
       "      <th>699</th>\n",
       "      <td>4272263715071891030</td>\n",
       "      <td>15699</td>\n",
       "      <td>2014-10-21 00:00:00</td>\n",
       "      <td>0</td>\n",
       "      <td>1</td>\n",
       "    </tr>\n",
       "    <tr>\n",
       "      <th>...</th>\n",
       "      <td>...</td>\n",
       "      <td>...</td>\n",
       "      <td>...</td>\n",
       "      <td>...</td>\n",
       "      <td>...</td>\n",
       "    </tr>\n",
       "    <tr>\n",
       "      <th>160025</th>\n",
       "      <td>15638333441364131220</td>\n",
       "      <td>22257</td>\n",
       "      <td>2014-10-30 23:00:00</td>\n",
       "      <td>0</td>\n",
       "      <td>1</td>\n",
       "    </tr>\n",
       "    <tr>\n",
       "      <th>160024</th>\n",
       "      <td>15612835964008476367</td>\n",
       "      <td>22254</td>\n",
       "      <td>2014-10-30 23:00:00</td>\n",
       "      <td>0</td>\n",
       "      <td>1</td>\n",
       "    </tr>\n",
       "    <tr>\n",
       "      <th>160023</th>\n",
       "      <td>15599245444302734215</td>\n",
       "      <td>15705</td>\n",
       "      <td>2014-10-30 23:00:00</td>\n",
       "      <td>0</td>\n",
       "      <td>1</td>\n",
       "    </tr>\n",
       "    <tr>\n",
       "      <th>160033</th>\n",
       "      <td>15977258595711361825</td>\n",
       "      <td>22676</td>\n",
       "      <td>2014-10-30 23:00:00</td>\n",
       "      <td>0</td>\n",
       "      <td>1</td>\n",
       "    </tr>\n",
       "    <tr>\n",
       "      <th>160296</th>\n",
       "      <td>9999746639881208566</td>\n",
       "      <td>22257</td>\n",
       "      <td>2014-10-30 23:00:00</td>\n",
       "      <td>0</td>\n",
       "      <td>1</td>\n",
       "    </tr>\n",
       "  </tbody>\n",
       "</table>\n",
       "<p>160297 rows × 5 columns</p>\n",
       "</div>"
      ],
      "text/plain": [
       "                          id     ad            datetime  click  imp\n",
       "0       10010804179216291475  15704 2014-10-21 00:00:00      0    1\n",
       "696      4251691006404076570  15707 2014-10-21 00:00:00      0    1\n",
       "697      4256548079061461216  15704 2014-10-21 00:00:00      0    1\n",
       "698      4256814970000693395  15705 2014-10-21 00:00:00      0    1\n",
       "699      4272263715071891030  15699 2014-10-21 00:00:00      0    1\n",
       "...                      ...    ...                 ...    ...  ...\n",
       "160025  15638333441364131220  22257 2014-10-30 23:00:00      0    1\n",
       "160024  15612835964008476367  22254 2014-10-30 23:00:00      0    1\n",
       "160023  15599245444302734215  15705 2014-10-30 23:00:00      0    1\n",
       "160033  15977258595711361825  22676 2014-10-30 23:00:00      0    1\n",
       "160296   9999746639881208566  22257 2014-10-30 23:00:00      0    1\n",
       "\n",
       "[160297 rows x 5 columns]"
      ]
     },
     "execution_count": 13,
     "metadata": {},
     "output_type": "execute_result"
    }
   ],
   "source": [
    "mab_df = mab_df.sort_values(by='datetime')\n",
    "mab_df['imp'] = 1\n",
    "mab_df"
   ]
  },
  {
   "cell_type": "markdown",
   "metadata": {},
   "source": [
    "#### Random policy\n",
    "- 매번 랜덤하게 아이템을 선택해 추천하는 random policy를 baseline으로 설정"
   ]
  },
  {
   "cell_type": "code",
   "execution_count": 60,
   "metadata": {},
   "outputs": [],
   "source": [
    "ad_list = mab_df['ad'].unique().tolist()\n",
    "recommend_size = 5\n",
    "batch_size = 500\n",
    "rewards = []\n",
    "reward_timelines_random = []"
   ]
  },
  {
   "cell_type": "code",
   "execution_count": 61,
   "metadata": {},
   "outputs": [
    {
     "data": {
      "application/vnd.jupyter.widget-view+json": {
       "model_id": "2bc2bb16f213447e81ffdb9d21e2efda",
       "version_major": 2,
       "version_minor": 0
      },
      "text/plain": [
       "HBox(children=(FloatProgress(value=0.0, max=320.0), HTML(value='')))"
      ]
     },
     "metadata": {},
     "output_type": "display_data"
    },
    {
     "name": "stdout",
     "output_type": "stream",
     "text": [
      "\n",
      "number of offline sample: 2117\n",
      "expected reward: 0.2026452527161077\n"
     ]
    }
   ],
   "source": [
    "for t in tqdm(range(mab_df.shape[0] // batch_size)):\n",
    "    t = t * batch_size\n",
    "    \n",
    "    # 랜덤하게 아이템을 선택하여 추천\n",
    "    recs = np.random.choice(ad_list, size=(recommend_size), replace=False)\n",
    "    \n",
    "    # 현재 batch의 데이터를 가져옵니다.\n",
    "    batch_df = mab_df[t:t+batch_size]\n",
    "    \n",
    "    # 추천된 아이템과 일치하는 데이터에 대해서 cumulative reward를 구합니다.\n",
    "    matched_action = batch_df.loc[batch_df['ad'].isin(recs)]\n",
    "    if len(matched_action) > 0:\n",
    "        rewards.extend(matched_action['click'].tolist())\n",
    "        reward_timelines_random.append(np.mean(rewards))\n",
    "        \n",
    "print(\"number of offline sample:\", len(rewards))\n",
    "print(\"expected reward:\", np.mean(rewards))"
   ]
  },
  {
   "cell_type": "code",
   "execution_count": 62,
   "metadata": {},
   "outputs": [
    {
     "data": {
      "text/plain": [
       "array([23169, 23016, 23153, 22886, 23015])"
      ]
     },
     "execution_count": 62,
     "metadata": {},
     "output_type": "execute_result"
    }
   ],
   "source": [
    "recs"
   ]
  },
  {
   "cell_type": "code",
   "execution_count": 63,
   "metadata": {},
   "outputs": [],
   "source": [
    "rewards_random = np.mean(rewards)"
   ]
  },
  {
   "cell_type": "code",
   "execution_count": 64,
   "metadata": {},
   "outputs": [
    {
     "data": {
      "image/png": "[encoded data removed]",
      "text/plain": [
       "<Figure size 432x288 with 1 Axes>"
      ]
     },
     "metadata": {
      "needs_background": "light"
     },
     "output_type": "display_data"
    }
   ],
   "source": [
    "plt.plot(reward_timelines_random)\n",
    "plt.show()"
   ]
  },
  {
   "cell_type": "markdown",
   "metadata": {},
   "source": [
    "### 01-02. Epsilon greedy\n",
    "- epsilon(e)의 확률로 랜덤하게 아이템 선택\n",
    "- (1 - e)의 확률로 가장 CTR이 높았던 아이템을 선택하여 추천\n",
    "- 충분한 데이터가 확보되지 않은 아이템의 경우 greedy algorithm에서 제외"
   ]
  },
  {
   "cell_type": "code",
   "execution_count": 65,
   "metadata": {},
   "outputs": [],
   "source": [
    "class eGreedy :\n",
    "    def __init__(self):\n",
    "        self.mean = 0\n",
    "        self.N = 0\n",
    "        \n",
    "    def update(self, reward):\n",
    "        self.N += 1\n",
    "        self.mean = (1 - 1.0 / self.N) * self.mean + 1.0 / self.N * reward"
   ]
  },
  {
   "cell_type": "code",
   "execution_count": 66,
   "metadata": {},
   "outputs": [
    {
     "data": {
      "application/vnd.jupyter.widget-view+json": {
       "model_id": "3bdeb379184a4dea8d31febee6d2c10e",
       "version_major": 2,
       "version_minor": 0
      },
      "text/plain": [
       "HBox(children=(FloatProgress(value=0.0, max=321.0), HTML(value='')))"
      ]
     },
     "metadata": {},
     "output_type": "display_data"
    },
    {
     "name": "stdout",
     "output_type": "stream",
     "text": [
      "\n",
      "number of offline sample: 13123\n",
      "expected reward: 0.22563438238207728\n"
     ]
    }
   ],
   "source": [
    "policy_dict = {ad : eGreedy() for ad in ad_list}\n",
    "recommend_size = 5\n",
    "batch_size = 500\n",
    "epsilon = 0.1\n",
    "rewards = []\n",
    "reward_timelines_epsilon = []\n",
    "\n",
    "for t in tqdm(range(mab_df.shape[0] // batch_size + 1)):\n",
    "    \n",
    "    t = t * batch_size\n",
    "    \n",
    "    # epsilon의 확률로 0과 1 가운데 하나를 뽑습니다.\n",
    "    explore = np.random.binomial(1, epsilon)\n",
    "    \n",
    "    if explore == 1:\n",
    "        # 랜덤하게 아이템을 선택하여 추천\n",
    "        recs = np.random.choice(ad_list, size=(recommend_size), replace=False).tolist()\n",
    "        \n",
    "    else:\n",
    "        # 광고별 평균 CTR을 가져옵니다. \n",
    "        # 이 때 지금까지 수집된 데이터가 10개 이상인 것만 추출합니다.\n",
    "        candidates = [(ad, egreedy.mean) for ad, egreedy in policy_dict.items() if egreedy.N >= 10]\n",
    "        \n",
    "        # 평균 ctr 순서대로 가장 높은 아이템을 추천합니다.\n",
    "        candidates = sorted(candidates, key=lambda x: (x[1]), reverse=True)[:recommend_size]\n",
    "        recs = [ad for ad, ctr in candidates]\n",
    "        \n",
    "        # 추천 아이템이 recommend_size보다 작은 경우에는 랜덤하게 나머지를 샘플링합니다.\n",
    "        if len(recs) < recommend_size:\n",
    "            additional_recs = list(set(ad_list) - set(recs))\n",
    "            additional_recs = np.random.choice(additional_recs, size=(recommend_size-len(recs)), replace=False).tolist()\n",
    "            recs.extend(additional_recs)\n",
    "            \n",
    "        \n",
    "    # Policy를 업데이트합니다.\n",
    "    batch_df = mab_df[t:t+batch_size]\n",
    "    \n",
    "    for _, row in batch_df.iterrows():\n",
    "        policy_dict[row['ad']].update(row['click'])\n",
    "        \n",
    "    # policy를 평가합니다.\n",
    "    matched_action = batch_df.loc[batch_df['ad'].isin(recs)]\n",
    "    \n",
    "    if len(matched_action) > 0:\n",
    "        rewards.extend(matched_action['click'].tolist())\n",
    "        reward_timelines_epsilon.append(np.mean(rewards))\n",
    "        \n",
    "print(\"number of offline sample:\", len(rewards))\n",
    "print(\"expected reward:\", np.mean(rewards))"
   ]
  },
  {
   "cell_type": "code",
   "execution_count": 67,
   "metadata": {},
   "outputs": [],
   "source": [
    "rewards_epsilon = np.mean(rewards)"
   ]
  },
  {
   "cell_type": "code",
   "execution_count": 68,
   "metadata": {},
   "outputs": [
    {
     "data": {
      "image/png": "[encoded data removed]",
      "text/plain": [
       "<Figure size 432x288 with 1 Axes>"
      ]
     },
     "metadata": {
      "needs_background": "light"
     },
     "output_type": "display_data"
    }
   ],
   "source": [
    "plt.plot(reward_timelines_epsilon)\n",
    "plt.show()"
   ]
  },
  {
   "cell_type": "markdown",
   "metadata": {},
   "source": [
    "### 01-03. UCB(Upper Confidence Bound)"
   ]
  },
  {
   "cell_type": "code",
   "execution_count": 69,
   "metadata": {},
   "outputs": [],
   "source": [
    "class UCB:\n",
    "    def __init__(self, c):\n",
    "        self.mean = 0\n",
    "        self.N = 0\n",
    "        self.c = c\n",
    "        \n",
    "    def update(self, reward):\n",
    "        self.N += 1\n",
    "        self.mean = (1 - 1.0 / self.N) * self.mean + 1.0 / self.N * reward\n",
    "        \n",
    "    def score(self, t):\n",
    "        return self.mean + self.c * np.sqrt(np.log(t+1) / self.N)"
   ]
  },
  {
   "cell_type": "code",
   "execution_count": 70,
   "metadata": {},
   "outputs": [
    {
     "data": {
      "application/vnd.jupyter.widget-view+json": {
       "model_id": "e4dc62d58e0649c891fbd971e6826933",
       "version_major": 2,
       "version_minor": 0
      },
      "text/plain": [
       "HBox(children=(FloatProgress(value=0.0, max=321.0), HTML(value='')))"
      ]
     },
     "metadata": {},
     "output_type": "display_data"
    },
    {
     "name": "stdout",
     "output_type": "stream",
     "text": [
      "\n",
      "number of offline sample: 11542\n",
      "expected reward: 0.21997920637671114\n"
     ]
    }
   ],
   "source": [
    "c = 0.2\n",
    "policy_dict = {ad : UCB(c) for ad in ad_list}\n",
    "recommend_size = 5\n",
    "batch_size = 500\n",
    "rewards = []\n",
    "reward_timelines_ucb = []\n",
    "\n",
    "for t in tqdm(range(mab_df.shape[0] // batch_size + 1)):\n",
    "    t = t * batch_size\n",
    "    \n",
    "    # 개별 광고에 대해 각각 UCB 스코어 값을 구합니다.\n",
    "    candidates = [(ad, ucb.score(t)) for ad, ucb in policy_dict.items() if ucb.N >= 10]\n",
    "    \n",
    "    # ucb 스코어 순서대로 가장 높은 아이템을 추천합니다.\n",
    "    candidates = sorted(candidates, key=lambda x: (x[1]), reverse=True)[:recommend_size]\n",
    "    recs = [ad for ad, score in candidates]\n",
    "    \n",
    "    # 추천 아이템이 recommend_size보다 작은 경우에는 랜덤하게 나머지를 샘플링합니다.\n",
    "    if len(recs) < recommend_size:\n",
    "        additional_recs = list(set(ad_list) - set(recs))\n",
    "        additional_recs = np.random.choice(additional_recs, size=(recommend_size-len(recs)), replace=False).tolist()\n",
    "        recs.extend(additional_recs)\n",
    "        \n",
    "    # Policy를 업데이트합니다.\n",
    "    batch_df = mab_df[t:t+batch_size]\n",
    "    \n",
    "    for _, row in batch_df.iterrows():\n",
    "        policy_dict[row['ad']].update(row['click'])\n",
    "        \n",
    "    # Policy를 평가합니다.\n",
    "    matched_action = batch_df.loc[batch_df['ad'].isin(recs)]\n",
    "    \n",
    "    if len(matched_action) > 0:\n",
    "        rewards.extend(matched_action['click'].tolist())\n",
    "        reward_timelines_ucb.append(np.mean(rewards))\n",
    "        \n",
    "print(\"number of offline sample:\", len(rewards))\n",
    "print(\"expected reward:\", np.mean(rewards))"
   ]
  },
  {
   "cell_type": "code",
   "execution_count": 71,
   "metadata": {},
   "outputs": [],
   "source": [
    "rewards_ucb = np.mean(rewards)"
   ]
  },
  {
   "cell_type": "code",
   "execution_count": 72,
   "metadata": {},
   "outputs": [
    {
     "data": {
      "image/png": "[encoded data removed]",
      "text/plain": [
       "<Figure size 432x288 with 1 Axes>"
      ]
     },
     "metadata": {
      "needs_background": "light"
     },
     "output_type": "display_data"
    }
   ],
   "source": [
    "plt.plot(reward_timelines_ucb)\n",
    "plt.show()"
   ]
  },
  {
   "cell_type": "markdown",
   "metadata": {},
   "source": [
    "### 01-04. Thompson sampling"
   ]
  },
  {
   "cell_type": "code",
   "execution_count": 73,
   "metadata": {},
   "outputs": [],
   "source": [
    "from scipy.stats import beta\n",
    "\n",
    "class TS:\n",
    "    def __init__(self, a, b):\n",
    "        self.a = a\n",
    "        self.b = b\n",
    "        self.N = 0\n",
    "        \n",
    "    def update(self, reward):\n",
    "        self.N += 1\n",
    "        if reward > 0:\n",
    "            self.a += 1\n",
    "        else:\n",
    "            self.b += 1\n",
    "            \n",
    "    def sample(self):\n",
    "        return beta.rvs(self.a, b + self.b, size=1)[0]"
   ]
  },
  {
   "cell_type": "code",
   "execution_count": 74,
   "metadata": {},
   "outputs": [
    {
     "data": {
      "application/vnd.jupyter.widget-view+json": {
       "model_id": "34c0ec2617594de1a63c748ddd15b8d6",
       "version_major": 2,
       "version_minor": 0
      },
      "text/plain": [
       "HBox(children=(FloatProgress(value=0.0, max=321.0), HTML(value='')))"
      ]
     },
     "metadata": {},
     "output_type": "display_data"
    },
    {
     "name": "stdout",
     "output_type": "stream",
     "text": [
      "\n",
      "number of offline sample: 25512\n",
      "expected reward: 0.23412511759172155\n"
     ]
    }
   ],
   "source": [
    "a = 2; b = 8\n",
    "policy_dict = {ad: TS(a, b) for ad in ad_list}\n",
    "recommend_size = 5\n",
    "batch_size = 500\n",
    "rewards = []\n",
    "reward_timelines_ts = []\n",
    "\n",
    "for t in tqdm(range(mab_df.shape[0] // batch_size+1)):\n",
    "    t = t * batch_size\n",
    "    \n",
    "    # 개별 광고에 대해서 beta 분포 샘플링을 통해 얻어진 score 값을 구해옵니다.\n",
    "    candidates = [(ad, ts.sample()) for ad, ts in policy_dict.items() if ts.N >= 10]\n",
    "    \n",
    "    # score 순서대로 가장 높은 아이템을 추천합니다.\n",
    "    candidates = sorted(candidates, key=lambda x: (x[1]), reverse=True)[:recommend_size]\n",
    "    recs = [ad for ad, score in candidates]\n",
    "    \n",
    "    # 추천 아이템이 recommend_size보다 작은 경우에는 랜덤하게 나머지를 샘플링합니다.\n",
    "    if len(recs) < recommend_size:\n",
    "        additional_recs = list(set(ad_list) - set(recs))\n",
    "        additional_recs = np.random.choice(additional_recs, size=(recommend_size-len(recs)), replace=False).tolist()\n",
    "        recs.extend(additional_recs)\n",
    "        \n",
    "    # Policy를 업데이트합니다.\n",
    "    batch_df = mab_df[t : t + batch_size]\n",
    "    for _, row in batch_df.iterrows():\n",
    "        policy_dict[row['ad']].update(row['click'])\n",
    "        \n",
    "    # Policy를 평가합니다.\n",
    "    matched_action = batch_df.loc[batch_df['ad'].isin(recs)]\n",
    "    if len(matched_action) > 0:\n",
    "        rewards.extend(matched_action['click'].tolist())\n",
    "        reward_timelines_ts.append(np.mean(rewards))\n",
    "        \n",
    "print(\"number of offline sample:\", len(rewards))\n",
    "print(\"expected reward:\", np.mean(rewards))"
   ]
  },
  {
   "cell_type": "code",
   "execution_count": 79,
   "metadata": {},
   "outputs": [],
   "source": [
    "rewards_ts = np.mean(rewards)"
   ]
  },
  {
   "cell_type": "code",
   "execution_count": 75,
   "metadata": {},
   "outputs": [
    {
     "data": {
      "image/png": "[encoded data removed]",
      "text/plain": [
       "<Figure size 432x288 with 1 Axes>"
      ]
     },
     "metadata": {
      "needs_background": "light"
     },
     "output_type": "display_data"
    }
   ],
   "source": [
    "plt.plot(reward_timelines_ts)\n",
    "plt.show()"
   ]
  },
  {
   "cell_type": "markdown",
   "metadata": {},
   "source": [
    "#### 01-05. 모델병 성능 비교"
   ]
  },
  {
   "cell_type": "code",
   "execution_count": 80,
   "metadata": {},
   "outputs": [
    {
     "name": "stdout",
     "output_type": "stream",
     "text": [
      "Random: 0.203\n",
      "Epsilon greedy: 0.226\n",
      "UCB: 0.220\n",
      "Thompson sampling: 0.234\n"
     ]
    }
   ],
   "source": [
    "print(\"Random: {:.3f}\".format(rewards_random))\n",
    "print(\"Epsilon greedy: {:.3f}\".format(rewards_epsilon))\n",
    "print(\"UCB: {:.3f}\".format(rewards_ucb))\n",
    "print(\"Thompson sampling: {:.3f}\".format(rewards_ts))"
   ]
  },
  {
   "cell_type": "code",
   "execution_count": 103,
   "metadata": {},
   "outputs": [
    {
     "data": {
      "image/png": "[encoded data removed]",
      "text/plain": [
       "<Figure size 1080x720 with 4 Axes>"
      ]
     },
     "metadata": {
      "needs_background": "light"
     },
     "output_type": "display_data"
    }
   ],
   "source": [
    "fig, axes = plt.subplots(2, 2, figsize=(15, 10))\n",
    "\n",
    "axes[0][0].plot(reward_timelines_random)\n",
    "axes[0][0].set_title(\"Random\")\n",
    "\n",
    "axes[0][1].plot(reward_timelines_epsilon)\n",
    "axes[0][1].set_title(\"Epsilon greedy\")\n",
    "\n",
    "axes[1][0].plot(reward_timelines_ucb)\n",
    "axes[1][0].set_title(\"UCB\")\n",
    "\n",
    "axes[1][1].plot(reward_timelines_ts)\n",
    "axes[1][1].set_title(\"Thompson sampilng\")\n",
    "\n",
    "plt.show()"
   ]
  }
 ],
 "metadata": {
  "kernelspec": {
   "display_name": "Python 3",
   "language": "python",
   "name": "python3"
  },
  "language_info": {
   "codemirror_mode": {
    "name": "ipython",
    "version": 3
   },
   "file_extension": ".py",
   "mimetype": "text/x-python",
   "name": "python",
   "nbconvert_exporter": "python",
   "pygments_lexer": "ipython3",
   "version": "3.7.6"
  },
  "toc": {
   "base_numbering": 1,
   "nav_menu": {},
   "number_sections": false,
   "sideBar": true,
   "skip_h1_title": false,
   "title_cell": "Table of Contents",
   "title_sidebar": "Contents",
   "toc_cell": false,
   "toc_position": {},
   "toc_section_display": true,
   "toc_window_display": false
  },
  "varInspector": {
   "cols": {
    "lenName": 16,
    "lenType": 16,
    "lenVar": 40
   },
   "kernels_config": {
    "python": {
     "delete_cmd_postfix": "",
     "delete_cmd_prefix": "del ",
     "library": "var_list.py",
     "varRefreshCmd": "print(var_dic_list())"
    },
    "r": {
     "delete_cmd_postfix": ") ",
     "delete_cmd_prefix": "rm(",
     "library": "var_list.r",
     "varRefreshCmd": "cat(var_dic_list()) "
    }
   },
   "types_to_exclude": [
    "module",
    "function",
    "builtin_function_or_method",
    "instance",
    "_Feature"
   ],
   "window_display": false
  }
 },
 "nbformat": 4,
 "nbformat_minor": 2
}
